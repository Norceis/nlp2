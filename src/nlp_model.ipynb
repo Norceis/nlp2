{
 "cells": [
  {
   "cell_type": "code",
   "execution_count": 3,
   "metadata": {
    "collapsed": true
   },
   "outputs": [
    {
     "name": "stderr",
     "output_type": "stream",
     "text": [
      "Skipping line 346: expected 13 fields, saw 14\n",
      "Skipping line 367: expected 13 fields, saw 15\n",
      "Skipping line 466: expected 13 fields, saw 19\n",
      "Skipping line 467: expected 13 fields, saw 19\n",
      "Skipping line 494: expected 13 fields, saw 15\n",
      "Skipping line 615: expected 13 fields, saw 15\n",
      "Skipping line 616: expected 13 fields, saw 15\n",
      "Skipping line 617: expected 13 fields, saw 15\n",
      "Skipping line 618: expected 13 fields, saw 15\n",
      "Skipping line 619: expected 13 fields, saw 15\n",
      "Skipping line 620: expected 13 fields, saw 15\n",
      "Skipping line 712: expected 13 fields, saw 14\n",
      "Skipping line 713: expected 13 fields, saw 14\n",
      "Skipping line 739: expected 13 fields, saw 14\n",
      "Skipping line 747: expected 13 fields, saw 16\n",
      "Skipping line 867: expected 13 fields, saw 15\n",
      "Skipping line 956: expected 13 fields, saw 14\n",
      "Skipping line 1028: expected 13 fields, saw 14\n",
      "Skipping line 1234: expected 13 fields, saw 15\n",
      "Skipping line 1282: expected 13 fields, saw 17\n",
      "Skipping line 1326: expected 13 fields, saw 14\n",
      "Skipping line 1327: expected 13 fields, saw 14\n",
      "Skipping line 1337: expected 13 fields, saw 14\n",
      "Skipping line 1359: expected 13 fields, saw 14\n",
      "Skipping line 1401: expected 13 fields, saw 14\n",
      "Skipping line 1420: expected 13 fields, saw 14\n",
      "Skipping line 1496: expected 13 fields, saw 21\n",
      "Skipping line 1553: expected 13 fields, saw 16\n",
      "Skipping line 1615: expected 13 fields, saw 15\n",
      "Skipping line 1653: expected 13 fields, saw 14\n",
      "Skipping line 1684: expected 13 fields, saw 16\n",
      "Skipping line 1743: expected 13 fields, saw 16\n",
      "Skipping line 1774: expected 13 fields, saw 19\n",
      "Skipping line 1775: expected 13 fields, saw 16\n",
      "Skipping line 1792: expected 13 fields, saw 14\n",
      "Skipping line 1852: expected 13 fields, saw 14\n",
      "Skipping line 1875: expected 13 fields, saw 14\n",
      "Skipping line 1880: expected 13 fields, saw 14\n",
      "Skipping line 1955: expected 13 fields, saw 15\n",
      "Skipping line 1964: expected 13 fields, saw 16\n",
      "Skipping line 2077: expected 13 fields, saw 15\n",
      "Skipping line 2100: expected 13 fields, saw 16\n",
      "Skipping line 2113: expected 13 fields, saw 16\n",
      "Skipping line 2121: expected 13 fields, saw 14\n",
      "Skipping line 2182: expected 13 fields, saw 14\n",
      "Skipping line 2215: expected 13 fields, saw 16\n",
      "Skipping line 2255: expected 13 fields, saw 44\n",
      "Skipping line 2256: expected 13 fields, saw 44\n",
      "Skipping line 2330: expected 13 fields, saw 15\n",
      "Skipping line 2351: expected 13 fields, saw 14\n",
      "Skipping line 2372: expected 13 fields, saw 19\n",
      "Skipping line 2377: expected 13 fields, saw 44\n",
      "Skipping line 2381: expected 13 fields, saw 44\n",
      "Skipping line 2395: expected 13 fields, saw 44\n",
      "Skipping line 2397: expected 13 fields, saw 44\n",
      "Skipping line 2440: expected 13 fields, saw 14\n",
      "Skipping line 2443: expected 13 fields, saw 14\n",
      "Skipping line 2496: expected 13 fields, saw 44\n",
      "Skipping line 2497: expected 13 fields, saw 44\n",
      "Skipping line 2498: expected 13 fields, saw 16\n",
      "Skipping line 2584: expected 13 fields, saw 16\n",
      "Skipping line 2585: expected 13 fields, saw 44\n",
      "Skipping line 2641: expected 13 fields, saw 15\n",
      "Skipping line 2650: expected 13 fields, saw 15\n",
      "Skipping line 2841: expected 13 fields, saw 44\n",
      "Skipping line 2941: expected 13 fields, saw 14\n",
      "Skipping line 3071: expected 13 fields, saw 15\n",
      "Skipping line 3115: expected 13 fields, saw 44\n",
      "Skipping line 3174: expected 13 fields, saw 15\n",
      "Skipping line 3410: expected 13 fields, saw 44\n",
      "Skipping line 3487: expected 13 fields, saw 44\n",
      "Skipping line 3488: expected 13 fields, saw 16\n",
      "Skipping line 3529: expected 13 fields, saw 14\n",
      "Skipping line 3534: expected 13 fields, saw 14\n",
      "Skipping line 3624: expected 13 fields, saw 15\n",
      "Skipping line 3737: expected 13 fields, saw 44\n",
      "Skipping line 3738: expected 13 fields, saw 44\n",
      "Skipping line 3739: expected 13 fields, saw 44\n",
      "Skipping line 3781: expected 13 fields, saw 14\n",
      "Skipping line 3797: expected 13 fields, saw 15\n",
      "Skipping line 3852: expected 13 fields, saw 15\n",
      "Skipping line 3961: expected 13 fields, saw 14\n",
      "Skipping line 3971: expected 13 fields, saw 15\n",
      "Skipping line 4094: expected 13 fields, saw 14\n",
      "Skipping line 4120: expected 13 fields, saw 15\n",
      "Skipping line 4341: expected 13 fields, saw 14\n",
      "Skipping line 4370: expected 13 fields, saw 15\n",
      "Skipping line 4407: expected 13 fields, saw 44\n",
      "Skipping line 4434: expected 13 fields, saw 14\n",
      "Skipping line 4435: expected 13 fields, saw 14\n",
      "Skipping line 4520: expected 13 fields, saw 16\n",
      "Skipping line 4550: expected 13 fields, saw 15\n",
      "Skipping line 4656: expected 13 fields, saw 16\n",
      "Skipping line 4670: expected 13 fields, saw 14\n",
      "Skipping line 4705: expected 13 fields, saw 14\n",
      "Skipping line 4721: expected 13 fields, saw 16\n",
      "Skipping line 4723: expected 13 fields, saw 16\n",
      "Skipping line 4969: expected 13 fields, saw 14\n",
      "Skipping line 4986: expected 13 fields, saw 44\n",
      "Skipping line 5037: expected 13 fields, saw 15\n",
      "\n",
      "E:\\nlp2\\src\\util.py:24: SettingWithCopyWarning: \n",
      "A value is trying to be set on a copy of a slice from a DataFrame.\n",
      "Try using .loc[row_indexer,col_indexer] = value instead\n",
      "\n",
      "See the caveats in the documentation: https://pandas.pydata.org/pandas-docs/stable/user_guide/indexing.html#returning-a-view-versus-a-copy\n",
      "  data_filtered.loc[:, 'Name'] = data_filtered.loc[:, 'Name'].str.lower()\n",
      "E:\\nlp2\\src\\util.py:25: SettingWithCopyWarning: \n",
      "A value is trying to be set on a copy of a slice from a DataFrame.\n",
      "Try using .loc[row_indexer,col_indexer] = value instead\n",
      "\n",
      "See the caveats in the documentation: https://pandas.pydata.org/pandas-docs/stable/user_guide/indexing.html#returning-a-view-versus-a-copy\n",
      "  data_filtered.loc[:, 'Description'] = data_filtered.loc[:, 'Description'].str.lower()\n",
      "E:\\nlp2\\src\\util.py:26: SettingWithCopyWarning: \n",
      "A value is trying to be set on a copy of a slice from a DataFrame.\n",
      "Try using .loc[row_indexer,col_indexer] = value instead\n",
      "\n",
      "See the caveats in the documentation: https://pandas.pydata.org/pandas-docs/stable/user_guide/indexing.html#returning-a-view-versus-a-copy\n",
      "  data_filtered['Concatenated_description'] = data_filtered['Name'] + ' ' + data_filtered['Description']\n"
     ]
    }
   ],
   "source": [
    "import pandas as pd\n",
    "import spacy\n",
    "from transformers import BertTokenizer, BertForMaskedLM\n",
    "from util import preprocess_data\n",
    "\n",
    "data = pd.read_csv('../data/recruitment_data_modified_python.csv',\n",
    "                   encoding='utf-8',\n",
    "                   sep=',',\n",
    "                   on_bad_lines='warn',\n",
    "                   quotechar='\"',\n",
    "                   doublequote=True,\n",
    "                   names=['URL', 'Voivodeship', 'Scrap_time', 'Name', 'Price', 'Brand', 'Condition', 'Offer_from', 'Type', 'Description', 'Added_at', 'Views', 'User_since'],\n",
    "                   skiprows=1)\n",
    "\n",
    "preprocessed_data = preprocess_data(data)"
   ]
  },
  {
   "cell_type": "code",
   "execution_count": 4,
   "outputs": [
    {
     "data": {
      "text/plain": "       Price        Date                           Concatenated_description\n0     2799.0  2021-02-22  iphone 11 64 jak nowy 95% gwarancja wyświetlac...\n1     2700.0  2021-02-21  iphone 11 64 gb czarny, idealny z gwarancją. w...\n2     2899.0  2021-02-21  jak nowy apple iphone 11 256gbgb white gwaranc...\n3     2500.0  2021-02-21  apple iphone 11 biały 64gb - jak nowy gwarancj...\n4     2150.0  2021-02-21  iphone 11 64 gb + gwarancja witam, mam na sprz...\n...      ...         ...                                                ...\n2667  2299.0  2021-02-21  iphone 11 black 64gb sprzedam iphone 11 64 gb ...\n2668  1900.0  2021-02-21  i phone 11 64 gb cena tylko dzis cena tylko dz...\n2669  2800.0  2021-02-21  iphone 11  128 gb gwarancja , 100% bateria spr...\n2670  1650.0  2021-02-20  iphone 11 white 64gb na sprzedaż posiadam ipho...\n2671  1700.0  2021-02-21  apple iphone 11 bez simlocka cały komplet pols...\n\n[2672 rows x 3 columns]",
      "text/html": "<div>\n<style scoped>\n    .dataframe tbody tr th:only-of-type {\n        vertical-align: middle;\n    }\n\n    .dataframe tbody tr th {\n        vertical-align: top;\n    }\n\n    .dataframe thead th {\n        text-align: right;\n    }\n</style>\n<table border=\"1\" class=\"dataframe\">\n  <thead>\n    <tr style=\"text-align: right;\">\n      <th></th>\n      <th>Price</th>\n      <th>Date</th>\n      <th>Concatenated_description</th>\n    </tr>\n  </thead>\n  <tbody>\n    <tr>\n      <th>0</th>\n      <td>2799.0</td>\n      <td>2021-02-22</td>\n      <td>iphone 11 64 jak nowy 95% gwarancja wyświetlac...</td>\n    </tr>\n    <tr>\n      <th>1</th>\n      <td>2700.0</td>\n      <td>2021-02-21</td>\n      <td>iphone 11 64 gb czarny, idealny z gwarancją. w...</td>\n    </tr>\n    <tr>\n      <th>2</th>\n      <td>2899.0</td>\n      <td>2021-02-21</td>\n      <td>jak nowy apple iphone 11 256gbgb white gwaranc...</td>\n    </tr>\n    <tr>\n      <th>3</th>\n      <td>2500.0</td>\n      <td>2021-02-21</td>\n      <td>apple iphone 11 biały 64gb - jak nowy gwarancj...</td>\n    </tr>\n    <tr>\n      <th>4</th>\n      <td>2150.0</td>\n      <td>2021-02-21</td>\n      <td>iphone 11 64 gb + gwarancja witam, mam na sprz...</td>\n    </tr>\n    <tr>\n      <th>...</th>\n      <td>...</td>\n      <td>...</td>\n      <td>...</td>\n    </tr>\n    <tr>\n      <th>2667</th>\n      <td>2299.0</td>\n      <td>2021-02-21</td>\n      <td>iphone 11 black 64gb sprzedam iphone 11 64 gb ...</td>\n    </tr>\n    <tr>\n      <th>2668</th>\n      <td>1900.0</td>\n      <td>2021-02-21</td>\n      <td>i phone 11 64 gb cena tylko dzis cena tylko dz...</td>\n    </tr>\n    <tr>\n      <th>2669</th>\n      <td>2800.0</td>\n      <td>2021-02-21</td>\n      <td>iphone 11  128 gb gwarancja , 100% bateria spr...</td>\n    </tr>\n    <tr>\n      <th>2670</th>\n      <td>1650.0</td>\n      <td>2021-02-20</td>\n      <td>iphone 11 white 64gb na sprzedaż posiadam ipho...</td>\n    </tr>\n    <tr>\n      <th>2671</th>\n      <td>1700.0</td>\n      <td>2021-02-21</td>\n      <td>apple iphone 11 bez simlocka cały komplet pols...</td>\n    </tr>\n  </tbody>\n</table>\n<p>2672 rows × 3 columns</p>\n</div>"
     },
     "execution_count": 4,
     "metadata": {},
     "output_type": "execute_result"
    }
   ],
   "source": [
    "preprocessed_data"
   ],
   "metadata": {
    "collapsed": false
   }
  },
  {
   "cell_type": "code",
   "execution_count": 15,
   "outputs": [],
   "source": [
    "nlp = spacy.load('pl_core_news_lg')"
   ],
   "metadata": {
    "collapsed": false
   }
  },
  {
   "cell_type": "code",
   "execution_count": 31,
   "outputs": [
    {
     "data": {
      "text/plain": "'iphone 11 64 jak nowy 95% gwarancja wyświetlacz jak nowy . kondycja baterii 95%. kupiony w media markt . posiadam faktury . dodatkowa gwarancja na zbity wyświetlacz wartość 600zł . dodatkowo szkło hartowane 5d oraz pokrowiec spigen wartość 80zl. nie sprzedaje za granice !! . polecam'"
     },
     "execution_count": 31,
     "metadata": {},
     "output_type": "execute_result"
    }
   ],
   "source": [
    "preprocessed_data['Concatenated_description'][0]"
   ],
   "metadata": {
    "collapsed": false
   }
  },
  {
   "cell_type": "code",
   "execution_count": 35,
   "outputs": [
    {
     "name": "stdout",
     "output_type": "stream",
     "text": [
      "['iphone', '11', '64', 'jak', 'nowy', '95', '%', 'gwarancja', 'wyświetlacz', 'jak', 'nowy', '.', 'kondycja', 'baterii', '95', '%', '.', 'kupiony', 'w', 'media', 'markt', '.', 'posiadam', 'faktury', '.', 'dodatkowa', 'gwarancja', 'na', 'zbity', 'wyświetlacz', 'wartość', '600zł', '.', 'dodatkowo', 'szkło', 'hartowane', '5d', 'oraz', 'pokrowiec', 'spigen', 'wartość', '80zl', '.', 'nie', 'sprzedaje', 'za', 'granice', '!', '!', '.', 'polecam']\n"
     ]
    }
   ],
   "source": [
    "doc = nlp.tokenizer(preprocessed_data['Concatenated_description'][0])\n",
    "print([w.text for w in doc])"
   ],
   "metadata": {
    "collapsed": false
   }
  },
  {
   "cell_type": "code",
   "execution_count": 3,
   "outputs": [
    {
     "name": "stderr",
     "output_type": "stream",
     "text": [
      "Some weights of the model checkpoint at dkleczek/bert-base-polish-uncased-v1 were not used when initializing BertForMaskedLM: ['cls.seq_relationship.weight', 'cls.seq_relationship.bias']\n",
      "- This IS expected if you are initializing BertForMaskedLM from the checkpoint of a model trained on another task or with another architecture (e.g. initializing a BertForSequenceClassification model from a BertForPreTraining model).\n",
      "- This IS NOT expected if you are initializing BertForMaskedLM from the checkpoint of a model that you expect to be exactly identical (initializing a BertForSequenceClassification model from a BertForSequenceClassification model).\n"
     ]
    }
   ],
   "source": [
    "tokenizer = BertTokenizer.from_pretrained('dkleczek/bert-base-polish-uncased-v1')\n",
    "model = BertForMaskedLM.from_pretrained('dkleczek/bert-base-polish-uncased-v1')"
   ],
   "metadata": {
    "collapsed": false
   }
  },
  {
   "cell_type": "code",
   "execution_count": 20,
   "outputs": [],
   "source": [
    "encoded_corpus = tokenizer(text=preprocessed_data['Concatenated_description'].tolist(),\n",
    "                            add_special_tokens=True,\n",
    "                            padding='max_length',\n",
    "                            truncation='longest_first',\n",
    "                            max_length=200,\n",
    "                            return_attention_mask=True)"
   ],
   "metadata": {
    "collapsed": false
   }
  },
  {
   "cell_type": "code",
   "execution_count": 21,
   "outputs": [],
   "source": [
    "input_ids = encoded_corpus['input_ids']\n",
    "attention_mask = encoded_corpus['attention_mask']"
   ],
   "metadata": {
    "collapsed": false
   }
  },
  {
   "cell_type": "code",
   "execution_count": null,
   "outputs": [],
   "source": [],
   "metadata": {
    "collapsed": false
   }
  }
 ],
 "metadata": {
  "kernelspec": {
   "display_name": "Python 3",
   "language": "python",
   "name": "python3"
  },
  "language_info": {
   "codemirror_mode": {
    "name": "ipython",
    "version": 2
   },
   "file_extension": ".py",
   "mimetype": "text/x-python",
   "name": "python",
   "nbconvert_exporter": "python",
   "pygments_lexer": "ipython2",
   "version": "2.7.6"
  }
 },
 "nbformat": 4,
 "nbformat_minor": 0
}
