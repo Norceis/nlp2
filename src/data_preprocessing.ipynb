{
 "cells": [
  {
   "cell_type": "code",
   "execution_count": 1,
   "metadata": {
    "collapsed": true
   },
   "outputs": [
    {
     "name": "stderr",
     "output_type": "stream",
     "text": [
      "Skipping line 346: expected 13 fields, saw 14\n",
      "Skipping line 367: expected 13 fields, saw 15\n",
      "Skipping line 466: expected 13 fields, saw 19\n",
      "Skipping line 467: expected 13 fields, saw 19\n",
      "Skipping line 494: expected 13 fields, saw 15\n",
      "Skipping line 615: expected 13 fields, saw 15\n",
      "Skipping line 616: expected 13 fields, saw 15\n",
      "Skipping line 617: expected 13 fields, saw 15\n",
      "Skipping line 618: expected 13 fields, saw 15\n",
      "Skipping line 619: expected 13 fields, saw 15\n",
      "Skipping line 620: expected 13 fields, saw 15\n",
      "Skipping line 712: expected 13 fields, saw 14\n",
      "Skipping line 713: expected 13 fields, saw 14\n",
      "Skipping line 739: expected 13 fields, saw 14\n",
      "Skipping line 747: expected 13 fields, saw 16\n",
      "Skipping line 753: expected 13 fields, saw 20\n",
      "Skipping line 754: expected 13 fields, saw 20\n",
      "Skipping line 867: expected 13 fields, saw 15\n",
      "Skipping line 956: expected 13 fields, saw 14\n",
      "Skipping line 1028: expected 13 fields, saw 14\n",
      "Skipping line 1234: expected 13 fields, saw 15\n",
      "Skipping line 1282: expected 13 fields, saw 17\n",
      "Skipping line 1326: expected 13 fields, saw 14\n",
      "Skipping line 1327: expected 13 fields, saw 14\n",
      "Skipping line 1337: expected 13 fields, saw 14\n",
      "Skipping line 1359: expected 13 fields, saw 14\n",
      "Skipping line 1401: expected 13 fields, saw 14\n",
      "Skipping line 1420: expected 13 fields, saw 14\n",
      "Skipping line 1496: expected 13 fields, saw 21\n",
      "Skipping line 1553: expected 13 fields, saw 16\n",
      "Skipping line 1615: expected 13 fields, saw 15\n",
      "Skipping line 1653: expected 13 fields, saw 14\n",
      "Skipping line 1684: expected 13 fields, saw 16\n",
      "Skipping line 1743: expected 13 fields, saw 16\n",
      "Skipping line 1772: expected 13 fields, saw 15\n",
      "Skipping line 1774: expected 13 fields, saw 19\n",
      "Skipping line 1775: expected 13 fields, saw 16\n",
      "Skipping line 1792: expected 13 fields, saw 14\n",
      "Skipping line 1852: expected 13 fields, saw 14\n",
      "Skipping line 1875: expected 13 fields, saw 14\n",
      "Skipping line 1880: expected 13 fields, saw 14\n",
      "Skipping line 1955: expected 13 fields, saw 15\n",
      "Skipping line 1964: expected 13 fields, saw 16\n",
      "Skipping line 2077: expected 13 fields, saw 15\n",
      "Skipping line 2100: expected 13 fields, saw 16\n",
      "Skipping line 2113: expected 13 fields, saw 16\n",
      "Skipping line 2121: expected 13 fields, saw 14\n",
      "Skipping line 2215: expected 13 fields, saw 16\n",
      "Skipping line 2255: expected 13 fields, saw 44\n",
      "Skipping line 2256: expected 13 fields, saw 44\n",
      "Skipping line 2330: expected 13 fields, saw 15\n",
      "Skipping line 2351: expected 13 fields, saw 14\n",
      "Skipping line 2372: expected 13 fields, saw 19\n",
      "Skipping line 2377: expected 13 fields, saw 44\n",
      "Skipping line 2381: expected 13 fields, saw 44\n",
      "Skipping line 2395: expected 13 fields, saw 44\n",
      "Skipping line 2397: expected 13 fields, saw 44\n",
      "Skipping line 2440: expected 13 fields, saw 14\n",
      "Skipping line 2443: expected 13 fields, saw 14\n",
      "Skipping line 2496: expected 13 fields, saw 44\n",
      "Skipping line 2497: expected 13 fields, saw 44\n",
      "Skipping line 2498: expected 13 fields, saw 16\n",
      "Skipping line 2584: expected 13 fields, saw 16\n",
      "Skipping line 2585: expected 13 fields, saw 44\n",
      "Skipping line 2641: expected 13 fields, saw 15\n",
      "Skipping line 2650: expected 13 fields, saw 15\n",
      "Skipping line 2841: expected 13 fields, saw 44\n",
      "Skipping line 2941: expected 13 fields, saw 14\n",
      "Skipping line 3071: expected 13 fields, saw 15\n",
      "Skipping line 3115: expected 13 fields, saw 44\n",
      "Skipping line 3174: expected 13 fields, saw 15\n",
      "Skipping line 3410: expected 13 fields, saw 44\n",
      "Skipping line 3487: expected 13 fields, saw 44\n",
      "Skipping line 3488: expected 13 fields, saw 16\n",
      "Skipping line 3529: expected 13 fields, saw 14\n",
      "Skipping line 3534: expected 13 fields, saw 14\n",
      "Skipping line 3624: expected 13 fields, saw 15\n",
      "Skipping line 3737: expected 13 fields, saw 44\n",
      "Skipping line 3738: expected 13 fields, saw 44\n",
      "Skipping line 3739: expected 13 fields, saw 44\n",
      "Skipping line 3781: expected 13 fields, saw 14\n",
      "Skipping line 3797: expected 13 fields, saw 15\n",
      "Skipping line 3852: expected 13 fields, saw 15\n",
      "Skipping line 3961: expected 13 fields, saw 14\n",
      "Skipping line 3971: expected 13 fields, saw 15\n",
      "Skipping line 4094: expected 13 fields, saw 14\n",
      "Skipping line 4120: expected 13 fields, saw 15\n",
      "Skipping line 4341: expected 13 fields, saw 14\n",
      "Skipping line 4370: expected 13 fields, saw 15\n",
      "Skipping line 4407: expected 13 fields, saw 44\n",
      "Skipping line 4434: expected 13 fields, saw 14\n",
      "Skipping line 4435: expected 13 fields, saw 14\n",
      "Skipping line 4462: expected 13 fields, saw 20\n",
      "Skipping line 4520: expected 13 fields, saw 16\n",
      "Skipping line 4550: expected 13 fields, saw 15\n",
      "Skipping line 4656: expected 13 fields, saw 16\n",
      "Skipping line 4670: expected 13 fields, saw 14\n",
      "Skipping line 4705: expected 13 fields, saw 14\n",
      "Skipping line 4721: expected 13 fields, saw 16\n",
      "Skipping line 4723: expected 13 fields, saw 16\n",
      "Skipping line 4969: expected 13 fields, saw 14\n",
      "Skipping line 4986: expected 13 fields, saw 44\n",
      "Skipping line 5037: expected 13 fields, saw 15\n",
      "\n"
     ]
    }
   ],
   "source": [
    "import pandas as pd\n",
    "\n",
    "# modyfing -> \"https -> https, 00\" -> 00, ;;;; ->\n",
    "data = pd.read_csv('../data/recruitment_data_modified.csv',\n",
    "                   encoding='utf-8',\n",
    "                   sep=',',\n",
    "                   on_bad_lines='warn',\n",
    "                   quotechar='\"',\n",
    "                   doublequote=True,\n",
    "                   names=['URL', 'Voivodeship', 'Scrap_time', 'Name', 'Price', 'Brand', 'Condition', 'Offer_from', 'Type', 'Description', 'Added_at', 'Views', 'User_since'],\n",
    "                   skiprows=1) #quotechar is important"
   ]
  },
  {
   "cell_type": "code",
   "execution_count": 3,
   "outputs": [
    {
     "data": {
      "text/plain": "                                                    URL   Voivodeship  \\\n0     https://www.olx.pl/oferta/iphone-11-64-jak-now...     pomorskie   \n1     https://www.olx.pl/oferta/skup-uszkodzonych-te...     pomorskie   \n2     https://www.olx.pl/oferta/iphone-11-64-gb-czar...     pomorskie   \n3     https://www.olx.pl/oferta/iphone-11-CID99-IDIk...     pomorskie   \n4     https://www.olx.pl/oferta/jak-nowy-apple-iphon...     pomorskie   \n...                                                 ...           ...   \n4976  https://www.olx.pl/oferta/iphone-11-red-64-gb-...  podkarpackie   \n4977  https://www.olx.pl/oferta/iphone-11-white-64gb...  podkarpackie   \n4978  https://www.olx.pl/oferta/etui-iphone-11-CID99...     podlaskie   \n4979  https://www.olx.pl/oferta/iphone-11-purple-fio...     podlaskie   \n4980  https://www.olx.pl/oferta/apple-iphone-11-bez-...     podlaskie   \n\n               Scrap_time                                               Name  \\\n0     2021-02-22 06:55:30    Iphone 11 64 jak nowy 95% gwarancja wyświetlacz   \n1     2021-02-22 06:55:34  Skup uszkodzonych telefonów iPhone xs xs max 1...   \n2     2021-02-22 06:55:40  IPhone 11 64 GB czarny, idealny z gwarancją. W...   \n3     2021-02-22 06:55:44                                          Iphone 11   \n4     2021-02-22 06:55:52   Jak Nowy Apple Iphone 11 256gbGB White Gwarancja   \n...                   ...                                                ...   \n4976  2021-02-22 05:54:53                               IPhone 11 Red, 64 GB   \n4977  2021-02-22 05:55:26                               Iphone 11 white 64gb   \n4978  2021-02-22 06:28:04                                     Etui iPhone 11   \n4979  2021-02-22 06:28:11              IPhone 11 purple fioletowy nowy 64 GB   \n4980  2021-02-22 06:28:15  Apple iPhone 11 bez simlocka cały komplet pols...   \n\n       Price   Brand Condition       Offer_from     Type  \\\n0     2799.0  iPhone   Używane  Osoby prywatnej  Sprawny   \n1        NaN     NaN       NaN            Firmy      NaN   \n2     2700.0  iPhone   Używane  Osoby prywatnej  Sprawny   \n3     3000.0  iPhone      Nowe  Osoby prywatnej  Sprawny   \n4     2899.0  iPhone   Używane            Firmy  Sprawny   \n...      ...     ...       ...              ...      ...   \n4976  2990.0  iPhone      Nowe  Osoby prywatnej  Sprawny   \n4977  1650.0  iPhone   Używane  Osoby prywatnej  Sprawny   \n4978   100.0     NaN   Używane  Osoby prywatnej      NaN   \n4979  2680.0  iPhone      Nowe  Osoby prywatnej  Sprawny   \n4980  1700.0  iPhone   Używane  Osoby prywatnej  Sprawny   \n\n                                            Description             Added_at  \\\n0     Jak nowy . Kondycja baterii 95%. Kupiony w med...  2021-02-22 00:09:00   \n1     Witam.  Kupię uszkodzone/ zablokowane/ zalane/...  2021-02-22 00:05:00   \n2     Witam! Mam na sprzedaż iPhone’a 11 w wersji 64...  2021-02-21 19:00:00   \n3     Nowy 128GB   Oryginalnie zapakowany kolor czar...  2021-02-21 18:24:00   \n4     Witaj.     Jesteśmy sklepem - serwisem z 12 le...  2021-02-21 17:38:00   \n...                                                 ...                  ...   \n4976  Witam mam na sprzedaż nowego IPhona 11 64 GB, ...  2021-02-21 12:16:00   \n4977  Na sprzedaż posiadam iphone 11 white o pojemno...  2021-02-20 13:42:00   \n4978  Witam, mam na sprzedaż dwa oryginalne etui od ...  2021-02-22 04:51:00   \n4979  Dzień Dobry. Posiadam na sprzedaż iphone 11 pu...  2021-02-21 19:21:00   \n4980  Sprzedam Appld iPhone 11 z polskiej dystrybucj...  2021-02-21 09:35:00   \n\n      Views           User_since  \n0        37  2013-05-01 00:00:00  \n1      5242  2020-04-01 00:00:00  \n2       186  2014-12-01 00:00:00  \n3       250  2016-06-01 00:00:00  \n4       845  2012-08-01 00:00:00  \n...     ...                  ...  \n4976    177  2018-06-01 00:00:00  \n4977    980  2021-02-01 00:00:00  \n4978     78  2016-06-01 00:00:00  \n4979     72  2017-02-01 00:00:00  \n4980   2622  2020-11-01 00:00:00  \n\n[4981 rows x 13 columns]",
      "text/html": "<div>\n<style scoped>\n    .dataframe tbody tr th:only-of-type {\n        vertical-align: middle;\n    }\n\n    .dataframe tbody tr th {\n        vertical-align: top;\n    }\n\n    .dataframe thead th {\n        text-align: right;\n    }\n</style>\n<table border=\"1\" class=\"dataframe\">\n  <thead>\n    <tr style=\"text-align: right;\">\n      <th></th>\n      <th>URL</th>\n      <th>Voivodeship</th>\n      <th>Scrap_time</th>\n      <th>Name</th>\n      <th>Price</th>\n      <th>Brand</th>\n      <th>Condition</th>\n      <th>Offer_from</th>\n      <th>Type</th>\n      <th>Description</th>\n      <th>Added_at</th>\n      <th>Views</th>\n      <th>User_since</th>\n    </tr>\n  </thead>\n  <tbody>\n    <tr>\n      <th>0</th>\n      <td>https://www.olx.pl/oferta/iphone-11-64-jak-now...</td>\n      <td>pomorskie</td>\n      <td>2021-02-22 06:55:30</td>\n      <td>Iphone 11 64 jak nowy 95% gwarancja wyświetlacz</td>\n      <td>2799.0</td>\n      <td>iPhone</td>\n      <td>Używane</td>\n      <td>Osoby prywatnej</td>\n      <td>Sprawny</td>\n      <td>Jak nowy . Kondycja baterii 95%. Kupiony w med...</td>\n      <td>2021-02-22 00:09:00</td>\n      <td>37</td>\n      <td>2013-05-01 00:00:00</td>\n    </tr>\n    <tr>\n      <th>1</th>\n      <td>https://www.olx.pl/oferta/skup-uszkodzonych-te...</td>\n      <td>pomorskie</td>\n      <td>2021-02-22 06:55:34</td>\n      <td>Skup uszkodzonych telefonów iPhone xs xs max 1...</td>\n      <td>NaN</td>\n      <td>NaN</td>\n      <td>NaN</td>\n      <td>Firmy</td>\n      <td>NaN</td>\n      <td>Witam.  Kupię uszkodzone/ zablokowane/ zalane/...</td>\n      <td>2021-02-22 00:05:00</td>\n      <td>5242</td>\n      <td>2020-04-01 00:00:00</td>\n    </tr>\n    <tr>\n      <th>2</th>\n      <td>https://www.olx.pl/oferta/iphone-11-64-gb-czar...</td>\n      <td>pomorskie</td>\n      <td>2021-02-22 06:55:40</td>\n      <td>IPhone 11 64 GB czarny, idealny z gwarancją. W...</td>\n      <td>2700.0</td>\n      <td>iPhone</td>\n      <td>Używane</td>\n      <td>Osoby prywatnej</td>\n      <td>Sprawny</td>\n      <td>Witam! Mam na sprzedaż iPhone’a 11 w wersji 64...</td>\n      <td>2021-02-21 19:00:00</td>\n      <td>186</td>\n      <td>2014-12-01 00:00:00</td>\n    </tr>\n    <tr>\n      <th>3</th>\n      <td>https://www.olx.pl/oferta/iphone-11-CID99-IDIk...</td>\n      <td>pomorskie</td>\n      <td>2021-02-22 06:55:44</td>\n      <td>Iphone 11</td>\n      <td>3000.0</td>\n      <td>iPhone</td>\n      <td>Nowe</td>\n      <td>Osoby prywatnej</td>\n      <td>Sprawny</td>\n      <td>Nowy 128GB   Oryginalnie zapakowany kolor czar...</td>\n      <td>2021-02-21 18:24:00</td>\n      <td>250</td>\n      <td>2016-06-01 00:00:00</td>\n    </tr>\n    <tr>\n      <th>4</th>\n      <td>https://www.olx.pl/oferta/jak-nowy-apple-iphon...</td>\n      <td>pomorskie</td>\n      <td>2021-02-22 06:55:52</td>\n      <td>Jak Nowy Apple Iphone 11 256gbGB White Gwarancja</td>\n      <td>2899.0</td>\n      <td>iPhone</td>\n      <td>Używane</td>\n      <td>Firmy</td>\n      <td>Sprawny</td>\n      <td>Witaj.     Jesteśmy sklepem - serwisem z 12 le...</td>\n      <td>2021-02-21 17:38:00</td>\n      <td>845</td>\n      <td>2012-08-01 00:00:00</td>\n    </tr>\n    <tr>\n      <th>...</th>\n      <td>...</td>\n      <td>...</td>\n      <td>...</td>\n      <td>...</td>\n      <td>...</td>\n      <td>...</td>\n      <td>...</td>\n      <td>...</td>\n      <td>...</td>\n      <td>...</td>\n      <td>...</td>\n      <td>...</td>\n      <td>...</td>\n    </tr>\n    <tr>\n      <th>4976</th>\n      <td>https://www.olx.pl/oferta/iphone-11-red-64-gb-...</td>\n      <td>podkarpackie</td>\n      <td>2021-02-22 05:54:53</td>\n      <td>IPhone 11 Red, 64 GB</td>\n      <td>2990.0</td>\n      <td>iPhone</td>\n      <td>Nowe</td>\n      <td>Osoby prywatnej</td>\n      <td>Sprawny</td>\n      <td>Witam mam na sprzedaż nowego IPhona 11 64 GB, ...</td>\n      <td>2021-02-21 12:16:00</td>\n      <td>177</td>\n      <td>2018-06-01 00:00:00</td>\n    </tr>\n    <tr>\n      <th>4977</th>\n      <td>https://www.olx.pl/oferta/iphone-11-white-64gb...</td>\n      <td>podkarpackie</td>\n      <td>2021-02-22 05:55:26</td>\n      <td>Iphone 11 white 64gb</td>\n      <td>1650.0</td>\n      <td>iPhone</td>\n      <td>Używane</td>\n      <td>Osoby prywatnej</td>\n      <td>Sprawny</td>\n      <td>Na sprzedaż posiadam iphone 11 white o pojemno...</td>\n      <td>2021-02-20 13:42:00</td>\n      <td>980</td>\n      <td>2021-02-01 00:00:00</td>\n    </tr>\n    <tr>\n      <th>4978</th>\n      <td>https://www.olx.pl/oferta/etui-iphone-11-CID99...</td>\n      <td>podlaskie</td>\n      <td>2021-02-22 06:28:04</td>\n      <td>Etui iPhone 11</td>\n      <td>100.0</td>\n      <td>NaN</td>\n      <td>Używane</td>\n      <td>Osoby prywatnej</td>\n      <td>NaN</td>\n      <td>Witam, mam na sprzedaż dwa oryginalne etui od ...</td>\n      <td>2021-02-22 04:51:00</td>\n      <td>78</td>\n      <td>2016-06-01 00:00:00</td>\n    </tr>\n    <tr>\n      <th>4979</th>\n      <td>https://www.olx.pl/oferta/iphone-11-purple-fio...</td>\n      <td>podlaskie</td>\n      <td>2021-02-22 06:28:11</td>\n      <td>IPhone 11 purple fioletowy nowy 64 GB</td>\n      <td>2680.0</td>\n      <td>iPhone</td>\n      <td>Nowe</td>\n      <td>Osoby prywatnej</td>\n      <td>Sprawny</td>\n      <td>Dzień Dobry. Posiadam na sprzedaż iphone 11 pu...</td>\n      <td>2021-02-21 19:21:00</td>\n      <td>72</td>\n      <td>2017-02-01 00:00:00</td>\n    </tr>\n    <tr>\n      <th>4980</th>\n      <td>https://www.olx.pl/oferta/apple-iphone-11-bez-...</td>\n      <td>podlaskie</td>\n      <td>2021-02-22 06:28:15</td>\n      <td>Apple iPhone 11 bez simlocka cały komplet pols...</td>\n      <td>1700.0</td>\n      <td>iPhone</td>\n      <td>Używane</td>\n      <td>Osoby prywatnej</td>\n      <td>Sprawny</td>\n      <td>Sprzedam Appld iPhone 11 z polskiej dystrybucj...</td>\n      <td>2021-02-21 09:35:00</td>\n      <td>2622</td>\n      <td>2020-11-01 00:00:00</td>\n    </tr>\n  </tbody>\n</table>\n<p>4981 rows × 13 columns</p>\n</div>"
     },
     "execution_count": 3,
     "metadata": {},
     "output_type": "execute_result"
    }
   ],
   "source": [
    "data"
   ],
   "metadata": {
    "collapsed": false
   }
  },
  {
   "cell_type": "code",
   "execution_count": 4,
   "outputs": [
    {
     "data": {
      "text/plain": "URL              0\nVoivodeship      0\nScrap_time       0\nName             0\nPrice          336\nBrand          437\nCondition      130\nOffer_from       0\nType           432\nDescription      0\nAdded_at         0\nViews            0\nUser_since       0\ndtype: int64"
     },
     "execution_count": 4,
     "metadata": {},
     "output_type": "execute_result"
    }
   ],
   "source": [
    "data.isna().sum()"
   ],
   "metadata": {
    "collapsed": false
   }
  },
  {
   "cell_type": "code",
   "execution_count": 5,
   "outputs": [
    {
     "data": {
      "text/plain": "2021-01-03 11:18:00    8\n2021-02-08 14:21:00    7\n2021-01-08 20:22:00    6\n2021-01-08 16:14:00    5\n2021-02-19 17:01:00    5\n                      ..\n2021-01-16 09:55:00    1\n2021-01-16 13:36:00    1\n2021-01-17 02:12:00    1\n2021-01-17 01:41:00    1\n2021-02-21 09:35:00    1\nName: Added_at, Length: 4581, dtype: int64"
     },
     "execution_count": 5,
     "metadata": {},
     "output_type": "execute_result"
    }
   ],
   "source": [
    "data.Added_at.value_counts()"
   ],
   "metadata": {
    "collapsed": false
   }
  },
  {
   "cell_type": "code",
   "execution_count": 6,
   "outputs": [
    {
     "data": {
      "text/plain": "URL             object\nVoivodeship     object\nScrap_time      object\nName            object\nPrice          float64\nBrand           object\nCondition       object\nOffer_from      object\nType            object\nDescription     object\nAdded_at        object\nViews            int64\nUser_since      object\ndtype: object"
     },
     "execution_count": 6,
     "metadata": {},
     "output_type": "execute_result"
    }
   ],
   "source": [
    "data.dtypes"
   ],
   "metadata": {
    "collapsed": false
   }
  },
  {
   "cell_type": "code",
   "execution_count": 7,
   "outputs": [],
   "source": [
    "data_dropped_price_nans = data.dropna(subset=['Price']).reset_index(drop=True)"
   ],
   "metadata": {
    "collapsed": false
   }
  },
  {
   "cell_type": "code",
   "execution_count": 8,
   "outputs": [
    {
     "data": {
      "text/plain": "URL              0\nVoivodeship      0\nScrap_time       0\nName             0\nPrice            0\nBrand          312\nCondition       14\nOffer_from       0\nType           308\nDescription      0\nAdded_at         0\nViews            0\nUser_since       0\ndtype: int64"
     },
     "execution_count": 8,
     "metadata": {},
     "output_type": "execute_result"
    }
   ],
   "source": [
    "data_dropped_price_nans.isna().sum()"
   ],
   "metadata": {
    "collapsed": false
   }
  },
  {
   "cell_type": "code",
   "execution_count": 9,
   "outputs": [
    {
     "data": {
      "text/plain": "Używane    2860\nNowe       1771\nName: Condition, dtype: int64"
     },
     "execution_count": 9,
     "metadata": {},
     "output_type": "execute_result"
    }
   ],
   "source": [
    "data_dropped_price_nans.Condition.value_counts()"
   ],
   "metadata": {
    "collapsed": false
   }
  },
  {
   "cell_type": "code",
   "execution_count": 10,
   "outputs": [],
   "source": [
    "# changing important column type\n",
    "data_dropped_price_nans['Added_at'] = pd.to_datetime(data_dropped_price_nans['Added_at'])\n",
    "# dropping insignificant columns\n",
    "data_dropped_price_nans['Date'] = pd.to_datetime(data_dropped_price_nans['Added_at']).dt.date\n",
    "data_reduced_dims = data_dropped_price_nans[data_dropped_price_nans.Condition == 'Używane']\n",
    "data_reduced_dims = data_reduced_dims[data_reduced_dims.Type == 'Sprawny']\n",
    "data_reduced_dims = data_reduced_dims[data_reduced_dims.Brand == 'iPhone']\n",
    "data_reduced_dims = data_reduced_dims.drop(columns=['Voivodeship', 'Scrap_time', 'Views', 'User_since', 'Added_at', 'URL', 'Brand', 'Condition', 'Offer_from', 'Type'])"
   ],
   "metadata": {
    "collapsed": false
   }
  },
  {
   "cell_type": "code",
   "execution_count": 11,
   "outputs": [
    {
     "data": {
      "text/plain": "                                                   Name   Price  \\\n0       Iphone 11 64 jak nowy 95% gwarancja wyświetlacz  2799.0   \n1     IPhone 11 64 GB czarny, idealny z gwarancją. W...  2700.0   \n3      Jak Nowy Apple Iphone 11 256gbGB White Gwarancja  2899.0   \n4     Apple Iphone 11 biały 64GB - jak nowy GWARANCJ...  2500.0   \n6                           IPhone 11 64 GB + gwarancja  2150.0   \n...                                                 ...     ...   \n4636                               IPHONE 11 Black 64GB  2299.0   \n4637                   I phone 11 64 gb Cena tylko dzis  1900.0   \n4639         Iphone 11  128 gb gwarancja , 100% bateria  2800.0   \n4641                               Iphone 11 white 64gb  1650.0   \n4644  Apple iPhone 11 bez simlocka cały komplet pols...  1700.0   \n\n                                            Description        Date  \n0     Jak nowy . Kondycja baterii 95%. Kupiony w med...  2021-02-22  \n1     Witam! Mam na sprzedaż iPhone’a 11 w wersji 64...  2021-02-21  \n3     Witaj.     Jesteśmy sklepem - serwisem z 12 le...  2021-02-21  \n4     Sprzedam zakupiony w dniu 31.10.2020 w salonie...  2021-02-21  \n6     Witam, mam na sprzedaż IPhone 11 64GB biały. T...  2021-02-21  \n...                                                 ...         ...  \n4636  Sprzedam Iphone 11 64 GB kolor: czarny. Satn I...  2021-02-21  \n4637  Cena tylko dzisiaj   Na sprzedaż powiadam i ph...  2021-02-21  \n4639  Sprzedam IPhone 11 z pamięcią 128 GB . Telefon...  2021-02-21  \n4641  Na sprzedaż posiadam iphone 11 white o pojemno...  2021-02-20  \n4644  Sprzedam Appld iPhone 11 z polskiej dystrybucj...  2021-02-21  \n\n[2718 rows x 4 columns]",
      "text/html": "<div>\n<style scoped>\n    .dataframe tbody tr th:only-of-type {\n        vertical-align: middle;\n    }\n\n    .dataframe tbody tr th {\n        vertical-align: top;\n    }\n\n    .dataframe thead th {\n        text-align: right;\n    }\n</style>\n<table border=\"1\" class=\"dataframe\">\n  <thead>\n    <tr style=\"text-align: right;\">\n      <th></th>\n      <th>Name</th>\n      <th>Price</th>\n      <th>Description</th>\n      <th>Date</th>\n    </tr>\n  </thead>\n  <tbody>\n    <tr>\n      <th>0</th>\n      <td>Iphone 11 64 jak nowy 95% gwarancja wyświetlacz</td>\n      <td>2799.0</td>\n      <td>Jak nowy . Kondycja baterii 95%. Kupiony w med...</td>\n      <td>2021-02-22</td>\n    </tr>\n    <tr>\n      <th>1</th>\n      <td>IPhone 11 64 GB czarny, idealny z gwarancją. W...</td>\n      <td>2700.0</td>\n      <td>Witam! Mam na sprzedaż iPhone’a 11 w wersji 64...</td>\n      <td>2021-02-21</td>\n    </tr>\n    <tr>\n      <th>3</th>\n      <td>Jak Nowy Apple Iphone 11 256gbGB White Gwarancja</td>\n      <td>2899.0</td>\n      <td>Witaj.     Jesteśmy sklepem - serwisem z 12 le...</td>\n      <td>2021-02-21</td>\n    </tr>\n    <tr>\n      <th>4</th>\n      <td>Apple Iphone 11 biały 64GB - jak nowy GWARANCJ...</td>\n      <td>2500.0</td>\n      <td>Sprzedam zakupiony w dniu 31.10.2020 w salonie...</td>\n      <td>2021-02-21</td>\n    </tr>\n    <tr>\n      <th>6</th>\n      <td>IPhone 11 64 GB + gwarancja</td>\n      <td>2150.0</td>\n      <td>Witam, mam na sprzedaż IPhone 11 64GB biały. T...</td>\n      <td>2021-02-21</td>\n    </tr>\n    <tr>\n      <th>...</th>\n      <td>...</td>\n      <td>...</td>\n      <td>...</td>\n      <td>...</td>\n    </tr>\n    <tr>\n      <th>4636</th>\n      <td>IPHONE 11 Black 64GB</td>\n      <td>2299.0</td>\n      <td>Sprzedam Iphone 11 64 GB kolor: czarny. Satn I...</td>\n      <td>2021-02-21</td>\n    </tr>\n    <tr>\n      <th>4637</th>\n      <td>I phone 11 64 gb Cena tylko dzis</td>\n      <td>1900.0</td>\n      <td>Cena tylko dzisiaj   Na sprzedaż powiadam i ph...</td>\n      <td>2021-02-21</td>\n    </tr>\n    <tr>\n      <th>4639</th>\n      <td>Iphone 11  128 gb gwarancja , 100% bateria</td>\n      <td>2800.0</td>\n      <td>Sprzedam IPhone 11 z pamięcią 128 GB . Telefon...</td>\n      <td>2021-02-21</td>\n    </tr>\n    <tr>\n      <th>4641</th>\n      <td>Iphone 11 white 64gb</td>\n      <td>1650.0</td>\n      <td>Na sprzedaż posiadam iphone 11 white o pojemno...</td>\n      <td>2021-02-20</td>\n    </tr>\n    <tr>\n      <th>4644</th>\n      <td>Apple iPhone 11 bez simlocka cały komplet pols...</td>\n      <td>1700.0</td>\n      <td>Sprzedam Appld iPhone 11 z polskiej dystrybucj...</td>\n      <td>2021-02-21</td>\n    </tr>\n  </tbody>\n</table>\n<p>2718 rows × 4 columns</p>\n</div>"
     },
     "execution_count": 11,
     "metadata": {},
     "output_type": "execute_result"
    }
   ],
   "source": [
    "data_reduced_dims"
   ],
   "metadata": {
    "collapsed": false
   }
  },
  {
   "cell_type": "code",
   "execution_count": 12,
   "outputs": [
    {
     "data": {
      "text/plain": "                                                   Name  Price  \\\n22              IPHON 8 64GB,kolor Gold + etui 11 sztuk  990.0   \n26           HTC U11 Dual Sim 4/64GB Amazing Silver KPL  249.0   \n133   Iphone 7 rose gold oryginalny etui szkło grati...  780.0   \n317                           IPhone 5S 16 GB IOS11.4.1  200.0   \n537                         IPhone SE rosegold +11 case  350.0   \n632       I phone 7 128g rose gold nie 6 6s XS XR 11 12  570.0   \n675   IPhone 7 Plus (8,8plus,7,6s,6splus,x,xs,11,sam...  990.0   \n861   Iphone 6 32 GB, 11 case gratis, stan bardzo do...  550.0   \n868                       Iphone 11 PRO Max - słuchawki  270.0   \n969               Iphone se 64gb ,gwarancja 11 miesiecy  490.0   \n1022                IPhone 6s + pudełko + 11 sztuk etui  600.0   \n1025  Sprzedam iPhone 6 Plus lub zamienię z dopłatą ...  500.0   \n1111                            Iphone 11 32 GB sprawny  500.0   \n1188                    Iphone 7 32gb silver + 11 casów  750.0   \n1404  OKAZJA iphone 6s 64gb/rose gold,oryginalny,w b...  660.0   \n1497  Iphone se 128 GB rose gold jak nowy iphone 6 7...  325.0   \n1776  Iphone 7  32 GB jak nowy gwarancja od 07.11.20...  999.0   \n1781  Iphone 8 64 Gb Space Grey Gwar do 11.07.2021 M...  999.0   \n1959  IDEALNY/nowy Apple Iphone 8 64GB | iOS 11 | HD...  999.0   \n2007            Sprzedam zamienie iphone 8 na 11/xs max  900.0   \n2213  Iphone 7  32 GB jak nowy gwarancja od 06.11.20...  850.0   \n2361  IPhone 7 Plus (8,8plus,7,6s,6splus,x,xs,11,sam...  950.0   \n2373        Iphone 6plus 32GB gold złoty ma 11 mieisecy  550.0   \n2445         Iphone 6s 32gb wersja 11.1.2 + ori pudełko  349.0   \n2502  Apple iPhone 7 jet Black - 32 GB / bat. 100% /...  899.0   \n2506       Iphone SE 64GB rose gold różowy ios 11 Apple  380.0   \n2617  Telefon IPhone 8 64GB zamienię na X XR Pro Max...  999.0   \n2664                    Iphone 7 32gb silver + 11 casów  720.0   \n2731                               IPhone 7 (6,8,11,12)  500.0   \n2838  Iphone 7 Plus Jet Black 32 GB  11 casow Super ...  920.0   \n3011                               Iphone 11 64Gb White  680.0   \n3110                         Sprzedam używany Iphone 11  250.0   \n3142  IPhone 8 space gray 64gb igła stan 0rys (IPhon...  950.0   \n3276  Wyświwtlacz iphone 11 (zbita szybka) 100% sprawny  250.0   \n3436  Korpus IPhone XS Max 8 X 11 części aparat głośnik  499.0   \n3548  Iphone 6 32 GB, 11 case gratis, stan bardzo do...  550.0   \n3608                          IPhone 5S 16 GB IOS11.4.1  200.0   \n3634                Iphone 6s rose gold 32 GB i 11 etui  350.0   \n3800         IPhone 6S 64 GB + 11 etui + szkło ZOBACZ !  550.0   \n3851                          IPhone 11 64gb Space Gray  950.0   \n3889                     Iphone 7 32gb (6,7,8,xs,xr,11)  400.0   \n3942                                          Iphone 11  420.0   \n4002  Iphone 6s 32gb wersja 11.1.2 + ori pudełko (re...  349.0   \n4311                        Iphone 8// zamiana na ip 11  800.0   \n4331  Iphone 11 OKAZJA!!! do negocjacji SZYBKO SPRZE...  900.0   \n4599                 Iphone 7 złoty 32gb gold + 11 etui  600.0   \n\n                                            Description        Date  \n22    Iphon 8 64GB kolor Gold.Telefon zakupiony w ma...  2021-02-21  \n26    Przedmiotem sprzedaży jest telefon:        HTC...  2021-02-21  \n133   Sprzedam   Iphone 7 rose gold   Oryginalny nig...  2021-01-02  \n317   Sprawny, działający ale bez ładowarki, 2 x etu...  2021-01-04  \n537   Witam, sprzedam w 100% sprawnego iPhone SE w k...  2021-01-06  \n632   Sprzedam i phone 7 128 gb w kolorze rose gold ...  2021-01-07  \n675   Sprzedam iPhone 7 Plus.   Stan widoczny na zdj...  2021-01-08  \n861   IPhone 6  32 GB  STAN BARDZI DOBRY    + 11 etu...  2021-01-09  \n868   Oferuje na sprzedaż słuchawki od Iphona 11 PR...  2021-01-10  \n969   Witam   Na sprzedaż posiadam smartfon iphone S...  2021-01-10  \n1022  Dzień dobry. Mam do zaoferowania iPhone 6s w r...  2021-01-11  \n1025  Do sprzedania iPhone 6 Plus 64 GB. Touch ID dz...  2021-01-12  \n1111  Sprzedam iphone 7, kolor srebrny, w stanie ide...  2021-01-12  \n1188  Witam, mam do sprzedania Iphone’a 7 32GB silve...  2021-01-12  \n1404  Sprzedam w bardzo dobrym stanie iPhone 6s 64gb...  2021-01-14  \n1497  Cześć,     Na sprzedaż posiadam iPhone SE 128 ...  2021-01-15  \n1776  Stan bardzo dobry. Kupiony u operatora jako no...  2021-01-17  \n1781  Witam, na sprzedaż posiadam IPhone 8 64 w odci...  2021-01-17  \n1959  Witam serdecznie, na sprzedanie posiadam renom...  2021-01-19  \n2007  Sprzedam lub wymienie za dopłatą z mojej stron...  2021-01-20  \n2213  Stan bardzo dobry. Kupiony u operatora jako no...  2021-01-21  \n2361  Sprzedam iPhone 7 Plus.   Stan widoczny na zdj...  2021-01-23  \n2373  Sprzedam złoty iphone 6plus 32GB plus słuchawk...  2021-01-23  \n2445  Witam   Sprzedam telefon marki apple jakim jes...  2021-01-24  \n2502  Apple iPhone 7 jet Black 32GB        32GB poje...  2021-01-25  \n2506  iPhone SE 64GB  Kolor rose gold  Stan bardzo d...  2021-01-24  \n2617  Witam serdecznie         PRZED PRZYJAZDEM PROS...  2021-01-25  \n2664  Witam, mam do sprzedania Iphone’a 7 32GB silve...  2021-01-26  \n2731  Mam na sprzedaż iPhone 7   Telefon nie posiada...  2021-01-27  \n2838  iPhone 7 Plus, delikatne ryski, zawsze w case ...  2021-02-24  \n3011  Iphone 11 .     Wsparcie gwarancyjne od Apple ...  2021-01-28  \n3110  Bardzo dobry stan, jedyna wada to jedna ryska ...  2021-02-03  \n3142  Sprzedam iPhone 8 64GB w kolorze Space Gray. T...  2021-02-01  \n3276  Witam,   sprzedam oryginalny wyświetlacz iPhon...  2021-02-02  \n3436  Witam, sprzedam korpus do IPhone XS MAX, orygi...  2021-02-05  \n3548  IPhone 6  32 GB  STAN BARDZI DOBRY    + 11 etu...  2021-02-07  \n3608  Sprawny, działający ale bez ładowarki, 2 x etu...  2021-02-03  \n3634  Do sprzedania mam iPhone 6S rose gold . Do teg...  2021-02-04  \n3800  Sprzedam         iPhone 6S 64 GB - ROSE GOLD  ...  2021-02-09  \n3851  Telefon w stanie dobrym, sprawny. Nie posiada ...  2021-02-10  \n3889  Telefon 100% sprawny bateria trzyma cały dzień...  2021-02-10  \n3942  Witam mam do zaoferowania iPhone 6s  Ładowarka...  2021-02-12  \n4002  Witam   Sprzedam telefon marki apple jakim jes...  2021-02-12  \n4311  Sprzedam iphona 8 Możliwość zamiany na iphona ...  2021-02-17  \n4331  Sprzedam używanego białego Iphone 11 pamięć 64...  2021-02-17  \n4599  Sprzedam iphone 7 w kolorze złotym. Telefon w ...  2021-02-21  ",
      "text/html": "<div>\n<style scoped>\n    .dataframe tbody tr th:only-of-type {\n        vertical-align: middle;\n    }\n\n    .dataframe tbody tr th {\n        vertical-align: top;\n    }\n\n    .dataframe thead th {\n        text-align: right;\n    }\n</style>\n<table border=\"1\" class=\"dataframe\">\n  <thead>\n    <tr style=\"text-align: right;\">\n      <th></th>\n      <th>Name</th>\n      <th>Price</th>\n      <th>Description</th>\n      <th>Date</th>\n    </tr>\n  </thead>\n  <tbody>\n    <tr>\n      <th>22</th>\n      <td>IPHON 8 64GB,kolor Gold + etui 11 sztuk</td>\n      <td>990.0</td>\n      <td>Iphon 8 64GB kolor Gold.Telefon zakupiony w ma...</td>\n      <td>2021-02-21</td>\n    </tr>\n    <tr>\n      <th>26</th>\n      <td>HTC U11 Dual Sim 4/64GB Amazing Silver KPL</td>\n      <td>249.0</td>\n      <td>Przedmiotem sprzedaży jest telefon:        HTC...</td>\n      <td>2021-02-21</td>\n    </tr>\n    <tr>\n      <th>133</th>\n      <td>Iphone 7 rose gold oryginalny etui szkło grati...</td>\n      <td>780.0</td>\n      <td>Sprzedam   Iphone 7 rose gold   Oryginalny nig...</td>\n      <td>2021-01-02</td>\n    </tr>\n    <tr>\n      <th>317</th>\n      <td>IPhone 5S 16 GB IOS11.4.1</td>\n      <td>200.0</td>\n      <td>Sprawny, działający ale bez ładowarki, 2 x etu...</td>\n      <td>2021-01-04</td>\n    </tr>\n    <tr>\n      <th>537</th>\n      <td>IPhone SE rosegold +11 case</td>\n      <td>350.0</td>\n      <td>Witam, sprzedam w 100% sprawnego iPhone SE w k...</td>\n      <td>2021-01-06</td>\n    </tr>\n    <tr>\n      <th>632</th>\n      <td>I phone 7 128g rose gold nie 6 6s XS XR 11 12</td>\n      <td>570.0</td>\n      <td>Sprzedam i phone 7 128 gb w kolorze rose gold ...</td>\n      <td>2021-01-07</td>\n    </tr>\n    <tr>\n      <th>675</th>\n      <td>IPhone 7 Plus (8,8plus,7,6s,6splus,x,xs,11,sam...</td>\n      <td>990.0</td>\n      <td>Sprzedam iPhone 7 Plus.   Stan widoczny na zdj...</td>\n      <td>2021-01-08</td>\n    </tr>\n    <tr>\n      <th>861</th>\n      <td>Iphone 6 32 GB, 11 case gratis, stan bardzo do...</td>\n      <td>550.0</td>\n      <td>IPhone 6  32 GB  STAN BARDZI DOBRY    + 11 etu...</td>\n      <td>2021-01-09</td>\n    </tr>\n    <tr>\n      <th>868</th>\n      <td>Iphone 11 PRO Max - słuchawki</td>\n      <td>270.0</td>\n      <td>Oferuje na sprzedaż słuchawki od Iphona 11 PR...</td>\n      <td>2021-01-10</td>\n    </tr>\n    <tr>\n      <th>969</th>\n      <td>Iphone se 64gb ,gwarancja 11 miesiecy</td>\n      <td>490.0</td>\n      <td>Witam   Na sprzedaż posiadam smartfon iphone S...</td>\n      <td>2021-01-10</td>\n    </tr>\n    <tr>\n      <th>1022</th>\n      <td>IPhone 6s + pudełko + 11 sztuk etui</td>\n      <td>600.0</td>\n      <td>Dzień dobry. Mam do zaoferowania iPhone 6s w r...</td>\n      <td>2021-01-11</td>\n    </tr>\n    <tr>\n      <th>1025</th>\n      <td>Sprzedam iPhone 6 Plus lub zamienię z dopłatą ...</td>\n      <td>500.0</td>\n      <td>Do sprzedania iPhone 6 Plus 64 GB. Touch ID dz...</td>\n      <td>2021-01-12</td>\n    </tr>\n    <tr>\n      <th>1111</th>\n      <td>Iphone 11 32 GB sprawny</td>\n      <td>500.0</td>\n      <td>Sprzedam iphone 7, kolor srebrny, w stanie ide...</td>\n      <td>2021-01-12</td>\n    </tr>\n    <tr>\n      <th>1188</th>\n      <td>Iphone 7 32gb silver + 11 casów</td>\n      <td>750.0</td>\n      <td>Witam, mam do sprzedania Iphone’a 7 32GB silve...</td>\n      <td>2021-01-12</td>\n    </tr>\n    <tr>\n      <th>1404</th>\n      <td>OKAZJA iphone 6s 64gb/rose gold,oryginalny,w b...</td>\n      <td>660.0</td>\n      <td>Sprzedam w bardzo dobrym stanie iPhone 6s 64gb...</td>\n      <td>2021-01-14</td>\n    </tr>\n    <tr>\n      <th>1497</th>\n      <td>Iphone se 128 GB rose gold jak nowy iphone 6 7...</td>\n      <td>325.0</td>\n      <td>Cześć,     Na sprzedaż posiadam iPhone SE 128 ...</td>\n      <td>2021-01-15</td>\n    </tr>\n    <tr>\n      <th>1776</th>\n      <td>Iphone 7  32 GB jak nowy gwarancja od 07.11.20...</td>\n      <td>999.0</td>\n      <td>Stan bardzo dobry. Kupiony u operatora jako no...</td>\n      <td>2021-01-17</td>\n    </tr>\n    <tr>\n      <th>1781</th>\n      <td>Iphone 8 64 Gb Space Grey Gwar do 11.07.2021 M...</td>\n      <td>999.0</td>\n      <td>Witam, na sprzedaż posiadam IPhone 8 64 w odci...</td>\n      <td>2021-01-17</td>\n    </tr>\n    <tr>\n      <th>1959</th>\n      <td>IDEALNY/nowy Apple Iphone 8 64GB | iOS 11 | HD...</td>\n      <td>999.0</td>\n      <td>Witam serdecznie, na sprzedanie posiadam renom...</td>\n      <td>2021-01-19</td>\n    </tr>\n    <tr>\n      <th>2007</th>\n      <td>Sprzedam zamienie iphone 8 na 11/xs max</td>\n      <td>900.0</td>\n      <td>Sprzedam lub wymienie za dopłatą z mojej stron...</td>\n      <td>2021-01-20</td>\n    </tr>\n    <tr>\n      <th>2213</th>\n      <td>Iphone 7  32 GB jak nowy gwarancja od 06.11.20...</td>\n      <td>850.0</td>\n      <td>Stan bardzo dobry. Kupiony u operatora jako no...</td>\n      <td>2021-01-21</td>\n    </tr>\n    <tr>\n      <th>2361</th>\n      <td>IPhone 7 Plus (8,8plus,7,6s,6splus,x,xs,11,sam...</td>\n      <td>950.0</td>\n      <td>Sprzedam iPhone 7 Plus.   Stan widoczny na zdj...</td>\n      <td>2021-01-23</td>\n    </tr>\n    <tr>\n      <th>2373</th>\n      <td>Iphone 6plus 32GB gold złoty ma 11 mieisecy</td>\n      <td>550.0</td>\n      <td>Sprzedam złoty iphone 6plus 32GB plus słuchawk...</td>\n      <td>2021-01-23</td>\n    </tr>\n    <tr>\n      <th>2445</th>\n      <td>Iphone 6s 32gb wersja 11.1.2 + ori pudełko</td>\n      <td>349.0</td>\n      <td>Witam   Sprzedam telefon marki apple jakim jes...</td>\n      <td>2021-01-24</td>\n    </tr>\n    <tr>\n      <th>2502</th>\n      <td>Apple iPhone 7 jet Black - 32 GB / bat. 100% /...</td>\n      <td>899.0</td>\n      <td>Apple iPhone 7 jet Black 32GB        32GB poje...</td>\n      <td>2021-01-25</td>\n    </tr>\n    <tr>\n      <th>2506</th>\n      <td>Iphone SE 64GB rose gold różowy ios 11 Apple</td>\n      <td>380.0</td>\n      <td>iPhone SE 64GB  Kolor rose gold  Stan bardzo d...</td>\n      <td>2021-01-24</td>\n    </tr>\n    <tr>\n      <th>2617</th>\n      <td>Telefon IPhone 8 64GB zamienię na X XR Pro Max...</td>\n      <td>999.0</td>\n      <td>Witam serdecznie         PRZED PRZYJAZDEM PROS...</td>\n      <td>2021-01-25</td>\n    </tr>\n    <tr>\n      <th>2664</th>\n      <td>Iphone 7 32gb silver + 11 casów</td>\n      <td>720.0</td>\n      <td>Witam, mam do sprzedania Iphone’a 7 32GB silve...</td>\n      <td>2021-01-26</td>\n    </tr>\n    <tr>\n      <th>2731</th>\n      <td>IPhone 7 (6,8,11,12)</td>\n      <td>500.0</td>\n      <td>Mam na sprzedaż iPhone 7   Telefon nie posiada...</td>\n      <td>2021-01-27</td>\n    </tr>\n    <tr>\n      <th>2838</th>\n      <td>Iphone 7 Plus Jet Black 32 GB  11 casow Super ...</td>\n      <td>920.0</td>\n      <td>iPhone 7 Plus, delikatne ryski, zawsze w case ...</td>\n      <td>2021-02-24</td>\n    </tr>\n    <tr>\n      <th>3011</th>\n      <td>Iphone 11 64Gb White</td>\n      <td>680.0</td>\n      <td>Iphone 11 .     Wsparcie gwarancyjne od Apple ...</td>\n      <td>2021-01-28</td>\n    </tr>\n    <tr>\n      <th>3110</th>\n      <td>Sprzedam używany Iphone 11</td>\n      <td>250.0</td>\n      <td>Bardzo dobry stan, jedyna wada to jedna ryska ...</td>\n      <td>2021-02-03</td>\n    </tr>\n    <tr>\n      <th>3142</th>\n      <td>IPhone 8 space gray 64gb igła stan 0rys (IPhon...</td>\n      <td>950.0</td>\n      <td>Sprzedam iPhone 8 64GB w kolorze Space Gray. T...</td>\n      <td>2021-02-01</td>\n    </tr>\n    <tr>\n      <th>3276</th>\n      <td>Wyświwtlacz iphone 11 (zbita szybka) 100% sprawny</td>\n      <td>250.0</td>\n      <td>Witam,   sprzedam oryginalny wyświetlacz iPhon...</td>\n      <td>2021-02-02</td>\n    </tr>\n    <tr>\n      <th>3436</th>\n      <td>Korpus IPhone XS Max 8 X 11 części aparat głośnik</td>\n      <td>499.0</td>\n      <td>Witam, sprzedam korpus do IPhone XS MAX, orygi...</td>\n      <td>2021-02-05</td>\n    </tr>\n    <tr>\n      <th>3548</th>\n      <td>Iphone 6 32 GB, 11 case gratis, stan bardzo do...</td>\n      <td>550.0</td>\n      <td>IPhone 6  32 GB  STAN BARDZI DOBRY    + 11 etu...</td>\n      <td>2021-02-07</td>\n    </tr>\n    <tr>\n      <th>3608</th>\n      <td>IPhone 5S 16 GB IOS11.4.1</td>\n      <td>200.0</td>\n      <td>Sprawny, działający ale bez ładowarki, 2 x etu...</td>\n      <td>2021-02-03</td>\n    </tr>\n    <tr>\n      <th>3634</th>\n      <td>Iphone 6s rose gold 32 GB i 11 etui</td>\n      <td>350.0</td>\n      <td>Do sprzedania mam iPhone 6S rose gold . Do teg...</td>\n      <td>2021-02-04</td>\n    </tr>\n    <tr>\n      <th>3800</th>\n      <td>IPhone 6S 64 GB + 11 etui + szkło ZOBACZ !</td>\n      <td>550.0</td>\n      <td>Sprzedam         iPhone 6S 64 GB - ROSE GOLD  ...</td>\n      <td>2021-02-09</td>\n    </tr>\n    <tr>\n      <th>3851</th>\n      <td>IPhone 11 64gb Space Gray</td>\n      <td>950.0</td>\n      <td>Telefon w stanie dobrym, sprawny. Nie posiada ...</td>\n      <td>2021-02-10</td>\n    </tr>\n    <tr>\n      <th>3889</th>\n      <td>Iphone 7 32gb (6,7,8,xs,xr,11)</td>\n      <td>400.0</td>\n      <td>Telefon 100% sprawny bateria trzyma cały dzień...</td>\n      <td>2021-02-10</td>\n    </tr>\n    <tr>\n      <th>3942</th>\n      <td>Iphone 11</td>\n      <td>420.0</td>\n      <td>Witam mam do zaoferowania iPhone 6s  Ładowarka...</td>\n      <td>2021-02-12</td>\n    </tr>\n    <tr>\n      <th>4002</th>\n      <td>Iphone 6s 32gb wersja 11.1.2 + ori pudełko (re...</td>\n      <td>349.0</td>\n      <td>Witam   Sprzedam telefon marki apple jakim jes...</td>\n      <td>2021-02-12</td>\n    </tr>\n    <tr>\n      <th>4311</th>\n      <td>Iphone 8// zamiana na ip 11</td>\n      <td>800.0</td>\n      <td>Sprzedam iphona 8 Możliwość zamiany na iphona ...</td>\n      <td>2021-02-17</td>\n    </tr>\n    <tr>\n      <th>4331</th>\n      <td>Iphone 11 OKAZJA!!! do negocjacji SZYBKO SPRZE...</td>\n      <td>900.0</td>\n      <td>Sprzedam używanego białego Iphone 11 pamięć 64...</td>\n      <td>2021-02-17</td>\n    </tr>\n    <tr>\n      <th>4599</th>\n      <td>Iphone 7 złoty 32gb gold + 11 etui</td>\n      <td>600.0</td>\n      <td>Sprzedam iphone 7 w kolorze złotym. Telefon w ...</td>\n      <td>2021-02-21</td>\n    </tr>\n  </tbody>\n</table>\n</div>"
     },
     "execution_count": 12,
     "metadata": {},
     "output_type": "execute_result"
    }
   ],
   "source": [
    "# some part of the data contains information about insignificant products (phone cases, services, fake products), filtering based on price\n",
    "data_reduced_dims[data_reduced_dims.Price < 1000]"
   ],
   "metadata": {
    "collapsed": false
   }
  },
  {
   "cell_type": "code",
   "execution_count": 13,
   "outputs": [],
   "source": [
    "data_filtered = data_reduced_dims[data_reduced_dims.Price > 1000]"
   ],
   "metadata": {
    "collapsed": false
   }
  },
  {
   "cell_type": "code",
   "execution_count": 14,
   "outputs": [
    {
     "data": {
      "text/plain": "                                                   Name   Price  \\\n0       Iphone 11 64 jak nowy 95% gwarancja wyświetlacz  2799.0   \n1     IPhone 11 64 GB czarny, idealny z gwarancją. W...  2700.0   \n3      Jak Nowy Apple Iphone 11 256gbGB White Gwarancja  2899.0   \n4     Apple Iphone 11 biały 64GB - jak nowy GWARANCJ...  2500.0   \n6                           IPhone 11 64 GB + gwarancja  2150.0   \n...                                                 ...     ...   \n4636                               IPHONE 11 Black 64GB  2299.0   \n4637                   I phone 11 64 gb Cena tylko dzis  1900.0   \n4639         Iphone 11  128 gb gwarancja , 100% bateria  2800.0   \n4641                               Iphone 11 white 64gb  1650.0   \n4644  Apple iPhone 11 bez simlocka cały komplet pols...  1700.0   \n\n                                            Description        Date  \n0     Jak nowy . Kondycja baterii 95%. Kupiony w med...  2021-02-22  \n1     Witam! Mam na sprzedaż iPhone’a 11 w wersji 64...  2021-02-21  \n3     Witaj.     Jesteśmy sklepem - serwisem z 12 le...  2021-02-21  \n4     Sprzedam zakupiony w dniu 31.10.2020 w salonie...  2021-02-21  \n6     Witam, mam na sprzedaż IPhone 11 64GB biały. T...  2021-02-21  \n...                                                 ...         ...  \n4636  Sprzedam Iphone 11 64 GB kolor: czarny. Satn I...  2021-02-21  \n4637  Cena tylko dzisiaj   Na sprzedaż powiadam i ph...  2021-02-21  \n4639  Sprzedam IPhone 11 z pamięcią 128 GB . Telefon...  2021-02-21  \n4641  Na sprzedaż posiadam iphone 11 white o pojemno...  2021-02-20  \n4644  Sprzedam Appld iPhone 11 z polskiej dystrybucj...  2021-02-21  \n\n[2671 rows x 4 columns]",
      "text/html": "<div>\n<style scoped>\n    .dataframe tbody tr th:only-of-type {\n        vertical-align: middle;\n    }\n\n    .dataframe tbody tr th {\n        vertical-align: top;\n    }\n\n    .dataframe thead th {\n        text-align: right;\n    }\n</style>\n<table border=\"1\" class=\"dataframe\">\n  <thead>\n    <tr style=\"text-align: right;\">\n      <th></th>\n      <th>Name</th>\n      <th>Price</th>\n      <th>Description</th>\n      <th>Date</th>\n    </tr>\n  </thead>\n  <tbody>\n    <tr>\n      <th>0</th>\n      <td>Iphone 11 64 jak nowy 95% gwarancja wyświetlacz</td>\n      <td>2799.0</td>\n      <td>Jak nowy . Kondycja baterii 95%. Kupiony w med...</td>\n      <td>2021-02-22</td>\n    </tr>\n    <tr>\n      <th>1</th>\n      <td>IPhone 11 64 GB czarny, idealny z gwarancją. W...</td>\n      <td>2700.0</td>\n      <td>Witam! Mam na sprzedaż iPhone’a 11 w wersji 64...</td>\n      <td>2021-02-21</td>\n    </tr>\n    <tr>\n      <th>3</th>\n      <td>Jak Nowy Apple Iphone 11 256gbGB White Gwarancja</td>\n      <td>2899.0</td>\n      <td>Witaj.     Jesteśmy sklepem - serwisem z 12 le...</td>\n      <td>2021-02-21</td>\n    </tr>\n    <tr>\n      <th>4</th>\n      <td>Apple Iphone 11 biały 64GB - jak nowy GWARANCJ...</td>\n      <td>2500.0</td>\n      <td>Sprzedam zakupiony w dniu 31.10.2020 w salonie...</td>\n      <td>2021-02-21</td>\n    </tr>\n    <tr>\n      <th>6</th>\n      <td>IPhone 11 64 GB + gwarancja</td>\n      <td>2150.0</td>\n      <td>Witam, mam na sprzedaż IPhone 11 64GB biały. T...</td>\n      <td>2021-02-21</td>\n    </tr>\n    <tr>\n      <th>...</th>\n      <td>...</td>\n      <td>...</td>\n      <td>...</td>\n      <td>...</td>\n    </tr>\n    <tr>\n      <th>4636</th>\n      <td>IPHONE 11 Black 64GB</td>\n      <td>2299.0</td>\n      <td>Sprzedam Iphone 11 64 GB kolor: czarny. Satn I...</td>\n      <td>2021-02-21</td>\n    </tr>\n    <tr>\n      <th>4637</th>\n      <td>I phone 11 64 gb Cena tylko dzis</td>\n      <td>1900.0</td>\n      <td>Cena tylko dzisiaj   Na sprzedaż powiadam i ph...</td>\n      <td>2021-02-21</td>\n    </tr>\n    <tr>\n      <th>4639</th>\n      <td>Iphone 11  128 gb gwarancja , 100% bateria</td>\n      <td>2800.0</td>\n      <td>Sprzedam IPhone 11 z pamięcią 128 GB . Telefon...</td>\n      <td>2021-02-21</td>\n    </tr>\n    <tr>\n      <th>4641</th>\n      <td>Iphone 11 white 64gb</td>\n      <td>1650.0</td>\n      <td>Na sprzedaż posiadam iphone 11 white o pojemno...</td>\n      <td>2021-02-20</td>\n    </tr>\n    <tr>\n      <th>4644</th>\n      <td>Apple iPhone 11 bez simlocka cały komplet pols...</td>\n      <td>1700.0</td>\n      <td>Sprzedam Appld iPhone 11 z polskiej dystrybucj...</td>\n      <td>2021-02-21</td>\n    </tr>\n  </tbody>\n</table>\n<p>2671 rows × 4 columns</p>\n</div>"
     },
     "execution_count": 14,
     "metadata": {},
     "output_type": "execute_result"
    }
   ],
   "source": [
    "data_filtered"
   ],
   "metadata": {
    "collapsed": false
   }
  },
  {
   "cell_type": "code",
   "execution_count": 15,
   "outputs": [
    {
     "name": "stderr",
     "output_type": "stream",
     "text": [
      "C:\\Users\\cubix\\AppData\\Local\\Temp\\ipykernel_9508\\3313578340.py:1: SettingWithCopyWarning: \n",
      "A value is trying to be set on a copy of a slice from a DataFrame.\n",
      "Try using .loc[row_indexer,col_indexer] = value instead\n",
      "\n",
      "See the caveats in the documentation: https://pandas.pydata.org/pandas-docs/stable/user_guide/indexing.html#returning-a-view-versus-a-copy\n",
      "  data_filtered['Name'] = data_filtered.loc[:, 'Name'].str.lower()\n",
      "C:\\Users\\cubix\\AppData\\Local\\Temp\\ipykernel_9508\\3313578340.py:2: SettingWithCopyWarning: \n",
      "A value is trying to be set on a copy of a slice from a DataFrame.\n",
      "Try using .loc[row_indexer,col_indexer] = value instead\n",
      "\n",
      "See the caveats in the documentation: https://pandas.pydata.org/pandas-docs/stable/user_guide/indexing.html#returning-a-view-versus-a-copy\n",
      "  data_filtered['Description'] = data_filtered.loc[:, 'Description'].str.lower()\n"
     ]
    }
   ],
   "source": [
    "data_filtered['Name'] = data_filtered.loc[:, 'Name'].str.lower()\n",
    "data_filtered['Description'] = data_filtered.loc[:, 'Description'].str.lower()"
   ],
   "metadata": {
    "collapsed": false
   }
  },
  {
   "cell_type": "code",
   "execution_count": 16,
   "outputs": [
    {
     "data": {
      "text/plain": "                                                   Name   Price  \\\n0       iphone 11 64 jak nowy 95% gwarancja wyświetlacz  2799.0   \n1     iphone 11 64 gb czarny, idealny z gwarancją. w...  2700.0   \n3      jak nowy apple iphone 11 256gbgb white gwarancja  2899.0   \n4     apple iphone 11 biały 64gb - jak nowy gwarancj...  2500.0   \n6                           iphone 11 64 gb + gwarancja  2150.0   \n...                                                 ...     ...   \n4636                               iphone 11 black 64gb  2299.0   \n4637                   i phone 11 64 gb cena tylko dzis  1900.0   \n4639         iphone 11  128 gb gwarancja , 100% bateria  2800.0   \n4641                               iphone 11 white 64gb  1650.0   \n4644  apple iphone 11 bez simlocka cały komplet pols...  1700.0   \n\n                                            Description        Date  \n0     jak nowy . kondycja baterii 95%. kupiony w med...  2021-02-22  \n1     witam! mam na sprzedaż iphone’a 11 w wersji 64...  2021-02-21  \n3     witaj.     jesteśmy sklepem - serwisem z 12 le...  2021-02-21  \n4     sprzedam zakupiony w dniu 31.10.2020 w salonie...  2021-02-21  \n6     witam, mam na sprzedaż iphone 11 64gb biały. t...  2021-02-21  \n...                                                 ...         ...  \n4636  sprzedam iphone 11 64 gb kolor: czarny. satn i...  2021-02-21  \n4637  cena tylko dzisiaj   na sprzedaż powiadam i ph...  2021-02-21  \n4639  sprzedam iphone 11 z pamięcią 128 gb . telefon...  2021-02-21  \n4641  na sprzedaż posiadam iphone 11 white o pojemno...  2021-02-20  \n4644  sprzedam appld iphone 11 z polskiej dystrybucj...  2021-02-21  \n\n[2671 rows x 4 columns]",
      "text/html": "<div>\n<style scoped>\n    .dataframe tbody tr th:only-of-type {\n        vertical-align: middle;\n    }\n\n    .dataframe tbody tr th {\n        vertical-align: top;\n    }\n\n    .dataframe thead th {\n        text-align: right;\n    }\n</style>\n<table border=\"1\" class=\"dataframe\">\n  <thead>\n    <tr style=\"text-align: right;\">\n      <th></th>\n      <th>Name</th>\n      <th>Price</th>\n      <th>Description</th>\n      <th>Date</th>\n    </tr>\n  </thead>\n  <tbody>\n    <tr>\n      <th>0</th>\n      <td>iphone 11 64 jak nowy 95% gwarancja wyświetlacz</td>\n      <td>2799.0</td>\n      <td>jak nowy . kondycja baterii 95%. kupiony w med...</td>\n      <td>2021-02-22</td>\n    </tr>\n    <tr>\n      <th>1</th>\n      <td>iphone 11 64 gb czarny, idealny z gwarancją. w...</td>\n      <td>2700.0</td>\n      <td>witam! mam na sprzedaż iphone’a 11 w wersji 64...</td>\n      <td>2021-02-21</td>\n    </tr>\n    <tr>\n      <th>3</th>\n      <td>jak nowy apple iphone 11 256gbgb white gwarancja</td>\n      <td>2899.0</td>\n      <td>witaj.     jesteśmy sklepem - serwisem z 12 le...</td>\n      <td>2021-02-21</td>\n    </tr>\n    <tr>\n      <th>4</th>\n      <td>apple iphone 11 biały 64gb - jak nowy gwarancj...</td>\n      <td>2500.0</td>\n      <td>sprzedam zakupiony w dniu 31.10.2020 w salonie...</td>\n      <td>2021-02-21</td>\n    </tr>\n    <tr>\n      <th>6</th>\n      <td>iphone 11 64 gb + gwarancja</td>\n      <td>2150.0</td>\n      <td>witam, mam na sprzedaż iphone 11 64gb biały. t...</td>\n      <td>2021-02-21</td>\n    </tr>\n    <tr>\n      <th>...</th>\n      <td>...</td>\n      <td>...</td>\n      <td>...</td>\n      <td>...</td>\n    </tr>\n    <tr>\n      <th>4636</th>\n      <td>iphone 11 black 64gb</td>\n      <td>2299.0</td>\n      <td>sprzedam iphone 11 64 gb kolor: czarny. satn i...</td>\n      <td>2021-02-21</td>\n    </tr>\n    <tr>\n      <th>4637</th>\n      <td>i phone 11 64 gb cena tylko dzis</td>\n      <td>1900.0</td>\n      <td>cena tylko dzisiaj   na sprzedaż powiadam i ph...</td>\n      <td>2021-02-21</td>\n    </tr>\n    <tr>\n      <th>4639</th>\n      <td>iphone 11  128 gb gwarancja , 100% bateria</td>\n      <td>2800.0</td>\n      <td>sprzedam iphone 11 z pamięcią 128 gb . telefon...</td>\n      <td>2021-02-21</td>\n    </tr>\n    <tr>\n      <th>4641</th>\n      <td>iphone 11 white 64gb</td>\n      <td>1650.0</td>\n      <td>na sprzedaż posiadam iphone 11 white o pojemno...</td>\n      <td>2021-02-20</td>\n    </tr>\n    <tr>\n      <th>4644</th>\n      <td>apple iphone 11 bez simlocka cały komplet pols...</td>\n      <td>1700.0</td>\n      <td>sprzedam appld iphone 11 z polskiej dystrybucj...</td>\n      <td>2021-02-21</td>\n    </tr>\n  </tbody>\n</table>\n<p>2671 rows × 4 columns</p>\n</div>"
     },
     "execution_count": 16,
     "metadata": {},
     "output_type": "execute_result"
    }
   ],
   "source": [
    "data_filtered"
   ],
   "metadata": {
    "collapsed": false
   }
  },
  {
   "cell_type": "code",
   "execution_count": 17,
   "outputs": [
    {
     "name": "stderr",
     "output_type": "stream",
     "text": [
      "C:\\Users\\cubix\\AppData\\Local\\Temp\\ipykernel_9508\\512146241.py:1: SettingWithCopyWarning: \n",
      "A value is trying to be set on a copy of a slice from a DataFrame.\n",
      "Try using .loc[row_indexer,col_indexer] = value instead\n",
      "\n",
      "See the caveats in the documentation: https://pandas.pydata.org/pandas-docs/stable/user_guide/indexing.html#returning-a-view-versus-a-copy\n",
      "  data_filtered['Concatenated_description'] = data_filtered['Name'] + ' ' + data_filtered['Description']\n"
     ]
    }
   ],
   "source": [
    "data_filtered['Concatenated_description'] = data_filtered['Name'] + ' ' + data_filtered['Description']"
   ],
   "metadata": {
    "collapsed": false
   }
  },
  {
   "cell_type": "code",
   "execution_count": 18,
   "outputs": [
    {
     "data": {
      "text/plain": "                                                   Name   Price  \\\n0       iphone 11 64 jak nowy 95% gwarancja wyświetlacz  2799.0   \n1     iphone 11 64 gb czarny, idealny z gwarancją. w...  2700.0   \n3      jak nowy apple iphone 11 256gbgb white gwarancja  2899.0   \n4     apple iphone 11 biały 64gb - jak nowy gwarancj...  2500.0   \n6                           iphone 11 64 gb + gwarancja  2150.0   \n...                                                 ...     ...   \n4636                               iphone 11 black 64gb  2299.0   \n4637                   i phone 11 64 gb cena tylko dzis  1900.0   \n4639         iphone 11  128 gb gwarancja , 100% bateria  2800.0   \n4641                               iphone 11 white 64gb  1650.0   \n4644  apple iphone 11 bez simlocka cały komplet pols...  1700.0   \n\n                                            Description        Date  \\\n0     jak nowy . kondycja baterii 95%. kupiony w med...  2021-02-22   \n1     witam! mam na sprzedaż iphone’a 11 w wersji 64...  2021-02-21   \n3     witaj.     jesteśmy sklepem - serwisem z 12 le...  2021-02-21   \n4     sprzedam zakupiony w dniu 31.10.2020 w salonie...  2021-02-21   \n6     witam, mam na sprzedaż iphone 11 64gb biały. t...  2021-02-21   \n...                                                 ...         ...   \n4636  sprzedam iphone 11 64 gb kolor: czarny. satn i...  2021-02-21   \n4637  cena tylko dzisiaj   na sprzedaż powiadam i ph...  2021-02-21   \n4639  sprzedam iphone 11 z pamięcią 128 gb . telefon...  2021-02-21   \n4641  na sprzedaż posiadam iphone 11 white o pojemno...  2021-02-20   \n4644  sprzedam appld iphone 11 z polskiej dystrybucj...  2021-02-21   \n\n                               Concatenated_description  \n0     iphone 11 64 jak nowy 95% gwarancja wyświetlac...  \n1     iphone 11 64 gb czarny, idealny z gwarancją. w...  \n3     jak nowy apple iphone 11 256gbgb white gwaranc...  \n4     apple iphone 11 biały 64gb - jak nowy gwarancj...  \n6     iphone 11 64 gb + gwarancja witam, mam na sprz...  \n...                                                 ...  \n4636  iphone 11 black 64gb sprzedam iphone 11 64 gb ...  \n4637  i phone 11 64 gb cena tylko dzis cena tylko dz...  \n4639  iphone 11  128 gb gwarancja , 100% bateria spr...  \n4641  iphone 11 white 64gb na sprzedaż posiadam ipho...  \n4644  apple iphone 11 bez simlocka cały komplet pols...  \n\n[2671 rows x 5 columns]",
      "text/html": "<div>\n<style scoped>\n    .dataframe tbody tr th:only-of-type {\n        vertical-align: middle;\n    }\n\n    .dataframe tbody tr th {\n        vertical-align: top;\n    }\n\n    .dataframe thead th {\n        text-align: right;\n    }\n</style>\n<table border=\"1\" class=\"dataframe\">\n  <thead>\n    <tr style=\"text-align: right;\">\n      <th></th>\n      <th>Name</th>\n      <th>Price</th>\n      <th>Description</th>\n      <th>Date</th>\n      <th>Concatenated_description</th>\n    </tr>\n  </thead>\n  <tbody>\n    <tr>\n      <th>0</th>\n      <td>iphone 11 64 jak nowy 95% gwarancja wyświetlacz</td>\n      <td>2799.0</td>\n      <td>jak nowy . kondycja baterii 95%. kupiony w med...</td>\n      <td>2021-02-22</td>\n      <td>iphone 11 64 jak nowy 95% gwarancja wyświetlac...</td>\n    </tr>\n    <tr>\n      <th>1</th>\n      <td>iphone 11 64 gb czarny, idealny z gwarancją. w...</td>\n      <td>2700.0</td>\n      <td>witam! mam na sprzedaż iphone’a 11 w wersji 64...</td>\n      <td>2021-02-21</td>\n      <td>iphone 11 64 gb czarny, idealny z gwarancją. w...</td>\n    </tr>\n    <tr>\n      <th>3</th>\n      <td>jak nowy apple iphone 11 256gbgb white gwarancja</td>\n      <td>2899.0</td>\n      <td>witaj.     jesteśmy sklepem - serwisem z 12 le...</td>\n      <td>2021-02-21</td>\n      <td>jak nowy apple iphone 11 256gbgb white gwaranc...</td>\n    </tr>\n    <tr>\n      <th>4</th>\n      <td>apple iphone 11 biały 64gb - jak nowy gwarancj...</td>\n      <td>2500.0</td>\n      <td>sprzedam zakupiony w dniu 31.10.2020 w salonie...</td>\n      <td>2021-02-21</td>\n      <td>apple iphone 11 biały 64gb - jak nowy gwarancj...</td>\n    </tr>\n    <tr>\n      <th>6</th>\n      <td>iphone 11 64 gb + gwarancja</td>\n      <td>2150.0</td>\n      <td>witam, mam na sprzedaż iphone 11 64gb biały. t...</td>\n      <td>2021-02-21</td>\n      <td>iphone 11 64 gb + gwarancja witam, mam na sprz...</td>\n    </tr>\n    <tr>\n      <th>...</th>\n      <td>...</td>\n      <td>...</td>\n      <td>...</td>\n      <td>...</td>\n      <td>...</td>\n    </tr>\n    <tr>\n      <th>4636</th>\n      <td>iphone 11 black 64gb</td>\n      <td>2299.0</td>\n      <td>sprzedam iphone 11 64 gb kolor: czarny. satn i...</td>\n      <td>2021-02-21</td>\n      <td>iphone 11 black 64gb sprzedam iphone 11 64 gb ...</td>\n    </tr>\n    <tr>\n      <th>4637</th>\n      <td>i phone 11 64 gb cena tylko dzis</td>\n      <td>1900.0</td>\n      <td>cena tylko dzisiaj   na sprzedaż powiadam i ph...</td>\n      <td>2021-02-21</td>\n      <td>i phone 11 64 gb cena tylko dzis cena tylko dz...</td>\n    </tr>\n    <tr>\n      <th>4639</th>\n      <td>iphone 11  128 gb gwarancja , 100% bateria</td>\n      <td>2800.0</td>\n      <td>sprzedam iphone 11 z pamięcią 128 gb . telefon...</td>\n      <td>2021-02-21</td>\n      <td>iphone 11  128 gb gwarancja , 100% bateria spr...</td>\n    </tr>\n    <tr>\n      <th>4641</th>\n      <td>iphone 11 white 64gb</td>\n      <td>1650.0</td>\n      <td>na sprzedaż posiadam iphone 11 white o pojemno...</td>\n      <td>2021-02-20</td>\n      <td>iphone 11 white 64gb na sprzedaż posiadam ipho...</td>\n    </tr>\n    <tr>\n      <th>4644</th>\n      <td>apple iphone 11 bez simlocka cały komplet pols...</td>\n      <td>1700.0</td>\n      <td>sprzedam appld iphone 11 z polskiej dystrybucj...</td>\n      <td>2021-02-21</td>\n      <td>apple iphone 11 bez simlocka cały komplet pols...</td>\n    </tr>\n  </tbody>\n</table>\n<p>2671 rows × 5 columns</p>\n</div>"
     },
     "execution_count": 18,
     "metadata": {},
     "output_type": "execute_result"
    }
   ],
   "source": [
    "data_filtered"
   ],
   "metadata": {
    "collapsed": false
   }
  },
  {
   "cell_type": "code",
   "execution_count": 20,
   "outputs": [
    {
     "name": "stdout",
     "output_type": "stream",
     "text": [
      "<class 'pandas.core.frame.DataFrame'>\n",
      "Int64Index: 2671 entries, 0 to 4644\n",
      "Data columns (total 5 columns):\n",
      " #   Column                    Non-Null Count  Dtype  \n",
      "---  ------                    --------------  -----  \n",
      " 0   Name                      2671 non-null   object \n",
      " 1   Price                     2671 non-null   float64\n",
      " 2   Description               2671 non-null   object \n",
      " 3   Date                      2671 non-null   object \n",
      " 4   Concatenated_description  2671 non-null   object \n",
      "dtypes: float64(1), object(4)\n",
      "memory usage: 125.2+ KB\n"
     ]
    }
   ],
   "source": [
    "data_filtered.info()"
   ],
   "metadata": {
    "collapsed": false
   }
  },
  {
   "cell_type": "code",
   "execution_count": 21,
   "outputs": [
    {
     "name": "stderr",
     "output_type": "stream",
     "text": [
      "C:\\Users\\cubix\\AppData\\Local\\Temp\\ipykernel_9508\\2140561122.py:1: SettingWithCopyWarning: \n",
      "A value is trying to be set on a copy of a slice from a DataFrame.\n",
      "Try using .loc[row_indexer,col_indexer] = value instead\n",
      "\n",
      "See the caveats in the documentation: https://pandas.pydata.org/pandas-docs/stable/user_guide/indexing.html#returning-a-view-versus-a-copy\n",
      "  data_filtered['First_date'] = data_filtered['Date'].min()\n"
     ]
    }
   ],
   "source": [
    "data_filtered['First_date'] = data_filtered['Date'].min()"
   ],
   "metadata": {
    "collapsed": false
   }
  },
  {
   "cell_type": "code",
   "execution_count": 22,
   "outputs": [
    {
     "name": "stderr",
     "output_type": "stream",
     "text": [
      "C:\\Users\\cubix\\AppData\\Local\\Temp\\ipykernel_9508\\3776467766.py:1: SettingWithCopyWarning: \n",
      "A value is trying to be set on a copy of a slice from a DataFrame.\n",
      "Try using .loc[row_indexer,col_indexer] = value instead\n",
      "\n",
      "See the caveats in the documentation: https://pandas.pydata.org/pandas-docs/stable/user_guide/indexing.html#returning-a-view-versus-a-copy\n",
      "  data_filtered['Date'] = pd.to_datetime(data_filtered.Date, format='%Y-%m-%d')\n",
      "C:\\Users\\cubix\\AppData\\Local\\Temp\\ipykernel_9508\\3776467766.py:2: SettingWithCopyWarning: \n",
      "A value is trying to be set on a copy of a slice from a DataFrame.\n",
      "Try using .loc[row_indexer,col_indexer] = value instead\n",
      "\n",
      "See the caveats in the documentation: https://pandas.pydata.org/pandas-docs/stable/user_guide/indexing.html#returning-a-view-versus-a-copy\n",
      "  data_filtered['First_date'] = pd.to_datetime(data_filtered.First_date, format='%Y-%m-%d')\n"
     ]
    }
   ],
   "source": [
    "data_filtered['Date'] = pd.to_datetime(data_filtered.Date, format='%Y-%m-%d')\n",
    "data_filtered['First_date'] = pd.to_datetime(data_filtered.First_date, format='%Y-%m-%d')"
   ],
   "metadata": {
    "collapsed": false
   }
  },
  {
   "cell_type": "code",
   "execution_count": 27,
   "outputs": [
    {
     "name": "stderr",
     "output_type": "stream",
     "text": [
      "C:\\Users\\cubix\\AppData\\Local\\Temp\\ipykernel_9508\\1218724297.py:1: SettingWithCopyWarning: \n",
      "A value is trying to be set on a copy of a slice from a DataFrame.\n",
      "Try using .loc[row_indexer,col_indexer] = value instead\n",
      "\n",
      "See the caveats in the documentation: https://pandas.pydata.org/pandas-docs/stable/user_guide/indexing.html#returning-a-view-versus-a-copy\n",
      "  data_filtered['Days_passed'] = data_filtered['Date'] - data_filtered['First_date']\n",
      "C:\\Users\\cubix\\AppData\\Local\\Temp\\ipykernel_9508\\1218724297.py:2: SettingWithCopyWarning: \n",
      "A value is trying to be set on a copy of a slice from a DataFrame.\n",
      "Try using .loc[row_indexer,col_indexer] = value instead\n",
      "\n",
      "See the caveats in the documentation: https://pandas.pydata.org/pandas-docs/stable/user_guide/indexing.html#returning-a-view-versus-a-copy\n",
      "  data_filtered['Days_passed_name'] = data_filtered['Days_passed'].astype(str) + ' ' + data_filtered['Name']\n"
     ]
    }
   ],
   "source": [
    "data_filtered['Days_passed'] = data_filtered['Date'] - data_filtered['First_date']\n",
    "data_filtered['Days_passed_name'] = data_filtered['Days_passed'].astype(str) + ' ' + data_filtered['Name']"
   ],
   "metadata": {
    "collapsed": false
   }
  },
  {
   "cell_type": "code",
   "execution_count": 28,
   "outputs": [
    {
     "data": {
      "text/plain": "                                                   Name   Price  \\\n0       iphone 11 64 jak nowy 95% gwarancja wyświetlacz  2799.0   \n1     iphone 11 64 gb czarny, idealny z gwarancją. w...  2700.0   \n3      jak nowy apple iphone 11 256gbgb white gwarancja  2899.0   \n4     apple iphone 11 biały 64gb - jak nowy gwarancj...  2500.0   \n6                           iphone 11 64 gb + gwarancja  2150.0   \n...                                                 ...     ...   \n4636                               iphone 11 black 64gb  2299.0   \n4637                   i phone 11 64 gb cena tylko dzis  1900.0   \n4639         iphone 11  128 gb gwarancja , 100% bateria  2800.0   \n4641                               iphone 11 white 64gb  1650.0   \n4644  apple iphone 11 bez simlocka cały komplet pols...  1700.0   \n\n                                            Description       Date  \\\n0     jak nowy . kondycja baterii 95%. kupiony w med... 2021-02-22   \n1     witam! mam na sprzedaż iphone’a 11 w wersji 64... 2021-02-21   \n3     witaj.     jesteśmy sklepem - serwisem z 12 le... 2021-02-21   \n4     sprzedam zakupiony w dniu 31.10.2020 w salonie... 2021-02-21   \n6     witam, mam na sprzedaż iphone 11 64gb biały. t... 2021-02-21   \n...                                                 ...        ...   \n4636  sprzedam iphone 11 64 gb kolor: czarny. satn i... 2021-02-21   \n4637  cena tylko dzisiaj   na sprzedaż powiadam i ph... 2021-02-21   \n4639  sprzedam iphone 11 z pamięcią 128 gb . telefon... 2021-02-21   \n4641  na sprzedaż posiadam iphone 11 white o pojemno... 2021-02-20   \n4644  sprzedam appld iphone 11 z polskiej dystrybucj... 2021-02-21   \n\n                               Concatenated_description First_date  \\\n0     iphone 11 64 jak nowy 95% gwarancja wyświetlac... 2021-01-01   \n1     iphone 11 64 gb czarny, idealny z gwarancją. w... 2021-01-01   \n3     jak nowy apple iphone 11 256gbgb white gwaranc... 2021-01-01   \n4     apple iphone 11 biały 64gb - jak nowy gwarancj... 2021-01-01   \n6     iphone 11 64 gb + gwarancja witam, mam na sprz... 2021-01-01   \n...                                                 ...        ...   \n4636  iphone 11 black 64gb sprzedam iphone 11 64 gb ... 2021-01-01   \n4637  i phone 11 64 gb cena tylko dzis cena tylko dz... 2021-01-01   \n4639  iphone 11  128 gb gwarancja , 100% bateria spr... 2021-01-01   \n4641  iphone 11 white 64gb na sprzedaż posiadam ipho... 2021-01-01   \n4644  apple iphone 11 bez simlocka cały komplet pols... 2021-01-01   \n\n     Days_passed                                   Days_passed_name  \n0        52 days  52 days iphone 11 64 jak nowy 95% gwarancja wy...  \n1        51 days  51 days iphone 11 64 gb czarny, idealny z gwar...  \n3        51 days  51 days jak nowy apple iphone 11 256gbgb white...  \n4        51 days  51 days apple iphone 11 biały 64gb - jak nowy ...  \n6        51 days                51 days iphone 11 64 gb + gwarancja  \n...          ...                                                ...  \n4636     51 days                       51 days iphone 11 black 64gb  \n4637     51 days           51 days i phone 11 64 gb cena tylko dzis  \n4639     51 days  51 days iphone 11  128 gb gwarancja , 100% bat...  \n4641     50 days                       50 days iphone 11 white 64gb  \n4644     51 days  51 days apple iphone 11 bez simlocka cały komp...  \n\n[2671 rows x 8 columns]",
      "text/html": "<div>\n<style scoped>\n    .dataframe tbody tr th:only-of-type {\n        vertical-align: middle;\n    }\n\n    .dataframe tbody tr th {\n        vertical-align: top;\n    }\n\n    .dataframe thead th {\n        text-align: right;\n    }\n</style>\n<table border=\"1\" class=\"dataframe\">\n  <thead>\n    <tr style=\"text-align: right;\">\n      <th></th>\n      <th>Name</th>\n      <th>Price</th>\n      <th>Description</th>\n      <th>Date</th>\n      <th>Concatenated_description</th>\n      <th>First_date</th>\n      <th>Days_passed</th>\n      <th>Days_passed_name</th>\n    </tr>\n  </thead>\n  <tbody>\n    <tr>\n      <th>0</th>\n      <td>iphone 11 64 jak nowy 95% gwarancja wyświetlacz</td>\n      <td>2799.0</td>\n      <td>jak nowy . kondycja baterii 95%. kupiony w med...</td>\n      <td>2021-02-22</td>\n      <td>iphone 11 64 jak nowy 95% gwarancja wyświetlac...</td>\n      <td>2021-01-01</td>\n      <td>52 days</td>\n      <td>52 days iphone 11 64 jak nowy 95% gwarancja wy...</td>\n    </tr>\n    <tr>\n      <th>1</th>\n      <td>iphone 11 64 gb czarny, idealny z gwarancją. w...</td>\n      <td>2700.0</td>\n      <td>witam! mam na sprzedaż iphone’a 11 w wersji 64...</td>\n      <td>2021-02-21</td>\n      <td>iphone 11 64 gb czarny, idealny z gwarancją. w...</td>\n      <td>2021-01-01</td>\n      <td>51 days</td>\n      <td>51 days iphone 11 64 gb czarny, idealny z gwar...</td>\n    </tr>\n    <tr>\n      <th>3</th>\n      <td>jak nowy apple iphone 11 256gbgb white gwarancja</td>\n      <td>2899.0</td>\n      <td>witaj.     jesteśmy sklepem - serwisem z 12 le...</td>\n      <td>2021-02-21</td>\n      <td>jak nowy apple iphone 11 256gbgb white gwaranc...</td>\n      <td>2021-01-01</td>\n      <td>51 days</td>\n      <td>51 days jak nowy apple iphone 11 256gbgb white...</td>\n    </tr>\n    <tr>\n      <th>4</th>\n      <td>apple iphone 11 biały 64gb - jak nowy gwarancj...</td>\n      <td>2500.0</td>\n      <td>sprzedam zakupiony w dniu 31.10.2020 w salonie...</td>\n      <td>2021-02-21</td>\n      <td>apple iphone 11 biały 64gb - jak nowy gwarancj...</td>\n      <td>2021-01-01</td>\n      <td>51 days</td>\n      <td>51 days apple iphone 11 biały 64gb - jak nowy ...</td>\n    </tr>\n    <tr>\n      <th>6</th>\n      <td>iphone 11 64 gb + gwarancja</td>\n      <td>2150.0</td>\n      <td>witam, mam na sprzedaż iphone 11 64gb biały. t...</td>\n      <td>2021-02-21</td>\n      <td>iphone 11 64 gb + gwarancja witam, mam na sprz...</td>\n      <td>2021-01-01</td>\n      <td>51 days</td>\n      <td>51 days iphone 11 64 gb + gwarancja</td>\n    </tr>\n    <tr>\n      <th>...</th>\n      <td>...</td>\n      <td>...</td>\n      <td>...</td>\n      <td>...</td>\n      <td>...</td>\n      <td>...</td>\n      <td>...</td>\n      <td>...</td>\n    </tr>\n    <tr>\n      <th>4636</th>\n      <td>iphone 11 black 64gb</td>\n      <td>2299.0</td>\n      <td>sprzedam iphone 11 64 gb kolor: czarny. satn i...</td>\n      <td>2021-02-21</td>\n      <td>iphone 11 black 64gb sprzedam iphone 11 64 gb ...</td>\n      <td>2021-01-01</td>\n      <td>51 days</td>\n      <td>51 days iphone 11 black 64gb</td>\n    </tr>\n    <tr>\n      <th>4637</th>\n      <td>i phone 11 64 gb cena tylko dzis</td>\n      <td>1900.0</td>\n      <td>cena tylko dzisiaj   na sprzedaż powiadam i ph...</td>\n      <td>2021-02-21</td>\n      <td>i phone 11 64 gb cena tylko dzis cena tylko dz...</td>\n      <td>2021-01-01</td>\n      <td>51 days</td>\n      <td>51 days i phone 11 64 gb cena tylko dzis</td>\n    </tr>\n    <tr>\n      <th>4639</th>\n      <td>iphone 11  128 gb gwarancja , 100% bateria</td>\n      <td>2800.0</td>\n      <td>sprzedam iphone 11 z pamięcią 128 gb . telefon...</td>\n      <td>2021-02-21</td>\n      <td>iphone 11  128 gb gwarancja , 100% bateria spr...</td>\n      <td>2021-01-01</td>\n      <td>51 days</td>\n      <td>51 days iphone 11  128 gb gwarancja , 100% bat...</td>\n    </tr>\n    <tr>\n      <th>4641</th>\n      <td>iphone 11 white 64gb</td>\n      <td>1650.0</td>\n      <td>na sprzedaż posiadam iphone 11 white o pojemno...</td>\n      <td>2021-02-20</td>\n      <td>iphone 11 white 64gb na sprzedaż posiadam ipho...</td>\n      <td>2021-01-01</td>\n      <td>50 days</td>\n      <td>50 days iphone 11 white 64gb</td>\n    </tr>\n    <tr>\n      <th>4644</th>\n      <td>apple iphone 11 bez simlocka cały komplet pols...</td>\n      <td>1700.0</td>\n      <td>sprzedam appld iphone 11 z polskiej dystrybucj...</td>\n      <td>2021-02-21</td>\n      <td>apple iphone 11 bez simlocka cały komplet pols...</td>\n      <td>2021-01-01</td>\n      <td>51 days</td>\n      <td>51 days apple iphone 11 bez simlocka cały komp...</td>\n    </tr>\n  </tbody>\n</table>\n<p>2671 rows × 8 columns</p>\n</div>"
     },
     "execution_count": 28,
     "metadata": {},
     "output_type": "execute_result"
    }
   ],
   "source": [
    "data_filtered"
   ],
   "metadata": {
    "collapsed": false
   }
  },
  {
   "cell_type": "code",
   "execution_count": 32,
   "outputs": [],
   "source": [
    "data_concatenated = data_filtered.drop(columns=['Name', 'Description', 'Date', 'First_date', 'Days_passed']).reset_index(drop=True)"
   ],
   "metadata": {
    "collapsed": false
   }
  },
  {
   "cell_type": "code",
   "execution_count": 33,
   "outputs": [
    {
     "data": {
      "text/plain": "       Price                           Concatenated_description  \\\n0     2799.0  iphone 11 64 jak nowy 95% gwarancja wyświetlac...   \n1     2700.0  iphone 11 64 gb czarny, idealny z gwarancją. w...   \n2     2899.0  jak nowy apple iphone 11 256gbgb white gwaranc...   \n3     2500.0  apple iphone 11 biały 64gb - jak nowy gwarancj...   \n4     2150.0  iphone 11 64 gb + gwarancja witam, mam na sprz...   \n...      ...                                                ...   \n2666  2299.0  iphone 11 black 64gb sprzedam iphone 11 64 gb ...   \n2667  1900.0  i phone 11 64 gb cena tylko dzis cena tylko dz...   \n2668  2800.0  iphone 11  128 gb gwarancja , 100% bateria spr...   \n2669  1650.0  iphone 11 white 64gb na sprzedaż posiadam ipho...   \n2670  1700.0  apple iphone 11 bez simlocka cały komplet pols...   \n\n                                       Days_passed_name  \n0     52 days iphone 11 64 jak nowy 95% gwarancja wy...  \n1     51 days iphone 11 64 gb czarny, idealny z gwar...  \n2     51 days jak nowy apple iphone 11 256gbgb white...  \n3     51 days apple iphone 11 biały 64gb - jak nowy ...  \n4                   51 days iphone 11 64 gb + gwarancja  \n...                                                 ...  \n2666                       51 days iphone 11 black 64gb  \n2667           51 days i phone 11 64 gb cena tylko dzis  \n2668  51 days iphone 11  128 gb gwarancja , 100% bat...  \n2669                       50 days iphone 11 white 64gb  \n2670  51 days apple iphone 11 bez simlocka cały komp...  \n\n[2671 rows x 3 columns]",
      "text/html": "<div>\n<style scoped>\n    .dataframe tbody tr th:only-of-type {\n        vertical-align: middle;\n    }\n\n    .dataframe tbody tr th {\n        vertical-align: top;\n    }\n\n    .dataframe thead th {\n        text-align: right;\n    }\n</style>\n<table border=\"1\" class=\"dataframe\">\n  <thead>\n    <tr style=\"text-align: right;\">\n      <th></th>\n      <th>Price</th>\n      <th>Concatenated_description</th>\n      <th>Days_passed_name</th>\n    </tr>\n  </thead>\n  <tbody>\n    <tr>\n      <th>0</th>\n      <td>2799.0</td>\n      <td>iphone 11 64 jak nowy 95% gwarancja wyświetlac...</td>\n      <td>52 days iphone 11 64 jak nowy 95% gwarancja wy...</td>\n    </tr>\n    <tr>\n      <th>1</th>\n      <td>2700.0</td>\n      <td>iphone 11 64 gb czarny, idealny z gwarancją. w...</td>\n      <td>51 days iphone 11 64 gb czarny, idealny z gwar...</td>\n    </tr>\n    <tr>\n      <th>2</th>\n      <td>2899.0</td>\n      <td>jak nowy apple iphone 11 256gbgb white gwaranc...</td>\n      <td>51 days jak nowy apple iphone 11 256gbgb white...</td>\n    </tr>\n    <tr>\n      <th>3</th>\n      <td>2500.0</td>\n      <td>apple iphone 11 biały 64gb - jak nowy gwarancj...</td>\n      <td>51 days apple iphone 11 biały 64gb - jak nowy ...</td>\n    </tr>\n    <tr>\n      <th>4</th>\n      <td>2150.0</td>\n      <td>iphone 11 64 gb + gwarancja witam, mam na sprz...</td>\n      <td>51 days iphone 11 64 gb + gwarancja</td>\n    </tr>\n    <tr>\n      <th>...</th>\n      <td>...</td>\n      <td>...</td>\n      <td>...</td>\n    </tr>\n    <tr>\n      <th>2666</th>\n      <td>2299.0</td>\n      <td>iphone 11 black 64gb sprzedam iphone 11 64 gb ...</td>\n      <td>51 days iphone 11 black 64gb</td>\n    </tr>\n    <tr>\n      <th>2667</th>\n      <td>1900.0</td>\n      <td>i phone 11 64 gb cena tylko dzis cena tylko dz...</td>\n      <td>51 days i phone 11 64 gb cena tylko dzis</td>\n    </tr>\n    <tr>\n      <th>2668</th>\n      <td>2800.0</td>\n      <td>iphone 11  128 gb gwarancja , 100% bateria spr...</td>\n      <td>51 days iphone 11  128 gb gwarancja , 100% bat...</td>\n    </tr>\n    <tr>\n      <th>2669</th>\n      <td>1650.0</td>\n      <td>iphone 11 white 64gb na sprzedaż posiadam ipho...</td>\n      <td>50 days iphone 11 white 64gb</td>\n    </tr>\n    <tr>\n      <th>2670</th>\n      <td>1700.0</td>\n      <td>apple iphone 11 bez simlocka cały komplet pols...</td>\n      <td>51 days apple iphone 11 bez simlocka cały komp...</td>\n    </tr>\n  </tbody>\n</table>\n<p>2671 rows × 3 columns</p>\n</div>"
     },
     "execution_count": 33,
     "metadata": {},
     "output_type": "execute_result"
    }
   ],
   "source": [
    "data_concatenated"
   ],
   "metadata": {
    "collapsed": false
   }
  },
  {
   "cell_type": "code",
   "execution_count": null,
   "outputs": [],
   "source": [],
   "metadata": {
    "collapsed": false
   }
  }
 ],
 "metadata": {
  "kernelspec": {
   "display_name": "Python 3",
   "language": "python",
   "name": "python3"
  },
  "language_info": {
   "codemirror_mode": {
    "name": "ipython",
    "version": 2
   },
   "file_extension": ".py",
   "mimetype": "text/x-python",
   "name": "python",
   "nbconvert_exporter": "python",
   "pygments_lexer": "ipython2",
   "version": "2.7.6"
  }
 },
 "nbformat": 4,
 "nbformat_minor": 0
}
