{
 "cells": [
  {
   "cell_type": "code",
   "execution_count": 2,
   "metadata": {
    "collapsed": true
   },
   "outputs": [],
   "source": [
    "import json\n",
    "import pickle\n",
    "\n",
    "import pandas as pd\n",
    "import plotly.express as px\n",
    "from transformers import AutoModelForSequenceClassification, AutoTokenizer, Trainer, TrainingArguments\n",
    "\n",
    "from util import compute_metrics, foresee\n",
    "\n",
    "data = json.load(open('../models/auto_model/days_name_20/checkpoints/checkpoint-540/trainer_state.json'))"
   ]
  },
  {
   "cell_type": "code",
   "execution_count": 14,
   "outputs": [],
   "source": [
    "mse = []\n",
    "mae = []\n",
    "rmse = []\n",
    "r2 = []\n",
    "for i in range(len(data['log_history'])):\n",
    "    mse.append(data['log_history'][i]['eval_mse'])  # scale this\n",
    "    mae.append(data['log_history'][i]['eval_mae'])  # scale this\n",
    "    rmse.append(data['log_history'][i]['eval_rmse'])  # scale this\n",
    "    r2.append(data['log_history'][i]['eval_r2'])"
   ],
   "metadata": {
    "collapsed": false
   }
  },
  {
   "cell_type": "code",
   "execution_count": 15,
   "outputs": [
    {
     "data": {
      "text/plain": "[{'epoch': 1.0,\n  'eval_loss': 0.4376451075077057,\n  'eval_mae': 0.4481404423713684,\n  'eval_mse': 0.4376451075077057,\n  'eval_r2': 0.49659382469155045,\n  'eval_rmse': 0.6615474820137024,\n  'eval_runtime': 27.8928,\n  'eval_samples_per_second': 15.344,\n  'eval_steps_per_second': 0.789,\n  'step': 27},\n {'epoch': 2.0,\n  'eval_loss': 0.41371819376945496,\n  'eval_mae': 0.4387667775154114,\n  'eval_mse': 0.41371819376945496,\n  'eval_r2': 0.5241160503153055,\n  'eval_rmse': 0.6432092785835266,\n  'eval_runtime': 27.0564,\n  'eval_samples_per_second': 15.819,\n  'eval_steps_per_second': 0.813,\n  'step': 54},\n {'epoch': 3.0,\n  'eval_loss': 0.4001479148864746,\n  'eval_mae': 0.4424608051776886,\n  'eval_mse': 0.4001479148864746,\n  'eval_r2': 0.5397253847925412,\n  'eval_rmse': 0.6325724720954895,\n  'eval_runtime': 27.7111,\n  'eval_samples_per_second': 15.445,\n  'eval_steps_per_second': 0.794,\n  'step': 81},\n {'epoch': 4.0,\n  'eval_loss': 0.4052346348762512,\n  'eval_mae': 0.4596848487854004,\n  'eval_mse': 0.4052346348762512,\n  'eval_r2': 0.5338742768764162,\n  'eval_rmse': 0.6365804076194763,\n  'eval_runtime': 27.6344,\n  'eval_samples_per_second': 15.488,\n  'eval_steps_per_second': 0.796,\n  'step': 108},\n {'epoch': 5.0,\n  'eval_loss': 0.3963388204574585,\n  'eval_mae': 0.43854793906211853,\n  'eval_mse': 0.3963387608528137,\n  'eval_r2': 0.5441068605607923,\n  'eval_rmse': 0.6295543909072876,\n  'eval_runtime': 27.4626,\n  'eval_samples_per_second': 15.585,\n  'eval_steps_per_second': 0.801,\n  'step': 135},\n {'epoch': 6.0,\n  'eval_loss': 0.4347822368144989,\n  'eval_mae': 0.45353248715400696,\n  'eval_mse': 0.4347821772098541,\n  'eval_r2': 0.49988692308484983,\n  'eval_rmse': 0.6593801379203796,\n  'eval_runtime': 27.5948,\n  'eval_samples_per_second': 15.51,\n  'eval_steps_per_second': 0.797,\n  'step': 162},\n {'epoch': 7.0,\n  'eval_loss': 0.40040773153305054,\n  'eval_mae': 0.43728023767471313,\n  'eval_mse': 0.40040773153305054,\n  'eval_r2': 0.539426537406317,\n  'eval_rmse': 0.6327778100967407,\n  'eval_runtime': 27.5493,\n  'eval_samples_per_second': 15.536,\n  'eval_steps_per_second': 0.799,\n  'step': 189},\n {'epoch': 8.0,\n  'eval_loss': 0.48520204424858093,\n  'eval_mae': 0.4818098545074463,\n  'eval_mse': 0.48520201444625854,\n  'eval_r2': 0.44189095483352814,\n  'eval_rmse': 0.6965644359588623,\n  'eval_runtime': 27.6607,\n  'eval_samples_per_second': 15.473,\n  'eval_steps_per_second': 0.795,\n  'step': 216},\n {'epoch': 9.0,\n  'eval_loss': 0.412564754486084,\n  'eval_mae': 0.43751248717308044,\n  'eval_mse': 0.41256478428840637,\n  'eval_r2': 0.5254427881050211,\n  'eval_rmse': 0.6423120498657227,\n  'eval_runtime': 27.6842,\n  'eval_samples_per_second': 15.46,\n  'eval_steps_per_second': 0.795,\n  'step': 243},\n {'epoch': 10.0,\n  'eval_loss': 0.4759281277656555,\n  'eval_mae': 0.48068395256996155,\n  'eval_mse': 0.4759281277656555,\n  'eval_r2': 0.45255838960744965,\n  'eval_rmse': 0.6898754239082336,\n  'eval_runtime': 27.656,\n  'eval_samples_per_second': 15.476,\n  'eval_steps_per_second': 0.795,\n  'step': 270},\n {'epoch': 11.0,\n  'eval_loss': 0.4601376950740814,\n  'eval_mae': 0.4677852690219879,\n  'eval_mse': 0.46013766527175903,\n  'eval_r2': 0.47072148743682873,\n  'eval_rmse': 0.6783344745635986,\n  'eval_runtime': 27.5449,\n  'eval_samples_per_second': 15.538,\n  'eval_steps_per_second': 0.799,\n  'step': 297},\n {'epoch': 12.0,\n  'eval_loss': 0.4506067931652069,\n  'eval_mae': 0.4598957598209381,\n  'eval_mse': 0.4506067931652069,\n  'eval_r2': 0.4816844830000496,\n  'eval_rmse': 0.6712725162506104,\n  'eval_runtime': 28.2324,\n  'eval_samples_per_second': 15.16,\n  'eval_steps_per_second': 0.779,\n  'step': 324},\n {'epoch': 13.0,\n  'eval_loss': 0.4685487151145935,\n  'eval_mae': 0.4647071957588196,\n  'eval_mse': 0.4685487151145935,\n  'eval_r2': 0.46104656842721325,\n  'eval_rmse': 0.6845061779022217,\n  'eval_runtime': 27.4457,\n  'eval_samples_per_second': 15.594,\n  'eval_steps_per_second': 0.802,\n  'step': 351},\n {'epoch': 14.0,\n  'eval_loss': 0.47314274311065674,\n  'eval_mae': 0.47141629457473755,\n  'eval_mse': 0.47314271330833435,\n  'eval_r2': 0.4557623151669923,\n  'eval_rmse': 0.6878536939620972,\n  'eval_runtime': 27.6646,\n  'eval_samples_per_second': 15.471,\n  'eval_steps_per_second': 0.795,\n  'step': 378},\n {'epoch': 15.0,\n  'eval_loss': 0.4805986285209656,\n  'eval_mae': 0.4817638099193573,\n  'eval_mse': 0.48059865832328796,\n  'eval_r2': 0.4471860501036452,\n  'eval_rmse': 0.6932522058486938,\n  'eval_runtime': 27.8925,\n  'eval_samples_per_second': 15.345,\n  'eval_steps_per_second': 0.789,\n  'step': 405},\n {'epoch': 16.0,\n  'eval_loss': 0.48511847853660583,\n  'eval_mae': 0.47862178087234497,\n  'eval_mse': 0.48511847853660583,\n  'eval_r2': 0.44198704322362303,\n  'eval_rmse': 0.6965044736862183,\n  'eval_runtime': 27.7749,\n  'eval_samples_per_second': 15.41,\n  'eval_steps_per_second': 0.792,\n  'step': 432},\n {'epoch': 17.0,\n  'eval_loss': 0.48515331745147705,\n  'eval_mae': 0.4792983829975128,\n  'eval_mse': 0.48515331745147705,\n  'eval_r2': 0.4419469858156717,\n  'eval_rmse': 0.6965295076370239,\n  'eval_runtime': 27.8731,\n  'eval_samples_per_second': 15.355,\n  'eval_steps_per_second': 0.789,\n  'step': 459},\n {'epoch': 18.0,\n  'eval_loss': 0.48806479573249817,\n  'eval_mae': 0.48091208934783936,\n  'eval_mse': 0.48806479573249817,\n  'eval_r2': 0.43859799938435606,\n  'eval_rmse': 0.6986163258552551,\n  'eval_runtime': 28.1778,\n  'eval_samples_per_second': 15.189,\n  'eval_steps_per_second': 0.781,\n  'step': 486},\n {'epoch': 19.0,\n  'eval_loss': 0.4937686026096344,\n  'eval_mae': 0.4844316840171814,\n  'eval_mse': 0.4937686324119568,\n  'eval_r2': 0.4320370959666291,\n  'eval_rmse': 0.7026867270469666,\n  'eval_runtime': 28.0913,\n  'eval_samples_per_second': 15.236,\n  'eval_steps_per_second': 0.783,\n  'step': 513},\n {'epoch': 20.0,\n  'eval_loss': 0.4943404197692871,\n  'eval_mae': 0.4805676341056824,\n  'eval_mse': 0.4943404197692871,\n  'eval_r2': 0.43137941443842975,\n  'eval_rmse': 0.7030934691429138,\n  'eval_runtime': 28.1247,\n  'eval_samples_per_second': 15.218,\n  'eval_steps_per_second': 0.782,\n  'step': 540}]"
     },
     "execution_count": 15,
     "metadata": {},
     "output_type": "execute_result"
    }
   ],
   "source": [
    "data['log_history']"
   ],
   "metadata": {
    "collapsed": false
   }
  },
  {
   "cell_type": "code",
   "execution_count": 17,
   "outputs": [],
   "source": [
    "dataframe = pd.DataFrame(mse, columns=['MSE'])\n",
    "dataframe['MAE'] = mae\n",
    "dataframe['RMSE'] = rmse\n",
    "dataframe['R2'] = r2"
   ],
   "metadata": {
    "collapsed": false
   }
  },
  {
   "cell_type": "code",
   "execution_count": 18,
   "outputs": [
    {
     "data": {
      "text/plain": "         MSE       MAE      RMSE        R2\n0   0.437645  0.448140  0.661547  0.496594\n1   0.413718  0.438767  0.643209  0.524116\n2   0.400148  0.442461  0.632572  0.539725\n3   0.405235  0.459685  0.636580  0.533874\n4   0.396339  0.438548  0.629554  0.544107\n5   0.434782  0.453532  0.659380  0.499887\n6   0.400408  0.437280  0.632778  0.539427\n7   0.485202  0.481810  0.696564  0.441891\n8   0.412565  0.437512  0.642312  0.525443\n9   0.475928  0.480684  0.689875  0.452558\n10  0.460138  0.467785  0.678334  0.470721\n11  0.450607  0.459896  0.671273  0.481684\n12  0.468549  0.464707  0.684506  0.461047\n13  0.473143  0.471416  0.687854  0.455762\n14  0.480599  0.481764  0.693252  0.447186\n15  0.485118  0.478622  0.696504  0.441987\n16  0.485153  0.479298  0.696530  0.441947\n17  0.488065  0.480912  0.698616  0.438598\n18  0.493769  0.484432  0.702687  0.432037\n19  0.494340  0.480568  0.703093  0.431379",
      "text/html": "<div>\n<style scoped>\n    .dataframe tbody tr th:only-of-type {\n        vertical-align: middle;\n    }\n\n    .dataframe tbody tr th {\n        vertical-align: top;\n    }\n\n    .dataframe thead th {\n        text-align: right;\n    }\n</style>\n<table border=\"1\" class=\"dataframe\">\n  <thead>\n    <tr style=\"text-align: right;\">\n      <th></th>\n      <th>MSE</th>\n      <th>MAE</th>\n      <th>RMSE</th>\n      <th>R2</th>\n    </tr>\n  </thead>\n  <tbody>\n    <tr>\n      <th>0</th>\n      <td>0.437645</td>\n      <td>0.448140</td>\n      <td>0.661547</td>\n      <td>0.496594</td>\n    </tr>\n    <tr>\n      <th>1</th>\n      <td>0.413718</td>\n      <td>0.438767</td>\n      <td>0.643209</td>\n      <td>0.524116</td>\n    </tr>\n    <tr>\n      <th>2</th>\n      <td>0.400148</td>\n      <td>0.442461</td>\n      <td>0.632572</td>\n      <td>0.539725</td>\n    </tr>\n    <tr>\n      <th>3</th>\n      <td>0.405235</td>\n      <td>0.459685</td>\n      <td>0.636580</td>\n      <td>0.533874</td>\n    </tr>\n    <tr>\n      <th>4</th>\n      <td>0.396339</td>\n      <td>0.438548</td>\n      <td>0.629554</td>\n      <td>0.544107</td>\n    </tr>\n    <tr>\n      <th>5</th>\n      <td>0.434782</td>\n      <td>0.453532</td>\n      <td>0.659380</td>\n      <td>0.499887</td>\n    </tr>\n    <tr>\n      <th>6</th>\n      <td>0.400408</td>\n      <td>0.437280</td>\n      <td>0.632778</td>\n      <td>0.539427</td>\n    </tr>\n    <tr>\n      <th>7</th>\n      <td>0.485202</td>\n      <td>0.481810</td>\n      <td>0.696564</td>\n      <td>0.441891</td>\n    </tr>\n    <tr>\n      <th>8</th>\n      <td>0.412565</td>\n      <td>0.437512</td>\n      <td>0.642312</td>\n      <td>0.525443</td>\n    </tr>\n    <tr>\n      <th>9</th>\n      <td>0.475928</td>\n      <td>0.480684</td>\n      <td>0.689875</td>\n      <td>0.452558</td>\n    </tr>\n    <tr>\n      <th>10</th>\n      <td>0.460138</td>\n      <td>0.467785</td>\n      <td>0.678334</td>\n      <td>0.470721</td>\n    </tr>\n    <tr>\n      <th>11</th>\n      <td>0.450607</td>\n      <td>0.459896</td>\n      <td>0.671273</td>\n      <td>0.481684</td>\n    </tr>\n    <tr>\n      <th>12</th>\n      <td>0.468549</td>\n      <td>0.464707</td>\n      <td>0.684506</td>\n      <td>0.461047</td>\n    </tr>\n    <tr>\n      <th>13</th>\n      <td>0.473143</td>\n      <td>0.471416</td>\n      <td>0.687854</td>\n      <td>0.455762</td>\n    </tr>\n    <tr>\n      <th>14</th>\n      <td>0.480599</td>\n      <td>0.481764</td>\n      <td>0.693252</td>\n      <td>0.447186</td>\n    </tr>\n    <tr>\n      <th>15</th>\n      <td>0.485118</td>\n      <td>0.478622</td>\n      <td>0.696504</td>\n      <td>0.441987</td>\n    </tr>\n    <tr>\n      <th>16</th>\n      <td>0.485153</td>\n      <td>0.479298</td>\n      <td>0.696530</td>\n      <td>0.441947</td>\n    </tr>\n    <tr>\n      <th>17</th>\n      <td>0.488065</td>\n      <td>0.480912</td>\n      <td>0.698616</td>\n      <td>0.438598</td>\n    </tr>\n    <tr>\n      <th>18</th>\n      <td>0.493769</td>\n      <td>0.484432</td>\n      <td>0.702687</td>\n      <td>0.432037</td>\n    </tr>\n    <tr>\n      <th>19</th>\n      <td>0.494340</td>\n      <td>0.480568</td>\n      <td>0.703093</td>\n      <td>0.431379</td>\n    </tr>\n  </tbody>\n</table>\n</div>"
     },
     "execution_count": 18,
     "metadata": {},
     "output_type": "execute_result"
    }
   ],
   "source": [
    "dataframe"
   ],
   "metadata": {
    "collapsed": false
   }
  },
  {
   "cell_type": "code",
   "execution_count": 19,
   "outputs": [
    {
     "data": {
      "application/vnd.plotly.v1+json": {
       "data": [
        {
         "hovertemplate": "variable=MSE<br>index=%{x}<br>value=%{y}<extra></extra>",
         "legendgroup": "MSE",
         "line": {
          "color": "#636efa",
          "dash": "solid"
         },
         "marker": {
          "symbol": "circle"
         },
         "mode": "lines",
         "name": "MSE",
         "orientation": "v",
         "showlegend": true,
         "x": [
          0,
          1,
          2,
          3,
          4,
          5,
          6,
          7,
          8,
          9,
          10,
          11,
          12,
          13,
          14,
          15,
          16,
          17,
          18,
          19
         ],
         "xaxis": "x",
         "y": [
          0.4376451075077057,
          0.41371819376945496,
          0.4001479148864746,
          0.4052346348762512,
          0.3963387608528137,
          0.4347821772098541,
          0.40040773153305054,
          0.48520201444625854,
          0.41256478428840637,
          0.4759281277656555,
          0.46013766527175903,
          0.4506067931652069,
          0.4685487151145935,
          0.47314271330833435,
          0.48059865832328796,
          0.48511847853660583,
          0.48515331745147705,
          0.48806479573249817,
          0.4937686324119568,
          0.4943404197692871
         ],
         "yaxis": "y",
         "type": "scatter"
        },
        {
         "hovertemplate": "variable=MAE<br>index=%{x}<br>value=%{y}<extra></extra>",
         "legendgroup": "MAE",
         "line": {
          "color": "#EF553B",
          "dash": "solid"
         },
         "marker": {
          "symbol": "circle"
         },
         "mode": "lines",
         "name": "MAE",
         "orientation": "v",
         "showlegend": true,
         "x": [
          0,
          1,
          2,
          3,
          4,
          5,
          6,
          7,
          8,
          9,
          10,
          11,
          12,
          13,
          14,
          15,
          16,
          17,
          18,
          19
         ],
         "xaxis": "x",
         "y": [
          0.4481404423713684,
          0.4387667775154114,
          0.4424608051776886,
          0.4596848487854004,
          0.43854793906211853,
          0.45353248715400696,
          0.43728023767471313,
          0.4818098545074463,
          0.43751248717308044,
          0.48068395256996155,
          0.4677852690219879,
          0.4598957598209381,
          0.4647071957588196,
          0.47141629457473755,
          0.4817638099193573,
          0.47862178087234497,
          0.4792983829975128,
          0.48091208934783936,
          0.4844316840171814,
          0.4805676341056824
         ],
         "yaxis": "y",
         "type": "scatter"
        },
        {
         "hovertemplate": "variable=RMSE<br>index=%{x}<br>value=%{y}<extra></extra>",
         "legendgroup": "RMSE",
         "line": {
          "color": "#00cc96",
          "dash": "solid"
         },
         "marker": {
          "symbol": "circle"
         },
         "mode": "lines",
         "name": "RMSE",
         "orientation": "v",
         "showlegend": true,
         "x": [
          0,
          1,
          2,
          3,
          4,
          5,
          6,
          7,
          8,
          9,
          10,
          11,
          12,
          13,
          14,
          15,
          16,
          17,
          18,
          19
         ],
         "xaxis": "x",
         "y": [
          0.6615474820137024,
          0.6432092785835266,
          0.6325724720954895,
          0.6365804076194763,
          0.6295543909072876,
          0.6593801379203796,
          0.6327778100967407,
          0.6965644359588623,
          0.6423120498657227,
          0.6898754239082336,
          0.6783344745635986,
          0.6712725162506104,
          0.6845061779022217,
          0.6878536939620972,
          0.6932522058486938,
          0.6965044736862183,
          0.6965295076370239,
          0.6986163258552551,
          0.7026867270469666,
          0.7030934691429138
         ],
         "yaxis": "y",
         "type": "scatter"
        },
        {
         "hovertemplate": "variable=R2<br>index=%{x}<br>value=%{y}<extra></extra>",
         "legendgroup": "R2",
         "line": {
          "color": "#ab63fa",
          "dash": "solid"
         },
         "marker": {
          "symbol": "circle"
         },
         "mode": "lines",
         "name": "R2",
         "orientation": "v",
         "showlegend": true,
         "x": [
          0,
          1,
          2,
          3,
          4,
          5,
          6,
          7,
          8,
          9,
          10,
          11,
          12,
          13,
          14,
          15,
          16,
          17,
          18,
          19
         ],
         "xaxis": "x",
         "y": [
          0.49659382469155045,
          0.5241160503153055,
          0.5397253847925412,
          0.5338742768764162,
          0.5441068605607923,
          0.49988692308484983,
          0.539426537406317,
          0.44189095483352814,
          0.5254427881050211,
          0.45255838960744965,
          0.47072148743682873,
          0.4816844830000496,
          0.46104656842721325,
          0.4557623151669923,
          0.4471860501036452,
          0.44198704322362303,
          0.4419469858156717,
          0.43859799938435606,
          0.4320370959666291,
          0.43137941443842975
         ],
         "yaxis": "y",
         "type": "scatter"
        }
       ],
       "layout": {
        "template": {
         "data": {
          "histogram2dcontour": [
           {
            "type": "histogram2dcontour",
            "colorbar": {
             "outlinewidth": 0,
             "ticks": ""
            },
            "colorscale": [
             [
              0.0,
              "#0d0887"
             ],
             [
              0.1111111111111111,
              "#46039f"
             ],
             [
              0.2222222222222222,
              "#7201a8"
             ],
             [
              0.3333333333333333,
              "#9c179e"
             ],
             [
              0.4444444444444444,
              "#bd3786"
             ],
             [
              0.5555555555555556,
              "#d8576b"
             ],
             [
              0.6666666666666666,
              "#ed7953"
             ],
             [
              0.7777777777777778,
              "#fb9f3a"
             ],
             [
              0.8888888888888888,
              "#fdca26"
             ],
             [
              1.0,
              "#f0f921"
             ]
            ]
           }
          ],
          "choropleth": [
           {
            "type": "choropleth",
            "colorbar": {
             "outlinewidth": 0,
             "ticks": ""
            }
           }
          ],
          "histogram2d": [
           {
            "type": "histogram2d",
            "colorbar": {
             "outlinewidth": 0,
             "ticks": ""
            },
            "colorscale": [
             [
              0.0,
              "#0d0887"
             ],
             [
              0.1111111111111111,
              "#46039f"
             ],
             [
              0.2222222222222222,
              "#7201a8"
             ],
             [
              0.3333333333333333,
              "#9c179e"
             ],
             [
              0.4444444444444444,
              "#bd3786"
             ],
             [
              0.5555555555555556,
              "#d8576b"
             ],
             [
              0.6666666666666666,
              "#ed7953"
             ],
             [
              0.7777777777777778,
              "#fb9f3a"
             ],
             [
              0.8888888888888888,
              "#fdca26"
             ],
             [
              1.0,
              "#f0f921"
             ]
            ]
           }
          ],
          "heatmap": [
           {
            "type": "heatmap",
            "colorbar": {
             "outlinewidth": 0,
             "ticks": ""
            },
            "colorscale": [
             [
              0.0,
              "#0d0887"
             ],
             [
              0.1111111111111111,
              "#46039f"
             ],
             [
              0.2222222222222222,
              "#7201a8"
             ],
             [
              0.3333333333333333,
              "#9c179e"
             ],
             [
              0.4444444444444444,
              "#bd3786"
             ],
             [
              0.5555555555555556,
              "#d8576b"
             ],
             [
              0.6666666666666666,
              "#ed7953"
             ],
             [
              0.7777777777777778,
              "#fb9f3a"
             ],
             [
              0.8888888888888888,
              "#fdca26"
             ],
             [
              1.0,
              "#f0f921"
             ]
            ]
           }
          ],
          "heatmapgl": [
           {
            "type": "heatmapgl",
            "colorbar": {
             "outlinewidth": 0,
             "ticks": ""
            },
            "colorscale": [
             [
              0.0,
              "#0d0887"
             ],
             [
              0.1111111111111111,
              "#46039f"
             ],
             [
              0.2222222222222222,
              "#7201a8"
             ],
             [
              0.3333333333333333,
              "#9c179e"
             ],
             [
              0.4444444444444444,
              "#bd3786"
             ],
             [
              0.5555555555555556,
              "#d8576b"
             ],
             [
              0.6666666666666666,
              "#ed7953"
             ],
             [
              0.7777777777777778,
              "#fb9f3a"
             ],
             [
              0.8888888888888888,
              "#fdca26"
             ],
             [
              1.0,
              "#f0f921"
             ]
            ]
           }
          ],
          "contourcarpet": [
           {
            "type": "contourcarpet",
            "colorbar": {
             "outlinewidth": 0,
             "ticks": ""
            }
           }
          ],
          "contour": [
           {
            "type": "contour",
            "colorbar": {
             "outlinewidth": 0,
             "ticks": ""
            },
            "colorscale": [
             [
              0.0,
              "#0d0887"
             ],
             [
              0.1111111111111111,
              "#46039f"
             ],
             [
              0.2222222222222222,
              "#7201a8"
             ],
             [
              0.3333333333333333,
              "#9c179e"
             ],
             [
              0.4444444444444444,
              "#bd3786"
             ],
             [
              0.5555555555555556,
              "#d8576b"
             ],
             [
              0.6666666666666666,
              "#ed7953"
             ],
             [
              0.7777777777777778,
              "#fb9f3a"
             ],
             [
              0.8888888888888888,
              "#fdca26"
             ],
             [
              1.0,
              "#f0f921"
             ]
            ]
           }
          ],
          "surface": [
           {
            "type": "surface",
            "colorbar": {
             "outlinewidth": 0,
             "ticks": ""
            },
            "colorscale": [
             [
              0.0,
              "#0d0887"
             ],
             [
              0.1111111111111111,
              "#46039f"
             ],
             [
              0.2222222222222222,
              "#7201a8"
             ],
             [
              0.3333333333333333,
              "#9c179e"
             ],
             [
              0.4444444444444444,
              "#bd3786"
             ],
             [
              0.5555555555555556,
              "#d8576b"
             ],
             [
              0.6666666666666666,
              "#ed7953"
             ],
             [
              0.7777777777777778,
              "#fb9f3a"
             ],
             [
              0.8888888888888888,
              "#fdca26"
             ],
             [
              1.0,
              "#f0f921"
             ]
            ]
           }
          ],
          "mesh3d": [
           {
            "type": "mesh3d",
            "colorbar": {
             "outlinewidth": 0,
             "ticks": ""
            }
           }
          ],
          "scatter": [
           {
            "fillpattern": {
             "fillmode": "overlay",
             "size": 10,
             "solidity": 0.2
            },
            "type": "scatter"
           }
          ],
          "parcoords": [
           {
            "type": "parcoords",
            "line": {
             "colorbar": {
              "outlinewidth": 0,
              "ticks": ""
             }
            }
           }
          ],
          "scatterpolargl": [
           {
            "type": "scatterpolargl",
            "marker": {
             "colorbar": {
              "outlinewidth": 0,
              "ticks": ""
             }
            }
           }
          ],
          "bar": [
           {
            "error_x": {
             "color": "#2a3f5f"
            },
            "error_y": {
             "color": "#2a3f5f"
            },
            "marker": {
             "line": {
              "color": "#E5ECF6",
              "width": 0.5
             },
             "pattern": {
              "fillmode": "overlay",
              "size": 10,
              "solidity": 0.2
             }
            },
            "type": "bar"
           }
          ],
          "scattergeo": [
           {
            "type": "scattergeo",
            "marker": {
             "colorbar": {
              "outlinewidth": 0,
              "ticks": ""
             }
            }
           }
          ],
          "scatterpolar": [
           {
            "type": "scatterpolar",
            "marker": {
             "colorbar": {
              "outlinewidth": 0,
              "ticks": ""
             }
            }
           }
          ],
          "histogram": [
           {
            "marker": {
             "pattern": {
              "fillmode": "overlay",
              "size": 10,
              "solidity": 0.2
             }
            },
            "type": "histogram"
           }
          ],
          "scattergl": [
           {
            "type": "scattergl",
            "marker": {
             "colorbar": {
              "outlinewidth": 0,
              "ticks": ""
             }
            }
           }
          ],
          "scatter3d": [
           {
            "type": "scatter3d",
            "line": {
             "colorbar": {
              "outlinewidth": 0,
              "ticks": ""
             }
            },
            "marker": {
             "colorbar": {
              "outlinewidth": 0,
              "ticks": ""
             }
            }
           }
          ],
          "scattermapbox": [
           {
            "type": "scattermapbox",
            "marker": {
             "colorbar": {
              "outlinewidth": 0,
              "ticks": ""
             }
            }
           }
          ],
          "scatterternary": [
           {
            "type": "scatterternary",
            "marker": {
             "colorbar": {
              "outlinewidth": 0,
              "ticks": ""
             }
            }
           }
          ],
          "scattercarpet": [
           {
            "type": "scattercarpet",
            "marker": {
             "colorbar": {
              "outlinewidth": 0,
              "ticks": ""
             }
            }
           }
          ],
          "carpet": [
           {
            "aaxis": {
             "endlinecolor": "#2a3f5f",
             "gridcolor": "white",
             "linecolor": "white",
             "minorgridcolor": "white",
             "startlinecolor": "#2a3f5f"
            },
            "baxis": {
             "endlinecolor": "#2a3f5f",
             "gridcolor": "white",
             "linecolor": "white",
             "minorgridcolor": "white",
             "startlinecolor": "#2a3f5f"
            },
            "type": "carpet"
           }
          ],
          "table": [
           {
            "cells": {
             "fill": {
              "color": "#EBF0F8"
             },
             "line": {
              "color": "white"
             }
            },
            "header": {
             "fill": {
              "color": "#C8D4E3"
             },
             "line": {
              "color": "white"
             }
            },
            "type": "table"
           }
          ],
          "barpolar": [
           {
            "marker": {
             "line": {
              "color": "#E5ECF6",
              "width": 0.5
             },
             "pattern": {
              "fillmode": "overlay",
              "size": 10,
              "solidity": 0.2
             }
            },
            "type": "barpolar"
           }
          ],
          "pie": [
           {
            "automargin": true,
            "type": "pie"
           }
          ]
         },
         "layout": {
          "autotypenumbers": "strict",
          "colorway": [
           "#636efa",
           "#EF553B",
           "#00cc96",
           "#ab63fa",
           "#FFA15A",
           "#19d3f3",
           "#FF6692",
           "#B6E880",
           "#FF97FF",
           "#FECB52"
          ],
          "font": {
           "color": "#2a3f5f"
          },
          "hovermode": "closest",
          "hoverlabel": {
           "align": "left"
          },
          "paper_bgcolor": "white",
          "plot_bgcolor": "#E5ECF6",
          "polar": {
           "bgcolor": "#E5ECF6",
           "angularaxis": {
            "gridcolor": "white",
            "linecolor": "white",
            "ticks": ""
           },
           "radialaxis": {
            "gridcolor": "white",
            "linecolor": "white",
            "ticks": ""
           }
          },
          "ternary": {
           "bgcolor": "#E5ECF6",
           "aaxis": {
            "gridcolor": "white",
            "linecolor": "white",
            "ticks": ""
           },
           "baxis": {
            "gridcolor": "white",
            "linecolor": "white",
            "ticks": ""
           },
           "caxis": {
            "gridcolor": "white",
            "linecolor": "white",
            "ticks": ""
           }
          },
          "coloraxis": {
           "colorbar": {
            "outlinewidth": 0,
            "ticks": ""
           }
          },
          "colorscale": {
           "sequential": [
            [
             0.0,
             "#0d0887"
            ],
            [
             0.1111111111111111,
             "#46039f"
            ],
            [
             0.2222222222222222,
             "#7201a8"
            ],
            [
             0.3333333333333333,
             "#9c179e"
            ],
            [
             0.4444444444444444,
             "#bd3786"
            ],
            [
             0.5555555555555556,
             "#d8576b"
            ],
            [
             0.6666666666666666,
             "#ed7953"
            ],
            [
             0.7777777777777778,
             "#fb9f3a"
            ],
            [
             0.8888888888888888,
             "#fdca26"
            ],
            [
             1.0,
             "#f0f921"
            ]
           ],
           "sequentialminus": [
            [
             0.0,
             "#0d0887"
            ],
            [
             0.1111111111111111,
             "#46039f"
            ],
            [
             0.2222222222222222,
             "#7201a8"
            ],
            [
             0.3333333333333333,
             "#9c179e"
            ],
            [
             0.4444444444444444,
             "#bd3786"
            ],
            [
             0.5555555555555556,
             "#d8576b"
            ],
            [
             0.6666666666666666,
             "#ed7953"
            ],
            [
             0.7777777777777778,
             "#fb9f3a"
            ],
            [
             0.8888888888888888,
             "#fdca26"
            ],
            [
             1.0,
             "#f0f921"
            ]
           ],
           "diverging": [
            [
             0,
             "#8e0152"
            ],
            [
             0.1,
             "#c51b7d"
            ],
            [
             0.2,
             "#de77ae"
            ],
            [
             0.3,
             "#f1b6da"
            ],
            [
             0.4,
             "#fde0ef"
            ],
            [
             0.5,
             "#f7f7f7"
            ],
            [
             0.6,
             "#e6f5d0"
            ],
            [
             0.7,
             "#b8e186"
            ],
            [
             0.8,
             "#7fbc41"
            ],
            [
             0.9,
             "#4d9221"
            ],
            [
             1,
             "#276419"
            ]
           ]
          },
          "xaxis": {
           "gridcolor": "white",
           "linecolor": "white",
           "ticks": "",
           "title": {
            "standoff": 15
           },
           "zerolinecolor": "white",
           "automargin": true,
           "zerolinewidth": 2
          },
          "yaxis": {
           "gridcolor": "white",
           "linecolor": "white",
           "ticks": "",
           "title": {
            "standoff": 15
           },
           "zerolinecolor": "white",
           "automargin": true,
           "zerolinewidth": 2
          },
          "scene": {
           "xaxis": {
            "backgroundcolor": "#E5ECF6",
            "gridcolor": "white",
            "linecolor": "white",
            "showbackground": true,
            "ticks": "",
            "zerolinecolor": "white",
            "gridwidth": 2
           },
           "yaxis": {
            "backgroundcolor": "#E5ECF6",
            "gridcolor": "white",
            "linecolor": "white",
            "showbackground": true,
            "ticks": "",
            "zerolinecolor": "white",
            "gridwidth": 2
           },
           "zaxis": {
            "backgroundcolor": "#E5ECF6",
            "gridcolor": "white",
            "linecolor": "white",
            "showbackground": true,
            "ticks": "",
            "zerolinecolor": "white",
            "gridwidth": 2
           }
          },
          "shapedefaults": {
           "line": {
            "color": "#2a3f5f"
           }
          },
          "annotationdefaults": {
           "arrowcolor": "#2a3f5f",
           "arrowhead": 0,
           "arrowwidth": 1
          },
          "geo": {
           "bgcolor": "white",
           "landcolor": "#E5ECF6",
           "subunitcolor": "white",
           "showland": true,
           "showlakes": true,
           "lakecolor": "white"
          },
          "title": {
           "x": 0.05
          },
          "mapbox": {
           "style": "light"
          }
         }
        },
        "xaxis": {
         "anchor": "y",
         "domain": [
          0.0,
          1.0
         ],
         "title": {
          "text": "index"
         }
        },
        "yaxis": {
         "anchor": "x",
         "domain": [
          0.0,
          1.0
         ],
         "title": {
          "text": "value"
         }
        },
        "legend": {
         "title": {
          "text": "variable"
         },
         "tracegroupgap": 0
        },
        "margin": {
         "t": 60
        }
       },
       "config": {
        "plotlyServerURL": "https://plot.ly"
       }
      },
      "text/html": "<div>                            <div id=\"e5e80b2d-b9e1-4de7-9522-9428087436ce\" class=\"plotly-graph-div\" style=\"height:525px; width:100%;\"></div>            <script type=\"text/javascript\">                require([\"plotly\"], function(Plotly) {                    window.PLOTLYENV=window.PLOTLYENV || {};                                    if (document.getElementById(\"e5e80b2d-b9e1-4de7-9522-9428087436ce\")) {                    Plotly.newPlot(                        \"e5e80b2d-b9e1-4de7-9522-9428087436ce\",                        [{\"hovertemplate\":\"variable=MSE<br>index=%{x}<br>value=%{y}<extra></extra>\",\"legendgroup\":\"MSE\",\"line\":{\"color\":\"#636efa\",\"dash\":\"solid\"},\"marker\":{\"symbol\":\"circle\"},\"mode\":\"lines\",\"name\":\"MSE\",\"orientation\":\"v\",\"showlegend\":true,\"x\":[0,1,2,3,4,5,6,7,8,9,10,11,12,13,14,15,16,17,18,19],\"xaxis\":\"x\",\"y\":[0.4376451075077057,0.41371819376945496,0.4001479148864746,0.4052346348762512,0.3963387608528137,0.4347821772098541,0.40040773153305054,0.48520201444625854,0.41256478428840637,0.4759281277656555,0.46013766527175903,0.4506067931652069,0.4685487151145935,0.47314271330833435,0.48059865832328796,0.48511847853660583,0.48515331745147705,0.48806479573249817,0.4937686324119568,0.4943404197692871],\"yaxis\":\"y\",\"type\":\"scatter\"},{\"hovertemplate\":\"variable=MAE<br>index=%{x}<br>value=%{y}<extra></extra>\",\"legendgroup\":\"MAE\",\"line\":{\"color\":\"#EF553B\",\"dash\":\"solid\"},\"marker\":{\"symbol\":\"circle\"},\"mode\":\"lines\",\"name\":\"MAE\",\"orientation\":\"v\",\"showlegend\":true,\"x\":[0,1,2,3,4,5,6,7,8,9,10,11,12,13,14,15,16,17,18,19],\"xaxis\":\"x\",\"y\":[0.4481404423713684,0.4387667775154114,0.4424608051776886,0.4596848487854004,0.43854793906211853,0.45353248715400696,0.43728023767471313,0.4818098545074463,0.43751248717308044,0.48068395256996155,0.4677852690219879,0.4598957598209381,0.4647071957588196,0.47141629457473755,0.4817638099193573,0.47862178087234497,0.4792983829975128,0.48091208934783936,0.4844316840171814,0.4805676341056824],\"yaxis\":\"y\",\"type\":\"scatter\"},{\"hovertemplate\":\"variable=RMSE<br>index=%{x}<br>value=%{y}<extra></extra>\",\"legendgroup\":\"RMSE\",\"line\":{\"color\":\"#00cc96\",\"dash\":\"solid\"},\"marker\":{\"symbol\":\"circle\"},\"mode\":\"lines\",\"name\":\"RMSE\",\"orientation\":\"v\",\"showlegend\":true,\"x\":[0,1,2,3,4,5,6,7,8,9,10,11,12,13,14,15,16,17,18,19],\"xaxis\":\"x\",\"y\":[0.6615474820137024,0.6432092785835266,0.6325724720954895,0.6365804076194763,0.6295543909072876,0.6593801379203796,0.6327778100967407,0.6965644359588623,0.6423120498657227,0.6898754239082336,0.6783344745635986,0.6712725162506104,0.6845061779022217,0.6878536939620972,0.6932522058486938,0.6965044736862183,0.6965295076370239,0.6986163258552551,0.7026867270469666,0.7030934691429138],\"yaxis\":\"y\",\"type\":\"scatter\"},{\"hovertemplate\":\"variable=R2<br>index=%{x}<br>value=%{y}<extra></extra>\",\"legendgroup\":\"R2\",\"line\":{\"color\":\"#ab63fa\",\"dash\":\"solid\"},\"marker\":{\"symbol\":\"circle\"},\"mode\":\"lines\",\"name\":\"R2\",\"orientation\":\"v\",\"showlegend\":true,\"x\":[0,1,2,3,4,5,6,7,8,9,10,11,12,13,14,15,16,17,18,19],\"xaxis\":\"x\",\"y\":[0.49659382469155045,0.5241160503153055,0.5397253847925412,0.5338742768764162,0.5441068605607923,0.49988692308484983,0.539426537406317,0.44189095483352814,0.5254427881050211,0.45255838960744965,0.47072148743682873,0.4816844830000496,0.46104656842721325,0.4557623151669923,0.4471860501036452,0.44198704322362303,0.4419469858156717,0.43859799938435606,0.4320370959666291,0.43137941443842975],\"yaxis\":\"y\",\"type\":\"scatter\"}],                        {\"template\":{\"data\":{\"histogram2dcontour\":[{\"type\":\"histogram2dcontour\",\"colorbar\":{\"outlinewidth\":0,\"ticks\":\"\"},\"colorscale\":[[0.0,\"#0d0887\"],[0.1111111111111111,\"#46039f\"],[0.2222222222222222,\"#7201a8\"],[0.3333333333333333,\"#9c179e\"],[0.4444444444444444,\"#bd3786\"],[0.5555555555555556,\"#d8576b\"],[0.6666666666666666,\"#ed7953\"],[0.7777777777777778,\"#fb9f3a\"],[0.8888888888888888,\"#fdca26\"],[1.0,\"#f0f921\"]]}],\"choropleth\":[{\"type\":\"choropleth\",\"colorbar\":{\"outlinewidth\":0,\"ticks\":\"\"}}],\"histogram2d\":[{\"type\":\"histogram2d\",\"colorbar\":{\"outlinewidth\":0,\"ticks\":\"\"},\"colorscale\":[[0.0,\"#0d0887\"],[0.1111111111111111,\"#46039f\"],[0.2222222222222222,\"#7201a8\"],[0.3333333333333333,\"#9c179e\"],[0.4444444444444444,\"#bd3786\"],[0.5555555555555556,\"#d8576b\"],[0.6666666666666666,\"#ed7953\"],[0.7777777777777778,\"#fb9f3a\"],[0.8888888888888888,\"#fdca26\"],[1.0,\"#f0f921\"]]}],\"heatmap\":[{\"type\":\"heatmap\",\"colorbar\":{\"outlinewidth\":0,\"ticks\":\"\"},\"colorscale\":[[0.0,\"#0d0887\"],[0.1111111111111111,\"#46039f\"],[0.2222222222222222,\"#7201a8\"],[0.3333333333333333,\"#9c179e\"],[0.4444444444444444,\"#bd3786\"],[0.5555555555555556,\"#d8576b\"],[0.6666666666666666,\"#ed7953\"],[0.7777777777777778,\"#fb9f3a\"],[0.8888888888888888,\"#fdca26\"],[1.0,\"#f0f921\"]]}],\"heatmapgl\":[{\"type\":\"heatmapgl\",\"colorbar\":{\"outlinewidth\":0,\"ticks\":\"\"},\"colorscale\":[[0.0,\"#0d0887\"],[0.1111111111111111,\"#46039f\"],[0.2222222222222222,\"#7201a8\"],[0.3333333333333333,\"#9c179e\"],[0.4444444444444444,\"#bd3786\"],[0.5555555555555556,\"#d8576b\"],[0.6666666666666666,\"#ed7953\"],[0.7777777777777778,\"#fb9f3a\"],[0.8888888888888888,\"#fdca26\"],[1.0,\"#f0f921\"]]}],\"contourcarpet\":[{\"type\":\"contourcarpet\",\"colorbar\":{\"outlinewidth\":0,\"ticks\":\"\"}}],\"contour\":[{\"type\":\"contour\",\"colorbar\":{\"outlinewidth\":0,\"ticks\":\"\"},\"colorscale\":[[0.0,\"#0d0887\"],[0.1111111111111111,\"#46039f\"],[0.2222222222222222,\"#7201a8\"],[0.3333333333333333,\"#9c179e\"],[0.4444444444444444,\"#bd3786\"],[0.5555555555555556,\"#d8576b\"],[0.6666666666666666,\"#ed7953\"],[0.7777777777777778,\"#fb9f3a\"],[0.8888888888888888,\"#fdca26\"],[1.0,\"#f0f921\"]]}],\"surface\":[{\"type\":\"surface\",\"colorbar\":{\"outlinewidth\":0,\"ticks\":\"\"},\"colorscale\":[[0.0,\"#0d0887\"],[0.1111111111111111,\"#46039f\"],[0.2222222222222222,\"#7201a8\"],[0.3333333333333333,\"#9c179e\"],[0.4444444444444444,\"#bd3786\"],[0.5555555555555556,\"#d8576b\"],[0.6666666666666666,\"#ed7953\"],[0.7777777777777778,\"#fb9f3a\"],[0.8888888888888888,\"#fdca26\"],[1.0,\"#f0f921\"]]}],\"mesh3d\":[{\"type\":\"mesh3d\",\"colorbar\":{\"outlinewidth\":0,\"ticks\":\"\"}}],\"scatter\":[{\"fillpattern\":{\"fillmode\":\"overlay\",\"size\":10,\"solidity\":0.2},\"type\":\"scatter\"}],\"parcoords\":[{\"type\":\"parcoords\",\"line\":{\"colorbar\":{\"outlinewidth\":0,\"ticks\":\"\"}}}],\"scatterpolargl\":[{\"type\":\"scatterpolargl\",\"marker\":{\"colorbar\":{\"outlinewidth\":0,\"ticks\":\"\"}}}],\"bar\":[{\"error_x\":{\"color\":\"#2a3f5f\"},\"error_y\":{\"color\":\"#2a3f5f\"},\"marker\":{\"line\":{\"color\":\"#E5ECF6\",\"width\":0.5},\"pattern\":{\"fillmode\":\"overlay\",\"size\":10,\"solidity\":0.2}},\"type\":\"bar\"}],\"scattergeo\":[{\"type\":\"scattergeo\",\"marker\":{\"colorbar\":{\"outlinewidth\":0,\"ticks\":\"\"}}}],\"scatterpolar\":[{\"type\":\"scatterpolar\",\"marker\":{\"colorbar\":{\"outlinewidth\":0,\"ticks\":\"\"}}}],\"histogram\":[{\"marker\":{\"pattern\":{\"fillmode\":\"overlay\",\"size\":10,\"solidity\":0.2}},\"type\":\"histogram\"}],\"scattergl\":[{\"type\":\"scattergl\",\"marker\":{\"colorbar\":{\"outlinewidth\":0,\"ticks\":\"\"}}}],\"scatter3d\":[{\"type\":\"scatter3d\",\"line\":{\"colorbar\":{\"outlinewidth\":0,\"ticks\":\"\"}},\"marker\":{\"colorbar\":{\"outlinewidth\":0,\"ticks\":\"\"}}}],\"scattermapbox\":[{\"type\":\"scattermapbox\",\"marker\":{\"colorbar\":{\"outlinewidth\":0,\"ticks\":\"\"}}}],\"scatterternary\":[{\"type\":\"scatterternary\",\"marker\":{\"colorbar\":{\"outlinewidth\":0,\"ticks\":\"\"}}}],\"scattercarpet\":[{\"type\":\"scattercarpet\",\"marker\":{\"colorbar\":{\"outlinewidth\":0,\"ticks\":\"\"}}}],\"carpet\":[{\"aaxis\":{\"endlinecolor\":\"#2a3f5f\",\"gridcolor\":\"white\",\"linecolor\":\"white\",\"minorgridcolor\":\"white\",\"startlinecolor\":\"#2a3f5f\"},\"baxis\":{\"endlinecolor\":\"#2a3f5f\",\"gridcolor\":\"white\",\"linecolor\":\"white\",\"minorgridcolor\":\"white\",\"startlinecolor\":\"#2a3f5f\"},\"type\":\"carpet\"}],\"table\":[{\"cells\":{\"fill\":{\"color\":\"#EBF0F8\"},\"line\":{\"color\":\"white\"}},\"header\":{\"fill\":{\"color\":\"#C8D4E3\"},\"line\":{\"color\":\"white\"}},\"type\":\"table\"}],\"barpolar\":[{\"marker\":{\"line\":{\"color\":\"#E5ECF6\",\"width\":0.5},\"pattern\":{\"fillmode\":\"overlay\",\"size\":10,\"solidity\":0.2}},\"type\":\"barpolar\"}],\"pie\":[{\"automargin\":true,\"type\":\"pie\"}]},\"layout\":{\"autotypenumbers\":\"strict\",\"colorway\":[\"#636efa\",\"#EF553B\",\"#00cc96\",\"#ab63fa\",\"#FFA15A\",\"#19d3f3\",\"#FF6692\",\"#B6E880\",\"#FF97FF\",\"#FECB52\"],\"font\":{\"color\":\"#2a3f5f\"},\"hovermode\":\"closest\",\"hoverlabel\":{\"align\":\"left\"},\"paper_bgcolor\":\"white\",\"plot_bgcolor\":\"#E5ECF6\",\"polar\":{\"bgcolor\":\"#E5ECF6\",\"angularaxis\":{\"gridcolor\":\"white\",\"linecolor\":\"white\",\"ticks\":\"\"},\"radialaxis\":{\"gridcolor\":\"white\",\"linecolor\":\"white\",\"ticks\":\"\"}},\"ternary\":{\"bgcolor\":\"#E5ECF6\",\"aaxis\":{\"gridcolor\":\"white\",\"linecolor\":\"white\",\"ticks\":\"\"},\"baxis\":{\"gridcolor\":\"white\",\"linecolor\":\"white\",\"ticks\":\"\"},\"caxis\":{\"gridcolor\":\"white\",\"linecolor\":\"white\",\"ticks\":\"\"}},\"coloraxis\":{\"colorbar\":{\"outlinewidth\":0,\"ticks\":\"\"}},\"colorscale\":{\"sequential\":[[0.0,\"#0d0887\"],[0.1111111111111111,\"#46039f\"],[0.2222222222222222,\"#7201a8\"],[0.3333333333333333,\"#9c179e\"],[0.4444444444444444,\"#bd3786\"],[0.5555555555555556,\"#d8576b\"],[0.6666666666666666,\"#ed7953\"],[0.7777777777777778,\"#fb9f3a\"],[0.8888888888888888,\"#fdca26\"],[1.0,\"#f0f921\"]],\"sequentialminus\":[[0.0,\"#0d0887\"],[0.1111111111111111,\"#46039f\"],[0.2222222222222222,\"#7201a8\"],[0.3333333333333333,\"#9c179e\"],[0.4444444444444444,\"#bd3786\"],[0.5555555555555556,\"#d8576b\"],[0.6666666666666666,\"#ed7953\"],[0.7777777777777778,\"#fb9f3a\"],[0.8888888888888888,\"#fdca26\"],[1.0,\"#f0f921\"]],\"diverging\":[[0,\"#8e0152\"],[0.1,\"#c51b7d\"],[0.2,\"#de77ae\"],[0.3,\"#f1b6da\"],[0.4,\"#fde0ef\"],[0.5,\"#f7f7f7\"],[0.6,\"#e6f5d0\"],[0.7,\"#b8e186\"],[0.8,\"#7fbc41\"],[0.9,\"#4d9221\"],[1,\"#276419\"]]},\"xaxis\":{\"gridcolor\":\"white\",\"linecolor\":\"white\",\"ticks\":\"\",\"title\":{\"standoff\":15},\"zerolinecolor\":\"white\",\"automargin\":true,\"zerolinewidth\":2},\"yaxis\":{\"gridcolor\":\"white\",\"linecolor\":\"white\",\"ticks\":\"\",\"title\":{\"standoff\":15},\"zerolinecolor\":\"white\",\"automargin\":true,\"zerolinewidth\":2},\"scene\":{\"xaxis\":{\"backgroundcolor\":\"#E5ECF6\",\"gridcolor\":\"white\",\"linecolor\":\"white\",\"showbackground\":true,\"ticks\":\"\",\"zerolinecolor\":\"white\",\"gridwidth\":2},\"yaxis\":{\"backgroundcolor\":\"#E5ECF6\",\"gridcolor\":\"white\",\"linecolor\":\"white\",\"showbackground\":true,\"ticks\":\"\",\"zerolinecolor\":\"white\",\"gridwidth\":2},\"zaxis\":{\"backgroundcolor\":\"#E5ECF6\",\"gridcolor\":\"white\",\"linecolor\":\"white\",\"showbackground\":true,\"ticks\":\"\",\"zerolinecolor\":\"white\",\"gridwidth\":2}},\"shapedefaults\":{\"line\":{\"color\":\"#2a3f5f\"}},\"annotationdefaults\":{\"arrowcolor\":\"#2a3f5f\",\"arrowhead\":0,\"arrowwidth\":1},\"geo\":{\"bgcolor\":\"white\",\"landcolor\":\"#E5ECF6\",\"subunitcolor\":\"white\",\"showland\":true,\"showlakes\":true,\"lakecolor\":\"white\"},\"title\":{\"x\":0.05},\"mapbox\":{\"style\":\"light\"}}},\"xaxis\":{\"anchor\":\"y\",\"domain\":[0.0,1.0],\"title\":{\"text\":\"index\"}},\"yaxis\":{\"anchor\":\"x\",\"domain\":[0.0,1.0],\"title\":{\"text\":\"value\"}},\"legend\":{\"title\":{\"text\":\"variable\"},\"tracegroupgap\":0},\"margin\":{\"t\":60}},                        {\"responsive\": true}                    ).then(function(){\n                            \nvar gd = document.getElementById('e5e80b2d-b9e1-4de7-9522-9428087436ce');\nvar x = new MutationObserver(function (mutations, observer) {{\n        var display = window.getComputedStyle(gd).display;\n        if (!display || display === 'none') {{\n            console.log([gd, 'removed!']);\n            Plotly.purge(gd);\n            observer.disconnect();\n        }}\n}});\n\n// Listen for the removal of the full notebook cells\nvar notebookContainer = gd.closest('#notebook-container');\nif (notebookContainer) {{\n    x.observe(notebookContainer, {childList: true});\n}}\n\n// Listen for the clearing of the current output cell\nvar outputEl = gd.closest('.output');\nif (outputEl) {{\n    x.observe(outputEl, {childList: true});\n}}\n\n                        })                };                });            </script>        </div>"
     },
     "metadata": {},
     "output_type": "display_data"
    }
   ],
   "source": [
    "px.line(dataframe)"
   ],
   "metadata": {
    "collapsed": false
   }
  },
  {
   "cell_type": "code",
   "execution_count": 4,
   "outputs": [],
   "source": [
    "PATH_TO_MODEL = '../models/auto_model/days_name_20'\n",
    "\n",
    "model = AutoModelForSequenceClassification.from_pretrained(PATH_TO_MODEL)\n",
    "tokenizer = AutoTokenizer.from_pretrained('dkleczek/bert-base-polish-uncased-v1')\n",
    "scaler = pickle.load(open(PATH_TO_MODEL + '/scaler.pkl', 'rb'))\n",
    "\n",
    "training_args = TrainingArguments(\n",
    "    output_dir=PATH_TO_MODEL,\n",
    "    num_train_epochs=5,\n",
    "    per_device_train_batch_size=64,\n",
    "    per_device_eval_batch_size=20,\n",
    "    weight_decay=0.01,\n",
    "    learning_rate=2e-5,\n",
    "    logging_dir='../logs',\n",
    "    save_total_limit=10,\n",
    "    load_best_model_at_end=True,\n",
    "    metric_for_best_model='rmse',\n",
    "    evaluation_strategy=\"epoch\",\n",
    "    save_strategy=\"epoch\",\n",
    ")\n",
    "\n",
    "# Call the Trainer\n",
    "trainer = Trainer(\n",
    "    model=model,\n",
    "    args=training_args,\n",
    "    compute_metrics=compute_metrics,\n",
    ")"
   ],
   "metadata": {
    "collapsed": false
   }
  },
  {
   "cell_type": "code",
   "execution_count": 5,
   "outputs": [
    {
     "name": "stderr",
     "output_type": "stream",
     "text": [
      "***** Running Prediction *****\n",
      "  Num examples = 89\n",
      "  Batch size = 20\n"
     ]
    },
    {
     "data": {
      "text/plain": "<IPython.core.display.HTML object>",
      "text/html": "\n    <div>\n      \n      <progress value='1' max='5' style='width:300px; height:20px; vertical-align: middle;'></progress>\n      [1/5 : < :]\n    </div>\n    "
     },
     "metadata": {},
     "output_type": "display_data"
    },
    {
     "name": "stderr",
     "output_type": "stream",
     "text": [
      "***** Running Prediction *****\n",
      "  Num examples = 89\n",
      "  Batch size = 20\n"
     ]
    },
    {
     "data": {
      "text/plain": "<IPython.core.display.HTML object>",
      "text/html": "\n    <div>\n      \n      <progress value='1' max='5' style='width:300px; height:20px; vertical-align: middle;'></progress>\n      [1/5 : < :]\n    </div>\n    "
     },
     "metadata": {},
     "output_type": "display_data"
    },
    {
     "name": "stderr",
     "output_type": "stream",
     "text": [
      "***** Running Prediction *****\n",
      "  Num examples = 89\n",
      "  Batch size = 20\n"
     ]
    },
    {
     "data": {
      "text/plain": "<IPython.core.display.HTML object>",
      "text/html": "\n    <div>\n      \n      <progress value='1' max='5' style='width:300px; height:20px; vertical-align: middle;'></progress>\n      [1/5 : < :]\n    </div>\n    "
     },
     "metadata": {},
     "output_type": "display_data"
    }
   ],
   "source": [
    "iphone_11_64 = foresee(trainer, scaler, tokenizer, 'iphone 11 64gb', (1, 90))\n",
    "iphone_11_128 = foresee(trainer, scaler, tokenizer, 'iphone 11 128gb', (1, 90))\n",
    "iphone_11_256 = foresee(trainer, scaler, tokenizer, 'iphone 11 256gb', (1, 90))"
   ],
   "metadata": {
    "collapsed": false
   }
  },
  {
   "cell_type": "code",
   "execution_count": 6,
   "outputs": [],
   "source": [
    "prediction = pd.DataFrame(iphone_11_64, columns=['iphone_11_64'])\n",
    "prediction['iphone_11_128'] = iphone_11_128\n",
    "prediction['iphone_11_256'] = iphone_11_256"
   ],
   "metadata": {
    "collapsed": false
   }
  },
  {
   "cell_type": "code",
   "execution_count": 13,
   "outputs": [
    {
     "data": {
      "application/vnd.plotly.v1+json": {
       "data": [
        {
         "hovertemplate": "variable=iphone_11_64<br>index=%{x}<br>value=%{y}<extra></extra>",
         "legendgroup": "iphone_11_64",
         "marker": {
          "color": "#636efa",
          "symbol": "circle"
         },
         "mode": "markers",
         "name": "iphone_11_64",
         "orientation": "v",
         "showlegend": true,
         "x": [
          0,
          1,
          2,
          3,
          4,
          5,
          6,
          7,
          8,
          9,
          10,
          11,
          12,
          13,
          14,
          15,
          16,
          17,
          18,
          19,
          20,
          21,
          22,
          23,
          24,
          25,
          26,
          27,
          28,
          29,
          30,
          31,
          32,
          33,
          34,
          35,
          36,
          37,
          38,
          39,
          40,
          41,
          42,
          43,
          44,
          45,
          46,
          47,
          48,
          49,
          50,
          51,
          52,
          53,
          54,
          55,
          56,
          57,
          58,
          59,
          60,
          61,
          62,
          63,
          64,
          65,
          66,
          67,
          68,
          69,
          70,
          71,
          72,
          73,
          74,
          75,
          76,
          77,
          78,
          79,
          80,
          81,
          82,
          83,
          84,
          85,
          86,
          87,
          88
         ],
         "xaxis": "x",
         "y": [
          2454.31982421875,
          2832.736572265625,
          2625.23388671875,
          2576.2548828125,
          2592.2177734375,
          2629.672607421875,
          2560.6318359375,
          2513.541015625,
          2488.317626953125,
          2456.33837890625,
          2282.4013671875,
          2346.0556640625,
          2370.8681640625,
          2435.964111328125,
          2308.6328125,
          2602.30712890625,
          2464.4365234375,
          2615.348876953125,
          2337.576416015625,
          2208.7646484375,
          2375.907958984375,
          2501.645263671875,
          2450.847412109375,
          2730.314697265625,
          2371.4306640625,
          2566.2841796875,
          2546.090087890625,
          2424.625732421875,
          2210.011962890625,
          2321.326904296875,
          2515.084716796875,
          2247.588134765625,
          2425.3251953125,
          2428.80810546875,
          2294.412109375,
          2374.986572265625,
          1970.972412109375,
          2424.585693359375,
          2184.143310546875,
          2027.2783203125,
          2246.456787109375,
          2189.95751953125,
          2081.05517578125,
          2162.524169921875,
          2201.494384765625,
          2353.528076171875,
          2112.33642578125,
          2364.17333984375,
          2115.189697265625,
          1788.826416015625,
          1865.823486328125,
          2291.4375,
          1992.1046142578125,
          2138.186767578125,
          1880.4449462890625,
          2145.6953125,
          2163.533447265625,
          2065.343505859375,
          2106.19384765625,
          1994.0831298828125,
          2072.27734375,
          2144.826171875,
          2104.41650390625,
          2178.975830078125,
          2017.3814697265625,
          2150.589599609375,
          2117.212890625,
          2044.92919921875,
          2203.58349609375,
          2025.984130859375,
          2041.0694580078125,
          2252.40625,
          2149.155517578125,
          2165.602294921875,
          2088.646728515625,
          2221.4775390625,
          2125.50146484375,
          2181.787841796875,
          2183.110595703125,
          2130.178955078125,
          2142.54931640625,
          2187.09326171875,
          2237.68603515625,
          2188.34033203125,
          2267.041748046875,
          2259.327392578125,
          2232.154296875,
          2286.993896484375,
          2275.901611328125
         ],
         "yaxis": "y",
         "type": "scatter"
        },
        {
         "hovertemplate": "<b>LOWESS trendline</b><br><br>variable=iphone_11_64<br>index=%{x}<br>value=%{y} <b>(trend)</b><extra></extra>",
         "legendgroup": "iphone_11_64",
         "marker": {
          "color": "#636efa",
          "symbol": "circle"
         },
         "mode": "lines",
         "name": "iphone_11_64",
         "showlegend": false,
         "x": [
          0,
          1,
          2,
          3,
          4,
          5,
          6,
          7,
          8,
          9,
          10,
          11,
          12,
          13,
          14,
          15,
          16,
          17,
          18,
          19,
          20,
          21,
          22,
          23,
          24,
          25,
          26,
          27,
          28,
          29,
          30,
          31,
          32,
          33,
          34,
          35,
          36,
          37,
          38,
          39,
          40,
          41,
          42,
          43,
          44,
          45,
          46,
          47,
          48,
          49,
          50,
          51,
          52,
          53,
          54,
          55,
          56,
          57,
          58,
          59,
          60,
          61,
          62,
          63,
          64,
          65,
          66,
          67,
          68,
          69,
          70,
          71,
          72,
          73,
          74,
          75,
          76,
          77,
          78,
          79,
          80,
          81,
          82,
          83,
          84,
          85,
          86,
          87,
          88
         ],
         "xaxis": "x",
         "y": [
          2573.1278284770106,
          2565.5143454401177,
          2557.906812165572,
          2550.3046421091512,
          2542.70583403235,
          2535.107467989852,
          2527.5054190633155,
          2519.8939615866198,
          2512.2663621519127,
          2504.615528090959,
          2496.9343902552146,
          2489.2164195007754,
          2481.4564956231266,
          2473.6511960881044,
          2465.798696579665,
          2457.8985514564984,
          2449.952074434784,
          2441.9605582583736,
          2433.9254552662055,
          2425.8480508930397,
          2417.7319393462735,
          2409.584766411993,
          2401.418306687001,
          2393.2478171945168,
          2385.0936558019757,
          2376.984600582882,
          2368.963024240778,
          2361.0889501834363,
          2353.4450145201877,
          2346.1342873877197,
          2338.1133990014464,
          2330.094186535895,
          2322.020211254993,
          2313.845504428827,
          2305.5386783492863,
          2297.0834852661,
          2288.4920137342515,
          2279.7813488298607,
          2270.98686285692,
          2262.150282181803,
          2253.3163318226702,
          2244.5423248730567,
          2235.864805910413,
          2227.3077826358835,
          2218.911125632326,
          2210.707425454911,
          2202.739082089196,
          2195.0501370360716,
          2187.7159043208408,
          2180.7994065673947,
          2174.3358028049097,
          2168.3360245724857,
          2162.8052476515154,
          2157.7486557527154,
          2153.167565169007,
          2149.0580532216436,
          2145.426559293399,
          2142.300421885188,
          2139.717620456274,
          2137.6880269604594,
          2138.4164761213187,
          2139.6026318813474,
          2141.0980658023223,
          2142.793781674232,
          2144.631043572059,
          2146.5801203081364,
          2148.6265731968574,
          2150.7621275102542,
          2152.981598399031,
          2155.281790751222,
          2157.6598249550025,
          2160.114267379338,
          2162.6446496406297,
          2165.249843051419,
          2167.9287234194117,
          2170.680476286147,
          2173.504908037777,
          2176.4016722010806,
          2179.370757001672,
          2182.41219733416,
          2185.526097554312,
          2188.7131091127408,
          2191.9743447602837,
          2195.310832560038,
          2198.723099680984,
          2202.2114231115916,
          2205.775238973682,
          2209.413167767075,
          2213.123260866761
         ],
         "yaxis": "y",
         "type": "scatter"
        },
        {
         "hovertemplate": "variable=iphone_11_128<br>index=%{x}<br>value=%{y}<extra></extra>",
         "legendgroup": "iphone_11_128",
         "marker": {
          "color": "#EF553B",
          "symbol": "circle"
         },
         "mode": "markers",
         "name": "iphone_11_128",
         "orientation": "v",
         "showlegend": true,
         "x": [
          0,
          1,
          2,
          3,
          4,
          5,
          6,
          7,
          8,
          9,
          10,
          11,
          12,
          13,
          14,
          15,
          16,
          17,
          18,
          19,
          20,
          21,
          22,
          23,
          24,
          25,
          26,
          27,
          28,
          29,
          30,
          31,
          32,
          33,
          34,
          35,
          36,
          37,
          38,
          39,
          40,
          41,
          42,
          43,
          44,
          45,
          46,
          47,
          48,
          49,
          50,
          51,
          52,
          53,
          54,
          55,
          56,
          57,
          58,
          59,
          60,
          61,
          62,
          63,
          64,
          65,
          66,
          67,
          68,
          69,
          70,
          71,
          72,
          73,
          74,
          75,
          76,
          77,
          78,
          79,
          80,
          81,
          82,
          83,
          84,
          85,
          86,
          87,
          88
         ],
         "xaxis": "x",
         "y": [
          2657.406494140625,
          3052.425537109375,
          2749.99609375,
          2940.4775390625,
          2986.9228515625,
          3069.64404296875,
          2800.335205078125,
          2766.038330078125,
          2666.826416015625,
          2573.76318359375,
          2472.02392578125,
          2289.581298828125,
          2366.89453125,
          2462.799560546875,
          2355.976318359375,
          2763.114013671875,
          2769.41650390625,
          2764.779541015625,
          2436.067138671875,
          2266.0673828125,
          2582.134521484375,
          2921.01220703125,
          2663.419677734375,
          3053.055908203125,
          2948.0703125,
          2783.233642578125,
          2826.51318359375,
          2566.52001953125,
          2417.02587890625,
          2645.17724609375,
          2713.33251953125,
          2725.493896484375,
          2659.639892578125,
          2896.780029296875,
          2824.936767578125,
          2599.6484375,
          2475.014892578125,
          2984.966552734375,
          2662.208251953125,
          2623.171875,
          2606.6865234375,
          2679.916259765625,
          1836.7049560546875,
          2213.795654296875,
          2907.622314453125,
          2994.667236328125,
          2481.396728515625,
          3038.660888671875,
          2495.478271484375,
          2578.80859375,
          2540.3916015625,
          2939.16748046875,
          2754.6220703125,
          2941.890625,
          2861.858154296875,
          2834.55712890625,
          2903.761474609375,
          2748.569091796875,
          2670.91943359375,
          2706.1083984375,
          2665.883056640625,
          2695.25927734375,
          2540.306396484375,
          2683.1376953125,
          2743.708251953125,
          2632.825927734375,
          2545.21875,
          2669.641845703125,
          2708.724609375,
          2740.806640625,
          2704.3408203125,
          2896.2802734375,
          2788.02197265625,
          2749.0654296875,
          2906.994140625,
          2801.8369140625,
          2753.623046875,
          2798.84375,
          2725.078857421875,
          2802.263427734375,
          2702.52001953125,
          2812.46142578125,
          2623.682373046875,
          2710.45654296875,
          2834.55859375,
          2644.19677734375,
          2652.697509765625,
          2755.4384765625,
          2670.7041015625
         ],
         "yaxis": "y",
         "type": "scatter"
        },
        {
         "hovertemplate": "<b>LOWESS trendline</b><br><br>variable=iphone_11_128<br>index=%{x}<br>value=%{y} <b>(trend)</b><extra></extra>",
         "legendgroup": "iphone_11_128",
         "marker": {
          "color": "#EF553B",
          "symbol": "circle"
         },
         "mode": "lines",
         "name": "iphone_11_128",
         "showlegend": false,
         "x": [
          0,
          1,
          2,
          3,
          4,
          5,
          6,
          7,
          8,
          9,
          10,
          11,
          12,
          13,
          14,
          15,
          16,
          17,
          18,
          19,
          20,
          21,
          22,
          23,
          24,
          25,
          26,
          27,
          28,
          29,
          30,
          31,
          32,
          33,
          34,
          35,
          36,
          37,
          38,
          39,
          40,
          41,
          42,
          43,
          44,
          45,
          46,
          47,
          48,
          49,
          50,
          51,
          52,
          53,
          54,
          55,
          56,
          57,
          58,
          59,
          60,
          61,
          62,
          63,
          64,
          65,
          66,
          67,
          68,
          69,
          70,
          71,
          72,
          73,
          74,
          75,
          76,
          77,
          78,
          79,
          80,
          81,
          82,
          83,
          84,
          85,
          86,
          87,
          88
         ],
         "xaxis": "x",
         "y": [
          2743.8344098975617,
          2741.588185191519,
          2739.418879785303,
          2737.327890068644,
          2735.315117831941,
          2733.377304640613,
          2731.5072851610826,
          2729.6943142284067,
          2727.9253018343416,
          2726.1857335834457,
          2724.4611754933308,
          2722.738661979679,
          2721.0073291383037,
          2719.258021982825,
          2717.483990861371,
          2715.6816222944117,
          2713.8501794511826,
          2711.9897458877103,
          2710.10064712208,
          2708.184288448831,
          2706.2465979669705,
          2704.2994943169024,
          2702.362346252944,
          2700.4616867107225,
          2698.6379165298035,
          2696.9530004264307,
          2695.508522226917,
          2694.4805988147727,
          2694.160221959606,
          2694.933304826538,
          2696.937175213988,
          2699.3991143670355,
          2702.1853036149937,
          2705.1277097181783,
          2708.0531728482806,
          2710.790232272093,
          2713.2037315587454,
          2715.2172569947634,
          2716.7990755500455,
          2717.9385164348237,
          2718.654151087083,
          2718.993281484373,
          2719.0309414286044,
          2718.851570841855,
          2718.543625838982,
          2718.1757138065727,
          2717.813217611222,
          2717.5445769468174,
          2717.4745924819176,
          2717.6702371165698,
          2718.1587660104137,
          2718.921117344964,
          2719.931455826013,
          2721.1260737860066,
          2722.4403487608893,
          2723.8198433670286,
          2725.2364973386734,
          2726.7056067145827,
          2728.2243280634016,
          2729.74662043992,
          2731.0233581465895,
          2731.9687025308285,
          2732.6284726425692,
          2733.0666331960565,
          2733.3391640947407,
          2733.4891047762576,
          2733.5488180045836,
          2733.544689417222,
          2733.4994457601115,
          2733.4318834992746,
          2733.356970096161,
          2733.286348228672,
          2733.2288936036207,
          2733.1900310167734,
          2733.17293247161,
          2733.1791610548994,
          2733.208083754632,
          2733.2577263510743,
          2733.325432925989,
          2733.4078392182023,
          2733.501338926974,
          2733.601828843545,
          2733.705254194675,
          2733.807271834441,
          2733.9046163526727,
          2733.9943936852205,
          2734.073114148687,
          2734.1383831043463,
          2734.189017701707
         ],
         "yaxis": "y",
         "type": "scatter"
        },
        {
         "hovertemplate": "variable=iphone_11_256<br>index=%{x}<br>value=%{y}<extra></extra>",
         "legendgroup": "iphone_11_256",
         "marker": {
          "color": "#00cc96",
          "symbol": "circle"
         },
         "mode": "markers",
         "name": "iphone_11_256",
         "orientation": "v",
         "showlegend": true,
         "x": [
          0,
          1,
          2,
          3,
          4,
          5,
          6,
          7,
          8,
          9,
          10,
          11,
          12,
          13,
          14,
          15,
          16,
          17,
          18,
          19,
          20,
          21,
          22,
          23,
          24,
          25,
          26,
          27,
          28,
          29,
          30,
          31,
          32,
          33,
          34,
          35,
          36,
          37,
          38,
          39,
          40,
          41,
          42,
          43,
          44,
          45,
          46,
          47,
          48,
          49,
          50,
          51,
          52,
          53,
          54,
          55,
          56,
          57,
          58,
          59,
          60,
          61,
          62,
          63,
          64,
          65,
          66,
          67,
          68,
          69,
          70,
          71,
          72,
          73,
          74,
          75,
          76,
          77,
          78,
          79,
          80,
          81,
          82,
          83,
          84,
          85,
          86,
          87,
          88
         ],
         "xaxis": "x",
         "y": [
          3087.150146484375,
          3591.072021484375,
          3279.73291015625,
          3200.350341796875,
          3869.596923828125,
          3935.398681640625,
          3557.56591796875,
          3505.759521484375,
          3555.4150390625,
          3379.118408203125,
          3316.45556640625,
          2992.438232421875,
          2252.237548828125,
          2603.0498046875,
          2519.109619140625,
          3276.85595703125,
          3562.172607421875,
          3649.966064453125,
          2997.507568359375,
          2191.464599609375,
          2164.44677734375,
          3229.145751953125,
          2537.144287109375,
          2917.437744140625,
          3682.911376953125,
          2964.989501953125,
          2706.36572265625,
          2307.60009765625,
          2238.54296875,
          2105.857666015625,
          2547.22265625,
          2644.915283203125,
          2550.044677734375,
          3353.384521484375,
          3135.69677734375,
          2654.88671875,
          2555.5859375,
          3202.65234375,
          2430.689453125,
          3054.596435546875,
          2905.57373046875,
          3194.91796875,
          1877.6690673828125,
          2265.4609375,
          3172.6875,
          3319.380615234375,
          2470.424560546875,
          3368.512939453125,
          2462.356201171875,
          2993.147705078125,
          2917.44775390625,
          3264.571044921875,
          2209.9013671875,
          3172.667724609375,
          3133.063232421875,
          3131.134521484375,
          3278.923828125,
          2958.80029296875,
          2677.1845703125,
          2958.8916015625,
          2686.3759765625,
          3009.3466796875,
          2735.21875,
          2917.63134765625,
          3114.46142578125,
          3142.080322265625,
          2975.56591796875,
          2913.258544921875,
          2820.41162109375,
          2947.21142578125,
          2974.416259765625,
          2795.14697265625,
          2932.20166015625,
          2783.291259765625,
          3167.193115234375,
          3112.46337890625,
          3043.268798828125,
          3041.32373046875,
          2813.96630859375,
          2810.615478515625,
          2844.973876953125,
          3012.650634765625,
          2654.146484375,
          2845.123291015625,
          2961.73779296875,
          2934.018310546875,
          2809.97705078125,
          3155.825927734375,
          2717.06689453125
         ],
         "yaxis": "y",
         "type": "scatter"
        },
        {
         "hovertemplate": "<b>LOWESS trendline</b><br><br>variable=iphone_11_256<br>index=%{x}<br>value=%{y} <b>(trend)</b><extra></extra>",
         "legendgroup": "iphone_11_256",
         "marker": {
          "color": "#00cc96",
          "symbol": "circle"
         },
         "mode": "lines",
         "name": "iphone_11_256",
         "showlegend": false,
         "x": [
          0,
          1,
          2,
          3,
          4,
          5,
          6,
          7,
          8,
          9,
          10,
          11,
          12,
          13,
          14,
          15,
          16,
          17,
          18,
          19,
          20,
          21,
          22,
          23,
          24,
          25,
          26,
          27,
          28,
          29,
          30,
          31,
          32,
          33,
          34,
          35,
          36,
          37,
          38,
          39,
          40,
          41,
          42,
          43,
          44,
          45,
          46,
          47,
          48,
          49,
          50,
          51,
          52,
          53,
          54,
          55,
          56,
          57,
          58,
          59,
          60,
          61,
          62,
          63,
          64,
          65,
          66,
          67,
          68,
          69,
          70,
          71,
          72,
          73,
          74,
          75,
          76,
          77,
          78,
          79,
          80,
          81,
          82,
          83,
          84,
          85,
          86,
          87,
          88
         ],
         "xaxis": "x",
         "y": [
          3435.7877822762703,
          3414.7096118030145,
          3393.78183874703,
          3373.020583519671,
          3352.444286669751,
          3332.073652110095,
          3311.925014356582,
          3292.008779150564,
          3272.3308269678396,
          3252.892741969325,
          3233.6912223086474,
          3214.719048010119,
          3195.9662378213843,
          3177.4230713489696,
          3159.0812801268253,
          3140.9360378767474,
          3122.985436957852,
          3105.2240428415757,
          3087.6373222938705,
          3070.1992054066195,
          3052.8751922445094,
          3035.623805475471,
          3018.393249581778,
          3001.1129274290242,
          2983.696117205902,
          2966.0378195127073,
          2948.023511999387,
          2929.6013583243052,
          2910.968913449092,
          2892.859151054567,
          2884.293943878169,
          2877.2657028480385,
          2871.789864153937,
          2867.802517308589,
          2865.1641838760106,
          2863.679222253434,
          2863.1371896027995,
          2863.3677680686205,
          2864.255684617881,
          2865.7290764363192,
          2867.779614017383,
          2870.463878738031,
          2873.870210289248,
          2878.017891924462,
          2882.807593501613,
          2888.0222822496844,
          2893.4230055390785,
          2898.861014322331,
          2904.3104005016617,
          2909.785607481282,
          2915.248031135413,
          2920.5675158098466,
          2925.616818473675,
          2930.224719194179,
          2934.2422989622714,
          2937.5971236690457,
          2940.3041813795685,
          2942.43421257401,
          2944.0601780063676,
          2945.242924610342,
          2944.597950083535,
          2943.6600444756177,
          2942.5295081640143,
          2941.2754658720137,
          2939.939771319783,
          2938.546131684137,
          2937.1056191610705,
          2935.6222612767783,
          2934.0981736481317,
          2932.5357759727367,
          2930.9384445681067,
          2929.309076070962,
          2927.6500145664504,
          2925.964315699107,
          2924.2550451544957,
          2922.525386141154,
          2920.7758907618077,
          2919.00462704847,
          2917.2081042159884,
          2915.3820549816205,
          2913.523468330291,
          2911.6309099751884,
          2909.7036959796446,
          2907.7410014673173,
          2905.744350523261,
          2903.716290846272,
          2901.658746411236,
          2899.5733294312236,
          2897.4618094095968
         ],
         "yaxis": "y",
         "type": "scatter"
        }
       ],
       "layout": {
        "template": {
         "data": {
          "histogram2dcontour": [
           {
            "type": "histogram2dcontour",
            "colorbar": {
             "outlinewidth": 0,
             "ticks": ""
            },
            "colorscale": [
             [
              0.0,
              "#0d0887"
             ],
             [
              0.1111111111111111,
              "#46039f"
             ],
             [
              0.2222222222222222,
              "#7201a8"
             ],
             [
              0.3333333333333333,
              "#9c179e"
             ],
             [
              0.4444444444444444,
              "#bd3786"
             ],
             [
              0.5555555555555556,
              "#d8576b"
             ],
             [
              0.6666666666666666,
              "#ed7953"
             ],
             [
              0.7777777777777778,
              "#fb9f3a"
             ],
             [
              0.8888888888888888,
              "#fdca26"
             ],
             [
              1.0,
              "#f0f921"
             ]
            ]
           }
          ],
          "choropleth": [
           {
            "type": "choropleth",
            "colorbar": {
             "outlinewidth": 0,
             "ticks": ""
            }
           }
          ],
          "histogram2d": [
           {
            "type": "histogram2d",
            "colorbar": {
             "outlinewidth": 0,
             "ticks": ""
            },
            "colorscale": [
             [
              0.0,
              "#0d0887"
             ],
             [
              0.1111111111111111,
              "#46039f"
             ],
             [
              0.2222222222222222,
              "#7201a8"
             ],
             [
              0.3333333333333333,
              "#9c179e"
             ],
             [
              0.4444444444444444,
              "#bd3786"
             ],
             [
              0.5555555555555556,
              "#d8576b"
             ],
             [
              0.6666666666666666,
              "#ed7953"
             ],
             [
              0.7777777777777778,
              "#fb9f3a"
             ],
             [
              0.8888888888888888,
              "#fdca26"
             ],
             [
              1.0,
              "#f0f921"
             ]
            ]
           }
          ],
          "heatmap": [
           {
            "type": "heatmap",
            "colorbar": {
             "outlinewidth": 0,
             "ticks": ""
            },
            "colorscale": [
             [
              0.0,
              "#0d0887"
             ],
             [
              0.1111111111111111,
              "#46039f"
             ],
             [
              0.2222222222222222,
              "#7201a8"
             ],
             [
              0.3333333333333333,
              "#9c179e"
             ],
             [
              0.4444444444444444,
              "#bd3786"
             ],
             [
              0.5555555555555556,
              "#d8576b"
             ],
             [
              0.6666666666666666,
              "#ed7953"
             ],
             [
              0.7777777777777778,
              "#fb9f3a"
             ],
             [
              0.8888888888888888,
              "#fdca26"
             ],
             [
              1.0,
              "#f0f921"
             ]
            ]
           }
          ],
          "heatmapgl": [
           {
            "type": "heatmapgl",
            "colorbar": {
             "outlinewidth": 0,
             "ticks": ""
            },
            "colorscale": [
             [
              0.0,
              "#0d0887"
             ],
             [
              0.1111111111111111,
              "#46039f"
             ],
             [
              0.2222222222222222,
              "#7201a8"
             ],
             [
              0.3333333333333333,
              "#9c179e"
             ],
             [
              0.4444444444444444,
              "#bd3786"
             ],
             [
              0.5555555555555556,
              "#d8576b"
             ],
             [
              0.6666666666666666,
              "#ed7953"
             ],
             [
              0.7777777777777778,
              "#fb9f3a"
             ],
             [
              0.8888888888888888,
              "#fdca26"
             ],
             [
              1.0,
              "#f0f921"
             ]
            ]
           }
          ],
          "contourcarpet": [
           {
            "type": "contourcarpet",
            "colorbar": {
             "outlinewidth": 0,
             "ticks": ""
            }
           }
          ],
          "contour": [
           {
            "type": "contour",
            "colorbar": {
             "outlinewidth": 0,
             "ticks": ""
            },
            "colorscale": [
             [
              0.0,
              "#0d0887"
             ],
             [
              0.1111111111111111,
              "#46039f"
             ],
             [
              0.2222222222222222,
              "#7201a8"
             ],
             [
              0.3333333333333333,
              "#9c179e"
             ],
             [
              0.4444444444444444,
              "#bd3786"
             ],
             [
              0.5555555555555556,
              "#d8576b"
             ],
             [
              0.6666666666666666,
              "#ed7953"
             ],
             [
              0.7777777777777778,
              "#fb9f3a"
             ],
             [
              0.8888888888888888,
              "#fdca26"
             ],
             [
              1.0,
              "#f0f921"
             ]
            ]
           }
          ],
          "surface": [
           {
            "type": "surface",
            "colorbar": {
             "outlinewidth": 0,
             "ticks": ""
            },
            "colorscale": [
             [
              0.0,
              "#0d0887"
             ],
             [
              0.1111111111111111,
              "#46039f"
             ],
             [
              0.2222222222222222,
              "#7201a8"
             ],
             [
              0.3333333333333333,
              "#9c179e"
             ],
             [
              0.4444444444444444,
              "#bd3786"
             ],
             [
              0.5555555555555556,
              "#d8576b"
             ],
             [
              0.6666666666666666,
              "#ed7953"
             ],
             [
              0.7777777777777778,
              "#fb9f3a"
             ],
             [
              0.8888888888888888,
              "#fdca26"
             ],
             [
              1.0,
              "#f0f921"
             ]
            ]
           }
          ],
          "mesh3d": [
           {
            "type": "mesh3d",
            "colorbar": {
             "outlinewidth": 0,
             "ticks": ""
            }
           }
          ],
          "scatter": [
           {
            "fillpattern": {
             "fillmode": "overlay",
             "size": 10,
             "solidity": 0.2
            },
            "type": "scatter"
           }
          ],
          "parcoords": [
           {
            "type": "parcoords",
            "line": {
             "colorbar": {
              "outlinewidth": 0,
              "ticks": ""
             }
            }
           }
          ],
          "scatterpolargl": [
           {
            "type": "scatterpolargl",
            "marker": {
             "colorbar": {
              "outlinewidth": 0,
              "ticks": ""
             }
            }
           }
          ],
          "bar": [
           {
            "error_x": {
             "color": "#2a3f5f"
            },
            "error_y": {
             "color": "#2a3f5f"
            },
            "marker": {
             "line": {
              "color": "#E5ECF6",
              "width": 0.5
             },
             "pattern": {
              "fillmode": "overlay",
              "size": 10,
              "solidity": 0.2
             }
            },
            "type": "bar"
           }
          ],
          "scattergeo": [
           {
            "type": "scattergeo",
            "marker": {
             "colorbar": {
              "outlinewidth": 0,
              "ticks": ""
             }
            }
           }
          ],
          "scatterpolar": [
           {
            "type": "scatterpolar",
            "marker": {
             "colorbar": {
              "outlinewidth": 0,
              "ticks": ""
             }
            }
           }
          ],
          "histogram": [
           {
            "marker": {
             "pattern": {
              "fillmode": "overlay",
              "size": 10,
              "solidity": 0.2
             }
            },
            "type": "histogram"
           }
          ],
          "scattergl": [
           {
            "type": "scattergl",
            "marker": {
             "colorbar": {
              "outlinewidth": 0,
              "ticks": ""
             }
            }
           }
          ],
          "scatter3d": [
           {
            "type": "scatter3d",
            "line": {
             "colorbar": {
              "outlinewidth": 0,
              "ticks": ""
             }
            },
            "marker": {
             "colorbar": {
              "outlinewidth": 0,
              "ticks": ""
             }
            }
           }
          ],
          "scattermapbox": [
           {
            "type": "scattermapbox",
            "marker": {
             "colorbar": {
              "outlinewidth": 0,
              "ticks": ""
             }
            }
           }
          ],
          "scatterternary": [
           {
            "type": "scatterternary",
            "marker": {
             "colorbar": {
              "outlinewidth": 0,
              "ticks": ""
             }
            }
           }
          ],
          "scattercarpet": [
           {
            "type": "scattercarpet",
            "marker": {
             "colorbar": {
              "outlinewidth": 0,
              "ticks": ""
             }
            }
           }
          ],
          "carpet": [
           {
            "aaxis": {
             "endlinecolor": "#2a3f5f",
             "gridcolor": "white",
             "linecolor": "white",
             "minorgridcolor": "white",
             "startlinecolor": "#2a3f5f"
            },
            "baxis": {
             "endlinecolor": "#2a3f5f",
             "gridcolor": "white",
             "linecolor": "white",
             "minorgridcolor": "white",
             "startlinecolor": "#2a3f5f"
            },
            "type": "carpet"
           }
          ],
          "table": [
           {
            "cells": {
             "fill": {
              "color": "#EBF0F8"
             },
             "line": {
              "color": "white"
             }
            },
            "header": {
             "fill": {
              "color": "#C8D4E3"
             },
             "line": {
              "color": "white"
             }
            },
            "type": "table"
           }
          ],
          "barpolar": [
           {
            "marker": {
             "line": {
              "color": "#E5ECF6",
              "width": 0.5
             },
             "pattern": {
              "fillmode": "overlay",
              "size": 10,
              "solidity": 0.2
             }
            },
            "type": "barpolar"
           }
          ],
          "pie": [
           {
            "automargin": true,
            "type": "pie"
           }
          ]
         },
         "layout": {
          "autotypenumbers": "strict",
          "colorway": [
           "#636efa",
           "#EF553B",
           "#00cc96",
           "#ab63fa",
           "#FFA15A",
           "#19d3f3",
           "#FF6692",
           "#B6E880",
           "#FF97FF",
           "#FECB52"
          ],
          "font": {
           "color": "#2a3f5f"
          },
          "hovermode": "closest",
          "hoverlabel": {
           "align": "left"
          },
          "paper_bgcolor": "white",
          "plot_bgcolor": "#E5ECF6",
          "polar": {
           "bgcolor": "#E5ECF6",
           "angularaxis": {
            "gridcolor": "white",
            "linecolor": "white",
            "ticks": ""
           },
           "radialaxis": {
            "gridcolor": "white",
            "linecolor": "white",
            "ticks": ""
           }
          },
          "ternary": {
           "bgcolor": "#E5ECF6",
           "aaxis": {
            "gridcolor": "white",
            "linecolor": "white",
            "ticks": ""
           },
           "baxis": {
            "gridcolor": "white",
            "linecolor": "white",
            "ticks": ""
           },
           "caxis": {
            "gridcolor": "white",
            "linecolor": "white",
            "ticks": ""
           }
          },
          "coloraxis": {
           "colorbar": {
            "outlinewidth": 0,
            "ticks": ""
           }
          },
          "colorscale": {
           "sequential": [
            [
             0.0,
             "#0d0887"
            ],
            [
             0.1111111111111111,
             "#46039f"
            ],
            [
             0.2222222222222222,
             "#7201a8"
            ],
            [
             0.3333333333333333,
             "#9c179e"
            ],
            [
             0.4444444444444444,
             "#bd3786"
            ],
            [
             0.5555555555555556,
             "#d8576b"
            ],
            [
             0.6666666666666666,
             "#ed7953"
            ],
            [
             0.7777777777777778,
             "#fb9f3a"
            ],
            [
             0.8888888888888888,
             "#fdca26"
            ],
            [
             1.0,
             "#f0f921"
            ]
           ],
           "sequentialminus": [
            [
             0.0,
             "#0d0887"
            ],
            [
             0.1111111111111111,
             "#46039f"
            ],
            [
             0.2222222222222222,
             "#7201a8"
            ],
            [
             0.3333333333333333,
             "#9c179e"
            ],
            [
             0.4444444444444444,
             "#bd3786"
            ],
            [
             0.5555555555555556,
             "#d8576b"
            ],
            [
             0.6666666666666666,
             "#ed7953"
            ],
            [
             0.7777777777777778,
             "#fb9f3a"
            ],
            [
             0.8888888888888888,
             "#fdca26"
            ],
            [
             1.0,
             "#f0f921"
            ]
           ],
           "diverging": [
            [
             0,
             "#8e0152"
            ],
            [
             0.1,
             "#c51b7d"
            ],
            [
             0.2,
             "#de77ae"
            ],
            [
             0.3,
             "#f1b6da"
            ],
            [
             0.4,
             "#fde0ef"
            ],
            [
             0.5,
             "#f7f7f7"
            ],
            [
             0.6,
             "#e6f5d0"
            ],
            [
             0.7,
             "#b8e186"
            ],
            [
             0.8,
             "#7fbc41"
            ],
            [
             0.9,
             "#4d9221"
            ],
            [
             1,
             "#276419"
            ]
           ]
          },
          "xaxis": {
           "gridcolor": "white",
           "linecolor": "white",
           "ticks": "",
           "title": {
            "standoff": 15
           },
           "zerolinecolor": "white",
           "automargin": true,
           "zerolinewidth": 2
          },
          "yaxis": {
           "gridcolor": "white",
           "linecolor": "white",
           "ticks": "",
           "title": {
            "standoff": 15
           },
           "zerolinecolor": "white",
           "automargin": true,
           "zerolinewidth": 2
          },
          "scene": {
           "xaxis": {
            "backgroundcolor": "#E5ECF6",
            "gridcolor": "white",
            "linecolor": "white",
            "showbackground": true,
            "ticks": "",
            "zerolinecolor": "white",
            "gridwidth": 2
           },
           "yaxis": {
            "backgroundcolor": "#E5ECF6",
            "gridcolor": "white",
            "linecolor": "white",
            "showbackground": true,
            "ticks": "",
            "zerolinecolor": "white",
            "gridwidth": 2
           },
           "zaxis": {
            "backgroundcolor": "#E5ECF6",
            "gridcolor": "white",
            "linecolor": "white",
            "showbackground": true,
            "ticks": "",
            "zerolinecolor": "white",
            "gridwidth": 2
           }
          },
          "shapedefaults": {
           "line": {
            "color": "#2a3f5f"
           }
          },
          "annotationdefaults": {
           "arrowcolor": "#2a3f5f",
           "arrowhead": 0,
           "arrowwidth": 1
          },
          "geo": {
           "bgcolor": "white",
           "landcolor": "#E5ECF6",
           "subunitcolor": "white",
           "showland": true,
           "showlakes": true,
           "lakecolor": "white"
          },
          "title": {
           "x": 0.05
          },
          "mapbox": {
           "style": "light"
          }
         }
        },
        "xaxis": {
         "anchor": "y",
         "domain": [
          0.0,
          1.0
         ],
         "title": {
          "text": "Days passed"
         }
        },
        "yaxis": {
         "anchor": "x",
         "domain": [
          0.0,
          1.0
         ],
         "title": {
          "text": "Price"
         }
        },
        "legend": {
         "title": {
          "text": "variable"
         },
         "tracegroupgap": 0
        },
        "title": {
         "text": "Changes in price in relation to days passed since 01.01.2021"
        },
        "shapes": [
         {
          "type": "line",
          "x0": 55,
          "x1": 55,
          "xref": "x",
          "y0": 0,
          "y1": 1,
          "yref": "y domain"
         }
        ]
       },
       "config": {
        "plotlyServerURL": "https://plot.ly"
       }
      },
      "text/html": "<div>                            <div id=\"47636c9c-aea4-4d70-9b4e-b6a8a4e9e256\" class=\"plotly-graph-div\" style=\"height:525px; width:100%;\"></div>            <script type=\"text/javascript\">                require([\"plotly\"], function(Plotly) {                    window.PLOTLYENV=window.PLOTLYENV || {};                                    if (document.getElementById(\"47636c9c-aea4-4d70-9b4e-b6a8a4e9e256\")) {                    Plotly.newPlot(                        \"47636c9c-aea4-4d70-9b4e-b6a8a4e9e256\",                        [{\"hovertemplate\":\"variable=iphone_11_64<br>index=%{x}<br>value=%{y}<extra></extra>\",\"legendgroup\":\"iphone_11_64\",\"marker\":{\"color\":\"#636efa\",\"symbol\":\"circle\"},\"mode\":\"markers\",\"name\":\"iphone_11_64\",\"orientation\":\"v\",\"showlegend\":true,\"x\":[0,1,2,3,4,5,6,7,8,9,10,11,12,13,14,15,16,17,18,19,20,21,22,23,24,25,26,27,28,29,30,31,32,33,34,35,36,37,38,39,40,41,42,43,44,45,46,47,48,49,50,51,52,53,54,55,56,57,58,59,60,61,62,63,64,65,66,67,68,69,70,71,72,73,74,75,76,77,78,79,80,81,82,83,84,85,86,87,88],\"xaxis\":\"x\",\"y\":[2454.31982421875,2832.736572265625,2625.23388671875,2576.2548828125,2592.2177734375,2629.672607421875,2560.6318359375,2513.541015625,2488.317626953125,2456.33837890625,2282.4013671875,2346.0556640625,2370.8681640625,2435.964111328125,2308.6328125,2602.30712890625,2464.4365234375,2615.348876953125,2337.576416015625,2208.7646484375,2375.907958984375,2501.645263671875,2450.847412109375,2730.314697265625,2371.4306640625,2566.2841796875,2546.090087890625,2424.625732421875,2210.011962890625,2321.326904296875,2515.084716796875,2247.588134765625,2425.3251953125,2428.80810546875,2294.412109375,2374.986572265625,1970.972412109375,2424.585693359375,2184.143310546875,2027.2783203125,2246.456787109375,2189.95751953125,2081.05517578125,2162.524169921875,2201.494384765625,2353.528076171875,2112.33642578125,2364.17333984375,2115.189697265625,1788.826416015625,1865.823486328125,2291.4375,1992.1046142578125,2138.186767578125,1880.4449462890625,2145.6953125,2163.533447265625,2065.343505859375,2106.19384765625,1994.0831298828125,2072.27734375,2144.826171875,2104.41650390625,2178.975830078125,2017.3814697265625,2150.589599609375,2117.212890625,2044.92919921875,2203.58349609375,2025.984130859375,2041.0694580078125,2252.40625,2149.155517578125,2165.602294921875,2088.646728515625,2221.4775390625,2125.50146484375,2181.787841796875,2183.110595703125,2130.178955078125,2142.54931640625,2187.09326171875,2237.68603515625,2188.34033203125,2267.041748046875,2259.327392578125,2232.154296875,2286.993896484375,2275.901611328125],\"yaxis\":\"y\",\"type\":\"scatter\"},{\"hovertemplate\":\"<b>LOWESS trendline</b><br><br>variable=iphone_11_64<br>index=%{x}<br>value=%{y} <b>(trend)</b><extra></extra>\",\"legendgroup\":\"iphone_11_64\",\"marker\":{\"color\":\"#636efa\",\"symbol\":\"circle\"},\"mode\":\"lines\",\"name\":\"iphone_11_64\",\"showlegend\":false,\"x\":[0,1,2,3,4,5,6,7,8,9,10,11,12,13,14,15,16,17,18,19,20,21,22,23,24,25,26,27,28,29,30,31,32,33,34,35,36,37,38,39,40,41,42,43,44,45,46,47,48,49,50,51,52,53,54,55,56,57,58,59,60,61,62,63,64,65,66,67,68,69,70,71,72,73,74,75,76,77,78,79,80,81,82,83,84,85,86,87,88],\"xaxis\":\"x\",\"y\":[2573.1278284770106,2565.5143454401177,2557.906812165572,2550.3046421091512,2542.70583403235,2535.107467989852,2527.5054190633155,2519.8939615866198,2512.2663621519127,2504.615528090959,2496.9343902552146,2489.2164195007754,2481.4564956231266,2473.6511960881044,2465.798696579665,2457.8985514564984,2449.952074434784,2441.9605582583736,2433.9254552662055,2425.8480508930397,2417.7319393462735,2409.584766411993,2401.418306687001,2393.2478171945168,2385.0936558019757,2376.984600582882,2368.963024240778,2361.0889501834363,2353.4450145201877,2346.1342873877197,2338.1133990014464,2330.094186535895,2322.020211254993,2313.845504428827,2305.5386783492863,2297.0834852661,2288.4920137342515,2279.7813488298607,2270.98686285692,2262.150282181803,2253.3163318226702,2244.5423248730567,2235.864805910413,2227.3077826358835,2218.911125632326,2210.707425454911,2202.739082089196,2195.0501370360716,2187.7159043208408,2180.7994065673947,2174.3358028049097,2168.3360245724857,2162.8052476515154,2157.7486557527154,2153.167565169007,2149.0580532216436,2145.426559293399,2142.300421885188,2139.717620456274,2137.6880269604594,2138.4164761213187,2139.6026318813474,2141.0980658023223,2142.793781674232,2144.631043572059,2146.5801203081364,2148.6265731968574,2150.7621275102542,2152.981598399031,2155.281790751222,2157.6598249550025,2160.114267379338,2162.6446496406297,2165.249843051419,2167.9287234194117,2170.680476286147,2173.504908037777,2176.4016722010806,2179.370757001672,2182.41219733416,2185.526097554312,2188.7131091127408,2191.9743447602837,2195.310832560038,2198.723099680984,2202.2114231115916,2205.775238973682,2209.413167767075,2213.123260866761],\"yaxis\":\"y\",\"type\":\"scatter\"},{\"hovertemplate\":\"variable=iphone_11_128<br>index=%{x}<br>value=%{y}<extra></extra>\",\"legendgroup\":\"iphone_11_128\",\"marker\":{\"color\":\"#EF553B\",\"symbol\":\"circle\"},\"mode\":\"markers\",\"name\":\"iphone_11_128\",\"orientation\":\"v\",\"showlegend\":true,\"x\":[0,1,2,3,4,5,6,7,8,9,10,11,12,13,14,15,16,17,18,19,20,21,22,23,24,25,26,27,28,29,30,31,32,33,34,35,36,37,38,39,40,41,42,43,44,45,46,47,48,49,50,51,52,53,54,55,56,57,58,59,60,61,62,63,64,65,66,67,68,69,70,71,72,73,74,75,76,77,78,79,80,81,82,83,84,85,86,87,88],\"xaxis\":\"x\",\"y\":[2657.406494140625,3052.425537109375,2749.99609375,2940.4775390625,2986.9228515625,3069.64404296875,2800.335205078125,2766.038330078125,2666.826416015625,2573.76318359375,2472.02392578125,2289.581298828125,2366.89453125,2462.799560546875,2355.976318359375,2763.114013671875,2769.41650390625,2764.779541015625,2436.067138671875,2266.0673828125,2582.134521484375,2921.01220703125,2663.419677734375,3053.055908203125,2948.0703125,2783.233642578125,2826.51318359375,2566.52001953125,2417.02587890625,2645.17724609375,2713.33251953125,2725.493896484375,2659.639892578125,2896.780029296875,2824.936767578125,2599.6484375,2475.014892578125,2984.966552734375,2662.208251953125,2623.171875,2606.6865234375,2679.916259765625,1836.7049560546875,2213.795654296875,2907.622314453125,2994.667236328125,2481.396728515625,3038.660888671875,2495.478271484375,2578.80859375,2540.3916015625,2939.16748046875,2754.6220703125,2941.890625,2861.858154296875,2834.55712890625,2903.761474609375,2748.569091796875,2670.91943359375,2706.1083984375,2665.883056640625,2695.25927734375,2540.306396484375,2683.1376953125,2743.708251953125,2632.825927734375,2545.21875,2669.641845703125,2708.724609375,2740.806640625,2704.3408203125,2896.2802734375,2788.02197265625,2749.0654296875,2906.994140625,2801.8369140625,2753.623046875,2798.84375,2725.078857421875,2802.263427734375,2702.52001953125,2812.46142578125,2623.682373046875,2710.45654296875,2834.55859375,2644.19677734375,2652.697509765625,2755.4384765625,2670.7041015625],\"yaxis\":\"y\",\"type\":\"scatter\"},{\"hovertemplate\":\"<b>LOWESS trendline</b><br><br>variable=iphone_11_128<br>index=%{x}<br>value=%{y} <b>(trend)</b><extra></extra>\",\"legendgroup\":\"iphone_11_128\",\"marker\":{\"color\":\"#EF553B\",\"symbol\":\"circle\"},\"mode\":\"lines\",\"name\":\"iphone_11_128\",\"showlegend\":false,\"x\":[0,1,2,3,4,5,6,7,8,9,10,11,12,13,14,15,16,17,18,19,20,21,22,23,24,25,26,27,28,29,30,31,32,33,34,35,36,37,38,39,40,41,42,43,44,45,46,47,48,49,50,51,52,53,54,55,56,57,58,59,60,61,62,63,64,65,66,67,68,69,70,71,72,73,74,75,76,77,78,79,80,81,82,83,84,85,86,87,88],\"xaxis\":\"x\",\"y\":[2743.8344098975617,2741.588185191519,2739.418879785303,2737.327890068644,2735.315117831941,2733.377304640613,2731.5072851610826,2729.6943142284067,2727.9253018343416,2726.1857335834457,2724.4611754933308,2722.738661979679,2721.0073291383037,2719.258021982825,2717.483990861371,2715.6816222944117,2713.8501794511826,2711.9897458877103,2710.10064712208,2708.184288448831,2706.2465979669705,2704.2994943169024,2702.362346252944,2700.4616867107225,2698.6379165298035,2696.9530004264307,2695.508522226917,2694.4805988147727,2694.160221959606,2694.933304826538,2696.937175213988,2699.3991143670355,2702.1853036149937,2705.1277097181783,2708.0531728482806,2710.790232272093,2713.2037315587454,2715.2172569947634,2716.7990755500455,2717.9385164348237,2718.654151087083,2718.993281484373,2719.0309414286044,2718.851570841855,2718.543625838982,2718.1757138065727,2717.813217611222,2717.5445769468174,2717.4745924819176,2717.6702371165698,2718.1587660104137,2718.921117344964,2719.931455826013,2721.1260737860066,2722.4403487608893,2723.8198433670286,2725.2364973386734,2726.7056067145827,2728.2243280634016,2729.74662043992,2731.0233581465895,2731.9687025308285,2732.6284726425692,2733.0666331960565,2733.3391640947407,2733.4891047762576,2733.5488180045836,2733.544689417222,2733.4994457601115,2733.4318834992746,2733.356970096161,2733.286348228672,2733.2288936036207,2733.1900310167734,2733.17293247161,2733.1791610548994,2733.208083754632,2733.2577263510743,2733.325432925989,2733.4078392182023,2733.501338926974,2733.601828843545,2733.705254194675,2733.807271834441,2733.9046163526727,2733.9943936852205,2734.073114148687,2734.1383831043463,2734.189017701707],\"yaxis\":\"y\",\"type\":\"scatter\"},{\"hovertemplate\":\"variable=iphone_11_256<br>index=%{x}<br>value=%{y}<extra></extra>\",\"legendgroup\":\"iphone_11_256\",\"marker\":{\"color\":\"#00cc96\",\"symbol\":\"circle\"},\"mode\":\"markers\",\"name\":\"iphone_11_256\",\"orientation\":\"v\",\"showlegend\":true,\"x\":[0,1,2,3,4,5,6,7,8,9,10,11,12,13,14,15,16,17,18,19,20,21,22,23,24,25,26,27,28,29,30,31,32,33,34,35,36,37,38,39,40,41,42,43,44,45,46,47,48,49,50,51,52,53,54,55,56,57,58,59,60,61,62,63,64,65,66,67,68,69,70,71,72,73,74,75,76,77,78,79,80,81,82,83,84,85,86,87,88],\"xaxis\":\"x\",\"y\":[3087.150146484375,3591.072021484375,3279.73291015625,3200.350341796875,3869.596923828125,3935.398681640625,3557.56591796875,3505.759521484375,3555.4150390625,3379.118408203125,3316.45556640625,2992.438232421875,2252.237548828125,2603.0498046875,2519.109619140625,3276.85595703125,3562.172607421875,3649.966064453125,2997.507568359375,2191.464599609375,2164.44677734375,3229.145751953125,2537.144287109375,2917.437744140625,3682.911376953125,2964.989501953125,2706.36572265625,2307.60009765625,2238.54296875,2105.857666015625,2547.22265625,2644.915283203125,2550.044677734375,3353.384521484375,3135.69677734375,2654.88671875,2555.5859375,3202.65234375,2430.689453125,3054.596435546875,2905.57373046875,3194.91796875,1877.6690673828125,2265.4609375,3172.6875,3319.380615234375,2470.424560546875,3368.512939453125,2462.356201171875,2993.147705078125,2917.44775390625,3264.571044921875,2209.9013671875,3172.667724609375,3133.063232421875,3131.134521484375,3278.923828125,2958.80029296875,2677.1845703125,2958.8916015625,2686.3759765625,3009.3466796875,2735.21875,2917.63134765625,3114.46142578125,3142.080322265625,2975.56591796875,2913.258544921875,2820.41162109375,2947.21142578125,2974.416259765625,2795.14697265625,2932.20166015625,2783.291259765625,3167.193115234375,3112.46337890625,3043.268798828125,3041.32373046875,2813.96630859375,2810.615478515625,2844.973876953125,3012.650634765625,2654.146484375,2845.123291015625,2961.73779296875,2934.018310546875,2809.97705078125,3155.825927734375,2717.06689453125],\"yaxis\":\"y\",\"type\":\"scatter\"},{\"hovertemplate\":\"<b>LOWESS trendline</b><br><br>variable=iphone_11_256<br>index=%{x}<br>value=%{y} <b>(trend)</b><extra></extra>\",\"legendgroup\":\"iphone_11_256\",\"marker\":{\"color\":\"#00cc96\",\"symbol\":\"circle\"},\"mode\":\"lines\",\"name\":\"iphone_11_256\",\"showlegend\":false,\"x\":[0,1,2,3,4,5,6,7,8,9,10,11,12,13,14,15,16,17,18,19,20,21,22,23,24,25,26,27,28,29,30,31,32,33,34,35,36,37,38,39,40,41,42,43,44,45,46,47,48,49,50,51,52,53,54,55,56,57,58,59,60,61,62,63,64,65,66,67,68,69,70,71,72,73,74,75,76,77,78,79,80,81,82,83,84,85,86,87,88],\"xaxis\":\"x\",\"y\":[3435.7877822762703,3414.7096118030145,3393.78183874703,3373.020583519671,3352.444286669751,3332.073652110095,3311.925014356582,3292.008779150564,3272.3308269678396,3252.892741969325,3233.6912223086474,3214.719048010119,3195.9662378213843,3177.4230713489696,3159.0812801268253,3140.9360378767474,3122.985436957852,3105.2240428415757,3087.6373222938705,3070.1992054066195,3052.8751922445094,3035.623805475471,3018.393249581778,3001.1129274290242,2983.696117205902,2966.0378195127073,2948.023511999387,2929.6013583243052,2910.968913449092,2892.859151054567,2884.293943878169,2877.2657028480385,2871.789864153937,2867.802517308589,2865.1641838760106,2863.679222253434,2863.1371896027995,2863.3677680686205,2864.255684617881,2865.7290764363192,2867.779614017383,2870.463878738031,2873.870210289248,2878.017891924462,2882.807593501613,2888.0222822496844,2893.4230055390785,2898.861014322331,2904.3104005016617,2909.785607481282,2915.248031135413,2920.5675158098466,2925.616818473675,2930.224719194179,2934.2422989622714,2937.5971236690457,2940.3041813795685,2942.43421257401,2944.0601780063676,2945.242924610342,2944.597950083535,2943.6600444756177,2942.5295081640143,2941.2754658720137,2939.939771319783,2938.546131684137,2937.1056191610705,2935.6222612767783,2934.0981736481317,2932.5357759727367,2930.9384445681067,2929.309076070962,2927.6500145664504,2925.964315699107,2924.2550451544957,2922.525386141154,2920.7758907618077,2919.00462704847,2917.2081042159884,2915.3820549816205,2913.523468330291,2911.6309099751884,2909.7036959796446,2907.7410014673173,2905.744350523261,2903.716290846272,2901.658746411236,2899.5733294312236,2897.4618094095968],\"yaxis\":\"y\",\"type\":\"scatter\"}],                        {\"template\":{\"data\":{\"histogram2dcontour\":[{\"type\":\"histogram2dcontour\",\"colorbar\":{\"outlinewidth\":0,\"ticks\":\"\"},\"colorscale\":[[0.0,\"#0d0887\"],[0.1111111111111111,\"#46039f\"],[0.2222222222222222,\"#7201a8\"],[0.3333333333333333,\"#9c179e\"],[0.4444444444444444,\"#bd3786\"],[0.5555555555555556,\"#d8576b\"],[0.6666666666666666,\"#ed7953\"],[0.7777777777777778,\"#fb9f3a\"],[0.8888888888888888,\"#fdca26\"],[1.0,\"#f0f921\"]]}],\"choropleth\":[{\"type\":\"choropleth\",\"colorbar\":{\"outlinewidth\":0,\"ticks\":\"\"}}],\"histogram2d\":[{\"type\":\"histogram2d\",\"colorbar\":{\"outlinewidth\":0,\"ticks\":\"\"},\"colorscale\":[[0.0,\"#0d0887\"],[0.1111111111111111,\"#46039f\"],[0.2222222222222222,\"#7201a8\"],[0.3333333333333333,\"#9c179e\"],[0.4444444444444444,\"#bd3786\"],[0.5555555555555556,\"#d8576b\"],[0.6666666666666666,\"#ed7953\"],[0.7777777777777778,\"#fb9f3a\"],[0.8888888888888888,\"#fdca26\"],[1.0,\"#f0f921\"]]}],\"heatmap\":[{\"type\":\"heatmap\",\"colorbar\":{\"outlinewidth\":0,\"ticks\":\"\"},\"colorscale\":[[0.0,\"#0d0887\"],[0.1111111111111111,\"#46039f\"],[0.2222222222222222,\"#7201a8\"],[0.3333333333333333,\"#9c179e\"],[0.4444444444444444,\"#bd3786\"],[0.5555555555555556,\"#d8576b\"],[0.6666666666666666,\"#ed7953\"],[0.7777777777777778,\"#fb9f3a\"],[0.8888888888888888,\"#fdca26\"],[1.0,\"#f0f921\"]]}],\"heatmapgl\":[{\"type\":\"heatmapgl\",\"colorbar\":{\"outlinewidth\":0,\"ticks\":\"\"},\"colorscale\":[[0.0,\"#0d0887\"],[0.1111111111111111,\"#46039f\"],[0.2222222222222222,\"#7201a8\"],[0.3333333333333333,\"#9c179e\"],[0.4444444444444444,\"#bd3786\"],[0.5555555555555556,\"#d8576b\"],[0.6666666666666666,\"#ed7953\"],[0.7777777777777778,\"#fb9f3a\"],[0.8888888888888888,\"#fdca26\"],[1.0,\"#f0f921\"]]}],\"contourcarpet\":[{\"type\":\"contourcarpet\",\"colorbar\":{\"outlinewidth\":0,\"ticks\":\"\"}}],\"contour\":[{\"type\":\"contour\",\"colorbar\":{\"outlinewidth\":0,\"ticks\":\"\"},\"colorscale\":[[0.0,\"#0d0887\"],[0.1111111111111111,\"#46039f\"],[0.2222222222222222,\"#7201a8\"],[0.3333333333333333,\"#9c179e\"],[0.4444444444444444,\"#bd3786\"],[0.5555555555555556,\"#d8576b\"],[0.6666666666666666,\"#ed7953\"],[0.7777777777777778,\"#fb9f3a\"],[0.8888888888888888,\"#fdca26\"],[1.0,\"#f0f921\"]]}],\"surface\":[{\"type\":\"surface\",\"colorbar\":{\"outlinewidth\":0,\"ticks\":\"\"},\"colorscale\":[[0.0,\"#0d0887\"],[0.1111111111111111,\"#46039f\"],[0.2222222222222222,\"#7201a8\"],[0.3333333333333333,\"#9c179e\"],[0.4444444444444444,\"#bd3786\"],[0.5555555555555556,\"#d8576b\"],[0.6666666666666666,\"#ed7953\"],[0.7777777777777778,\"#fb9f3a\"],[0.8888888888888888,\"#fdca26\"],[1.0,\"#f0f921\"]]}],\"mesh3d\":[{\"type\":\"mesh3d\",\"colorbar\":{\"outlinewidth\":0,\"ticks\":\"\"}}],\"scatter\":[{\"fillpattern\":{\"fillmode\":\"overlay\",\"size\":10,\"solidity\":0.2},\"type\":\"scatter\"}],\"parcoords\":[{\"type\":\"parcoords\",\"line\":{\"colorbar\":{\"outlinewidth\":0,\"ticks\":\"\"}}}],\"scatterpolargl\":[{\"type\":\"scatterpolargl\",\"marker\":{\"colorbar\":{\"outlinewidth\":0,\"ticks\":\"\"}}}],\"bar\":[{\"error_x\":{\"color\":\"#2a3f5f\"},\"error_y\":{\"color\":\"#2a3f5f\"},\"marker\":{\"line\":{\"color\":\"#E5ECF6\",\"width\":0.5},\"pattern\":{\"fillmode\":\"overlay\",\"size\":10,\"solidity\":0.2}},\"type\":\"bar\"}],\"scattergeo\":[{\"type\":\"scattergeo\",\"marker\":{\"colorbar\":{\"outlinewidth\":0,\"ticks\":\"\"}}}],\"scatterpolar\":[{\"type\":\"scatterpolar\",\"marker\":{\"colorbar\":{\"outlinewidth\":0,\"ticks\":\"\"}}}],\"histogram\":[{\"marker\":{\"pattern\":{\"fillmode\":\"overlay\",\"size\":10,\"solidity\":0.2}},\"type\":\"histogram\"}],\"scattergl\":[{\"type\":\"scattergl\",\"marker\":{\"colorbar\":{\"outlinewidth\":0,\"ticks\":\"\"}}}],\"scatter3d\":[{\"type\":\"scatter3d\",\"line\":{\"colorbar\":{\"outlinewidth\":0,\"ticks\":\"\"}},\"marker\":{\"colorbar\":{\"outlinewidth\":0,\"ticks\":\"\"}}}],\"scattermapbox\":[{\"type\":\"scattermapbox\",\"marker\":{\"colorbar\":{\"outlinewidth\":0,\"ticks\":\"\"}}}],\"scatterternary\":[{\"type\":\"scatterternary\",\"marker\":{\"colorbar\":{\"outlinewidth\":0,\"ticks\":\"\"}}}],\"scattercarpet\":[{\"type\":\"scattercarpet\",\"marker\":{\"colorbar\":{\"outlinewidth\":0,\"ticks\":\"\"}}}],\"carpet\":[{\"aaxis\":{\"endlinecolor\":\"#2a3f5f\",\"gridcolor\":\"white\",\"linecolor\":\"white\",\"minorgridcolor\":\"white\",\"startlinecolor\":\"#2a3f5f\"},\"baxis\":{\"endlinecolor\":\"#2a3f5f\",\"gridcolor\":\"white\",\"linecolor\":\"white\",\"minorgridcolor\":\"white\",\"startlinecolor\":\"#2a3f5f\"},\"type\":\"carpet\"}],\"table\":[{\"cells\":{\"fill\":{\"color\":\"#EBF0F8\"},\"line\":{\"color\":\"white\"}},\"header\":{\"fill\":{\"color\":\"#C8D4E3\"},\"line\":{\"color\":\"white\"}},\"type\":\"table\"}],\"barpolar\":[{\"marker\":{\"line\":{\"color\":\"#E5ECF6\",\"width\":0.5},\"pattern\":{\"fillmode\":\"overlay\",\"size\":10,\"solidity\":0.2}},\"type\":\"barpolar\"}],\"pie\":[{\"automargin\":true,\"type\":\"pie\"}]},\"layout\":{\"autotypenumbers\":\"strict\",\"colorway\":[\"#636efa\",\"#EF553B\",\"#00cc96\",\"#ab63fa\",\"#FFA15A\",\"#19d3f3\",\"#FF6692\",\"#B6E880\",\"#FF97FF\",\"#FECB52\"],\"font\":{\"color\":\"#2a3f5f\"},\"hovermode\":\"closest\",\"hoverlabel\":{\"align\":\"left\"},\"paper_bgcolor\":\"white\",\"plot_bgcolor\":\"#E5ECF6\",\"polar\":{\"bgcolor\":\"#E5ECF6\",\"angularaxis\":{\"gridcolor\":\"white\",\"linecolor\":\"white\",\"ticks\":\"\"},\"radialaxis\":{\"gridcolor\":\"white\",\"linecolor\":\"white\",\"ticks\":\"\"}},\"ternary\":{\"bgcolor\":\"#E5ECF6\",\"aaxis\":{\"gridcolor\":\"white\",\"linecolor\":\"white\",\"ticks\":\"\"},\"baxis\":{\"gridcolor\":\"white\",\"linecolor\":\"white\",\"ticks\":\"\"},\"caxis\":{\"gridcolor\":\"white\",\"linecolor\":\"white\",\"ticks\":\"\"}},\"coloraxis\":{\"colorbar\":{\"outlinewidth\":0,\"ticks\":\"\"}},\"colorscale\":{\"sequential\":[[0.0,\"#0d0887\"],[0.1111111111111111,\"#46039f\"],[0.2222222222222222,\"#7201a8\"],[0.3333333333333333,\"#9c179e\"],[0.4444444444444444,\"#bd3786\"],[0.5555555555555556,\"#d8576b\"],[0.6666666666666666,\"#ed7953\"],[0.7777777777777778,\"#fb9f3a\"],[0.8888888888888888,\"#fdca26\"],[1.0,\"#f0f921\"]],\"sequentialminus\":[[0.0,\"#0d0887\"],[0.1111111111111111,\"#46039f\"],[0.2222222222222222,\"#7201a8\"],[0.3333333333333333,\"#9c179e\"],[0.4444444444444444,\"#bd3786\"],[0.5555555555555556,\"#d8576b\"],[0.6666666666666666,\"#ed7953\"],[0.7777777777777778,\"#fb9f3a\"],[0.8888888888888888,\"#fdca26\"],[1.0,\"#f0f921\"]],\"diverging\":[[0,\"#8e0152\"],[0.1,\"#c51b7d\"],[0.2,\"#de77ae\"],[0.3,\"#f1b6da\"],[0.4,\"#fde0ef\"],[0.5,\"#f7f7f7\"],[0.6,\"#e6f5d0\"],[0.7,\"#b8e186\"],[0.8,\"#7fbc41\"],[0.9,\"#4d9221\"],[1,\"#276419\"]]},\"xaxis\":{\"gridcolor\":\"white\",\"linecolor\":\"white\",\"ticks\":\"\",\"title\":{\"standoff\":15},\"zerolinecolor\":\"white\",\"automargin\":true,\"zerolinewidth\":2},\"yaxis\":{\"gridcolor\":\"white\",\"linecolor\":\"white\",\"ticks\":\"\",\"title\":{\"standoff\":15},\"zerolinecolor\":\"white\",\"automargin\":true,\"zerolinewidth\":2},\"scene\":{\"xaxis\":{\"backgroundcolor\":\"#E5ECF6\",\"gridcolor\":\"white\",\"linecolor\":\"white\",\"showbackground\":true,\"ticks\":\"\",\"zerolinecolor\":\"white\",\"gridwidth\":2},\"yaxis\":{\"backgroundcolor\":\"#E5ECF6\",\"gridcolor\":\"white\",\"linecolor\":\"white\",\"showbackground\":true,\"ticks\":\"\",\"zerolinecolor\":\"white\",\"gridwidth\":2},\"zaxis\":{\"backgroundcolor\":\"#E5ECF6\",\"gridcolor\":\"white\",\"linecolor\":\"white\",\"showbackground\":true,\"ticks\":\"\",\"zerolinecolor\":\"white\",\"gridwidth\":2}},\"shapedefaults\":{\"line\":{\"color\":\"#2a3f5f\"}},\"annotationdefaults\":{\"arrowcolor\":\"#2a3f5f\",\"arrowhead\":0,\"arrowwidth\":1},\"geo\":{\"bgcolor\":\"white\",\"landcolor\":\"#E5ECF6\",\"subunitcolor\":\"white\",\"showland\":true,\"showlakes\":true,\"lakecolor\":\"white\"},\"title\":{\"x\":0.05},\"mapbox\":{\"style\":\"light\"}}},\"xaxis\":{\"anchor\":\"y\",\"domain\":[0.0,1.0],\"title\":{\"text\":\"Days passed\"}},\"yaxis\":{\"anchor\":\"x\",\"domain\":[0.0,1.0],\"title\":{\"text\":\"Price\"}},\"legend\":{\"title\":{\"text\":\"variable\"},\"tracegroupgap\":0},\"title\":{\"text\":\"Changes in price in relation to days passed since 01.01.2021\"},\"shapes\":[{\"type\":\"line\",\"x0\":55,\"x1\":55,\"xref\":\"x\",\"y0\":0,\"y1\":1,\"yref\":\"y domain\"}]},                        {\"responsive\": true}                    ).then(function(){\n                            \nvar gd = document.getElementById('47636c9c-aea4-4d70-9b4e-b6a8a4e9e256');\nvar x = new MutationObserver(function (mutations, observer) {{\n        var display = window.getComputedStyle(gd).display;\n        if (!display || display === 'none') {{\n            console.log([gd, 'removed!']);\n            Plotly.purge(gd);\n            observer.disconnect();\n        }}\n}});\n\n// Listen for the removal of the full notebook cells\nvar notebookContainer = gd.closest('#notebook-container');\nif (notebookContainer) {{\n    x.observe(notebookContainer, {childList: true});\n}}\n\n// Listen for the clearing of the current output cell\nvar outputEl = gd.closest('.output');\nif (outputEl) {{\n    x.observe(outputEl, {childList: true});\n}}\n\n                        })                };                });            </script>        </div>"
     },
     "metadata": {},
     "output_type": "display_data"
    }
   ],
   "source": [
    "fig = px.scatter(prediction, trendline='lowess',\n",
    "                 title='Changes in price in relation to days passed since 01.01.2021').update_layout(\n",
    "    xaxis_title='Days passed', yaxis_title='Price')\n",
    "fig.add_vline(55)"
   ],
   "metadata": {
    "collapsed": false
   }
  },
  {
   "cell_type": "code",
   "execution_count": 28,
   "outputs": [],
   "source": [],
   "metadata": {
    "collapsed": false
   }
  }
 ],
 "metadata": {
  "kernelspec": {
   "display_name": "Python 3",
   "language": "python",
   "name": "python3"
  },
  "language_info": {
   "codemirror_mode": {
    "name": "ipython",
    "version": 2
   },
   "file_extension": ".py",
   "mimetype": "text/x-python",
   "name": "python",
   "nbconvert_exporter": "python",
   "pygments_lexer": "ipython2",
   "version": "2.7.6"
  }
 },
 "nbformat": 4,
 "nbformat_minor": 0
}
