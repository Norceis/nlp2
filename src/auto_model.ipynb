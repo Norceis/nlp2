{
 "cells": [
  {
   "cell_type": "code",
   "execution_count": 51,
   "metadata": {
    "collapsed": true
   },
   "outputs": [
    {
     "name": "stderr",
     "output_type": "stream",
     "text": [
      "Skipping line 346: expected 13 fields, saw 14\n",
      "Skipping line 367: expected 13 fields, saw 15\n",
      "Skipping line 466: expected 13 fields, saw 19\n",
      "Skipping line 467: expected 13 fields, saw 19\n",
      "Skipping line 494: expected 13 fields, saw 15\n",
      "Skipping line 615: expected 13 fields, saw 15\n",
      "Skipping line 616: expected 13 fields, saw 15\n",
      "Skipping line 617: expected 13 fields, saw 15\n",
      "Skipping line 618: expected 13 fields, saw 15\n",
      "Skipping line 619: expected 13 fields, saw 15\n",
      "Skipping line 620: expected 13 fields, saw 15\n",
      "Skipping line 712: expected 13 fields, saw 14\n",
      "Skipping line 713: expected 13 fields, saw 14\n",
      "Skipping line 739: expected 13 fields, saw 14\n",
      "Skipping line 747: expected 13 fields, saw 16\n",
      "Skipping line 867: expected 13 fields, saw 15\n",
      "Skipping line 956: expected 13 fields, saw 14\n",
      "Skipping line 1028: expected 13 fields, saw 14\n",
      "Skipping line 1234: expected 13 fields, saw 15\n",
      "Skipping line 1282: expected 13 fields, saw 17\n",
      "Skipping line 1326: expected 13 fields, saw 14\n",
      "Skipping line 1327: expected 13 fields, saw 14\n",
      "Skipping line 1337: expected 13 fields, saw 14\n",
      "Skipping line 1359: expected 13 fields, saw 14\n",
      "Skipping line 1401: expected 13 fields, saw 14\n",
      "Skipping line 1420: expected 13 fields, saw 14\n",
      "Skipping line 1496: expected 13 fields, saw 21\n",
      "Skipping line 1553: expected 13 fields, saw 16\n",
      "Skipping line 1615: expected 13 fields, saw 15\n",
      "Skipping line 1653: expected 13 fields, saw 14\n",
      "Skipping line 1684: expected 13 fields, saw 16\n",
      "Skipping line 1743: expected 13 fields, saw 16\n",
      "Skipping line 1774: expected 13 fields, saw 19\n",
      "Skipping line 1775: expected 13 fields, saw 16\n",
      "Skipping line 1792: expected 13 fields, saw 14\n",
      "Skipping line 1852: expected 13 fields, saw 14\n",
      "Skipping line 1875: expected 13 fields, saw 14\n",
      "Skipping line 1880: expected 13 fields, saw 14\n",
      "Skipping line 1955: expected 13 fields, saw 15\n",
      "Skipping line 1964: expected 13 fields, saw 16\n",
      "Skipping line 2077: expected 13 fields, saw 15\n",
      "Skipping line 2100: expected 13 fields, saw 16\n",
      "Skipping line 2113: expected 13 fields, saw 16\n",
      "Skipping line 2121: expected 13 fields, saw 14\n",
      "Skipping line 2182: expected 13 fields, saw 14\n",
      "Skipping line 2215: expected 13 fields, saw 16\n",
      "Skipping line 2255: expected 13 fields, saw 44\n",
      "Skipping line 2256: expected 13 fields, saw 44\n",
      "Skipping line 2330: expected 13 fields, saw 15\n",
      "Skipping line 2351: expected 13 fields, saw 14\n",
      "Skipping line 2372: expected 13 fields, saw 19\n",
      "Skipping line 2377: expected 13 fields, saw 44\n",
      "Skipping line 2381: expected 13 fields, saw 44\n",
      "Skipping line 2395: expected 13 fields, saw 44\n",
      "Skipping line 2397: expected 13 fields, saw 44\n",
      "Skipping line 2440: expected 13 fields, saw 14\n",
      "Skipping line 2443: expected 13 fields, saw 14\n",
      "Skipping line 2496: expected 13 fields, saw 44\n",
      "Skipping line 2497: expected 13 fields, saw 44\n",
      "Skipping line 2498: expected 13 fields, saw 16\n",
      "Skipping line 2584: expected 13 fields, saw 16\n",
      "Skipping line 2585: expected 13 fields, saw 44\n",
      "Skipping line 2641: expected 13 fields, saw 15\n",
      "Skipping line 2650: expected 13 fields, saw 15\n",
      "Skipping line 2841: expected 13 fields, saw 44\n",
      "Skipping line 2941: expected 13 fields, saw 14\n",
      "Skipping line 3071: expected 13 fields, saw 15\n",
      "Skipping line 3115: expected 13 fields, saw 44\n",
      "Skipping line 3174: expected 13 fields, saw 15\n",
      "Skipping line 3410: expected 13 fields, saw 44\n",
      "Skipping line 3487: expected 13 fields, saw 44\n",
      "Skipping line 3488: expected 13 fields, saw 16\n",
      "Skipping line 3529: expected 13 fields, saw 14\n",
      "Skipping line 3534: expected 13 fields, saw 14\n",
      "Skipping line 3624: expected 13 fields, saw 15\n",
      "Skipping line 3737: expected 13 fields, saw 44\n",
      "Skipping line 3738: expected 13 fields, saw 44\n",
      "Skipping line 3739: expected 13 fields, saw 44\n",
      "Skipping line 3781: expected 13 fields, saw 14\n",
      "Skipping line 3797: expected 13 fields, saw 15\n",
      "Skipping line 3852: expected 13 fields, saw 15\n",
      "Skipping line 3961: expected 13 fields, saw 14\n",
      "Skipping line 3971: expected 13 fields, saw 15\n",
      "Skipping line 4094: expected 13 fields, saw 14\n",
      "Skipping line 4120: expected 13 fields, saw 15\n",
      "Skipping line 4341: expected 13 fields, saw 14\n",
      "Skipping line 4370: expected 13 fields, saw 15\n",
      "Skipping line 4407: expected 13 fields, saw 44\n",
      "Skipping line 4434: expected 13 fields, saw 14\n",
      "Skipping line 4435: expected 13 fields, saw 14\n",
      "Skipping line 4520: expected 13 fields, saw 16\n",
      "Skipping line 4550: expected 13 fields, saw 15\n",
      "Skipping line 4656: expected 13 fields, saw 16\n",
      "Skipping line 4670: expected 13 fields, saw 14\n",
      "Skipping line 4705: expected 13 fields, saw 14\n",
      "Skipping line 4721: expected 13 fields, saw 16\n",
      "Skipping line 4723: expected 13 fields, saw 16\n",
      "Skipping line 4969: expected 13 fields, saw 14\n",
      "Skipping line 4986: expected 13 fields, saw 44\n",
      "Skipping line 5037: expected 13 fields, saw 15\n",
      "\n",
      "E:\\nlp2\\src\\util.py:81: SettingWithCopyWarning: \n",
      "A value is trying to be set on a copy of a slice from a DataFrame.\n",
      "Try using .loc[row_indexer,col_indexer] = value instead\n",
      "\n",
      "See the caveats in the documentation: https://pandas.pydata.org/pandas-docs/stable/user_guide/indexing.html#returning-a-view-versus-a-copy\n",
      "  data_filtered.loc[:, 'Name'] = data_filtered.loc[:, 'Name'].str.lower()\n",
      "E:\\nlp2\\src\\util.py:82: SettingWithCopyWarning: \n",
      "A value is trying to be set on a copy of a slice from a DataFrame.\n",
      "Try using .loc[row_indexer,col_indexer] = value instead\n",
      "\n",
      "See the caveats in the documentation: https://pandas.pydata.org/pandas-docs/stable/user_guide/indexing.html#returning-a-view-versus-a-copy\n",
      "  data_filtered.loc[:, 'Description'] = data_filtered.loc[:, 'Description'].str.lower()\n",
      "E:\\nlp2\\src\\util.py:85: SettingWithCopyWarning: \n",
      "A value is trying to be set on a copy of a slice from a DataFrame.\n",
      "Try using .loc[row_indexer,col_indexer] = value instead\n",
      "\n",
      "See the caveats in the documentation: https://pandas.pydata.org/pandas-docs/stable/user_guide/indexing.html#returning-a-view-versus-a-copy\n",
      "  data_filtered['First_date'] = data_filtered['Date'].min()\n",
      "E:\\nlp2\\src\\util.py:86: SettingWithCopyWarning: \n",
      "A value is trying to be set on a copy of a slice from a DataFrame.\n",
      "Try using .loc[row_indexer,col_indexer] = value instead\n",
      "\n",
      "See the caveats in the documentation: https://pandas.pydata.org/pandas-docs/stable/user_guide/indexing.html#returning-a-view-versus-a-copy\n",
      "  data_filtered['Date'] = pd.to_datetime(data_filtered.Date, format='%Y-%m-%d')\n",
      "E:\\nlp2\\src\\util.py:87: SettingWithCopyWarning: \n",
      "A value is trying to be set on a copy of a slice from a DataFrame.\n",
      "Try using .loc[row_indexer,col_indexer] = value instead\n",
      "\n",
      "See the caveats in the documentation: https://pandas.pydata.org/pandas-docs/stable/user_guide/indexing.html#returning-a-view-versus-a-copy\n",
      "  data_filtered['First_date'] = pd.to_datetime(data_filtered.First_date, format='%Y-%m-%d')\n",
      "E:\\nlp2\\src\\util.py:88: SettingWithCopyWarning: \n",
      "A value is trying to be set on a copy of a slice from a DataFrame.\n",
      "Try using .loc[row_indexer,col_indexer] = value instead\n",
      "\n",
      "See the caveats in the documentation: https://pandas.pydata.org/pandas-docs/stable/user_guide/indexing.html#returning-a-view-versus-a-copy\n",
      "  data_filtered['Days_passed'] = data_filtered['Date'] - data_filtered['First_date']\n",
      "E:\\nlp2\\src\\util.py:89: SettingWithCopyWarning: \n",
      "A value is trying to be set on a copy of a slice from a DataFrame.\n",
      "Try using .loc[row_indexer,col_indexer] = value instead\n",
      "\n",
      "See the caveats in the documentation: https://pandas.pydata.org/pandas-docs/stable/user_guide/indexing.html#returning-a-view-versus-a-copy\n",
      "  data_filtered['Days_passed_name'] = data_filtered['Days_passed'].astype(str) + ' ' + data_filtered['Name']\n",
      "E:\\nlp2\\src\\util.py:90: SettingWithCopyWarning: \n",
      "A value is trying to be set on a copy of a slice from a DataFrame.\n",
      "Try using .loc[row_indexer,col_indexer] = value instead\n",
      "\n",
      "See the caveats in the documentation: https://pandas.pydata.org/pandas-docs/stable/user_guide/indexing.html#returning-a-view-versus-a-copy\n",
      "  data_filtered['Days_passed_name_desc'] = data_filtered['Days_passed'].astype(str) + ' ' + \\\n"
     ]
    }
   ],
   "source": [
    "import pandas as pd\n",
    "import numpy as np\n",
    "import torch\n",
    "import pickle\n",
    "from torch.utils.data import TensorDataset\n",
    "from sklearn.model_selection import train_test_split\n",
    "from sklearn.preprocessing import StandardScaler\n",
    "from sklearn.metrics import r2_score, mean_squared_error, mean_absolute_error\n",
    "from transformers import AutoModelForSequenceClassification, AutoTokenizer, Trainer, TrainingArguments\n",
    "from util import preprocess_data, compute_metrics, foresee\n",
    "\n",
    "SEED = 2137\n",
    "PATH_FOR_MODEL = '../models/auto_days_name'\n",
    "EPOCHS = 10\n",
    "\n",
    "data = pd.read_csv('../data/recruitment_data_modified_python.csv',\n",
    "                   encoding='utf-8',\n",
    "                   sep=',',\n",
    "                   on_bad_lines='warn',\n",
    "                   quotechar='\"',\n",
    "                   doublequote=True,\n",
    "                   names=['URL', 'Voivodeship', 'Scrap_time', 'Name', 'Price', 'Brand', 'Condition', 'Offer_from', 'Type', 'Description', 'Added_at', 'Views', 'User_since'],\n",
    "                   skiprows=1)\n",
    "\n",
    "preprocessed_data = preprocess_data(data)"
   ]
  },
  {
   "cell_type": "code",
   "execution_count": 2,
   "outputs": [
    {
     "data": {
      "text/plain": "       Price                                   Days_passed_name  \\\n0     2799.0  52 days iphone 11 64 jak nowy 95% gwarancja wy...   \n1     2700.0  51 days iphone 11 64 gb czarny, idealny z gwar...   \n2     2899.0  51 days jak nowy apple iphone 11 256gbgb white...   \n3     2500.0  51 days apple iphone 11 biały 64gb - jak nowy ...   \n4     2150.0                51 days iphone 11 64 gb + gwarancja   \n...      ...                                                ...   \n2667  2299.0                       51 days iphone 11 black 64gb   \n2668  1900.0           51 days i phone 11 64 gb cena tylko dzis   \n2669  2800.0  51 days iphone 11  128 gb gwarancja , 100% bat...   \n2670  1650.0                       50 days iphone 11 white 64gb   \n2671  1700.0  51 days apple iphone 11 bez simlocka cały komp...   \n\n                                  Days_passed_name_desc  \n0     52 days iphone 11 64 jak nowy 95% gwarancja wy...  \n1     51 days iphone 11 64 gb czarny, idealny z gwar...  \n2     51 days jak nowy apple iphone 11 256gbgb white...  \n3     51 days apple iphone 11 biały 64gb - jak nowy ...  \n4     51 days iphone 11 64 gb + gwarancja witam, mam...  \n...                                                 ...  \n2667  51 days iphone 11 black 64gb sprzedam iphone 1...  \n2668  51 days i phone 11 64 gb cena tylko dzis cena ...  \n2669  51 days iphone 11  128 gb gwarancja , 100% bat...  \n2670  50 days iphone 11 white 64gb na sprzedaż posia...  \n2671  51 days apple iphone 11 bez simlocka cały komp...  \n\n[2672 rows x 3 columns]",
      "text/html": "<div>\n<style scoped>\n    .dataframe tbody tr th:only-of-type {\n        vertical-align: middle;\n    }\n\n    .dataframe tbody tr th {\n        vertical-align: top;\n    }\n\n    .dataframe thead th {\n        text-align: right;\n    }\n</style>\n<table border=\"1\" class=\"dataframe\">\n  <thead>\n    <tr style=\"text-align: right;\">\n      <th></th>\n      <th>Price</th>\n      <th>Days_passed_name</th>\n      <th>Days_passed_name_desc</th>\n    </tr>\n  </thead>\n  <tbody>\n    <tr>\n      <th>0</th>\n      <td>2799.0</td>\n      <td>52 days iphone 11 64 jak nowy 95% gwarancja wy...</td>\n      <td>52 days iphone 11 64 jak nowy 95% gwarancja wy...</td>\n    </tr>\n    <tr>\n      <th>1</th>\n      <td>2700.0</td>\n      <td>51 days iphone 11 64 gb czarny, idealny z gwar...</td>\n      <td>51 days iphone 11 64 gb czarny, idealny z gwar...</td>\n    </tr>\n    <tr>\n      <th>2</th>\n      <td>2899.0</td>\n      <td>51 days jak nowy apple iphone 11 256gbgb white...</td>\n      <td>51 days jak nowy apple iphone 11 256gbgb white...</td>\n    </tr>\n    <tr>\n      <th>3</th>\n      <td>2500.0</td>\n      <td>51 days apple iphone 11 biały 64gb - jak nowy ...</td>\n      <td>51 days apple iphone 11 biały 64gb - jak nowy ...</td>\n    </tr>\n    <tr>\n      <th>4</th>\n      <td>2150.0</td>\n      <td>51 days iphone 11 64 gb + gwarancja</td>\n      <td>51 days iphone 11 64 gb + gwarancja witam, mam...</td>\n    </tr>\n    <tr>\n      <th>...</th>\n      <td>...</td>\n      <td>...</td>\n      <td>...</td>\n    </tr>\n    <tr>\n      <th>2667</th>\n      <td>2299.0</td>\n      <td>51 days iphone 11 black 64gb</td>\n      <td>51 days iphone 11 black 64gb sprzedam iphone 1...</td>\n    </tr>\n    <tr>\n      <th>2668</th>\n      <td>1900.0</td>\n      <td>51 days i phone 11 64 gb cena tylko dzis</td>\n      <td>51 days i phone 11 64 gb cena tylko dzis cena ...</td>\n    </tr>\n    <tr>\n      <th>2669</th>\n      <td>2800.0</td>\n      <td>51 days iphone 11  128 gb gwarancja , 100% bat...</td>\n      <td>51 days iphone 11  128 gb gwarancja , 100% bat...</td>\n    </tr>\n    <tr>\n      <th>2670</th>\n      <td>1650.0</td>\n      <td>50 days iphone 11 white 64gb</td>\n      <td>50 days iphone 11 white 64gb na sprzedaż posia...</td>\n    </tr>\n    <tr>\n      <th>2671</th>\n      <td>1700.0</td>\n      <td>51 days apple iphone 11 bez simlocka cały komp...</td>\n      <td>51 days apple iphone 11 bez simlocka cały komp...</td>\n    </tr>\n  </tbody>\n</table>\n<p>2672 rows × 3 columns</p>\n</div>"
     },
     "execution_count": 2,
     "metadata": {},
     "output_type": "execute_result"
    }
   ],
   "source": [
    "preprocessed_data"
   ],
   "metadata": {
    "collapsed": false
   }
  },
  {
   "cell_type": "code",
   "execution_count": 48,
   "outputs": [
    {
     "data": {
      "text/plain": "['52 days iphone 11 64 jak nowy 95% gwarancja wyświetlacz',\n '51 days iphone 11 64 gb czarny, idealny z gwarancją. wymiana',\n '51 days jak nowy apple iphone 11 256gbgb white gwarancja',\n '51 days apple iphone 11 biały 64gb - jak nowy gwarancja paragon 4xetui',\n '51 days iphone 11 64 gb + gwarancja',\n '51 days iphone 11 64 gb + gwarancja',\n '51 days iphone 11 w bardzo dobrym stanie',\n '51 days iphone 11 * idealny stan * 100% bateria * gwarancja * zamiana *',\n '51 days iphone 11 128 gb stan idealny etui gratis',\n '52 days iphone 11 64 gb prawie nowy super zestaw',\n '52 days iphone 11 czarny 128 gb',\n '51 days oryginalny | apple iphone 11 64/128gb | różne kolory | rok gwarancji',\n '51 days sprzedam iphone 11 128gb red 23msc gwarancji',\n '52 days iphone 11 64gb fioletowy perfekcyjny purple',\n '51 days apple iphone 11 64gb red poznań długa 14',\n '51 days iphone 11 ideał gwarancja 256gb',\n '51 days telefon iphone se (2020) gw do 11.09.2021',\n '51 days iphone  11 ( rezerwacja )',\n '51 days iphone 11 miętowy 128gb',\n '51 days jak nowy apple iphone 11 64gb / gwarancja / al.niepodległości 1',\n '52 days iphone 11',\n '52 days iphone 11 black 64gb',\n '52 days iphone 11 64gb red • promocja • gwarancja 1 msc • applecentrum',\n '52 days apple iphone 11 256gb gwarancja',\n '52 days iphone 11 white.',\n '52 days iphone 11 128gb white • bateria 100%• gwar 1 msc • applecentrum',\n '52 days iphone 11 64gb yellow • promocja • gwar 1 msc • applecentrum',\n '52 days iphone 11 64gb',\n '52 days iphone 11 64gb biały',\n '52 days iphone 11 red',\n '53 days iphone 11 64 gb jak nowy',\n '0 days iphone 11 używany 128gb',\n '0 days iphone 11 64 bateria 87% czarny. roczny gwarancja',\n '0 days iphone 11 64gb zielony gwarancja 06.2021',\n '52 days apple iphone 11 yellow żółty +kilka etui+ gwarancja na szkło hybrydowe',\n '52 days iphone 11 stan idealny możliwa wymiana',\n '52 days iphon 11/64 gb black',\n '52 days iphone 11 64gb stan idealny',\n '0 days iphone 11, 64gb, gwarancja',\n '0 days iphone 11 64gb black • promocja • gw do 05.04.2021 • applecentrum',\n '0 days iphone 11',\n '0 days iphone 11 64gb white stan perfekcyjny !! rok gwarancja',\n '0 days iphone 11 128gb czarny bez blokad',\n '0 days iphone 11 64 gb na gwarancji apple! warszawa',\n '0 days iphone 11 64gb black - stan bdb',\n '0 days iphone 11 64gb purple jak nowy plus 3 odbudowy i szklo hart.',\n '0 days iphone 11 64 gb czarny idealny gw apple 09.2021r',\n '0 days iphone 11 256gb  biały super stan',\n '52 days iphone 11 , 64gb',\n '52 days iphone 11  256gb biały',\n '52 days iphone 11 64gb w super stanie',\n '1 days iphone 11 64 gb gwarancja 08.2021 zamiana s20 ultra',\n '1 days iphone 11/128gb/bateria 100%/na gwarancji/fv',\n '0 days iphone 11 256gb czarny jak nowy bez rysy gwarancja',\n '0 days apple iphone 11 black 64gb jak nowy + 2 etui spigen',\n '0 days iphone 11 64gb',\n '52 days iphone 11, 64 gb',\n '0 days iphone 11 64 gb stan nowy  zamiana za iphone 12 mini',\n '0 days apple iphone 11 64gb red gwarancja ważna do 13.12.2021',\n '0 days iphone 11 64gb. gwarancja.',\n '0 days iphone 11 64 gb na gwarancji do 03/2021 purple',\n '0 days sprzedam iphone 11 64 gb',\n '0 days apple iphone 11 128 gb czarny',\n '0 days iphone 11 128 gb',\n '0 days iphone 11 64gb idealny',\n '0 days iphone 11 64gb stan idealny',\n '0 days iphone 11 64gb',\n '0 days iphone x 64gb zamiana za 11 lub xs max',\n '1 days iphone 11 128gb | stan bardzo dobry | gwarancja | fv 23% | +case',\n '1 days iphone 11 64gb zielony',\n '1 days iphone 11 64 gb jak nowy',\n '1 days iphone 11 (64gb) jak nowy / gwarancja do 2022 roku!',\n '1 days apple iphone 11 128gb jak nowy. gwarancja, caly zestaw+ gratisy',\n '1 days iphone 11 64 gb',\n '1 days iphone 11 64gb product red',\n '1 days iphona 11 128gb do 2900',\n '1 days iphone 11 64gb gwarancja biały',\n '1 days iphone 11',\n '1 days iphone 11  128 gb jak nowy gwarancja do 09.2021',\n '1 days iphone 11 128gb biały',\n '1 days iphone 11 128 gb biały',\n '1 days iphone 11 64 gb super stan! okazja!',\n '1 days sprzedam lub zamienie na iphona 11',\n '2 days iphone 11 / 64gb czarny',\n '2 days iphone 11 64gb zielony gwarancja 06.2021',\n '1 days iphone 11 black 64gb',\n '1 days iphone 11 gwarancja 06.2021 bateria 99%',\n '1 days iphone 11 black 64gb',\n '1 days iphone 11 64 gb czerwony',\n '1 days iphone 11 256 gb 22 msc gwarancji jak nowy',\n '1 days wzorowy iphone 11 64gb black gwarancja! + duży zestaw',\n '1 days iphone 11/product red/128gb/stan idealny',\n '1 days iphone 11 64 gb na gwarancji apple! warszawa',\n '1 days iphone 11 64 gb miętowy',\n '0 days iphone 11 256gb stan idealny+6sztuk etuii extra cena tylko dzis',\n '1 days iphone 11 128gb',\n '1 days iphone 11 64gb',\n '1 days iphone 11 256 pamieci stan idealny plus case',\n '1 days telefon iphone 11 128gb',\n '1 days iphone 11 64 gb stan nowy  zamiana za iphone 12 okazja do 03.01',\n '1 days iphone 11 jak nowy',\n '1 days iphone 11 256gb biały',\n '1 days apple iphone 11 64gb zielony!! media expert',\n '1 days sprzedam iphone 11 256 gb stan bdb',\n '1 days iphone 11 64 gb',\n '1 days iphone 11 64gb czarny na gwarancji',\n '1 days iphone 11 64gb red - gwarancja - komplet  - szkło hartowane - 2 etui',\n '2 days ubezpieczony (2 lata na ekran) iphone se 2020, 64gb, black,11.2020r.',\n '2 days iphone 11 64gb yellow • bateria 100% • gwar do 11.07.21 • applecentrum',\n '2 days iphone 11 64gb red • nowa bateria • gwarancja 1 msc • applecentrum',\n '2 days iphone 11 64gb red • nowa bateria • gwar do 4.02.2021 • applecentrum',\n '2 days iphone 11 64gb yellow • promocja • gw do 10.05.22 1 msc • applecentrum',\n '2 days iphone 11 128gb green • promocja • gwar do 12.11.20 • applecentrum',\n '2 days iphone 11 64gb black • promocja • gwarancja 1 msc • applecentrum',\n '2 days iphone 11 64gb black • promocja • gwarancja 1 msc • applecentrum',\n '2 days iphone 11 64gb purple • promocja • gwarancja 1 msc • applecentrum',\n '2 days iphone 11 black sprawny',\n '2 days iphone 11 64 gwarancja jak nowy',\n '2 days iphone 11 64gb jak nowy',\n '2 days iphone 11 64 gb żółty rok gwarancja !!',\n '2 days iphone 11, 128 gb, silver! sprzedam!',\n '3 days iphone 11 128gb',\n '2 days iphone 11 64 gb black',\n '2 days iphone 11 128gb najntanszr w wojewodztwiered! stan idealny- zestaw 91%',\n '2 days iphone 11 64 gb jak nowy! raty / sklep / fv',\n '2 days iphone 11 64 gb biały / sklep / raty / stan idealny',\n '2 days iphone 11 64 gb miętowy zielony / sklep / raty / stan idealny',\n '2 days iphone 11 64 gb lawendowy / sklep / raty / stan idealny',\n '2 days iphone 11 64gb, do wyboru 2sztuki (zielony lub fioletowy).',\n '2 days iphone 11 64gb zielony+2 etui',\n '2 days iphone 11 black 256gb',\n '2 days iphone 11 64 gb czarny',\n '2 days iphone 11 64gb',\n '2 days iphone 11 64 gb miętowy',\n '2 days iphone 11 128 gb biały',\n '2 days iphone 11 fioletowy 64gb gwarancja bdb + dodatki',\n '2 days iphone 11 256gb',\n '2 days sprzedam iphone 11 biały zarezerwowany do  05/01/21',\n '2 days j. nowy apple iphone 11 yellow 64gb polska + gwarancja 03.2021',\n '2 days iphone 11 64gb',\n '2 days apple iphone 11 64gb red gwarancja ważna do 13.12.2021',\n '2 days iphone 11 64 gb czanry',\n '2 days iphone 11 64gb',\n '2 days iphone 11 128gb',\n '3 days iphone 11',\n '2 days iphone 11',\n '2 days apple iphone 11 64gb green poznań długa 14',\n '2 days iphone 11 64gb gwarancja!',\n '2 days apple iphone 11 64gb czarny black idealny + szkło',\n '2 days iphone 11 64gb kolor czarny',\n '2 days apple iphone 11 64gb biały white + szkło',\n '2 days iphone 11 128gb',\n '3 days iphone 11 64gb black • bateria 100% • gwarancja 1 msc • applecentrum',\n '3 days iphone 11 64gb black • promocja • gw do 05.04.2021 • applecentrum',\n '3 days iphone 11 64gb green • promocja • gwarancja 1 msc • applecentrum',\n '4 days iphone 11 128gb',\n '3 days iphone 11 64gb zielony',\n '3 days iphone 11 gold 256 gb',\n '3 days idealny iphone se 2020 64gb gwarancja 11.2021r',\n '3 days iphone xs silver 64gb stan idealny x xs 11 12',\n '3 days 762: apple iphone 11 128gb mobileuk lublin',\n '3 days 760: apple iphone 11 128gb mobileuk lublin',\n '3 days iphone 11 128 g biały na gwarancji ideał',\n '3 days iphon 11 64g',\n '3 days iphone 11 64 gb idealny, zestaw, gwarancja apple',\n '3 days iphone 11',\n '3 days artkom oferuje: najtaniej jak nowy iphone 11 64gb red super okazja!',\n '3 days iphone 11 64gb black',\n '3 days iphone 11 128 gb biały',\n '4 days iphone 11 64gb czarny',\n '4 days iphone 11 64gb zielony gwarancja 06.2021',\n '3 days nowy iphone 11 128 gb black',\n '3 days iphone 11 kupiony 2 miesiace temu zamiana pixel',\n '3 days iphone 11 / 64gb czarny',\n '3 days iphone 11 128gb',\n '3 days iphone 11 128 gb',\n '3 days iphone 11 128gb nowe słuchawki, zadbany, gratisy',\n '3 days apple iphone 11 64gb gwiezdna szarość',\n '52 days iphone 11 64 gb black nowy gwarancja gratisy',\n '3 days iphone 11 - 64 gb red',\n '3 days iphone 11 64 gb zielony',\n '3 days telefon apple iphone 11 128gb fioletowy ideal',\n '3 days iphone 11 biały 128 gb gwarancja',\n '52 days nieużywany telefon apple iphone 11 64gb white od firmy gw 12msc',\n '3 days iphone 11',\n '52 days iphone 11 black 128gb stan idealny',\n '3 days iphone 11 256gb biały / gwarancja apple / stan idealny / zamienie',\n '3 days iphone 11 stan idealny',\n '3 days iphone 11 128 gb',\n '3 days iphone 11 128gb zólty kondycja baterii 100%',\n '3 days iphone 11 128gb zółty kondycja baterii 100%',\n '3 days iphone 11 64gb',\n '3 days iphone 11, black, 64gb. dowod zakupu + pelny zestaw',\n '3 days iphone 11 256gb super stan',\n '3 days iphone 11',\n '3 days iphone 11 green / gwarancja 09.2022 / bateria 100% / etui',\n '53 days iphone 11 256gb biały',\n '52 days iphone 11 64 gb',\n '52 days iphone 11 64gb czarny gwarancja',\n '4 days mega zestaw iphone 11 pro 64gb oraz airpods pro!',\n '4 days iphone 11 pro 64 gb',\n '4 days iphone 11 pro max gold 64gb',\n '4 days iphone 11 pro max, space gray, 64gb',\n '4 days apple iphone 11 64 gb | jak nowy | komplet | gwarancja',\n '4 days apple iphone 11 pro max 64gb nocna zieleń teletorium auchan wałbrzych',\n '4 days *jak nowy*apple iphone 11 64gb black euro-net 22 mies gwar. bateria 98',\n '3 days iphone 11 pro max midnight green 64 gb gwarancja',\n '3 days piękny iphone 11 pro 256gb gwiezdna szarość- stan idealny',\n '5 days iphone 11 pro max 64gb - bydgoszcz',\n '4 days iphone 11 pro czarny w swietnym stanie 256 gb',\n '4 days iphone 11 | 64gb czarny | kondycja 100% | gwarancja',\n '52 days iphone 11',\n '4 days iphone 11 (64 gb) - bardzo ładny / gwarancja / euro rtv',\n '4 days iphone 11 pro 512 gb silver \\uf8ff stan idealny.',\n '4 days iphone 11 pro max 64gb space gray szary',\n '4 days iphone 11 64 gb biały',\n '4 days iphon 11 pro',\n '4 days iphone 11 pro max 256gb - na gwarancji - idealny',\n '4 days iphone 11 wraz z etui 64gb black czarny apple',\n '4 days iphone 11 pro max 64gb zielony, stan bdb, komplet, gwarancja',\n '4 days iphone 11 fioletowy 64gb',\n '4 days iphone 11 pro 64gb',\n '4 days apple iphone 11 product red gwarancja 2021',\n '3 days apple iphone 11 pro 256gb + akcesoria',\n '4 days iphone 11+ etui+folia',\n '4 days iphon 11 pro',\n '4 days iphone 11 pro max/256 gb  space grey',\n '4 days iphone 11 64gb apple kolor purple',\n '4 days iphone 11 pro silver 64gb stan bardzo dobry',\n '4 days iphone 11 64 gb jak nowy! raty / sklep / fv',\n '4 days iphone 11 64 gb biały / sklep / raty / stan idealny',\n '4 days iphone 11 64 gb miętowy zielony / sklep / raty / stan idealny',\n '4 days iphone 11 64 gb lawendowy / sklep / raty / stan idealny',\n '4 days iphone 11 pro 64 gb biały / sklep / raty / stan idealny / fv',\n '4 days iphone  x stan idealny zamiana za xs lub 11 z doplata moja',\n '4 days iphone 11 pro max space grey 64gb',\n '4 days iphone 11 pro 64gb space gray z gwarancją',\n '4 days apple iphone 11 pro max 256 gb gold',\n '4 days iphone 11 pro max 64 gb świetna cena! okazja! zobacz! gwarancja',\n '4 days iphone 11 pro max 256gb nocna zieleń',\n '4 days apple iphone 11 pro max 64gb space grey gwarnacja',\n '4 days iphone 11 256gb idealny 97% kondycji!',\n '4 days iphone 11 64 gb używany',\n '4 days iphone 11 black 256 gb',\n '4 days iphone 11',\n '4 days iphone 11 128 gb biały',\n '4 days iphone 11  64 gb',\n '4 days sprzedam  iphone 11 biały',\n '4 days iphone 11 black 64gb !okazja!',\n '4 days iphone 11 256gb',\n '4 days (4849/20) iphone 11 64gb - gwarancja',\n '4 days iphone 11',\n '4 days iphone 12 pro max 128gb silver jak nowy z apple pl, gwar. 19.11.2021',\n '4 days apple iphone 11 pro 256gb space gray jak nowy z pl (cortland) + etui',\n '4 days iphone 11 64gb',\n '4 days iphone 11 red 256 gb gwarancja',\n '4 days iphone 11 pro max 256gb gold',\n '4 days iphone 11 stan idealny',\n '4 days iphone 11 pro',\n '4 days iphone 11 pro max 64 gb',\n '4 days iphone 11 pro max 64gb idealny!',\n '4 days iphone 11 64gb white - wzorowy !! - gsm słowiańska',\n '3 days apple iphone 11 pro max gold 64gb pl ubezpieczenie!',\n '3 days iphone 11 pro',\n '4 days iphone11',\n '5 days iphone 11 po 64gb ext battery + iwatch 5 44mm grey',\n '5 days apple iphone 11 64 gb | jak nowy | komplet | gwarancja',\n '5 days apple iphone 11 128 gb!! black gwarancja z orange + gratis',\n '5 days piękny iphone 11 pro 256gb gwiezdna szarość- stan idealny',\n '5 days apple iphone 11 pro 64gb midnight green',\n '5 days apple iphone 11 64gb green',\n '5 days iphone 11 white 128 gb',\n '5 days iphone 11 64gb zielony',\n '5 days iphone 11 128 gb jak nowy na gwarancji',\n '5 days iphone 11 64gb idealny stan gwarancja',\n '5 days iphone 11 64gb wymiana za xs/xs max najlepiej zlotego',\n '5 days iphone 11 64gb stan idealny',\n '5 days iphone 11 pro max 64 gb złoty',\n '5 days iphone 11 64gb żółty',\n '5 days iphone 11 64gb biały- jak nowy!',\n '5 days iphone 11 pro max 64gb gold',\n '5 days iphone 11 pro space grey 64gb bateria 88%',\n '5 days iphone 11 white, 64gb, świetny stan, dowód zakupu.',\n '5 days iphone 11 pro max 256gb stan jak nowy idelany',\n '5 days iphone 11 pro max idealny, bateria 98%',\n '5 days iphone 11 pro 256gb midnight green',\n '5 days iphon 11 pro 256 gb ze stycznia 2020r kolor złoty',\n '5 days iphone 11 white 64gb',\n '5 days iphone 11 64 gb black',\n '5 days iphone 11 pro 256gb space grey, gwiezdna szarość',\n '5 days iphone 11 64 gb miętowy - zielony zestaw',\n '5 days iphone 11 64gb czarny',\n '5 days iphone 11 128 gb',\n '5 days iphone 11 pro na gwarancji na 10 msc',\n '5 days iphone xi pro 256 gb komplet - jak nowy. etui apple gratis',\n '5 days iphone 11 pro gold 64gb',\n '5 days iphone 11 pro',\n '5 days iphone 11 pro / 64 gb / gwarancja! / etui / okazja! / jak nowy!',\n '5 days apple iphone 11 pro 256gb silver',\n '5 days iphone 11 pro max 64 gb space grey',\n '5 days iphone 11 pro 64gb midnight green',\n '5 days iphone 11 (product red) czerwony 128gb',\n '5 days iphone 11 czarny 64 gb komplet',\n '5 days iphone 11 pro space gray 64gb plus gratisy',\n '5 days telefon apple iphone 11 128gb fioletowy ideal',\n '5 days iphone 11 biały 128 gb gwarancja',\n '5 days ladny iphone 11 256gb black gwarancja',\n '6 days iphone 11 64gb',\n '5 days apple iphone 11 pro super retina xdr',\n '5 days iphone 11 pro max 256gb gold gratisy',\n '5 days iphone 11 pro 64gb - stan idealny, zielony green - gwarancja',\n '5 days iphone 11 pro 512gb - stan idealny, zielony green gwarancja',\n '5 days iphone 11 pro 256gb space grey. stan idealny. katowice',\n '5 days iphone 11 64gb yellow żólty stan idealny jak nowy na gwarancji',\n '5 days tylko dzis cena ost. iphone 11 128gb white 95%bat. orginał',\n '5 days iphone 11 (rezerwacja)',\n '7 days iphone 11 64gb red • nowa bateria • gwarancja 1 msc • applecentrum',\n '7 days iphone 11 64gb red • promocja • gwar do 27.11.2020 • applecentrum',\n '5 days iphone 11, 128 gb',\n '5 days iphone 11 pro max 256gb na gwarancji producenta idealny jak nowy',\n '7 days iphone 11 64gb black • promocja • gwar 1 msc • applecentrum',\n '5 days iphone 11 pro 256gb space gray - wzorowy !! - gsm słowiańska',\n '5 days iphone 11 pro max 64gb space grey',\n '5 days iphone 11 64gb white - wzorowy !! - gsm słowiańska',\n '5 days iphone 11 czarny 64gb',\n '5 days iphone 11 pro max 64 gb midnight green',\n '5 days iphone 11. wymienie na cos ciekawego',\n '5 days iphone 11 red 128 gb *gwarancja apple*',\n '5 days iphone 11 pro max 64gb',\n '5 days iphone 11 blokada icloud',\n '6 days iphone 11 pro max gold 64gb',\n '6 days iphone 11 pro max gold 64gb',\n '6 days iphone 11 64gb, bardzo ładny, zestaw, faktura apple',\n '6 days iphone 11 64gb black • promocja • gw do 05.04.2021 • applecentrum',\n '6 days iphone 11 na części',\n '6 days iphone 11 pro 256gb silver gwarancja',\n '7 days iphone 11 pro 64gb spacegrey + gratisy (wymienie na 12 mini)',\n '6 days iphone 11 red nowy ubezpieczony. mozliwa zamiana na xs 11 pro 12',\n '6 days iphone 11 256 gb',\n '6 days apple iphone 11 64 gb czarny, bez blokad',\n '6 days iphone 11 (64 gb) - bardzo ładny / gwarancja / euro rtv',\n '7 days iphone 11 red',\n '6 days iphone 11',\n '6 days iphone 11 64gb gwarancja',\n '6 days iphone 11 64 gb',\n '6 days iphone 11 pro max 64 gb space gray',\n '6 days iphone 11 pro gold 64gb',\n '6 days iphone 11 pro max 64 gb',\n '6 days oryginalny | apple iphone 11 pro 64gb | różne kolory | rok gwarancji',\n '6 days sklep tel4u - apple iphone 11 black, idealny, ul.grzegórzecka 6',\n '7 days iphone 11 64gb)))',\n '6 days iphone 11 pro max 64 space gray',\n '6 days iphone 11 pro max 512gb- airpods pro-zamiana',\n '6 days iphone 11 pro max 256 gb',\n '6 days okazja. iphone 11 pro\\xa064gb greenstan bardzo dobry.',\n '6 days iphone 11 pro 64gb złoty 3150zł żelazna 89 w-wa',\n '6 days iphone  11 ! okazja !',\n '6 days iphone 11 64 gb',\n '6 days iphone 11 ladny, sprawny',\n '6 days iphone 11 64 gb biały. stan idealny',\n '6 days iphone 11 128 gb biały',\n '6 days iphone 11 64gb stan idealny',\n '6 days iphone 11 64gb',\n '6 days iphone 11 pro max 256gb midnight green - stan idealny - gwarancja',\n '6 days oryginalny apple iphone 11 pro 64gb | różne kolory | rok gwarancji',\n '6 days oryginalny | apple iphone 11 pro 64gb | różne kolory | rok gwarancji',\n '6 days iphone 11 zamiana',\n '6 days sprzedam iphone rrd 7plus 256gb lub zam.na iphona 11',\n '6 days iphone 11',\n '6 days zadbany! gwarancja apple iphone 11 pro 64 gb spacegray',\n '6 days iphone 11 pro max 64gb idealny!',\n '6 days telefon iphone 11 64gb bateria 97% komplet poznań fv-marża',\n '6 days iphone 11 pro',\n '6 days iphone 11 pro 64gb midnight green gwarancja bez blokad!',\n '6 days oryginalny apple iphone 11 64gb black',\n '6 days iphone 11 z gwarancja !!',\n '6 days iphone 11 64gb czarny super',\n '7 days iphone 11 64gb green • bateria 99% • gw do 20.08.2021 • applecentrum',\n '7 days iphone 11 64gb black • promocja • gw do 27.11.20 • applecentrum',\n '7 days iphone 11, 64gb + 4 case, sprzedam lub zamienię na iphone 11 pro max',\n '7 days iphone 11 pro',\n '7 days iphone 11 64gb red • bateria 100% • gwar do 24.09.2020 • applecentrum',\n '7 days piękny iphone 11 pro 256gb gwiezdna szarość- stan idealny',\n '7 days iphone 11 pro max 64 gb plus apple watch se zamiana',\n '7 days iphone 11 pro max gold 64gb',\n '7 days iphone 11 64gb na gwarancji',\n '7 days apple iphone 11 64gb | jak nowy | komplet',\n '7 days apple iphone 11 pro max | ładny stan | komplet | gwarancja',\n '7 days iphone 11 nowy gwarancja',\n '7 days iphone 11 pro max gold 64gb',\n '7 days iphone 11 256 gb',\n '7 days apple iphone 11 pro 256gb gold',\n '7 days iphone 11 , 128gb',\n '7 days iphone x space gray (xs,xsmax,11,11pro,12,12mini,12pro)',\n '7 days iphona 11 red 64gb',\n '7 days iphone 11 white 64 gb, biały, stan idealny, gwarancja producenta',\n '7 days iphone 11 gwarancja 100% bateria',\n '7 days iphone 11 pro max 64 gb złoty',\n '7 days iphone 11 64gb potłuczony sprawny',\n '7 days apple iphone 11 64gb czarny',\n '7 days iphone 11 , 128 gb , biały , idealny',\n '7 days iphone 11 pro 64gb nocna zieleń',\n '7 days iphone 11 white 64gb, cały zestaw, dowód zakupu',\n '7 days iphon 11 pro 256 gb ze stycznia 2020r kolor złoty',\n '7 days iphone 11',\n '7 days iphone 11 pro 64 gb kraków',\n '7 days iphone 11 64gb',\n '7 days iphone 11 pro max 64gb złoty',\n '7 days pełny komplet iphone 11 pro 64 gb gold + 3 etui + pudełko',\n '7 days super stan iphone 11 pro 64gb złoty + 3 case',\n '7 days iphone xs 11 używany',\n '8 days iphone 11 okazja :)',\n '7 days iphone 11 pro max gold 64gb',\n '7 days iphone 11 128 gb',\n '7 days iphone 11 pro 64gb gold nie działa face id rezerwacja do jutra',\n '7 days idealny iphone 11 pro 64gb space gray 3200zł chmielna 106',\n '7 days iphone 11',\n '7 days iphone 11 64gb',\n '7 days iphone 11 64 gb zielony jak nowy z gwarancją / sklep / raty / pobranie',\n '7 days iphone 11 64 gb lawendowy idealny / sklep / raty / pobranie',\n '7 days iphone 11 64 gb zielony / sklep / raty / stan idealny / pobranie',\n '7 days iphone 11 pro 256 gb czarny, warszawa',\n '7 days iphone 11 128gb gwarancja!',\n '7 days iphone 11',\n '7 days iphone 11 64 gb ideał komplet producenta',\n '7 days iphone 11 64 gb',\n '7 days iphone 11 pro 64gb midnight green',\n '7 days iphone 11 pro max 64 gb midnightgreen + etui',\n '7 days iphone 11 128gb black komplet + 2x etui ideał',\n '8 days iphone 11 (128) igiełka!',\n '8 days iphone 11 pro 64 gb',\n '8 days apple iphone 11 pro super retina xdr',\n '7 days iphone 11 pro max 64gb fv23 | wybór kolorów | gwarancja',\n '7 days iphone 11 128gb jak nowy',\n '7 days iphone 11 pro max 64 gb gwarancja silver biały apple zestaw idealny xs',\n '7 days apple iphone 11 pro max w idealnym stanie, komplet, gwarancja',\n '7 days apple iphone 11 64gb w idealnym stanie, gwarancja, sklep',\n '8 days iphone 11 pro, 64 gb, srebrny. bardzo dobry stan',\n '8 days iphone 11 pro max  j.nowy',\n '7 days iphone 11 pro 256gb',\n '7 days iphone 11 pro',\n '8 days iphone 11 64gb czarny gwarancja',\n '8 days iphone 11',\n '7 days iphone 11 pro 256gb space gray - wzorowy !! - gsm słowiańska',\n '7 days iphone11 gwarancja',\n '7 days sprzedam iphone 11',\n '7 days apple iphone 11 64gb biały white + szkło',\n '7 days iphone 11 pro max 512gb ciemna zieleń',\n '7 days apple iphone 11 pro 256gb silver poznań długa 14',\n '7 days iphone 11 pro max 64gb space grey',\n '7 days apple iphone 11 pro max 256gb gray klasa a+ masterpl ogrodowa 9 poznan',\n '7 days apple iphone 11 pro max 64gb gray klasa a+ masterpl ogrodowa 9 poznan',\n '7 days apple iphone 11 pro max 64gb master ogrodowa 9 poznan',\n '7 days apple iphone 11 pro 64gb idealny masterpl ogrodowa 9 poznan',\n '7 days apple iphone 11 pro 64gb green master pl ogrodowa 9 poznan',\n '7 days iphone 11. sprzedam lub zamienie',\n '7 days iphone 11 żółty (yellow) 64gb gwarancja.',\n '7 days iphone 11 pro max 64gb midnight green gwarancja',\n '8 days iphone 11 pro max 64 gb',\n '8 days piękny iphone 11 pro 256gb gwiezdna szarość- stan idealny',\n '9 days iphone 11 w wersji 128 gb pamięci',\n '8 days apple iphone 11 pro',\n '8 days sprzedam iphone 11 czarny 64 gb demo',\n '8 days iphone 11 pro 256gb (gwarancja, szybka, ochraniacz)',\n '8 days iphone 11 pro zielony midnight green komplet jak nowy 97% bateria',\n '8 days iphone 11 pro 256 gb',\n '8 days iphone 11 (64 gb) - bardzo ładny / gwarancja / euro rtv',\n '8 days iphone 11',\n '8 days iphone 11 64gb gwarancja bateria 98%',\n '8 days sprzedam iphona 11 pro kondycja baterii 100%',\n '8 days iphone 11 64gb na gwarancji do 03.2021 w pełni sprawny',\n '8 days iphone 11 64 gb black',\n '8 days iphone 11 yellow 64gb piotrkowska 136 (w bramie) cena 2799zł',\n '8 days iphone 11 red 64gb piotrkowska 136 (w bramie) łódź cena 2799zł',\n '8 days iphone 11 czarny 64gb',\n '8 days iphone 11 64 gb white',\n '8 days iphone 11 pro max (space grey)',\n '8 days iphone 11 pro max - idealny',\n '8 days iphone 11 red 64gb',\n '8 days iphone 11, 256 gb',\n '8 days iphone 11 pro 256 gb czarny, warszawa',\n '8 days iphone 11 128gb - idealny stan',\n '8 days sprzedam iphone 11 64gb',\n '8 days iphone 11 czarny 128',\n '8 days iphone 11 64 gb',\n '8 days iphone 11 32 gb',\n '8 days iphone 11 128 gb biały',\n '8 days iphone 11 pro max, space gray, 512gb, gwarancja do 10.2021, jak nowy',\n '8 days iphone 11 pro gwarncja pl gratis oryg etui',\n '8 days sprzedam iphone 11 pto max 64 gb',\n '8 days iphone 11 pro 64gb (midnight green)',\n '8 days iphone 11 biały 128gb',\n '8 days iphone 11 64gb + case guess stan bardzo dobry',\n '8 days iphone 11 64gb',\n '8 days iphone 11 128gb kondycja 100%',\n '8 days iphone 11 na gwarancji.',\n '8 days iphone 11  256 gb okazja',\n '8 days iphone 11 128 gb',\n '8 days apple iphone 11 64gb purple w super stanie',\n '9 days iphone 11',\n '9 days iphone 11 128 gb biały jak nowy',\n '8 days iphon 11',\n '8 days iphone 11 pro max - 256gb',\n '8 days telefon iphone 11 64gb bateria 97% komplet poznań fv-marża',\n '8 days iphone 11 64 gb jak nowy',\n '8 days apple iphone 11 pro max green 256gb master pl ogrodowa 9 poznan',\n '8 days iphone 11 gwarancja 6m white 64gb stan idealny',\n '9 days iphone 11 64 gb gwarancja!!',\n '10 days iphone 11 pro 256gb midnight green  okazja',\n '9 days iphone 11 pro midnight green 256 gb z polski + dodatki',\n '9 days iphone 11 64gb red gwarancja apple 10.03.2021 + nowe akcesoria',\n '9 days iphone 11 pro max 512gb',\n '9 days apple iphone 11 white gwarancja',\n '9 days apple iphone 11 pro max 64gb midnight green teletorium auchan wałbrzyc',\n '9 days iphone 11 pro',\n '9 days apple iphone 11 128gb black',\n '9 days iphone 11 64 gb biały jak nowy',\n '9 days iphone 11 black 128 gb',\n '9 days iphone 11',\n '9 days iphone 11 red nowy ubezpieczony. mozliwa zamiana na xs 11 pro 12 s20',\n '9 days iphone 11 pro, 90%, gwarancja *lekko zbity*',\n '9 days apple iphone 11 pro/256 gb/ z polski/ 94% baterii/komplet',\n '9 days apple iphone 11 black z kondycja baterii 96% + etui',\n '9 days iphone 11 64 gb black jak nowy',\n '9 days iphona 11 red 64gb',\n '9 days idealny iphone se 2020 64gb gwarancja 11.2021r',\n '9 days iphone 11 pro max 64gb space gray szary gwarancja',\n '9 days iphone 11',\n '9 days iphone 11 pro max 256gb gold',\n '9 days oryginalny | apple iphone 11 pro 64gb | różne kolory | rok gwarancji',\n '9 days komplet iphone 11 pro, airpods pro, apple watch',\n '9 days iphone 11 pro',\n '9 days iphone 11',\n '9 days iphone 11 pro max 64 gb',\n '9 days iphone 11pro',\n '9 days iphone 11 pro 64g silver',\n '9 days iphone 11 pro max 64gb gold',\n '9 days iphone 11 pro spacegrey 64gb',\n '9 days zamiana na iphone 11 iphone x 64gb stan idelany silver',\n '9 days iphon 11 pro 256 gb ze stycznia 2020r kolor złoty',\n '10 days iphone 11 64gb klasa select + gratisy!',\n '10 days ip 11 bez gwarancji',\n '10 days iphone 11 red, 64gb',\n '10 days iphone 11 64gb klasa a+ gratisy!',\n '9 days iphone 11 64gb 6 miesięcy gwarancji!',\n '9 days apple iphone 11 128gb purple warszawa',\n '9 days iphone 11 64gb czarny',\n '9 days iphone 11 128gb',\n '53 days iphone 11 64gb',\n '9 days iphone 11 white 128gb',\n '9 days iphone 11 128 gb',\n '9 days iphone 11 pro gold 64gb',\n '9 days iphone 11pro 64gb',\n '9 days iphone 11 64gb black kupiony 20/10/2020',\n '9 days iphone 11 pro max silver 64 gb',\n '9 days iphone 11 pro 64gb',\n '9 days iphone 11 pro max 256 gb space grey jak nowy',\n '9 days iphone 11 na sprzedaż',\n '9 days iphone 11 pro 64gb midnight green',\n '9 days iphone 8, 64gb, +11case (karl lagerfeld)',\n '9 days iphone 11 pro gwarancja',\n '9 days iphone 11 64gb !',\n '9 days iphone 11',\n '10 days apple iphone 11 pro super retina xdr',\n '9 days iphone 11 pro max 64gb fv23 | wybór kolorów | gwarancja',\n '9 days iphone 11 pro 256 gb/98% bateria',\n '9 days iphone 11 64gb czerwony',\n '9 days iphone 11 pro 256gb',\n '9 days iphone 11 128gb biały',\n '9 days oryginalny apple iphone 11 pro 64gb | różne kolory | rok gwarancji',\n '9 days oryginalny | apple iphone 11 pro 64gb | różne kolory | rok gwarancji',\n '9 days iphone 11 pro 256gb space gray - wzorowy !! - gsm słowiańska',\n '9 days iphone 11 pro 64gb na gwarancji',\n '9 days iphone 11 pro max 64gb space gray',\n '9 days apple iphone 11 pro max złoty 64 gb',\n '9 days - iphone 11 - pelen komplet -',\n '9 days iphone 11 128gb fioletowy liliowy',\n '9 days iphone 11 pro max 64 gb midnight green gw 10.21r',\n '9 days iphone 11 pro 64gb midnight green igła gratisy',\n '10 days iphone 11 64gb yellow • bateria 93% • gwar 1 msc • applecentrum',\n '10 days iphone 11 128gb space gray • promocja • gwar 1 msc • applecentrum',\n '10 days iphone 11',\n '10 days iphone 11 64gb',\n '10 days iphone 11 64gb, gwarancja',\n '10 days iphone 11 pro max gold 64gb',\n '10 days iphone 11 64gb black • promocja • gwarancja 1 msc • applecentrum',\n '10 days iphone 11 64gb red • bateria 100% • gwar 1 msc • applecentrum',\n '10 days iphone 11 128gb green • promocja • gwar do 12.11.2020 • applecentrum',\n '10 days iphone 11 red jak nowy',\n '10 days apple iphone 11 64 gb czarny z gwarancją',\n '10 days apple iphone 11 pro max space grey 6/64gb',\n '10 days apple iphone 11 64gb',\n '10 days sprzedam iphone 11 w idealnym stanie',\n '10 days iphone 11 pro 64 gb space grey',\n '10 days iphone 11 64gb',\n '10 days apple iphone 11 pro max 64gb gold grey tanio gwarancja krakow',\n '10 days iphone x 64gb zamienie na 11 z doplata',\n '10 days apple iphone 11 pro 64 gb ciemna zieleń jak nowy gwarancja',\n '10 days iphone 11 64gb',\n '10 days iphone 11pro',\n '10 days apple iphone 11 pro 64 silver , green , grey',\n '10 days apple iphone 11 128gb red product tanio gwarancja krakow',\n '10 days apple iphone 11 64gb black bardzo ładny kraków tanio',\n '10 days iphone 11 pro 64gb space gray, krakow + gratisy',\n '10 days iphone 11 64gb white gwarancja!',\n '53 days iphone 11 black 64gb łódź sklep manufaktura cena:2149zł',\n '10 days iphone 11 ideał jak nowy zielony komplet',\n '10 days telefon smartfon apple iphone 11 pro 256gb złoty / gold',\n '10 days sprzedam iphone 11 64gb',\n '10 days iphone 11 sprawny 64gb okazja',\n '10 days iphone 11 pro max 64gb kolor green',\n '10 days dwumiesięczny iphone 11 128gb black',\n '10 days iphone 11 64gb black',\n '10 days sprzedam iphone 11 128gb biały',\n '10 days iphone 11 zielony 64gb',\n '10 days iphone 11 pro 512gb midnight green',\n '10 days iphone 11 64 gb zielony / sklep / raty / stan idealny / pobranie',\n '10 days iphone 11 64 gb lawendowy idealny / sklep / raty / pobranie',\n '10 days iphone 11 64 gb zielony jak nowy z gwarancją / sklep / raty / pobranie',\n '10 days iphone 11 pro max 64 gb + ubezpieczenie',\n '53 days iphone 11 64gb 10 mc/gw red łódź sklep manufaktura cena:2349zł',\n '53 days iphone 11 64gb. używany 2 miesiące',\n '10 days iphone 11 pro 256 gb gold',\n '10 days do sprzedania iphone 11, 128gb',\n '10 days iphone 11 pro 64gb złoty gold gwarancja + nowe oryginalne słuchawki ea',\n '10 days iphone 11 pro max 256 gb',\n '10 days iphone 11 64gb black, jak nowy, na gwarancji, komplet',\n '10 days iphone 11 64gb black',\n '10 days iphone 11pro 256 gb',\n '10 days apple iphone 11 128gb red gwarancja',\n '10 days ładny apple iphone 11 128gb black gwarancja',\n '10 days iphone 11 pro max 512gb',\n '10 days iphone 11 pro max 64gb fv23 | wybór kolorów | gwarancja',\n '10 days iphone 11 pro 64gb space gray',\n '10 days iphone 11 / stan idealny / 64gb / obudowy',\n '10 days iphone 11 red 128 gb',\n '10 days iphone 11 64 gb w perfekcyjnym stanie - kondycja baterii 100%',\n '10 days iphone 11 64 gb purple jak nowy! apple fioletowy',\n '10 days iphone x 64 gb możliwa zamiana na 11',\n '9 days iphone 8 plus +11x case',\n '10 days iphone 11 pro max 64gb gold - stan dobry - cały zestaw + szkło',\n '11 days iphone 11 gwarancja',\n '11 days iphone 11 64 gb czarny',\n '11 days iphone 11 pro max 64gb space gray',\n '10 days iphone 11 pro max - 256gb',\n '10 days iphone 11 pro max 64gb',\n '10 days apple iphone 11 pro 256gb silver +szkło master pl ogrodowa 9 poznan',\n '10 days iphone 11 pro max 64 space gray bateria 100% gwarancja',\n '10 days iphone 11 pro max 64gb',\n '11 days iphone 11 256gb',\n '11 days iphone 11 64gb kolor czarny',\n '11 days iphone 11 pro 256gb jak nowy',\n '10 days apple iphone 11 64gb stan idealny',\n '10 days apple iphone 11 64gb',\n '11 days apple iphone 11 pro max 256gb',\n '11 days iphone 11 pro max gold 64gb',\n '11 days iphone 11 pro złoty gold 64gb jak nowy',\n '11 days iphone 11 64g',\n '11 days iphone 11 64g',\n '11 days iphone 11 pro max 256gb midnight green',\n '11 days apple iphone 11 64gb | jak nowy | komplet | gwarancja | kondycja 100%',\n '11 days sprzedam iphone 11 gwarancja',\n '11 days iphone 11 64gb black • nowa bateria • gw do 6.12.2020 • applecentrum',\n '11 days iphone 11 64gb white • bateria 100% • gwar do 17.03.20 • applecentrum',\n '11 days iphone 11 64gb green • promocja • gw do 15.11.2020 • applecentrum',\n '11 days iphone 11 64 gb 100% oryginalny 1m gwarancja',\n '11 days piękny iphone 11 pro 256gb gwiezdna szarość- stan idealny',\n '11 days apple iphone 11 64gb czarny',\n '11 days iphone 11 128gb purple fioletowy gwarancja',\n '11 days iphona 11 red 64gb',\n '11 days iphone 11 fioletowy',\n '11 days iphone 11 pro max 64gb space gray szary gwarancja',\n '11 days iphone 11 64gb',\n '11 days artkom oferuje: najtaniej jak nowy iphone 11 pro max 256gb gw. prod.',\n '11 days iphone 11 64gb czarny gwarancja do czerwca 2022',\n '11 days iphone 11pro',\n '11 days iphone 11 64gb',\n '11 days iphone 11 pro 256 gb - 3 miesieczny ! apple care 08.22 / airpodsy /',\n '11 days iphone 11 pro max złoty 256gb',\n '11 days iphone 11 pro max 64gb space grey // ideał',\n '11 days iphone 11 pro space grey 512gb idealny zestaw',\n '11 days iphone 11 black 256 gb sprzedam/zamienię na iphone 11 pro',\n '12 days apple iphone 11 128gb biały',\n '11 days iphone 11 128gb najntanszr w wojewodztwiered! stan idealny- zestaw 91%',\n '11 days iphone 11 64gb sprzedam!!!',\n '11 days iphone 11 64gb biały stan ideany',\n '11 days iphone 11 white 64gb. jak nowy!',\n '11 days telefon iphone 11 64gb',\n '11 days iphone 11 pro 64 gb  space grey',\n '11 days iphone 11 pro max gold 256 gb -okazja !!! rezerwacja',\n '11 days iphone 11pro',\n '11 days telefon iphone 11 64 gb jak nowy / 2 kolory / sklep / raty/ pobranie',\n '11 days iphone 11 pro max 96% gwarancja',\n '11 days apple iphone 11 64 gb',\n '11 days iphone 11 128gb',\n '11 days iphone 11 pro max 256 gb',\n '11 days apple iphone 11 pro 256gb silver',\n '12 days iphone 11 256gb biały stan idealny!!',\n '11 days sprzedam iphone 11 pro 64gb midnight green',\n '11 days iphone 11 pro 64gb midnight green',\n '11 days iphone 11',\n '12 days iphone 11 fioletowy 64 gb',\n '12 days apple iphone 11 pro super retina xdr',\n '11 days iphone 11 64 gb space grey',\n '11 days iphone 11 pro max 64gb fv23 | wybór kolorów | gwarancja',\n '11 days iphone 11 pro 512gb / zamienie',\n '11 days iphone11pro igła, bateria 96procent',\n '11 days iphone 11 pro 256gb - silver gwarancja pl salon fv komplet - jak nowy',\n '11 days iphone 11 pro max 256 gb',\n '11 days apple iphone 11 64gb white',\n '11 days iphone 11 64gb okazja!',\n '12 days iphone 11 pro max 64gb space gray',\n '12 days iphone 11 128 gb',\n '11 days iphone 11 pro 256gb space gray - wzorowy !! - gsm słowiańska',\n '11 days iphone 11 pro 256gb gwarancja komplet pokrowiec guess poznań luboń',\n '11 days iphone 11',\n '11 days iphone 11',\n '11 days iphone 11 pro max 64gb',\n '11 days iphone 11 pro max 64 gb stan idealny! *jak nowy*',\n '11 days telefon iphone 11 64gb *',\n '11 days iphone 11 pro 64gb jak nowy, rozpakowany',\n '11 days iphone 11 pro 512 gb zielony igła! - nowe akcesoria',\n '11 days iphone 11 pro max silver 256gb',\n '11 days iphone 11 64gb sprzedaż/zamiana',\n '12 days iphone 11 64 gb - zółty bateria 100 %',\n '11 days iphone 11 pro',\n '23 days iphone 11 pro',\n '12 days iphone 11 pro max 64 gb',\n '12 days iphone 11 256gb biały na gwarancji',\n '12 days iphone 11 pro max gold 64gb',\n '12 days iphone 11 red 128gb',\n '12 days apple iphone 11 pro 512gb nocna zieleń',\n '12 days iphone 11 - wymienie na 11 pro/12',\n '12 days iphone 11 pro max gold 64gb',\n '12 days iphone 11pro, 64gb, kompletny, stan bdb, space gray',\n '12 days iphone 11 pro max | 64gb | silver | gwarancja | komplet | box',\n '12 days iphone 11 64gb red!',\n '12 days apple iphone 11 64 gb',\n '12 days 040 używany apple iphone 11 128gb czarny lublin',\n '12 days iphone 11 pro max',\n '12 days iphone 11 64gb ideał',\n '12 days iphone 11 black 64 gb',\n '12 days iphone 11, czarny 64 gb rostest',\n '12 days apple iphone 11 pro 64gb srebrny stan bdb sklep ul. rzgowska 12',\n '12 days iphone 11 pro max 64 gb złoty',\n '12 days apple iphone 11 pro max 256gb bat.91% gw 04.2021 sklep ul. rzgowska 12',\n '12 days apple iphone 11 64gb bat.100% gw 09.2021 sklep ul. rzgowska 12',\n '12 days iphone 11 pro 256gb',\n '12 days iphone pro 11 max - gold - idealny - 64gb - 100% sprawny - kraków',\n '12 days oryginalny | apple iphone 11 pro 64gb | różne kolory | rok gwarancji',\n '12 days iphone 11 pro 256gb',\n '12 days telefon apple iphone xi/11/3gb/64gb/red product/czerwony/bat 99/lombar',\n '13 days iphone 11 64gb zielony jak nowy- kupiony w styczniu',\n '12 days apple iphone 11 pro max 256gb space gray',\n '12 days iphone 11 black 64gb',\n '12 days iphone 11 64 gb white',\n '12 days iphone 11',\n '12 days iphone 11 64gb',\n '12 days telefon iphone 11 128 gb idealny / 4 kolory / sklep / raty/ pobranie',\n '12 days iphone 11 pro 64gb',\n '12 days iphone 11 wersja 128gb',\n '12 days iphone 11, 64gb sługa gwarancja',\n '12 days iphone 11 256gb',\n '13 days idealny iphone 11 pro max 64gb apple cały komplet',\n '13 days iphone 11',\n '12 days iphone 11 product red 64gb',\n '12 days iphone 11 256gb product red czerwony',\n '12 days apple iphone 11 pro 64gb idealny stan!',\n '12 days iphone 11 pro 512gb prawie idealny gold',\n '12 days sklep jak nowy iphone 11 64gb black 64gb gwar prod',\n '12 days sklep zadbany smartfon iphone 11 pro 256gb gold',\n '12 days iphone 11 pro 64gb',\n '12 days iphone 11 pro max 256 gb zloty ideany jak nowy',\n '12 days iphone 11 / stan idealny / 64gb / obudowy',\n '12 days sprzedam iphone 11 64g',\n '12 days iphone 11 128 gb stan idelany jak nowy gwarancja',\n '12 days iphone 11, stan idealny, gwarancja + puro',\n '12 days iphone 11 pro 64gb stan idealny na gwarancji dystrybucja pl',\n '12 days iphone 11 żółty 64 gb',\n '12 days oryginalny apple iphone 11 pro 64gb | różne kolory | rok gwarancji',\n '12 days iphone x 64gb biały komplet bez simlocka gratisy jak 11 pro',\n '12 days oryginalny | apple iphone 11 pro 64gb | różne kolory | rok gwarancji',\n '12 days apple iphone 11 pro max 256gb zielony świetny stan',\n '16 days iphon 11 pro max 512 gb',\n '12 days iphone 11 pro max 64 gb midnight green gwarancja!',\n '12 days iphone 11 pro 64gb',\n '12 days iphone 11 żółty 64gb',\n '12 days iphone 11 pro max - 256gb',\n '12 days iphone 11',\n '12 days iphone 11 pro',\n '12 days iphone 11 pro max',\n '12 days iphone 11 pro! 256gb!!',\n '13 days iphone 11 256gb prawie nowy. gwarancja',\n '13 days iphone 11 pro 64 gb gwarancja !!!',\n '12 days iphone 11 pro max',\n '13 days iphone 11 64 stan idealny 100% bateria',\n '13 days iphone 11 pro max 64gb silver dys. polska rok gwarancji',\n '13 days apple iphone 11 pro 512gb nocna zieleń',\n '13 days iphone 11 | 64gb czerwony red | gwarancja',\n '13 days apple iphone 11 64 gb czerwony | komplet | stan bdb | bateria 96%',\n '13 days iphone 11 pro 256gb',\n '13 days iphone 11, 64 gb',\n '13 days iphone 11 256 gb',\n '13 days iphone 11',\n '13 days iphone 11 256gb green z gwarancją zafoliowany ! 100% oryginał!',\n '13 days iphone 11 pro max 64gb space gray szary gwarancja',\n '13 days iphone 11 pro max 64gb / gwarancja',\n '13 days iphon 11 pro max 256 gb 91% baterii okazja !',\n '13 days iphone 11 negocjacja ceny',\n '13 days artkom oferuje: najtaniej jak nowy iphone 11 pro gold bat.96% okazja!',\n '13 days x 64gb idealny zamiana na 11',\n '13 days apple iphone 11 64gb product red paragon komplet !',\n '13 days iphone 11 black 64gb gwarancja jak nowy',\n '13 days iphon 11 64g',\n '13 days iphone 11pro',\n '13 days iphone 11 128 white zadbany wraz z dodatkami pilna sprzedaż',\n '13 days iphone 11 128gb czarny',\n '13 days iphone 11 stan idealny',\n '13 days iphone 11 pro silver 64 gb',\n '13 days oryginalny | iphone 11 pro 64gb | różne kolory | rok gwarancji',\n '13 days iphone 11 64 gb zielony gw 02.01.2022r',\n '14 days iphone 11 pro 64 gb 95% baterii',\n '13 days zadbany iphone 11 pro 512gb space gray (zamiana) gwarancja',\n '13 days wzorowy iphone 11 pro 256gb midnight green (zamiana)',\n '13 days iphone 11 pro max 64gb space gray',\n '13 days iphone 11 128gb ideał na gwarancji fioletowy',\n '13 days iphone 11 64gb',\n '13 days iphone 11 pro 64 gb, stan idealny',\n '13 days iphone 11 black 64gb gwarancja zamiana',\n '13 days apple iphone 11 64gb fioletowy purple 2650zł w-wa',\n '13 days iphone 11 64 gb na gwarancji',\n '13 days iphone 11 pro max złoty 64gb',\n '13 days iphone 11 64 gb jak nowy ! bateria 100% ! gwarancija !',\n '13 days iphone 11 czerwony 256gb od kobiety zadbany roczny',\n '13 days iphone 11 pro max 256g biały',\n '13 days iphone 11 xs 64 gb',\n '14 days iphone 11 pro max gold 64gb',\n '13 days iphone 11 pro max 256gb  okazja tylko dziś',\n '13 days okazja! iphone 11 128gb/ czarny/ gwarancja/ 100% sprawny/ bateria 95%',\n '13 days iphone 11 64gb - czarny',\n '13 days iphone 11 64 gb żółty gwarancja',\n '13 days sklep zadbany iphone 11 64gb purple balticgsm',\n '13 days iphone 11 pro 512gb silver + etui i ład. bezprzewodowa! gdańsk',\n '13 days iphone 11 64gb + 4 etui ! idealny ! 100% bateria !!',\n '13 days iphone11  128 gb',\n '13 days iphone 11 gwarancja nowy',\n '13 days iphone 11 pro midnight green 64gb gwarancja',\n '14 days iphone 11 pro max 64gb midnight green',\n '13 days iphone 11 pro max 64gb fv23 | wybór kolorów | gwarancja',\n '13 days iphone 11 64 gb space grey',\n '13 days iphone 11 red 128gb',\n '13 days nowy apple iphone 11 64gb yellow polska bez blokad + gwarancja 02.2021',\n '13 days iphone 11 64gb product red',\n '13 days apple iphone 11 256gb red',\n '13 days iphone 11 256gb',\n '13 days iphone 11 pro max 64gb + szkło hybrydowe 3mk',\n '13 days iphone 11 pro 64gb',\n '13 days iphone 11 ,64gb idealny stan ,gwarancja',\n '13 days apple iphone 11 pro max 64gb space grey gwarancja idealny stan',\n '13 days iphone 11 pro 64 gb silver',\n '13 days apple iphone 11 pro max',\n '13 days iphone 11 128gb product red',\n '13 days iphone 11 kolor czarny 64gb idealny stan',\n '13 days iphone 11 pro 64 gb',\n '14 days iphone 11 stan idealny! purple fioletowy',\n '14 days iphone 11 pro max 256 gb gold - 3650 zł !',\n '14 days od ręki! używany! apple iphone 11 64gb black - sklep oława',\n '14 days od ręki! używany! apple iphone 11 64gb black - sklep legnica',\n '14 days iphone 11 pro, 64 gb + akcesoria , stan idealny',\n '14 days od ręki! używany! apple iphone 11 64gb black - sklep wrocław',\n '14 days iphone 11 256gb black • promocja • gwarancja 1 msc • applecentrum',\n '14 days iphone 11 pro, 256 gb, stan idealny teraz promo 4.000',\n '14 days iphone 11 pro max gold 64gb',\n '14 days iphone 11 pro kolor ciemny zielony 64gb + etui',\n '14 days iphone 11 czarny',\n '14 days iphone 11 pro max 256 gb',\n '14 days iphone 11 używany',\n '14 days iphone 11 pro 64 gb midnight green',\n '14 days iphone 11 pro max silver 256gb',\n '14 days iphon 8 space grey stan idealny 11msc gwarancja ! bez brandu i blokad',\n '14 days iphone 11 black 64 gb gwarancja',\n '14 days artkom oferuje: najtaniej jak nowy iphone xr gw. prod. 11m-c bat.100%',\n '14 days iphone 11 64gb roczna gwarancja ubezpiczenie',\n '14 days iphone 11 pro max 256gb green',\n '14 days telefon/smartphone iphone 11 pro max 512 gb /100% bateria/komplet/gwar',\n '14 days iphone 11 pro max 512gb',\n '15 days iphone 11 pro 256 gb',\n '14 days iphone 11 64gb',\n '14 days iphone 11 128gb czarny black stan idealny kraków',\n '14 days iphone pro 11 max - gold - idealny - 64gb - 100% sprawny - kraków',\n '14 days iphone 11 pro max jak nowy 99% bateria',\n '14 days telefon/smartphone iphone 11 64gb brak face id, 99% bat, gwarancja',\n '14 days oryginalny | apple iphone 11 64/128gb | różne kolory | rok gwarancji',\n '14 days wzorowy iphone 11 pro max 512gb space gray gwarancja (zamiana)',\n '15 days iphone 11 pro max 64gb silver',\n '15 days iphone 11 pro max',\n '15 days iphone 11 black 128gb neverlock',\n '14 days iphone 11 uywany',\n '14 days apple iphone 11 pro max 256 gb midnight green',\n '14 days idealny iphone 11 pro 64gb bat.97%',\n '14 days iphone 11 ideał jak nowy zielony komplet',\n '14 days iphone 11 yellow 64gb',\n '14 days iphone 11 pro ,,space grey” 64gb',\n '14 days iphone 11 miętowy',\n '14 days telefon iphone 11 128 gb idealny / lawendowy / sklep / raty/ pobranie',\n '14 days telefon iphone 11 128 gb idealny / czerwony / sklep / raty/ pobranie',\n '14 days telefon iphone 11 128gb gwarancja dowód zakupu okazja',\n '14 days telefon iphone 11 128 gb idealny / zielony / sklep / raty/ pobranie',\n '14 days telefon iphone 11 128 gb idealny / czarny / sklep / raty/ pobranie',\n '14 days okazja. iphone 11 pro 256gb silver idealny, nowy',\n '14 days sprzedam iphone 11 pro max 64gb',\n '14 days iphone 11 pro max 64gb złoty warszawa',\n '14 days apple iphone 11 pro 64gb gold, gwarancja, jak nowy od ręki',\n '14 days iphone 11 pro max 64 gb , idealny',\n '14 days iphone 11 64gb',\n '14 days iphone 11 pro 64gb złoty 3150zł żelazna 89 w-wa',\n '14 days iphone 11 pro',\n '14 days iphone 11 64gb green stan bdb',\n '14 days iphone 11 128 gb stan idealny!',\n '15 days iphone 11 64gb white z cortland, stan idealny',\n '14 days iphone 11 64 gb czerwony, etui szkło hartowane',\n '14 days iphone 11 128gb',\n '14 days iphone 11 64gb (red) możliwa zamiana',\n '14 days iphone 11 fiolet 128gb',\n '14 days apple iphone 11 64 gb red gwarancja',\n '14 days iphone 11 fioletowy 64 gb',\n '14 days iphone 11 pro 64 gb /midnight green/ gwarancja +etui',\n '14 days oryginalny | apple iphone 11 64/128gb | różne kolory | rok gwarancji',\n '14 days iphone 11 128gb sprzedam',\n '14 days od ręki! używany! apple iphone 11 64gb black - sklep katowice',\n '14 days iphone 11 64gb zielony',\n '14 days iphone 11 pro max 64gb + szkło hybrydowe 3mk',\n '14 days apple iphone 11 64gb idealny',\n '14 days oryginalny | apple iphone 11 64/128gb | różne kolory | rok gwarancji',\n '14 days iphone 11 pro 512gb space gray gwarancja',\n '14 days iphone 11 pro max - 256gb',\n '14 days apple iphone 11 pro max gold 64gb master pl ogrodowa 9 poznan',\n '14 days od ręki! używany! apple iphone 11 64gb black - sklep kalisz',\n '14 days iphone 11',\n '15 days iphone 11 pro 64 gb space gray + apple etui',\n '15 days iphone 11 64 gb czarny',\n '15 days iphone 11 pro 64gb',\n '15 days apple iphone 11 128gb | ładny stan | komplet | gwarancja',\n '15 days iphone 11 pro max 256gb silver • promocja • gwar 1 msc • applecentrum',\n '15 days apple iphone 11 pro max 512 gb silver | komplet | gwarancja |',\n '15 days apple iphone 11 128 gb biały | komplet | stan bdb | bateria 98 % !',\n '15 days sprzedam iphone 11 256gb! gorzów wielkopolski',\n '15 days iphone 11 pro max 64gb space gray szary rezerwacja',\n '15 days iphone 11 pro max 64gb / gwarancja',\n '15 days iphone 11pro',\n '15 days sprzedam apple iphone 11 64gb (fioletowy) jak nowy',\n '15 days iphone 11 64gb white bat 100% idealny gw. 14 mies wadowiceoswiecim',\n '15 days sprzedam iphone 11 pro (2020)',\n '16 days iphone 11, 68 gb, stan idealny+ obudowa i szkło hartowane gratis',\n '15 days iphone 11 64gb green na gwarancji mozliwa zamiana',\n '15 days iphone 11 stan idealny  64 gb',\n '15 days apple iphone 11 128gb',\n '15 days iphone 11 pro 64gb, gwarancja.',\n '15 days iphone se 64gb 2020 biały z euro rtv agd 12.11.2020 najnowsza wersja!',\n '15 days telefon iphone 11 64gb black na gwar jak nowy',\n '15 days iphone 11, 64gb żółty',\n '15 days apple iphone 11 pro max 64gb midnight green',\n '15 days iphone 11 pro max 256 gb',\n '15 days apple iphone 11 pro max 512gb srebrny klasa a+ 97% bra-025 sklep wawa',\n '15 days super stan iphone 11 pro 64gb złoty + 3 case',\n '15 days apple iphone 11 pro max 512gb szary a+ bat100% gwarancja prod bra-020',\n '15 days iphone 11 128 gb black 95% bateria gw 15.06.2022',\n '15 days iphone 11 256 gb 22 msc gwarancji jak nowy',\n '15 days apple iphone 11 pro max 256 gb midnight green',\n '15 days iphone 11 64gb gwarancja bateria 94%',\n '15 days iphone 11 256 pamieci stan idealny plus case',\n '15 days iphone 11 pro 512gb idealny / mozliwa zamiana',\n '15 days iphone 11, gwarmacja apple, jak nowy',\n '15 days apple iphone 11 pro 64gb gold / idealny',\n '15 days iphone 11 biały 128gb',\n '15 days iphone 11 64 gb',\n '15 days iphone 11 czarny gwarancja',\n '15 days iphone 11 black +apple airpods 2 generacji',\n '16 days apple iphone 11 pro 64 gb',\n '15 days iphone 11 256 gb',\n '15 days apple iphone 11 64gb white poznań długa 14',\n '15 days iphone 11 pro 64',\n '15 days iphone 11 pro 64 gb silver',\n '15 days iphone 11 pro 64 gb',\n '15 days sprzedaj iphone 11 pro 64 gb',\n '15 days iphone 11pro',\n '15 days apple iphone 11 128gb czarny+szkło gratis piękny stan gwarancja',\n '15 days iphone 11 64gb - doskonały stan 1,5 roku gwarancji',\n '16 days iphone 11 64gb',\n '16 days iphone 11 pro max 256 gb | 10 msc gwarancji',\n '16 days okazja !! iphone 11 64gb czarny',\n '16 days iphone 11 pro, 64 gb + akcesoria , stan idealny',\n '16 days iphone 11 pro max gold 64gb',\n '16 days iphone 11 pro 64 gb space gray + apple etui',\n '16 days iphone 11 pro max gold 64gb',\n '16 days iphone 11  64gb',\n '16 days iphone 11',\n '16 days zestaw iphone 11 i airpods pro',\n '16 days iphone 11 (64 gb) gwarancja, ubezpieczenie',\n '16 days iphone 11 64gb jak nowy, gwarancja do marca!',\n ...]"
     },
     "execution_count": 48,
     "metadata": {},
     "output_type": "execute_result"
    }
   ],
   "source": [
    "preprocessed_data['Days_passed_name'].tolist()"
   ],
   "metadata": {
    "collapsed": false
   }
  },
  {
   "cell_type": "code",
   "execution_count": 52,
   "outputs": [
    {
     "name": "stderr",
     "output_type": "stream",
     "text": [
      "loading configuration file config.json from cache at C:\\Users\\cubix/.cache\\huggingface\\hub\\models--dkleczek--bert-base-polish-uncased-v1\\snapshots\\62be9821055981deafb23f217b68cc41f38cdb76\\config.json\n",
      "Model config BertConfig {\n",
      "  \"_name_or_path\": \"dkleczek/bert-base-polish-uncased-v1\",\n",
      "  \"architectures\": [\n",
      "    \"BertForMaskedLM\",\n",
      "    \"BertForPreTraining\"\n",
      "  ],\n",
      "  \"attention_probs_dropout_prob\": 0.1,\n",
      "  \"classifier_dropout\": null,\n",
      "  \"hidden_act\": \"gelu\",\n",
      "  \"hidden_dropout_prob\": 0.1,\n",
      "  \"hidden_size\": 768,\n",
      "  \"id2label\": {\n",
      "    \"0\": \"LABEL_0\"\n",
      "  },\n",
      "  \"initializer_range\": 0.02,\n",
      "  \"intermediate_size\": 3072,\n",
      "  \"label2id\": {\n",
      "    \"LABEL_0\": 0\n",
      "  },\n",
      "  \"layer_norm_eps\": 1e-12,\n",
      "  \"max_position_embeddings\": 512,\n",
      "  \"model_type\": \"bert\",\n",
      "  \"num_attention_heads\": 12,\n",
      "  \"num_hidden_layers\": 12,\n",
      "  \"output_past\": true,\n",
      "  \"pad_token_id\": 0,\n",
      "  \"position_embedding_type\": \"absolute\",\n",
      "  \"transformers_version\": \"4.26.0\",\n",
      "  \"type_vocab_size\": 2,\n",
      "  \"use_cache\": true,\n",
      "  \"vocab_size\": 60000\n",
      "}\n",
      "\n",
      "loading weights file pytorch_model.bin from cache at C:\\Users\\cubix/.cache\\huggingface\\hub\\models--dkleczek--bert-base-polish-uncased-v1\\snapshots\\62be9821055981deafb23f217b68cc41f38cdb76\\pytorch_model.bin\n",
      "Some weights of the model checkpoint at dkleczek/bert-base-polish-uncased-v1 were not used when initializing BertForSequenceClassification: ['cls.predictions.transform.LayerNorm.bias', 'cls.predictions.bias', 'cls.predictions.decoder.weight', 'cls.predictions.transform.dense.weight', 'cls.seq_relationship.bias', 'cls.seq_relationship.weight', 'cls.predictions.transform.dense.bias', 'cls.predictions.transform.LayerNorm.weight', 'cls.predictions.decoder.bias']\n",
      "- This IS expected if you are initializing BertForSequenceClassification from the checkpoint of a model trained on another task or with another architecture (e.g. initializing a BertForSequenceClassification model from a BertForPreTraining model).\n",
      "- This IS NOT expected if you are initializing BertForSequenceClassification from the checkpoint of a model that you expect to be exactly identical (initializing a BertForSequenceClassification model from a BertForSequenceClassification model).\n",
      "Some weights of BertForSequenceClassification were not initialized from the model checkpoint at dkleczek/bert-base-polish-uncased-v1 and are newly initialized: ['classifier.bias', 'classifier.weight']\n",
      "You should probably TRAIN this model on a down-stream task to be able to use it for predictions and inference.\n"
     ]
    }
   ],
   "source": [
    "model = AutoModelForSequenceClassification.from_pretrained('dkleczek/bert-base-polish-uncased-v1', num_labels = 1).to(\"cpu\")"
   ],
   "metadata": {
    "collapsed": false
   }
  },
  {
   "cell_type": "code",
   "execution_count": 54,
   "outputs": [
    {
     "name": "stderr",
     "output_type": "stream",
     "text": [
      "loading configuration file config.json from cache at C:\\Users\\cubix/.cache\\huggingface\\hub\\models--dkleczek--bert-base-polish-uncased-v1\\snapshots\\62be9821055981deafb23f217b68cc41f38cdb76\\config.json\n",
      "Model config BertConfig {\n",
      "  \"_name_or_path\": \"dkleczek/bert-base-polish-uncased-v1\",\n",
      "  \"architectures\": [\n",
      "    \"BertForMaskedLM\",\n",
      "    \"BertForPreTraining\"\n",
      "  ],\n",
      "  \"attention_probs_dropout_prob\": 0.1,\n",
      "  \"classifier_dropout\": null,\n",
      "  \"hidden_act\": \"gelu\",\n",
      "  \"hidden_dropout_prob\": 0.1,\n",
      "  \"hidden_size\": 768,\n",
      "  \"initializer_range\": 0.02,\n",
      "  \"intermediate_size\": 3072,\n",
      "  \"layer_norm_eps\": 1e-12,\n",
      "  \"max_position_embeddings\": 512,\n",
      "  \"model_type\": \"bert\",\n",
      "  \"num_attention_heads\": 12,\n",
      "  \"num_hidden_layers\": 12,\n",
      "  \"output_past\": true,\n",
      "  \"pad_token_id\": 0,\n",
      "  \"position_embedding_type\": \"absolute\",\n",
      "  \"transformers_version\": \"4.26.0\",\n",
      "  \"type_vocab_size\": 2,\n",
      "  \"use_cache\": true,\n",
      "  \"vocab_size\": 60000\n",
      "}\n",
      "\n",
      "loading file vocab.txt from cache at C:\\Users\\cubix/.cache\\huggingface\\hub\\models--dkleczek--bert-base-polish-uncased-v1\\snapshots\\62be9821055981deafb23f217b68cc41f38cdb76\\vocab.txt\n",
      "loading file tokenizer.json from cache at None\n",
      "loading file added_tokens.json from cache at None\n",
      "loading file special_tokens_map.json from cache at C:\\Users\\cubix/.cache\\huggingface\\hub\\models--dkleczek--bert-base-polish-uncased-v1\\snapshots\\62be9821055981deafb23f217b68cc41f38cdb76\\special_tokens_map.json\n",
      "loading file tokenizer_config.json from cache at C:\\Users\\cubix/.cache\\huggingface\\hub\\models--dkleczek--bert-base-polish-uncased-v1\\snapshots\\62be9821055981deafb23f217b68cc41f38cdb76\\tokenizer_config.json\n",
      "loading configuration file config.json from cache at C:\\Users\\cubix/.cache\\huggingface\\hub\\models--dkleczek--bert-base-polish-uncased-v1\\snapshots\\62be9821055981deafb23f217b68cc41f38cdb76\\config.json\n",
      "Model config BertConfig {\n",
      "  \"_name_or_path\": \"dkleczek/bert-base-polish-uncased-v1\",\n",
      "  \"architectures\": [\n",
      "    \"BertForMaskedLM\",\n",
      "    \"BertForPreTraining\"\n",
      "  ],\n",
      "  \"attention_probs_dropout_prob\": 0.1,\n",
      "  \"classifier_dropout\": null,\n",
      "  \"hidden_act\": \"gelu\",\n",
      "  \"hidden_dropout_prob\": 0.1,\n",
      "  \"hidden_size\": 768,\n",
      "  \"initializer_range\": 0.02,\n",
      "  \"intermediate_size\": 3072,\n",
      "  \"layer_norm_eps\": 1e-12,\n",
      "  \"max_position_embeddings\": 512,\n",
      "  \"model_type\": \"bert\",\n",
      "  \"num_attention_heads\": 12,\n",
      "  \"num_hidden_layers\": 12,\n",
      "  \"output_past\": true,\n",
      "  \"pad_token_id\": 0,\n",
      "  \"position_embedding_type\": \"absolute\",\n",
      "  \"transformers_version\": \"4.26.0\",\n",
      "  \"type_vocab_size\": 2,\n",
      "  \"use_cache\": true,\n",
      "  \"vocab_size\": 60000\n",
      "}\n",
      "\n",
      "loading configuration file config.json from cache at C:\\Users\\cubix/.cache\\huggingface\\hub\\models--dkleczek--bert-base-polish-uncased-v1\\snapshots\\62be9821055981deafb23f217b68cc41f38cdb76\\config.json\n",
      "Model config BertConfig {\n",
      "  \"_name_or_path\": \"dkleczek/bert-base-polish-uncased-v1\",\n",
      "  \"architectures\": [\n",
      "    \"BertForMaskedLM\",\n",
      "    \"BertForPreTraining\"\n",
      "  ],\n",
      "  \"attention_probs_dropout_prob\": 0.1,\n",
      "  \"classifier_dropout\": null,\n",
      "  \"hidden_act\": \"gelu\",\n",
      "  \"hidden_dropout_prob\": 0.1,\n",
      "  \"hidden_size\": 768,\n",
      "  \"initializer_range\": 0.02,\n",
      "  \"intermediate_size\": 3072,\n",
      "  \"layer_norm_eps\": 1e-12,\n",
      "  \"max_position_embeddings\": 512,\n",
      "  \"model_type\": \"bert\",\n",
      "  \"num_attention_heads\": 12,\n",
      "  \"num_hidden_layers\": 12,\n",
      "  \"output_past\": true,\n",
      "  \"pad_token_id\": 0,\n",
      "  \"position_embedding_type\": \"absolute\",\n",
      "  \"transformers_version\": \"4.26.0\",\n",
      "  \"type_vocab_size\": 2,\n",
      "  \"use_cache\": true,\n",
      "  \"vocab_size\": 60000\n",
      "}\n",
      "\n"
     ]
    }
   ],
   "source": [
    "tokenizer = AutoTokenizer.from_pretrained('dkleczek/bert-base-polish-uncased-v1')\n",
    "\n",
    "scaler = StandardScaler()\n",
    "y_dataset = scaler.fit_transform(np.asarray(preprocessed_data['Price']).reshape(-1,1))\n",
    "\n",
    "X_train, X_test, y_train, y_test = train_test_split(preprocessed_data['Days_passed_name'].tolist(), y_dataset, train_size=0.8)\n",
    "X_train, X_val, y_train, y_val = train_test_split(X_train, y_train, train_size=0.8)\n",
    "\n",
    "train_encodings = tokenizer(X_train, truncation=True, padding=True, max_length=50)\n",
    "valid_encodings = tokenizer(X_val, truncation=True, padding=True, max_length=50)\n",
    "test_encodings = tokenizer(X_test, truncation=True, padding=True, max_length=50)\n",
    "\n",
    "class MakeTorchData(torch.utils.data.Dataset):\n",
    "    def __init__(self, encodings, labels):\n",
    "        self.encodings = encodings\n",
    "        self.labels = labels\n",
    "\n",
    "    def __getitem__(self, idx):\n",
    "        item = {k: torch.tensor(v[idx]) for k, v in self.encodings.items()}\n",
    "        item[\"labels\"] = torch.tensor([self.labels[idx]])\n",
    "        item[\"labels\"] = float(item[\"labels\"])\n",
    "        return item\n",
    "\n",
    "    def __len__(self):\n",
    "        return len(self.labels)\n",
    "\n",
    "# convert our tokenized data into a torch Dataset\n",
    "train_dataset = MakeTorchData(train_encodings, y_train.ravel())\n",
    "valid_dataset = MakeTorchData(valid_encodings, y_val.ravel())\n",
    "test_dataset = MakeTorchData(test_encodings, y_test.ravel())"
   ],
   "metadata": {
    "collapsed": false
   }
  },
  {
   "cell_type": "code",
   "execution_count": 6,
   "outputs": [
    {
     "name": "stderr",
     "output_type": "stream",
     "text": [
      "E:\\nlp2\\venv\\lib\\site-packages\\transformers\\optimization.py:306: FutureWarning: This implementation of AdamW is deprecated and will be removed in a future version. Use the PyTorch implementation torch.optim.AdamW instead, or set `no_deprecation_warning=True` to disable this warning\n",
      "  warnings.warn(\n",
      "***** Running training *****\n",
      "  Num examples = 1709\n",
      "  Num Epochs = 5\n",
      "  Instantaneous batch size per device = 64\n",
      "  Total train batch size (w. parallel, distributed & accumulation) = 64\n",
      "  Gradient Accumulation steps = 1\n",
      "  Total optimization steps = 135\n",
      "  Number of trainable parameters = 132122113\n"
     ]
    },
    {
     "data": {
      "text/plain": "<IPython.core.display.HTML object>",
      "text/html": "\n    <div>\n      \n      <progress value='2' max='135' style='width:300px; height:20px; vertical-align: middle;'></progress>\n      [  2/135 : < :, Epoch 0.04/5]\n    </div>\n    <table border=\"1\" class=\"dataframe\">\n  <thead>\n <tr style=\"text-align: left;\">\n      <th>Epoch</th>\n      <th>Training Loss</th>\n      <th>Validation Loss</th>\n    </tr>\n  </thead>\n  <tbody>\n  </tbody>\n</table><p>"
     },
     "metadata": {},
     "output_type": "display_data"
    },
    {
     "name": "stderr",
     "output_type": "stream",
     "text": [
      "***** Running Evaluation *****\n",
      "  Num examples = 428\n",
      "  Batch size = 20\n",
      "Saving model checkpoint to ../results\\checkpoint-27\n",
      "Configuration saved in ../results\\checkpoint-27\\config.json\n",
      "Model weights saved in ../results\\checkpoint-27\\pytorch_model.bin\n",
      "***** Running Evaluation *****\n",
      "  Num examples = 428\n",
      "  Batch size = 20\n",
      "Saving model checkpoint to ../results\\checkpoint-54\n",
      "Configuration saved in ../results\\checkpoint-54\\config.json\n",
      "Model weights saved in ../results\\checkpoint-54\\pytorch_model.bin\n",
      "***** Running Evaluation *****\n",
      "  Num examples = 428\n",
      "  Batch size = 20\n",
      "Saving model checkpoint to ../results\\checkpoint-81\n",
      "Configuration saved in ../results\\checkpoint-81\\config.json\n",
      "Model weights saved in ../results\\checkpoint-81\\pytorch_model.bin\n",
      "***** Running Evaluation *****\n",
      "  Num examples = 428\n",
      "  Batch size = 20\n",
      "Saving model checkpoint to ../results\\checkpoint-108\n",
      "Configuration saved in ../results\\checkpoint-108\\config.json\n",
      "Model weights saved in ../results\\checkpoint-108\\pytorch_model.bin\n",
      "***** Running Evaluation *****\n",
      "  Num examples = 428\n",
      "  Batch size = 20\n",
      "Saving model checkpoint to ../results\\checkpoint-135\n",
      "Configuration saved in ../results\\checkpoint-135\\config.json\n",
      "Model weights saved in ../results\\checkpoint-135\\pytorch_model.bin\n",
      "\n",
      "\n",
      "Training completed. Do not forget to share your model on huggingface.co/models =)\n",
      "\n",
      "\n",
      "Loading best model from ../results\\checkpoint-54 (score: 0.7412866950035095).\n",
      "***** Running Evaluation *****\n",
      "  Num examples = 428\n",
      "  Batch size = 20\n"
     ]
    },
    {
     "data": {
      "text/plain": "<IPython.core.display.HTML object>",
      "text/html": "\n    <div>\n      \n      <progress value='1' max='22' style='width:300px; height:20px; vertical-align: middle;'></progress>\n      [ 1/22 : < :]\n    </div>\n    "
     },
     "metadata": {},
     "output_type": "display_data"
    },
    {
     "data": {
      "text/plain": "{'eval_loss': 0.5495059490203857,\n 'eval_mse': 0.5495059490203857,\n 'eval_rmse': 0.7412866950035095,\n 'eval_mae': 0.4915722906589508,\n 'eval_r2': 0.39628914202738397,\n 'eval_runtime': 36.6704,\n 'eval_samples_per_second': 11.672,\n 'eval_steps_per_second': 0.6,\n 'epoch': 5.0}"
     },
     "execution_count": 6,
     "metadata": {},
     "output_type": "execute_result"
    }
   ],
   "source": [
    "# Specify the arguments for the trainer\n",
    "training_args = TrainingArguments(\n",
    "    output_dir = PATH_FOR_MODEL + '/checkpoints',\n",
    "    num_train_epochs = EPOCHS,\n",
    "    per_device_train_batch_size = 64,\n",
    "    per_device_eval_batch_size = 20,\n",
    "    weight_decay = 0.01,\n",
    "    learning_rate = 2e-5,\n",
    "    logging_dir = '../logs',\n",
    "    save_total_limit = 10,\n",
    "    load_best_model_at_end = True,\n",
    "    metric_for_best_model = 'rmse',\n",
    "    evaluation_strategy = \"epoch\",\n",
    "    save_strategy = \"epoch\",\n",
    ")\n",
    "\n",
    "# Call the Trainer\n",
    "trainer = Trainer(\n",
    "    model = model,\n",
    "    args = training_args,\n",
    "    train_dataset = train_dataset,\n",
    "    eval_dataset = valid_dataset,\n",
    "    compute_metrics = compute_metrics,\n",
    ")\n",
    "\n",
    "# Train the model\n",
    "trainer.train()\n",
    "\n",
    "# Call the summary\n",
    "trainer.evaluate()"
   ],
   "metadata": {
    "collapsed": false
   }
  },
  {
   "cell_type": "code",
   "execution_count": 50,
   "outputs": [
    {
     "name": "stderr",
     "output_type": "stream",
     "text": [
      "Saving model checkpoint to ../models/trainer_auto_model\n",
      "Configuration saved in ../models/trainer_auto_model\\config.json\n",
      "Model weights saved in ../models/trainer_auto_model\\pytorch_model.bin\n"
     ]
    }
   ],
   "source": [
    "trainer.save_model(PATH_FOR_MODEL)"
   ],
   "metadata": {
    "collapsed": false
   }
  },
  {
   "cell_type": "code",
   "execution_count": 7,
   "outputs": [
    {
     "name": "stderr",
     "output_type": "stream",
     "text": [
      "***** Running Prediction *****\n",
      "  Num examples = 535\n",
      "  Batch size = 20\n"
     ]
    }
   ],
   "source": [
    "predictions = trainer.predict(test_dataset)"
   ],
   "metadata": {
    "collapsed": false
   }
  },
  {
   "cell_type": "code",
   "execution_count": 8,
   "outputs": [
    {
     "data": {
      "text/plain": "413.315"
     },
     "execution_count": 8,
     "metadata": {},
     "output_type": "execute_result"
    }
   ],
   "source": [
    "inversed_predictions = scaler.inverse_transform(np.asarray(predictions[0]).reshape(-1,1))\n",
    "inversed_test = scaler.inverse_transform(np.asarray(predictions[1]).reshape(-1, 1))\n",
    "mean_squared_error(inversed_test, inversed_predictions, squared=False)"
   ],
   "metadata": {
    "collapsed": false
   }
  },
  {
   "cell_type": "code",
   "execution_count": 9,
   "outputs": [
    {
     "data": {
      "text/plain": "array([[-7.25620117e+02],\n       [ 9.91364746e+01],\n       [-9.25512695e+01],\n       [ 3.61143066e+02],\n       [-1.23446533e+02],\n       [-9.38164062e+01],\n       [-6.15995850e+02],\n       [-4.29147949e+02],\n       [-2.87149170e+02],\n       [ 4.26442871e+01],\n       [-5.22445312e+02],\n       [-4.75187988e+01],\n       [-4.43587646e+02],\n       [-1.17280273e+02],\n       [ 4.09817383e+02],\n       [-4.39255371e+01],\n       [-1.50767334e+02],\n       [-2.50756836e+00],\n       [-1.02550732e+03],\n       [-8.35827637e+01],\n       [ 2.61540283e+02],\n       [ 3.90700684e+01],\n       [-4.15114746e+01],\n       [-1.11669922e+00],\n       [ 7.17651367e+00],\n       [ 2.40712158e+02],\n       [-7.89628906e+01],\n       [ 4.34648438e+01],\n       [-5.98999023e+01],\n       [ 6.03100586e+01],\n       [ 5.08358643e+02],\n       [ 1.46776367e+02],\n       [ 1.11430908e+02],\n       [-7.99707520e+02],\n       [-1.09870605e+01],\n       [ 1.15310303e+02],\n       [-2.29973145e+02],\n       [-5.49350830e+02],\n       [ 1.51621338e+02],\n       [-9.20537354e+02],\n       [-2.03629883e+02],\n       [ 1.32757568e+03],\n       [-6.70251221e+02],\n       [ 3.09042969e+02],\n       [ 3.36923828e+01],\n       [ 2.44422852e+02],\n       [-3.52422363e+02],\n       [ 3.07279297e+02],\n       [-1.33680420e+02],\n       [-2.20977295e+02],\n       [-2.04549561e+02],\n       [ 4.41484375e+01],\n       [-4.16659180e+02],\n       [-6.14894043e+02],\n       [-4.04905029e+02],\n       [ 2.10859131e+02],\n       [-2.72737061e+02],\n       [ 5.87353516e+00],\n       [ 1.94434570e+02],\n       [-4.86701172e+02],\n       [-7.69418945e+01],\n       [ 1.54553467e+02],\n       [-1.19318359e+02],\n       [-3.08276367e+00],\n       [-3.33673340e+02],\n       [-1.93710449e+02],\n       [-1.08659668e+02],\n       [-6.92661865e+02],\n       [-4.13887695e+02],\n       [-3.11721924e+02],\n       [-2.42156250e+02],\n       [ 7.78262451e+02],\n       [ 1.65572021e+02],\n       [-2.23719971e+02],\n       [-1.92385010e+02],\n       [-5.00658203e+02],\n       [-4.36233154e+02],\n       [-2.42887207e+02],\n       [-8.96289307e+02],\n       [ 5.49792480e+01],\n       [-8.46757812e+01],\n       [-2.15927246e+02],\n       [-9.76796875e+01],\n       [-5.08448975e+02],\n       [ 1.58062500e+02],\n       [-8.76413574e+01],\n       [ 8.11171875e+01],\n       [ 1.61142578e+01],\n       [-6.63933838e+02],\n       [-1.28347168e+01],\n       [-1.57168750e+03],\n       [-2.37188721e+02],\n       [ 4.23893555e+02],\n       [ 2.72779297e+02],\n       [ 4.79052734e+00],\n       [ 1.51621338e+02],\n       [ 8.85585938e+01],\n       [-2.93252930e+02],\n       [ 4.25249023e+01],\n       [-9.71492432e+02],\n       [-1.40997314e+02],\n       [-1.42394702e+03],\n       [-4.23005371e+01],\n       [-1.42462402e+02],\n       [-4.26089355e+02],\n       [ 5.78107910e+02],\n       [-7.16051270e+02],\n       [-4.97217285e+02],\n       [-1.40268555e+01],\n       [-7.78107910e+01],\n       [ 8.10017090e+01],\n       [-1.74067871e+02],\n       [-4.98613281e+01],\n       [ 1.88737793e+01],\n       [-8.30020996e+02],\n       [ 5.42915039e+01],\n       [-5.06229248e+02],\n       [-4.29101318e+02],\n       [ 9.57075195e+01],\n       [ 7.97073486e+02],\n       [-9.11183350e+02],\n       [-1.29213232e+03],\n       [-1.50728760e+02],\n       [-1.48265625e+02],\n       [-8.89125977e+01],\n       [ 1.87591797e+02],\n       [-2.77910156e+01],\n       [ 1.89058350e+02],\n       [-7.14484131e+02],\n       [-3.55346680e+01],\n       [ 5.22021484e+00],\n       [ 8.74121094e+00],\n       [-2.88867188e+02],\n       [-5.64386963e+02],\n       [ 7.90991211e+01],\n       [-9.00975342e+02],\n       [-1.02894775e+02],\n       [ 5.86485840e+02],\n       [ 5.23157959e+02],\n       [-5.29904785e+01],\n       [-5.43605957e+01],\n       [ 1.71923096e+02],\n       [-1.34798096e+02],\n       [-8.40874023e+01],\n       [ 3.94177246e+01],\n       [-8.85419922e+01],\n       [ 6.73034668e+01],\n       [ 2.93500977e+01],\n       [-1.45174561e+02],\n       [ 6.30605469e+01],\n       [ 1.22684570e+02],\n       [-4.21760742e+02],\n       [ 1.48858643e+02],\n       [-5.10708008e+01],\n       [ 5.55669922e+02],\n       [-3.71188477e+02],\n       [ 2.84218018e+02],\n       [-7.13217773e+01],\n       [ 1.84778809e+02],\n       [-3.41940430e+02],\n       [-6.49586426e+02],\n       [-2.27281250e+02],\n       [ 3.36423340e+01],\n       [ 1.28259521e+02],\n       [-2.91132568e+02],\n       [-3.71525879e+01],\n       [-5.26658203e+02],\n       [-2.82861328e+00],\n       [-2.98002197e+02],\n       [ 1.88775635e+02],\n       [-1.25825439e+02],\n       [-1.54346436e+02],\n       [ 2.09333008e+02],\n       [-8.21755371e+01],\n       [-8.07648193e+02],\n       [ 1.23642578e+02],\n       [-1.49581787e+02],\n       [ 3.15610352e+01],\n       [ 1.80229492e+02],\n       [ 1.81686768e+02],\n       [-5.31729492e+02],\n       [-4.47385254e+01],\n       [-2.47391602e+02],\n       [ 9.22685547e+01],\n       [-1.34812012e+02],\n       [-1.95811523e+02],\n       [-9.33022461e+01],\n       [ 9.22119141e+01],\n       [-6.35505371e+01],\n       [ 4.35696289e+02],\n       [-2.18746338e+02],\n       [ 3.91153809e+02],\n       [-4.18353760e+02],\n       [ 3.27780762e+01],\n       [-8.88469238e+01],\n       [-2.91553955e+02],\n       [ 3.77040527e+02],\n       [-5.66665039e+01],\n       [ 7.63967285e+01],\n       [ 8.72939453e+01],\n       [-3.44375000e+01],\n       [-2.37757080e+02],\n       [-1.46143311e+02],\n       [-2.23864746e+01],\n       [ 3.19957275e+02],\n       [ 3.56099121e+02],\n       [ 1.98669434e+01],\n       [-2.13171875e+02],\n       [ 2.03671143e+02],\n       [ 2.56022949e+01],\n       [-1.03438257e+03],\n       [ 2.38327637e+02],\n       [-2.32749756e+02],\n       [-3.43939209e+02],\n       [-1.91881592e+02],\n       [-6.85083008e+00],\n       [ 2.88529541e+02],\n       [-4.44580811e+02],\n       [-1.25457556e+03],\n       [ 3.21826172e+01],\n       [-3.76689453e+01],\n       [-1.36683350e+02],\n       [ 3.88239990e+02],\n       [-2.05202637e+01],\n       [-3.44795654e+02],\n       [ 3.97578125e+01],\n       [ 1.02209961e+02],\n       [ 1.00538940e+03],\n       [-1.07554761e+03],\n       [-2.20743896e+02],\n       [-2.54582275e+02],\n       [ 4.41394043e+01],\n       [-1.92617432e+02],\n       [ 8.21261230e+02],\n       [-1.16470557e+03],\n       [-2.45874023e+00],\n       [ 1.66516846e+02],\n       [-4.60429688e+01],\n       [-4.93266846e+02],\n       [ 5.22992188e+02],\n       [-8.89432373e+02],\n       [-1.37819824e+02],\n       [ 8.87086426e+02],\n       [-6.06935059e+02],\n       [-1.08699707e+02],\n       [-5.99195068e+02],\n       [-4.29587402e+01],\n       [-2.91867676e+01],\n       [ 2.13630615e+02],\n       [-1.23813477e+02],\n       [-3.04554932e+02],\n       [ 5.72363281e+00],\n       [ 3.81983643e+02],\n       [-4.25341797e+00],\n       [-1.12194092e+02],\n       [ 1.51364746e+01],\n       [-1.93804688e+02],\n       [ 1.93908203e+02],\n       [ 5.95246582e+01],\n       [-3.18712891e+02],\n       [ 6.01464844e+00],\n       [ 1.28518311e+02],\n       [-1.83226562e+02],\n       [ 6.38562012e+01],\n       [-6.83681641e+01],\n       [-6.88574219e+00],\n       [ 5.93117920e+02],\n       [-8.98132568e+02],\n       [-2.19812012e+01],\n       [-1.13530029e+02],\n       [ 3.14626465e+01],\n       [ 1.48369141e+02],\n       [ 1.07247803e+02],\n       [-2.06999268e+02],\n       [ 1.84294434e+01],\n       [-1.11926270e+01],\n       [-1.06514136e+03],\n       [-1.91468506e+02],\n       [ 1.64303711e+02],\n       [-9.47792969e+01],\n       [-2.68216064e+02],\n       [ 1.80199219e+02],\n       [ 4.27209473e+01],\n       [-6.96885010e+02],\n       [-3.05773926e+01],\n       [ 5.53938721e+02],\n       [-1.50508789e+02],\n       [ 1.17011621e+03],\n       [-2.66931152e+02],\n       [ 2.14980469e+02],\n       [-5.60799072e+02],\n       [-9.39287109e+01],\n       [ 1.07027832e+02],\n       [-7.49195801e+02],\n       [-8.26633301e+01],\n       [ 2.58698730e+01],\n       [-1.99233887e+02],\n       [-2.44276123e+02],\n       [-6.73722900e+02],\n       [-1.73001221e+02],\n       [-4.60799072e+02],\n       [ 5.34191406e+02],\n       [-5.51515137e+02],\n       [-7.22124023e+01],\n       [-3.01297852e+02],\n       [-8.88689453e+02],\n       [ 1.10237305e+02],\n       [ 1.20865479e+02],\n       [-1.99090088e+02],\n       [-9.31461426e+02],\n       [-8.30888428e+02],\n       [-1.75766675e+03],\n       [-8.80800781e+01],\n       [-5.18197510e+02],\n       [-2.38632812e+01],\n       [-1.42873633e+03],\n       [-4.40012207e+01],\n       [-2.96821289e+02],\n       [ 4.77834473e+01],\n       [-1.23750732e+02],\n       [ 6.16625977e+00],\n       [ 1.12671143e+02],\n       [-8.70435303e+02],\n       [ 1.67267578e+02],\n       [ 3.63502686e+02],\n       [ 4.89011230e+01],\n       [ 1.48529297e+02],\n       [-3.43764648e+01],\n       [ 2.81911377e+02],\n       [ 1.20356445e+02],\n       [ 5.23034668e+01],\n       [-1.06977295e+02],\n       [-1.67246582e+02],\n       [-5.68135010e+02],\n       [-5.99561279e+02],\n       [-9.26660156e+00],\n       [ 1.54653320e+02],\n       [ 3.97087646e+02],\n       [-6.34538086e+02],\n       [-4.46086670e+02],\n       [-8.58888184e+02],\n       [ 3.34209473e+02],\n       [ 3.64218750e+01],\n       [-1.53723315e+03],\n       [-3.25866211e+02],\n       [-3.96174072e+02],\n       [ 2.62929688e+01],\n       [-7.64130859e+01],\n       [-4.90566406e+01],\n       [ 1.97753906e-02],\n       [-5.98098145e+01],\n       [-1.02134033e+02],\n       [-6.67722168e+01],\n       [-1.17789551e+02],\n       [ 3.56412354e+02],\n       [ 4.37958496e+02],\n       [-9.28562622e+02],\n       [-2.93695801e+02],\n       [ 1.14913818e+02],\n       [-7.55495605e+01],\n       [ 7.89091797e+01],\n       [-1.39675781e+02],\n       [ 3.89499268e+02],\n       [ 6.47497559e+01],\n       [-7.43388672e+01],\n       [ 3.67609619e+02],\n       [ 6.63249512e+01],\n       [-1.27988281e+03],\n       [-1.26714111e+02],\n       [-5.96432617e+02],\n       [ 5.26581787e+02],\n       [-3.53175293e+02],\n       [-6.09678711e+02],\n       [ 1.01496582e+01],\n       [-3.49615234e+02],\n       [ 9.03640137e+01],\n       [-9.87607422e+01],\n       [-9.42124023e+01],\n       [ 2.05703857e+02],\n       [-5.13412842e+02],\n       [-5.10811279e+02],\n       [-1.25210913e+03],\n       [-7.33041992e+01],\n       [ 2.24150635e+02],\n       [-3.32663574e+02],\n       [-7.30329590e+01],\n       [ 1.52311279e+02],\n       [ 3.18311523e+02],\n       [-6.63017090e+02],\n       [-3.36574219e+02],\n       [-4.55999512e+02],\n       [ 4.77029541e+02],\n       [-2.13889160e+01],\n       [-1.35282471e+02],\n       [-3.86988281e+02],\n       [-1.46825439e+02],\n       [-4.14187988e+02],\n       [ 3.19931641e+01],\n       [ 5.54877197e+02],\n       [-4.24375977e+02],\n       [-3.17266357e+02],\n       [-6.63168945e+01],\n       [-5.84426025e+02],\n       [ 1.20913574e+02],\n       [-2.24685547e+02],\n       [ 9.93666992e+01],\n       [-6.31461426e+02],\n       [ 7.34521484e+01],\n       [-4.57488281e+02],\n       [ 1.49197266e+02],\n       [-5.63220703e+02],\n       [-9.36772461e+01],\n       [-3.02000488e+02],\n       [-1.90383789e+02],\n       [ 1.05853516e+02],\n       [-3.59192871e+02],\n       [ 3.61172119e+02],\n       [ 1.09345703e+02],\n       [ 2.56914062e+01],\n       [-1.54406738e+01],\n       [-1.04680737e+03],\n       [ 1.84893555e+02],\n       [-1.24293457e+02],\n       [-4.32047607e+02],\n       [-1.57713623e+02],\n       [-1.55759277e+01],\n       [ 2.12416992e+01],\n       [-1.33493652e+01],\n       [ 3.56064453e+02],\n       [ 2.06532227e+02],\n       [-1.27773682e+02],\n       [-9.98396240e+02],\n       [-2.03147705e+02],\n       [ 8.41799316e+01],\n       [-3.19555664e+01],\n       [-3.47041504e+02],\n       [ 2.16269287e+02],\n       [-1.87153076e+02],\n       [-2.70649902e+02],\n       [-7.04389648e+01],\n       [-7.61589355e+02],\n       [-7.08742188e+02],\n       [-5.30571289e+02],\n       [-9.67734375e+01],\n       [-1.23793701e+02],\n       [ 3.63842773e+00],\n       [-1.85514648e+02],\n       [-1.21545410e+01],\n       [ 1.72823486e+02],\n       [-1.07564453e+02],\n       [ 6.09228516e+00],\n       [ 1.88383789e+01],\n       [-7.40109863e+01],\n       [-9.32296875e+02],\n       [ 4.23665039e+02],\n       [-3.68701172e+02],\n       [ 3.38683838e+02],\n       [-1.42977295e+02],\n       [-1.81482422e+02],\n       [ 1.18689941e+02],\n       [ 3.79953613e+02],\n       [-2.88867188e+02],\n       [-7.95225342e+02],\n       [ 1.79828613e+02],\n       [ 6.36892334e+02],\n       [ 1.87947266e+02],\n       [-3.85590332e+02],\n       [-1.41574463e+02],\n       [-2.11145508e+02],\n       [-1.03983643e+02],\n       [-1.39943604e+02],\n       [ 3.05684082e+02],\n       [-8.10677246e+02],\n       [-3.50498047e+02],\n       [ 1.67646729e+02],\n       [-3.65988525e+02],\n       [-9.12731934e+01],\n       [ 1.53282715e+02],\n       [-5.09414795e+02],\n       [ 5.12572998e+02],\n       [-4.00793457e+01],\n       [-1.94703857e+02],\n       [-5.82580811e+02],\n       [ 7.71699219e+01],\n       [ 2.37749756e+02],\n       [-1.46126709e+02],\n       [-4.85610352e+02],\n       [-6.91642334e+02],\n       [ 4.49147949e+01],\n       [ 8.91608887e+01],\n       [-5.96096436e+02],\n       [-3.41378906e+02],\n       [-3.01102783e+02],\n       [-7.53105469e+01],\n       [ 2.45063721e+02],\n       [ 1.35213379e+02],\n       [ 5.33967285e+02],\n       [-3.17628662e+02],\n       [ 3.16894531e+01],\n       [-1.25352783e+02],\n       [-4.67904541e+02],\n       [ 3.50861816e+01],\n       [-3.09204102e+00],\n       [ 3.47899658e+02],\n       [-1.35193115e+02],\n       [-6.18550293e+02],\n       [-3.02130127e+02],\n       [ 2.37616455e+02],\n       [-9.87646484e+01],\n       [ 2.64687500e+01],\n       [ 2.88130615e+02],\n       [-6.18492432e+02],\n       [-1.11319067e+03],\n       [-1.10962402e+02],\n       [ 4.17416016e+02],\n       [-1.60079834e+02],\n       [ 4.12915039e+01],\n       [-9.94775391e+01],\n       [ 1.00438721e+02],\n       [-2.33890137e+02],\n       [ 3.66765625e+02],\n       [-6.08129883e+00],\n       [-3.71525879e+01],\n       [-3.93802490e+02],\n       [-3.91731934e+02],\n       [ 1.19745850e+02],\n       [-3.05131836e+02],\n       [-3.87444336e+02],\n       [-1.88198242e+01],\n       [ 7.80410156e+01],\n       [ 1.28607715e+03],\n       [ 1.11648682e+02],\n       [ 3.03186279e+02],\n       [-4.76174316e+01],\n       [-3.38128906e+02]], dtype=float32)"
     },
     "execution_count": 9,
     "metadata": {},
     "output_type": "execute_result"
    }
   ],
   "source": [
    "inversed_test - inversed_predictions"
   ],
   "metadata": {
    "collapsed": false
   }
  },
  {
   "cell_type": "code",
   "execution_count": 16,
   "outputs": [],
   "source": [
    "extrapolated_x = []\n",
    "extrapolated_y = []\n",
    "for i in range(51, 85):\n",
    "    extrapolated_x.append(str(i) + ' days' + ' iphone 11')\n",
    "    extrapolated_y.append(0)"
   ],
   "metadata": {
    "collapsed": false
   }
  },
  {
   "cell_type": "code",
   "execution_count": 17,
   "outputs": [
    {
     "data": {
      "text/plain": "['51 days iphone 11',\n '52 days iphone 11',\n '53 days iphone 11',\n '54 days iphone 11',\n '55 days iphone 11',\n '56 days iphone 11',\n '57 days iphone 11',\n '58 days iphone 11',\n '59 days iphone 11',\n '60 days iphone 11',\n '61 days iphone 11',\n '62 days iphone 11',\n '63 days iphone 11',\n '64 days iphone 11',\n '65 days iphone 11',\n '66 days iphone 11',\n '67 days iphone 11',\n '68 days iphone 11',\n '69 days iphone 11',\n '70 days iphone 11',\n '71 days iphone 11',\n '72 days iphone 11',\n '73 days iphone 11',\n '74 days iphone 11',\n '75 days iphone 11',\n '76 days iphone 11',\n '77 days iphone 11',\n '78 days iphone 11',\n '79 days iphone 11',\n '80 days iphone 11',\n '81 days iphone 11',\n '82 days iphone 11',\n '83 days iphone 11',\n '84 days iphone 11']"
     },
     "execution_count": 17,
     "metadata": {},
     "output_type": "execute_result"
    }
   ],
   "source": [
    "extrapolated_x"
   ],
   "metadata": {
    "collapsed": false
   }
  },
  {
   "cell_type": "code",
   "execution_count": 12,
   "outputs": [],
   "source": [
    "extrapolated_tokens = tokenizer(extrapolated_x, truncation=True, padding=True, max_length=50)\n",
    "\n",
    "extrapolated_dataset = MakeTorchData(extrapolated_tokens, np.asarray(extrapolated_y).ravel())"
   ],
   "metadata": {
    "collapsed": false
   }
  },
  {
   "cell_type": "code",
   "execution_count": 13,
   "outputs": [
    {
     "name": "stderr",
     "output_type": "stream",
     "text": [
      "***** Running Prediction *****\n",
      "  Num examples = 34\n",
      "  Batch size = 20\n"
     ]
    },
    {
     "data": {
      "text/plain": "<IPython.core.display.HTML object>",
      "text/html": "\n    <div>\n      \n      <progress value='1' max='2' style='width:300px; height:20px; vertical-align: middle;'></progress>\n      [1/2 : < :]\n    </div>\n    "
     },
     "metadata": {},
     "output_type": "display_data"
    }
   ],
   "source": [
    "extrapolated_predictions = trainer.predict(extrapolated_dataset)"
   ],
   "metadata": {
    "collapsed": false
   }
  },
  {
   "cell_type": "code",
   "execution_count": 15,
   "outputs": [
    {
     "data": {
      "text/plain": "numpy.ndarray"
     },
     "execution_count": 15,
     "metadata": {},
     "output_type": "execute_result"
    }
   ],
   "source": [
    "inversed_extrapolated = scaler.inverse_transform(np.asarray(extrapolated_predictions[0]).reshape(-1, 1))\n",
    "type(inversed_extrapolated)"
   ],
   "metadata": {
    "collapsed": false
   }
  },
  {
   "cell_type": "code",
   "execution_count": 39,
   "outputs": [],
   "source": [
    "# def foresee(model: Trainer,\n",
    "#             scaler: StandardScaler,\n",
    "#             tokenizer: AutoTokenizer,\n",
    "#             text: str = 'iphone 11',\n",
    "#             days: tuple = (1, 90)) -> np.ndarray:\n",
    "#\n",
    "#     extrapolated_x = []\n",
    "#     extrapolated_y = []\n",
    "#     for i in range(*days):\n",
    "#         extrapolated_x.append(str(i) + ' days ' + text)\n",
    "#         extrapolated_y.append(0)\n",
    "#\n",
    "#     extrapolated_tokens = tokenizer(extrapolated_x, truncation=True, padding=True, max_length=50)\n",
    "#     extrapolated_dataset = MakeTorchData(extrapolated_tokens, np.asarray(extrapolated_y).ravel())\n",
    "#     extrapolated_predictions = model.predict(extrapolated_dataset)\n",
    "#     inversed_extrapolated = scaler.inverse_transform(np.asarray(extrapolated_predictions[0]).reshape(-1, 1))\n",
    "#\n",
    "#     return inversed_extrapolated"
   ],
   "metadata": {
    "collapsed": false
   }
  },
  {
   "cell_type": "code",
   "execution_count": 44,
   "outputs": [
    {
     "name": "stderr",
     "output_type": "stream",
     "text": [
      "***** Running Prediction *****\n",
      "  Num examples = 89\n",
      "  Batch size = 20\n"
     ]
    },
    {
     "data": {
      "text/plain": "<IPython.core.display.HTML object>",
      "text/html": "\n    <div>\n      \n      <progress value='1' max='5' style='width:300px; height:20px; vertical-align: middle;'></progress>\n      [1/5 : < :]\n    </div>\n    "
     },
     "metadata": {},
     "output_type": "display_data"
    },
    {
     "data": {
      "text/plain": "array([[2403.2437],\n       [2442.9517],\n       [2437.8252],\n       [2451.3066],\n       [2422.7432],\n       [2444.0386],\n       [2417.8943],\n       [2446.6145],\n       [2441.293 ],\n       [2441.623 ],\n       [2434.404 ],\n       [2440.8982],\n       [2429.606 ],\n       [2398.373 ],\n       [2417.2644],\n       [2418.433 ],\n       [2416.4912],\n       [2433.04  ],\n       [2404.2578],\n       [2401.4277],\n       [2399.366 ],\n       [2426.9976],\n       [2438.076 ],\n       [2445.7385],\n       [2435.1216],\n       [2401.7002],\n       [2387.809 ],\n       [2374.431 ],\n       [2380.53  ],\n       [2394.7136],\n       [2412.0156],\n       [2413.5825],\n       [2421.7454],\n       [2427.422 ],\n       [2429.918 ],\n       [2424.5562],\n       [2428.7966],\n       [2445.3   ],\n       [2449.1538],\n       [2415.9023],\n       [2404.0432],\n       [2408.225 ],\n       [2412.148 ],\n       [2411.6958],\n       [2412.03  ],\n       [2386.2896],\n       [2370.4631],\n       [2418.9194],\n       [2415.4258],\n       [2402.1667],\n       [2395.2825],\n       [2397.0603],\n       [2391.3203],\n       [2406.0564],\n       [2391.3252],\n       [2433.5789],\n       [2411.2566],\n       [2439.8877],\n       [2427.7537],\n       [2417.1484],\n       [2395.2727],\n       [2415.0762],\n       [2439.2651],\n       [2408.5254],\n       [2429.3723],\n       [2419.7668],\n       [2421.9768],\n       [2436.9941],\n       [2405.348 ],\n       [2406.1643],\n       [2402.4727],\n       [2411.3523],\n       [2398.542 ],\n       [2402.0454],\n       [2428.2126],\n       [2423.6035],\n       [2423.7373],\n       [2420.408 ],\n       [2421.4211],\n       [2396.8882],\n       [2369.8604],\n       [2384.078 ],\n       [2416.8157],\n       [2417.0767],\n       [2433.1633],\n       [2393.6497],\n       [2418.2437],\n       [2428.002 ],\n       [2419.2266]], dtype=float32)"
     },
     "execution_count": 44,
     "metadata": {},
     "output_type": "execute_result"
    }
   ],
   "source": [
    "foresee(trainer, scaler, tokenizer, 'iphone 11 64')"
   ],
   "metadata": {
    "collapsed": false
   }
  },
  {
   "cell_type": "code",
   "execution_count": null,
   "outputs": [],
   "source": [
    "pickle.dump(scaler, open(PATH_FOR_MODEL + '/scaler.pkl','wb'))\n",
    "# scaler = pickle.load(open('../results/scaler_auto_model.pkl','rb'))"
   ],
   "metadata": {
    "collapsed": false
   }
  }
 ],
 "metadata": {
  "kernelspec": {
   "display_name": "Python 3",
   "language": "python",
   "name": "python3"
  },
  "language_info": {
   "codemirror_mode": {
    "name": "ipython",
    "version": 2
   },
   "file_extension": ".py",
   "mimetype": "text/x-python",
   "name": "python",
   "nbconvert_exporter": "python",
   "pygments_lexer": "ipython2",
   "version": "2.7.6"
  }
 },
 "nbformat": 4,
 "nbformat_minor": 0
}
