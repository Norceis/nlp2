{
 "cells": [
  {
   "cell_type": "code",
   "execution_count": 1,
   "outputs": [
    {
     "name": "stderr",
     "output_type": "stream",
     "text": [
      "Skipping line 346: expected 13 fields, saw 14\n",
      "Skipping line 367: expected 13 fields, saw 15\n",
      "Skipping line 466: expected 13 fields, saw 19\n",
      "Skipping line 467: expected 13 fields, saw 19\n",
      "Skipping line 494: expected 13 fields, saw 15\n",
      "Skipping line 615: expected 13 fields, saw 15\n",
      "Skipping line 616: expected 13 fields, saw 15\n",
      "Skipping line 617: expected 13 fields, saw 15\n",
      "Skipping line 618: expected 13 fields, saw 15\n",
      "Skipping line 619: expected 13 fields, saw 15\n",
      "Skipping line 620: expected 13 fields, saw 15\n",
      "Skipping line 712: expected 13 fields, saw 14\n",
      "Skipping line 713: expected 13 fields, saw 14\n",
      "Skipping line 739: expected 13 fields, saw 14\n",
      "Skipping line 747: expected 13 fields, saw 16\n",
      "Skipping line 753: expected 13 fields, saw 20\n",
      "Skipping line 754: expected 13 fields, saw 20\n",
      "Skipping line 867: expected 13 fields, saw 15\n",
      "Skipping line 956: expected 13 fields, saw 14\n",
      "Skipping line 1028: expected 13 fields, saw 14\n",
      "Skipping line 1234: expected 13 fields, saw 15\n",
      "Skipping line 1282: expected 13 fields, saw 17\n",
      "Skipping line 1326: expected 13 fields, saw 14\n",
      "Skipping line 1327: expected 13 fields, saw 14\n",
      "Skipping line 1337: expected 13 fields, saw 14\n",
      "Skipping line 1359: expected 13 fields, saw 14\n",
      "Skipping line 1401: expected 13 fields, saw 14\n",
      "Skipping line 1420: expected 13 fields, saw 14\n",
      "Skipping line 1496: expected 13 fields, saw 21\n",
      "Skipping line 1553: expected 13 fields, saw 16\n",
      "Skipping line 1615: expected 13 fields, saw 15\n",
      "Skipping line 1653: expected 13 fields, saw 14\n",
      "Skipping line 1684: expected 13 fields, saw 16\n",
      "Skipping line 1743: expected 13 fields, saw 16\n",
      "Skipping line 1772: expected 13 fields, saw 15\n",
      "Skipping line 1774: expected 13 fields, saw 19\n",
      "Skipping line 1775: expected 13 fields, saw 16\n",
      "Skipping line 1792: expected 13 fields, saw 14\n",
      "Skipping line 1852: expected 13 fields, saw 14\n",
      "Skipping line 1875: expected 13 fields, saw 14\n",
      "Skipping line 1880: expected 13 fields, saw 14\n",
      "Skipping line 1955: expected 13 fields, saw 15\n",
      "Skipping line 1964: expected 13 fields, saw 16\n",
      "Skipping line 2077: expected 13 fields, saw 15\n",
      "Skipping line 2100: expected 13 fields, saw 16\n",
      "Skipping line 2113: expected 13 fields, saw 16\n",
      "Skipping line 2121: expected 13 fields, saw 14\n",
      "Skipping line 2215: expected 13 fields, saw 16\n",
      "Skipping line 2255: expected 13 fields, saw 44\n",
      "Skipping line 2256: expected 13 fields, saw 44\n",
      "Skipping line 2330: expected 13 fields, saw 15\n",
      "Skipping line 2351: expected 13 fields, saw 14\n",
      "Skipping line 2372: expected 13 fields, saw 19\n",
      "Skipping line 2377: expected 13 fields, saw 44\n",
      "Skipping line 2381: expected 13 fields, saw 44\n",
      "Skipping line 2395: expected 13 fields, saw 44\n",
      "Skipping line 2397: expected 13 fields, saw 44\n",
      "Skipping line 2440: expected 13 fields, saw 14\n",
      "Skipping line 2443: expected 13 fields, saw 14\n",
      "Skipping line 2496: expected 13 fields, saw 44\n",
      "Skipping line 2497: expected 13 fields, saw 44\n",
      "Skipping line 2498: expected 13 fields, saw 16\n",
      "Skipping line 2584: expected 13 fields, saw 16\n",
      "Skipping line 2585: expected 13 fields, saw 44\n",
      "Skipping line 2641: expected 13 fields, saw 15\n",
      "Skipping line 2650: expected 13 fields, saw 15\n",
      "Skipping line 2841: expected 13 fields, saw 44\n",
      "Skipping line 2941: expected 13 fields, saw 14\n",
      "Skipping line 3071: expected 13 fields, saw 15\n",
      "Skipping line 3115: expected 13 fields, saw 44\n",
      "Skipping line 3174: expected 13 fields, saw 15\n",
      "Skipping line 3410: expected 13 fields, saw 44\n",
      "Skipping line 3487: expected 13 fields, saw 44\n",
      "Skipping line 3488: expected 13 fields, saw 16\n",
      "Skipping line 3529: expected 13 fields, saw 14\n",
      "Skipping line 3534: expected 13 fields, saw 14\n",
      "Skipping line 3624: expected 13 fields, saw 15\n",
      "Skipping line 3737: expected 13 fields, saw 44\n",
      "Skipping line 3738: expected 13 fields, saw 44\n",
      "Skipping line 3739: expected 13 fields, saw 44\n",
      "Skipping line 3781: expected 13 fields, saw 14\n",
      "Skipping line 3797: expected 13 fields, saw 15\n",
      "Skipping line 3852: expected 13 fields, saw 15\n",
      "Skipping line 3961: expected 13 fields, saw 14\n",
      "Skipping line 3971: expected 13 fields, saw 15\n",
      "Skipping line 4094: expected 13 fields, saw 14\n",
      "Skipping line 4120: expected 13 fields, saw 15\n",
      "Skipping line 4341: expected 13 fields, saw 14\n",
      "Skipping line 4370: expected 13 fields, saw 15\n",
      "Skipping line 4407: expected 13 fields, saw 44\n",
      "Skipping line 4434: expected 13 fields, saw 14\n",
      "Skipping line 4435: expected 13 fields, saw 14\n",
      "Skipping line 4462: expected 13 fields, saw 20\n",
      "Skipping line 4520: expected 13 fields, saw 16\n",
      "Skipping line 4550: expected 13 fields, saw 15\n",
      "Skipping line 4656: expected 13 fields, saw 16\n",
      "Skipping line 4670: expected 13 fields, saw 14\n",
      "Skipping line 4705: expected 13 fields, saw 14\n",
      "Skipping line 4721: expected 13 fields, saw 16\n",
      "Skipping line 4723: expected 13 fields, saw 16\n",
      "Skipping line 4969: expected 13 fields, saw 14\n",
      "Skipping line 4986: expected 13 fields, saw 44\n",
      "Skipping line 5037: expected 13 fields, saw 15\n",
      "\n"
     ]
    },
    {
     "data": {
      "text/plain": "                                                    URL   Voivodeship  \\\n0     https://www.olx.pl/oferta/iphone-11-64-jak-now...     pomorskie   \n1     https://www.olx.pl/oferta/skup-uszkodzonych-te...     pomorskie   \n2     https://www.olx.pl/oferta/iphone-11-64-gb-czar...     pomorskie   \n3     https://www.olx.pl/oferta/iphone-11-CID99-IDIk...     pomorskie   \n4     https://www.olx.pl/oferta/jak-nowy-apple-iphon...     pomorskie   \n...                                                 ...           ...   \n4976  https://www.olx.pl/oferta/iphone-11-red-64-gb-...  podkarpackie   \n4977  https://www.olx.pl/oferta/iphone-11-white-64gb...  podkarpackie   \n4978  https://www.olx.pl/oferta/etui-iphone-11-CID99...     podlaskie   \n4979  https://www.olx.pl/oferta/iphone-11-purple-fio...     podlaskie   \n4980  https://www.olx.pl/oferta/apple-iphone-11-bez-...     podlaskie   \n\n               Scrap_time                                               Name  \\\n0     2021-02-22 06:55:30    Iphone 11 64 jak nowy 95% gwarancja wyświetlacz   \n1     2021-02-22 06:55:34  Skup uszkodzonych telefonów iPhone xs xs max 1...   \n2     2021-02-22 06:55:40  IPhone 11 64 GB czarny, idealny z gwarancją. W...   \n3     2021-02-22 06:55:44                                          Iphone 11   \n4     2021-02-22 06:55:52   Jak Nowy Apple Iphone 11 256gbGB White Gwarancja   \n...                   ...                                                ...   \n4976  2021-02-22 05:54:53                               IPhone 11 Red, 64 GB   \n4977  2021-02-22 05:55:26                               Iphone 11 white 64gb   \n4978  2021-02-22 06:28:04                                     Etui iPhone 11   \n4979  2021-02-22 06:28:11              IPhone 11 purple fioletowy nowy 64 GB   \n4980  2021-02-22 06:28:15  Apple iPhone 11 bez simlocka cały komplet pols...   \n\n       Price   Brand Condition       Offer_from     Type  \\\n0     2799.0  iPhone   Używane  Osoby prywatnej  Sprawny   \n1        NaN     NaN       NaN            Firmy      NaN   \n2     2700.0  iPhone   Używane  Osoby prywatnej  Sprawny   \n3     3000.0  iPhone      Nowe  Osoby prywatnej  Sprawny   \n4     2899.0  iPhone   Używane            Firmy  Sprawny   \n...      ...     ...       ...              ...      ...   \n4976  2990.0  iPhone      Nowe  Osoby prywatnej  Sprawny   \n4977  1650.0  iPhone   Używane  Osoby prywatnej  Sprawny   \n4978   100.0     NaN   Używane  Osoby prywatnej      NaN   \n4979  2680.0  iPhone      Nowe  Osoby prywatnej  Sprawny   \n4980  1700.0  iPhone   Używane  Osoby prywatnej  Sprawny   \n\n                                            Description             Added_at  \\\n0     Jak nowy . Kondycja baterii 95%. Kupiony w med...  2021-02-22 00:09:00   \n1     Witam.  Kupię uszkodzone/ zablokowane/ zalane/...  2021-02-22 00:05:00   \n2     Witam! Mam na sprzedaż iPhone’a 11 w wersji 64...  2021-02-21 19:00:00   \n3     Nowy 128GB   Oryginalnie zapakowany kolor czar...  2021-02-21 18:24:00   \n4     Witaj.     Jesteśmy sklepem - serwisem z 12 le...  2021-02-21 17:38:00   \n...                                                 ...                  ...   \n4976  Witam mam na sprzedaż nowego IPhona 11 64 GB, ...  2021-02-21 12:16:00   \n4977  Na sprzedaż posiadam iphone 11 white o pojemno...  2021-02-20 13:42:00   \n4978  Witam, mam na sprzedaż dwa oryginalne etui od ...  2021-02-22 04:51:00   \n4979  Dzień Dobry. Posiadam na sprzedaż iphone 11 pu...  2021-02-21 19:21:00   \n4980  Sprzedam Appld iPhone 11 z polskiej dystrybucj...  2021-02-21 09:35:00   \n\n      Views           User_since  \n0        37  2013-05-01 00:00:00  \n1      5242  2020-04-01 00:00:00  \n2       186  2014-12-01 00:00:00  \n3       250  2016-06-01 00:00:00  \n4       845  2012-08-01 00:00:00  \n...     ...                  ...  \n4976    177  2018-06-01 00:00:00  \n4977    980  2021-02-01 00:00:00  \n4978     78  2016-06-01 00:00:00  \n4979     72  2017-02-01 00:00:00  \n4980   2622  2020-11-01 00:00:00  \n\n[4981 rows x 13 columns]",
      "text/html": "<div>\n<style scoped>\n    .dataframe tbody tr th:only-of-type {\n        vertical-align: middle;\n    }\n\n    .dataframe tbody tr th {\n        vertical-align: top;\n    }\n\n    .dataframe thead th {\n        text-align: right;\n    }\n</style>\n<table border=\"1\" class=\"dataframe\">\n  <thead>\n    <tr style=\"text-align: right;\">\n      <th></th>\n      <th>URL</th>\n      <th>Voivodeship</th>\n      <th>Scrap_time</th>\n      <th>Name</th>\n      <th>Price</th>\n      <th>Brand</th>\n      <th>Condition</th>\n      <th>Offer_from</th>\n      <th>Type</th>\n      <th>Description</th>\n      <th>Added_at</th>\n      <th>Views</th>\n      <th>User_since</th>\n    </tr>\n  </thead>\n  <tbody>\n    <tr>\n      <th>0</th>\n      <td>https://www.olx.pl/oferta/iphone-11-64-jak-now...</td>\n      <td>pomorskie</td>\n      <td>2021-02-22 06:55:30</td>\n      <td>Iphone 11 64 jak nowy 95% gwarancja wyświetlacz</td>\n      <td>2799.0</td>\n      <td>iPhone</td>\n      <td>Używane</td>\n      <td>Osoby prywatnej</td>\n      <td>Sprawny</td>\n      <td>Jak nowy . Kondycja baterii 95%. Kupiony w med...</td>\n      <td>2021-02-22 00:09:00</td>\n      <td>37</td>\n      <td>2013-05-01 00:00:00</td>\n    </tr>\n    <tr>\n      <th>1</th>\n      <td>https://www.olx.pl/oferta/skup-uszkodzonych-te...</td>\n      <td>pomorskie</td>\n      <td>2021-02-22 06:55:34</td>\n      <td>Skup uszkodzonych telefonów iPhone xs xs max 1...</td>\n      <td>NaN</td>\n      <td>NaN</td>\n      <td>NaN</td>\n      <td>Firmy</td>\n      <td>NaN</td>\n      <td>Witam.  Kupię uszkodzone/ zablokowane/ zalane/...</td>\n      <td>2021-02-22 00:05:00</td>\n      <td>5242</td>\n      <td>2020-04-01 00:00:00</td>\n    </tr>\n    <tr>\n      <th>2</th>\n      <td>https://www.olx.pl/oferta/iphone-11-64-gb-czar...</td>\n      <td>pomorskie</td>\n      <td>2021-02-22 06:55:40</td>\n      <td>IPhone 11 64 GB czarny, idealny z gwarancją. W...</td>\n      <td>2700.0</td>\n      <td>iPhone</td>\n      <td>Używane</td>\n      <td>Osoby prywatnej</td>\n      <td>Sprawny</td>\n      <td>Witam! Mam na sprzedaż iPhone’a 11 w wersji 64...</td>\n      <td>2021-02-21 19:00:00</td>\n      <td>186</td>\n      <td>2014-12-01 00:00:00</td>\n    </tr>\n    <tr>\n      <th>3</th>\n      <td>https://www.olx.pl/oferta/iphone-11-CID99-IDIk...</td>\n      <td>pomorskie</td>\n      <td>2021-02-22 06:55:44</td>\n      <td>Iphone 11</td>\n      <td>3000.0</td>\n      <td>iPhone</td>\n      <td>Nowe</td>\n      <td>Osoby prywatnej</td>\n      <td>Sprawny</td>\n      <td>Nowy 128GB   Oryginalnie zapakowany kolor czar...</td>\n      <td>2021-02-21 18:24:00</td>\n      <td>250</td>\n      <td>2016-06-01 00:00:00</td>\n    </tr>\n    <tr>\n      <th>4</th>\n      <td>https://www.olx.pl/oferta/jak-nowy-apple-iphon...</td>\n      <td>pomorskie</td>\n      <td>2021-02-22 06:55:52</td>\n      <td>Jak Nowy Apple Iphone 11 256gbGB White Gwarancja</td>\n      <td>2899.0</td>\n      <td>iPhone</td>\n      <td>Używane</td>\n      <td>Firmy</td>\n      <td>Sprawny</td>\n      <td>Witaj.     Jesteśmy sklepem - serwisem z 12 le...</td>\n      <td>2021-02-21 17:38:00</td>\n      <td>845</td>\n      <td>2012-08-01 00:00:00</td>\n    </tr>\n    <tr>\n      <th>...</th>\n      <td>...</td>\n      <td>...</td>\n      <td>...</td>\n      <td>...</td>\n      <td>...</td>\n      <td>...</td>\n      <td>...</td>\n      <td>...</td>\n      <td>...</td>\n      <td>...</td>\n      <td>...</td>\n      <td>...</td>\n      <td>...</td>\n    </tr>\n    <tr>\n      <th>4976</th>\n      <td>https://www.olx.pl/oferta/iphone-11-red-64-gb-...</td>\n      <td>podkarpackie</td>\n      <td>2021-02-22 05:54:53</td>\n      <td>IPhone 11 Red, 64 GB</td>\n      <td>2990.0</td>\n      <td>iPhone</td>\n      <td>Nowe</td>\n      <td>Osoby prywatnej</td>\n      <td>Sprawny</td>\n      <td>Witam mam na sprzedaż nowego IPhona 11 64 GB, ...</td>\n      <td>2021-02-21 12:16:00</td>\n      <td>177</td>\n      <td>2018-06-01 00:00:00</td>\n    </tr>\n    <tr>\n      <th>4977</th>\n      <td>https://www.olx.pl/oferta/iphone-11-white-64gb...</td>\n      <td>podkarpackie</td>\n      <td>2021-02-22 05:55:26</td>\n      <td>Iphone 11 white 64gb</td>\n      <td>1650.0</td>\n      <td>iPhone</td>\n      <td>Używane</td>\n      <td>Osoby prywatnej</td>\n      <td>Sprawny</td>\n      <td>Na sprzedaż posiadam iphone 11 white o pojemno...</td>\n      <td>2021-02-20 13:42:00</td>\n      <td>980</td>\n      <td>2021-02-01 00:00:00</td>\n    </tr>\n    <tr>\n      <th>4978</th>\n      <td>https://www.olx.pl/oferta/etui-iphone-11-CID99...</td>\n      <td>podlaskie</td>\n      <td>2021-02-22 06:28:04</td>\n      <td>Etui iPhone 11</td>\n      <td>100.0</td>\n      <td>NaN</td>\n      <td>Używane</td>\n      <td>Osoby prywatnej</td>\n      <td>NaN</td>\n      <td>Witam, mam na sprzedaż dwa oryginalne etui od ...</td>\n      <td>2021-02-22 04:51:00</td>\n      <td>78</td>\n      <td>2016-06-01 00:00:00</td>\n    </tr>\n    <tr>\n      <th>4979</th>\n      <td>https://www.olx.pl/oferta/iphone-11-purple-fio...</td>\n      <td>podlaskie</td>\n      <td>2021-02-22 06:28:11</td>\n      <td>IPhone 11 purple fioletowy nowy 64 GB</td>\n      <td>2680.0</td>\n      <td>iPhone</td>\n      <td>Nowe</td>\n      <td>Osoby prywatnej</td>\n      <td>Sprawny</td>\n      <td>Dzień Dobry. Posiadam na sprzedaż iphone 11 pu...</td>\n      <td>2021-02-21 19:21:00</td>\n      <td>72</td>\n      <td>2017-02-01 00:00:00</td>\n    </tr>\n    <tr>\n      <th>4980</th>\n      <td>https://www.olx.pl/oferta/apple-iphone-11-bez-...</td>\n      <td>podlaskie</td>\n      <td>2021-02-22 06:28:15</td>\n      <td>Apple iPhone 11 bez simlocka cały komplet pols...</td>\n      <td>1700.0</td>\n      <td>iPhone</td>\n      <td>Używane</td>\n      <td>Osoby prywatnej</td>\n      <td>Sprawny</td>\n      <td>Sprzedam Appld iPhone 11 z polskiej dystrybucj...</td>\n      <td>2021-02-21 09:35:00</td>\n      <td>2622</td>\n      <td>2020-11-01 00:00:00</td>\n    </tr>\n  </tbody>\n</table>\n<p>4981 rows × 13 columns</p>\n</div>"
     },
     "execution_count": 1,
     "metadata": {},
     "output_type": "execute_result"
    }
   ],
   "source": [
    "import pandas as pd\n",
    "import csv\n",
    "\n",
    "data = pd.read_csv('../data/recruitment_data_modified.csv',\n",
    "                   encoding='utf-8',\n",
    "                   sep=',',\n",
    "                   on_bad_lines='warn',\n",
    "                   quotechar='\"',\n",
    "                   doublequote=True,\n",
    "                   names=['URL', 'Voivodeship', 'Scrap_time', 'Name', 'Price', 'Brand', 'Condition', 'Offer_from', 'Type', 'Description', 'Added_at', 'Views', 'User_since'],\n",
    "                   skiprows=1) #quotechar is important\n",
    "\n",
    "data"
   ],
   "metadata": {
    "collapsed": false
   }
  },
  {
   "cell_type": "code",
   "execution_count": 2,
   "outputs": [],
   "source": [
    "rows = []\n",
    "with open('../data/recruitment_data.csv', 'r', encoding='utf-8') as opened_file:\n",
    "    reader = csv.reader(opened_file)\n",
    "    while True:\n",
    "        try:\n",
    "            line = next(reader)\n",
    "            if len(line) == 1:\n",
    "                line = line[0]\n",
    "                rows.append(line)\n",
    "            else:\n",
    "                rows.append(line)\n",
    "        except StopIteration:\n",
    "            break"
   ],
   "metadata": {
    "collapsed": false
   }
  },
  {
   "cell_type": "code",
   "execution_count": 44,
   "outputs": [],
   "source": [
    "with open('../data/recruitment_data_modified_python.csv', 'w', encoding='utf-8') as writing_file:\n",
    "\n",
    "    for sample in rows:\n",
    "        if len(sample) > 13:\n",
    "            try:\n",
    "                writing_file.write(sample + '\\n')\n",
    "            except TypeError:\n",
    "                writing_file.write(','.join(sample) + '\\n')\n",
    "        else:\n",
    "            writing_file.write(','.join(sample) + '\\n')"
   ],
   "metadata": {
    "collapsed": false
   }
  },
  {
   "cell_type": "code",
   "execution_count": 5,
   "outputs": [
    {
     "data": {
      "text/plain": "13"
     },
     "execution_count": 5,
     "metadata": {},
     "output_type": "execute_result"
    }
   ],
   "source": [
    "len(rows[0])"
   ],
   "metadata": {
    "collapsed": false
   }
  },
  {
   "cell_type": "code",
   "execution_count": 49,
   "outputs": [
    {
     "name": "stderr",
     "output_type": "stream",
     "text": [
      "Skipping line 346: expected 13 fields, saw 14\n",
      "Skipping line 367: expected 13 fields, saw 15\n",
      "Skipping line 466: expected 13 fields, saw 19\n",
      "Skipping line 467: expected 13 fields, saw 19\n",
      "Skipping line 494: expected 13 fields, saw 15\n",
      "Skipping line 615: expected 13 fields, saw 15\n",
      "Skipping line 616: expected 13 fields, saw 15\n",
      "Skipping line 617: expected 13 fields, saw 15\n",
      "Skipping line 618: expected 13 fields, saw 15\n",
      "Skipping line 619: expected 13 fields, saw 15\n",
      "Skipping line 620: expected 13 fields, saw 15\n",
      "Skipping line 712: expected 13 fields, saw 14\n",
      "Skipping line 713: expected 13 fields, saw 14\n",
      "Skipping line 739: expected 13 fields, saw 14\n",
      "Skipping line 747: expected 13 fields, saw 16\n",
      "Skipping line 867: expected 13 fields, saw 15\n",
      "Skipping line 956: expected 13 fields, saw 14\n",
      "Skipping line 1028: expected 13 fields, saw 14\n",
      "Skipping line 1234: expected 13 fields, saw 15\n",
      "Skipping line 1282: expected 13 fields, saw 17\n",
      "Skipping line 1326: expected 13 fields, saw 14\n",
      "Skipping line 1327: expected 13 fields, saw 14\n",
      "Skipping line 1337: expected 13 fields, saw 14\n",
      "Skipping line 1359: expected 13 fields, saw 14\n",
      "Skipping line 1401: expected 13 fields, saw 14\n",
      "Skipping line 1420: expected 13 fields, saw 14\n",
      "Skipping line 1496: expected 13 fields, saw 21\n",
      "Skipping line 1553: expected 13 fields, saw 16\n",
      "Skipping line 1615: expected 13 fields, saw 15\n",
      "Skipping line 1653: expected 13 fields, saw 14\n",
      "Skipping line 1684: expected 13 fields, saw 16\n",
      "Skipping line 1743: expected 13 fields, saw 16\n",
      "Skipping line 1774: expected 13 fields, saw 19\n",
      "Skipping line 1775: expected 13 fields, saw 16\n",
      "Skipping line 1792: expected 13 fields, saw 14\n",
      "Skipping line 1852: expected 13 fields, saw 14\n",
      "Skipping line 1875: expected 13 fields, saw 14\n",
      "Skipping line 1880: expected 13 fields, saw 14\n",
      "Skipping line 1955: expected 13 fields, saw 15\n",
      "Skipping line 1964: expected 13 fields, saw 16\n",
      "Skipping line 2077: expected 13 fields, saw 15\n",
      "Skipping line 2100: expected 13 fields, saw 16\n",
      "Skipping line 2113: expected 13 fields, saw 16\n",
      "Skipping line 2121: expected 13 fields, saw 14\n",
      "Skipping line 2182: expected 13 fields, saw 14\n",
      "Skipping line 2215: expected 13 fields, saw 16\n",
      "Skipping line 2255: expected 13 fields, saw 44\n",
      "Skipping line 2256: expected 13 fields, saw 44\n",
      "Skipping line 2330: expected 13 fields, saw 15\n",
      "Skipping line 2351: expected 13 fields, saw 14\n",
      "Skipping line 2372: expected 13 fields, saw 19\n",
      "Skipping line 2377: expected 13 fields, saw 44\n",
      "Skipping line 2381: expected 13 fields, saw 44\n",
      "Skipping line 2395: expected 13 fields, saw 44\n",
      "Skipping line 2397: expected 13 fields, saw 44\n",
      "Skipping line 2440: expected 13 fields, saw 14\n",
      "Skipping line 2443: expected 13 fields, saw 14\n",
      "Skipping line 2496: expected 13 fields, saw 44\n",
      "Skipping line 2497: expected 13 fields, saw 44\n",
      "Skipping line 2498: expected 13 fields, saw 16\n",
      "Skipping line 2584: expected 13 fields, saw 16\n",
      "Skipping line 2585: expected 13 fields, saw 44\n",
      "Skipping line 2641: expected 13 fields, saw 15\n",
      "Skipping line 2650: expected 13 fields, saw 15\n",
      "Skipping line 2841: expected 13 fields, saw 44\n",
      "Skipping line 2941: expected 13 fields, saw 14\n",
      "Skipping line 3071: expected 13 fields, saw 15\n",
      "Skipping line 3115: expected 13 fields, saw 44\n",
      "Skipping line 3174: expected 13 fields, saw 15\n",
      "Skipping line 3410: expected 13 fields, saw 44\n",
      "Skipping line 3487: expected 13 fields, saw 44\n",
      "Skipping line 3488: expected 13 fields, saw 16\n",
      "Skipping line 3529: expected 13 fields, saw 14\n",
      "Skipping line 3534: expected 13 fields, saw 14\n",
      "Skipping line 3624: expected 13 fields, saw 15\n",
      "Skipping line 3737: expected 13 fields, saw 44\n",
      "Skipping line 3738: expected 13 fields, saw 44\n",
      "Skipping line 3739: expected 13 fields, saw 44\n",
      "Skipping line 3781: expected 13 fields, saw 14\n",
      "Skipping line 3797: expected 13 fields, saw 15\n",
      "Skipping line 3852: expected 13 fields, saw 15\n",
      "Skipping line 3961: expected 13 fields, saw 14\n",
      "Skipping line 3971: expected 13 fields, saw 15\n",
      "Skipping line 4094: expected 13 fields, saw 14\n",
      "Skipping line 4120: expected 13 fields, saw 15\n",
      "Skipping line 4341: expected 13 fields, saw 14\n",
      "Skipping line 4370: expected 13 fields, saw 15\n",
      "Skipping line 4407: expected 13 fields, saw 44\n",
      "Skipping line 4434: expected 13 fields, saw 14\n",
      "Skipping line 4435: expected 13 fields, saw 14\n",
      "Skipping line 4520: expected 13 fields, saw 16\n",
      "Skipping line 4550: expected 13 fields, saw 15\n",
      "Skipping line 4656: expected 13 fields, saw 16\n",
      "Skipping line 4670: expected 13 fields, saw 14\n",
      "Skipping line 4705: expected 13 fields, saw 14\n",
      "Skipping line 4721: expected 13 fields, saw 16\n",
      "Skipping line 4723: expected 13 fields, saw 16\n",
      "Skipping line 4969: expected 13 fields, saw 14\n",
      "Skipping line 4986: expected 13 fields, saw 44\n",
      "Skipping line 5037: expected 13 fields, saw 15\n",
      "\n"
     ]
    }
   ],
   "source": [
    "data = pd.read_csv('../data/recruitment_data_modified_python.csv',\n",
    "                   encoding='utf-8',\n",
    "                   sep=',',\n",
    "                   on_bad_lines='warn',\n",
    "                   quotechar='\"',\n",
    "                   doublequote=True,\n",
    "                   names=['URL', 'Voivodeship', 'Scrap_time', 'Name', 'Price', 'Brand', 'Condition', 'Offer_from', 'Type', 'Description', 'Added_at', 'Views', 'User_since'],\n",
    "                   skiprows=1) #quotechar is important"
   ],
   "metadata": {
    "collapsed": false
   }
  },
  {
   "cell_type": "code",
   "execution_count": 50,
   "outputs": [
    {
     "data": {
      "text/plain": "                                                    URL   Voivodeship  \\\n0     https://www.olx.pl/oferta/iphone-11-64-jak-now...     pomorskie   \n1     https://www.olx.pl/oferta/skup-uszkodzonych-te...     pomorskie   \n2     https://www.olx.pl/oferta/iphone-11-64-gb-czar...     pomorskie   \n3     https://www.olx.pl/oferta/iphone-11-CID99-IDIk...     pomorskie   \n4     https://www.olx.pl/oferta/jak-nowy-apple-iphon...     pomorskie   \n...                                                 ...           ...   \n4979  https://www.olx.pl/oferta/iphone-11-red-64-gb-...  podkarpackie   \n4980  https://www.olx.pl/oferta/iphone-11-white-64gb...  podkarpackie   \n4981  https://www.olx.pl/oferta/etui-iphone-11-CID99...     podlaskie   \n4982  https://www.olx.pl/oferta/iphone-11-purple-fio...     podlaskie   \n4983  https://www.olx.pl/oferta/apple-iphone-11-bez-...     podlaskie   \n\n               Scrap_time                                               Name  \\\n0     2021-02-22 06:55:30    Iphone 11 64 jak nowy 95% gwarancja wyświetlacz   \n1     2021-02-22 06:55:34  Skup uszkodzonych telefonów iPhone xs xs max 1...   \n2     2021-02-22 06:55:40  IPhone 11 64 GB czarny, idealny z gwarancją. W...   \n3     2021-02-22 06:55:44                                          Iphone 11   \n4     2021-02-22 06:55:52   Jak Nowy Apple Iphone 11 256gbGB White Gwarancja   \n...                   ...                                                ...   \n4979  2021-02-22 05:54:53                               IPhone 11 Red, 64 GB   \n4980  2021-02-22 05:55:26                               Iphone 11 white 64gb   \n4981  2021-02-22 06:28:04                                     Etui iPhone 11   \n4982  2021-02-22 06:28:11              IPhone 11 purple fioletowy nowy 64 GB   \n4983  2021-02-22 06:28:15  Apple iPhone 11 bez simlocka cały komplet pols...   \n\n       Price   Brand Condition       Offer_from     Type  \\\n0     2799.0  iPhone   Używane  Osoby prywatnej  Sprawny   \n1        NaN     NaN       NaN            Firmy      NaN   \n2     2700.0  iPhone   Używane  Osoby prywatnej  Sprawny   \n3     3000.0  iPhone      Nowe  Osoby prywatnej  Sprawny   \n4     2899.0  iPhone   Używane            Firmy  Sprawny   \n...      ...     ...       ...              ...      ...   \n4979  2990.0  iPhone      Nowe  Osoby prywatnej  Sprawny   \n4980  1650.0  iPhone   Używane  Osoby prywatnej  Sprawny   \n4981   100.0     NaN   Używane  Osoby prywatnej      NaN   \n4982  2680.0  iPhone      Nowe  Osoby prywatnej  Sprawny   \n4983  1700.0  iPhone   Używane  Osoby prywatnej  Sprawny   \n\n                                            Description             Added_at  \\\n0     Jak nowy . Kondycja baterii 95%. Kupiony w med...  2021-02-22 00:09:00   \n1     Witam.  Kupię uszkodzone/ zablokowane/ zalane/...  2021-02-22 00:05:00   \n2     Witam! Mam na sprzedaż iPhone’a 11 w wersji 64...  2021-02-21 19:00:00   \n3     Nowy 128GB   Oryginalnie zapakowany kolor czar...  2021-02-21 18:24:00   \n4     Witaj.     Jesteśmy sklepem - serwisem z 12 le...  2021-02-21 17:38:00   \n...                                                 ...                  ...   \n4979  Witam mam na sprzedaż nowego IPhona 11 64 GB, ...  2021-02-21 12:16:00   \n4980  Na sprzedaż posiadam iphone 11 white o pojemno...  2021-02-20 13:42:00   \n4981  Witam, mam na sprzedaż dwa oryginalne etui od ...  2021-02-22 04:51:00   \n4982  Dzień Dobry. Posiadam na sprzedaż iphone 11 pu...  2021-02-21 19:21:00   \n4983  Sprzedam Appld iPhone 11 z polskiej dystrybucj...  2021-02-21 09:35:00   \n\n      Views               User_since  \n0        37  2013-05-01 00:00:00;;;;  \n1      5242  2020-04-01 00:00:00;;;;  \n2       186  2014-12-01 00:00:00;;;;  \n3       250  2016-06-01 00:00:00;;;;  \n4       845  2012-08-01 00:00:00;;;;  \n...     ...                      ...  \n4979    177  2018-06-01 00:00:00;;;;  \n4980    980  2021-02-01 00:00:00;;;;  \n4981     78  2016-06-01 00:00:00;;;;  \n4982     72  2017-02-01 00:00:00;;;;  \n4983   2622  2020-11-01 00:00:00;;;;  \n\n[4984 rows x 13 columns]",
      "text/html": "<div>\n<style scoped>\n    .dataframe tbody tr th:only-of-type {\n        vertical-align: middle;\n    }\n\n    .dataframe tbody tr th {\n        vertical-align: top;\n    }\n\n    .dataframe thead th {\n        text-align: right;\n    }\n</style>\n<table border=\"1\" class=\"dataframe\">\n  <thead>\n    <tr style=\"text-align: right;\">\n      <th></th>\n      <th>URL</th>\n      <th>Voivodeship</th>\n      <th>Scrap_time</th>\n      <th>Name</th>\n      <th>Price</th>\n      <th>Brand</th>\n      <th>Condition</th>\n      <th>Offer_from</th>\n      <th>Type</th>\n      <th>Description</th>\n      <th>Added_at</th>\n      <th>Views</th>\n      <th>User_since</th>\n    </tr>\n  </thead>\n  <tbody>\n    <tr>\n      <th>0</th>\n      <td>https://www.olx.pl/oferta/iphone-11-64-jak-now...</td>\n      <td>pomorskie</td>\n      <td>2021-02-22 06:55:30</td>\n      <td>Iphone 11 64 jak nowy 95% gwarancja wyświetlacz</td>\n      <td>2799.0</td>\n      <td>iPhone</td>\n      <td>Używane</td>\n      <td>Osoby prywatnej</td>\n      <td>Sprawny</td>\n      <td>Jak nowy . Kondycja baterii 95%. Kupiony w med...</td>\n      <td>2021-02-22 00:09:00</td>\n      <td>37</td>\n      <td>2013-05-01 00:00:00;;;;</td>\n    </tr>\n    <tr>\n      <th>1</th>\n      <td>https://www.olx.pl/oferta/skup-uszkodzonych-te...</td>\n      <td>pomorskie</td>\n      <td>2021-02-22 06:55:34</td>\n      <td>Skup uszkodzonych telefonów iPhone xs xs max 1...</td>\n      <td>NaN</td>\n      <td>NaN</td>\n      <td>NaN</td>\n      <td>Firmy</td>\n      <td>NaN</td>\n      <td>Witam.  Kupię uszkodzone/ zablokowane/ zalane/...</td>\n      <td>2021-02-22 00:05:00</td>\n      <td>5242</td>\n      <td>2020-04-01 00:00:00;;;;</td>\n    </tr>\n    <tr>\n      <th>2</th>\n      <td>https://www.olx.pl/oferta/iphone-11-64-gb-czar...</td>\n      <td>pomorskie</td>\n      <td>2021-02-22 06:55:40</td>\n      <td>IPhone 11 64 GB czarny, idealny z gwarancją. W...</td>\n      <td>2700.0</td>\n      <td>iPhone</td>\n      <td>Używane</td>\n      <td>Osoby prywatnej</td>\n      <td>Sprawny</td>\n      <td>Witam! Mam na sprzedaż iPhone’a 11 w wersji 64...</td>\n      <td>2021-02-21 19:00:00</td>\n      <td>186</td>\n      <td>2014-12-01 00:00:00;;;;</td>\n    </tr>\n    <tr>\n      <th>3</th>\n      <td>https://www.olx.pl/oferta/iphone-11-CID99-IDIk...</td>\n      <td>pomorskie</td>\n      <td>2021-02-22 06:55:44</td>\n      <td>Iphone 11</td>\n      <td>3000.0</td>\n      <td>iPhone</td>\n      <td>Nowe</td>\n      <td>Osoby prywatnej</td>\n      <td>Sprawny</td>\n      <td>Nowy 128GB   Oryginalnie zapakowany kolor czar...</td>\n      <td>2021-02-21 18:24:00</td>\n      <td>250</td>\n      <td>2016-06-01 00:00:00;;;;</td>\n    </tr>\n    <tr>\n      <th>4</th>\n      <td>https://www.olx.pl/oferta/jak-nowy-apple-iphon...</td>\n      <td>pomorskie</td>\n      <td>2021-02-22 06:55:52</td>\n      <td>Jak Nowy Apple Iphone 11 256gbGB White Gwarancja</td>\n      <td>2899.0</td>\n      <td>iPhone</td>\n      <td>Używane</td>\n      <td>Firmy</td>\n      <td>Sprawny</td>\n      <td>Witaj.     Jesteśmy sklepem - serwisem z 12 le...</td>\n      <td>2021-02-21 17:38:00</td>\n      <td>845</td>\n      <td>2012-08-01 00:00:00;;;;</td>\n    </tr>\n    <tr>\n      <th>...</th>\n      <td>...</td>\n      <td>...</td>\n      <td>...</td>\n      <td>...</td>\n      <td>...</td>\n      <td>...</td>\n      <td>...</td>\n      <td>...</td>\n      <td>...</td>\n      <td>...</td>\n      <td>...</td>\n      <td>...</td>\n      <td>...</td>\n    </tr>\n    <tr>\n      <th>4979</th>\n      <td>https://www.olx.pl/oferta/iphone-11-red-64-gb-...</td>\n      <td>podkarpackie</td>\n      <td>2021-02-22 05:54:53</td>\n      <td>IPhone 11 Red, 64 GB</td>\n      <td>2990.0</td>\n      <td>iPhone</td>\n      <td>Nowe</td>\n      <td>Osoby prywatnej</td>\n      <td>Sprawny</td>\n      <td>Witam mam na sprzedaż nowego IPhona 11 64 GB, ...</td>\n      <td>2021-02-21 12:16:00</td>\n      <td>177</td>\n      <td>2018-06-01 00:00:00;;;;</td>\n    </tr>\n    <tr>\n      <th>4980</th>\n      <td>https://www.olx.pl/oferta/iphone-11-white-64gb...</td>\n      <td>podkarpackie</td>\n      <td>2021-02-22 05:55:26</td>\n      <td>Iphone 11 white 64gb</td>\n      <td>1650.0</td>\n      <td>iPhone</td>\n      <td>Używane</td>\n      <td>Osoby prywatnej</td>\n      <td>Sprawny</td>\n      <td>Na sprzedaż posiadam iphone 11 white o pojemno...</td>\n      <td>2021-02-20 13:42:00</td>\n      <td>980</td>\n      <td>2021-02-01 00:00:00;;;;</td>\n    </tr>\n    <tr>\n      <th>4981</th>\n      <td>https://www.olx.pl/oferta/etui-iphone-11-CID99...</td>\n      <td>podlaskie</td>\n      <td>2021-02-22 06:28:04</td>\n      <td>Etui iPhone 11</td>\n      <td>100.0</td>\n      <td>NaN</td>\n      <td>Używane</td>\n      <td>Osoby prywatnej</td>\n      <td>NaN</td>\n      <td>Witam, mam na sprzedaż dwa oryginalne etui od ...</td>\n      <td>2021-02-22 04:51:00</td>\n      <td>78</td>\n      <td>2016-06-01 00:00:00;;;;</td>\n    </tr>\n    <tr>\n      <th>4982</th>\n      <td>https://www.olx.pl/oferta/iphone-11-purple-fio...</td>\n      <td>podlaskie</td>\n      <td>2021-02-22 06:28:11</td>\n      <td>IPhone 11 purple fioletowy nowy 64 GB</td>\n      <td>2680.0</td>\n      <td>iPhone</td>\n      <td>Nowe</td>\n      <td>Osoby prywatnej</td>\n      <td>Sprawny</td>\n      <td>Dzień Dobry. Posiadam na sprzedaż iphone 11 pu...</td>\n      <td>2021-02-21 19:21:00</td>\n      <td>72</td>\n      <td>2017-02-01 00:00:00;;;;</td>\n    </tr>\n    <tr>\n      <th>4983</th>\n      <td>https://www.olx.pl/oferta/apple-iphone-11-bez-...</td>\n      <td>podlaskie</td>\n      <td>2021-02-22 06:28:15</td>\n      <td>Apple iPhone 11 bez simlocka cały komplet pols...</td>\n      <td>1700.0</td>\n      <td>iPhone</td>\n      <td>Używane</td>\n      <td>Osoby prywatnej</td>\n      <td>Sprawny</td>\n      <td>Sprzedam Appld iPhone 11 z polskiej dystrybucj...</td>\n      <td>2021-02-21 09:35:00</td>\n      <td>2622</td>\n      <td>2020-11-01 00:00:00;;;;</td>\n    </tr>\n  </tbody>\n</table>\n<p>4984 rows × 13 columns</p>\n</div>"
     },
     "execution_count": 50,
     "metadata": {},
     "output_type": "execute_result"
    }
   ],
   "source": [
    "data"
   ],
   "metadata": {
    "collapsed": false
   }
  },
  {
   "cell_type": "code",
   "execution_count": null,
   "outputs": [],
   "source": [],
   "metadata": {
    "collapsed": false
   }
  }
 ],
 "metadata": {
  "kernelspec": {
   "display_name": "Python 3",
   "language": "python",
   "name": "python3"
  },
  "language_info": {
   "codemirror_mode": {
    "name": "ipython",
    "version": 2
   },
   "file_extension": ".py",
   "mimetype": "text/x-python",
   "name": "python",
   "nbconvert_exporter": "python",
   "pygments_lexer": "ipython2",
   "version": "2.7.6"
  }
 },
 "nbformat": 4,
 "nbformat_minor": 0
}
